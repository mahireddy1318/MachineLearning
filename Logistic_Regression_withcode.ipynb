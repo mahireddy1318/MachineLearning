{
  "cells": [
    {
      "cell_type": "markdown",
      "metadata": {
        "collapsed": true,
        "id": "YXsoHTyH1H2w"
      },
      "source": [
        "# <center><u>**`LOGISTIC REGRESSION`**</u></center>\n",
        "\n",
        "Hi aspirant, You have already learned simple, multiple and some advance regression techniques. Now lets jump to another hands-on assignment on Logistic regression.\n",
        "\n",
        "Logistic regression is a statistical model that in its basic form uses a logistic function to model a binary dependent variable, although many more complex extensions exist. In regression analysis, logistic regression (or logit regression) is estimating the parameters of a logistic model (a form of binary regression).\n",
        "\n",
        "\n",
        "\n",
        "## **`Problem statement:`**\n",
        "\n",
        "#### **`Telecom Churn Case Study`**\n",
        "\n",
        "With 21 predictor variables we need to predict whether a particular customer will switch to another telecom provider or not. In telecom terminology, this is referred to as churning and not churning, respectively.\n",
        "\n",
        "\n",
        "So smile please and lets get started with this amazing assignment."
      ]
    },
    {
      "cell_type": "markdown",
      "source": [
        "# **`WATCH ALL VIDEOS IN THE PORTAL`**"
      ],
      "metadata": {
        "id": "gp_Ij0qknKAd"
      }
    },
    {
      "cell_type": "markdown",
      "source": [
        "#### **`Do watch these video for its indepth conceptual clarity:`**"
      ],
      "metadata": {
        "id": "8ZPmVX0CoRHt"
      }
    },
    {
      "cell_type": "markdown",
      "source": [
        "## **`Watch Video 1, 2, 3: Logistic Regression Intuition`**"
      ],
      "metadata": {
        "id": "flsHWx4VnONt"
      }
    },
    {
      "cell_type": "markdown",
      "metadata": {
        "id": "vLVH-dQP1H22"
      },
      "source": [
        "### **`Importing and Merging Data`**\n",
        "<p style='text-align: right;'> 4 points</p>\n"
      ]
    },
    {
      "cell_type": "code",
      "execution_count": null,
      "metadata": {
        "id": "h2dF4li21H23"
      },
      "outputs": [],
      "source": [
        "# Importing Pandas and NumPy\n",
        "import numpy as np\n",
        "import pandas as pd\n"
      ]
    },
    {
      "cell_type": "code",
      "execution_count": null,
      "metadata": {
        "id": "ZGP1WPRC1H24"
      },
      "outputs": [],
      "source": [
        "# Importing all datasets\n",
        "churn_data = pd.read_csv('/content/churn_data.csv')\n",
        "customer_data = pd.read_csv('/content/customer_data.csv')\n",
        "internet_data = pd.read_csv('/content/internet_data.csv')"
      ]
    },
    {
      "cell_type": "code",
      "source": [
        "print(churn_data.shape)\n",
        "print(customer_data.shape)\n",
        "print(internet_data.shape)\n",
        "print(churn_data.columns)\n",
        "print(customer_data.columns)\n",
        "print(internet_data.columns)"
      ],
      "metadata": {
        "colab": {
          "base_uri": "https://localhost:8080/"
        },
        "id": "Ep4BW1ht2R_z",
        "outputId": "77ffa992-cd69-4905-bace-13fc0d758044"
      },
      "execution_count": null,
      "outputs": [
        {
          "output_type": "stream",
          "name": "stdout",
          "text": [
            "(7043, 9)\n",
            "(7043, 5)\n",
            "(7043, 9)\n",
            "Index(['customerID', 'tenure', 'PhoneService', 'Contract', 'PaperlessBilling',\n",
            "       'PaymentMethod', 'MonthlyCharges', 'TotalCharges', 'Churn'],\n",
            "      dtype='object')\n",
            "Index(['customerID', 'gender', 'SeniorCitizen', 'Partner', 'Dependents'], dtype='object')\n",
            "Index(['customerID', 'MultipleLines', 'InternetService', 'OnlineSecurity',\n",
            "       'OnlineBackup', 'DeviceProtection', 'TechSupport', 'StreamingTV',\n",
            "       'StreamingMovies'],\n",
            "      dtype='object')\n"
          ]
        }
      ]
    },
    {
      "cell_type": "code",
      "execution_count": null,
      "metadata": {
        "id": "KYHnX0M11H25",
        "colab": {
          "base_uri": "https://localhost:8080/"
        },
        "outputId": "59fab5e3-7175-4452-e5f8-ee28ed5a050b"
      },
      "outputs": [
        {
          "output_type": "execute_result",
          "data": {
            "text/plain": [
              "(7043, 13)"
            ]
          },
          "metadata": {},
          "execution_count": 4
        }
      ],
      "source": [
        "#Merging churn_data and customer_data on 'customerID' using inner join on customerID\n",
        "df_1 = pd.merge(churn_data, customer_data, on='customerID')\n",
        "df_1.shape"
      ]
    },
    {
      "cell_type": "code",
      "execution_count": null,
      "metadata": {
        "id": "J5BDtcd_1H25",
        "colab": {
          "base_uri": "https://localhost:8080/"
        },
        "outputId": "97efe683-01da-4ad4-e1ad-4d540a576c75"
      },
      "outputs": [
        {
          "output_type": "execute_result",
          "data": {
            "text/plain": [
              "(7043, 21)"
            ]
          },
          "metadata": {},
          "execution_count": 5
        }
      ],
      "source": [
        "#Final dataframe with all predictor variables (merging df_1 and internet_data on 'customerID')\n",
        "telecom = pd.merge(df_1, internet_data, on='customerID')\n",
        "telecom.shape"
      ]
    },
    {
      "cell_type": "markdown",
      "metadata": {
        "id": "F33iSTdT1H26"
      },
      "source": [
        "### Let's understand the structure of our dataframe\n",
        "<p style='text-align: right;'> 3 points</p>\n"
      ]
    },
    {
      "cell_type": "code",
      "execution_count": null,
      "metadata": {
        "id": "C_hwZXFl1H27",
        "outputId": "6d7b3571-ee1f-4ff9-d1cd-4c467d0c4730",
        "colab": {
          "base_uri": "https://localhost:8080/",
          "height": 386
        }
      },
      "outputs": [
        {
          "output_type": "execute_result",
          "data": {
            "text/plain": [
              "   customerID  tenure PhoneService        Contract PaperlessBilling  \\\n",
              "0  7590-VHVEG       1           No  Month-to-month              Yes   \n",
              "1  5575-GNVDE      34          Yes        One year               No   \n",
              "2  3668-QPYBK       2          Yes  Month-to-month              Yes   \n",
              "3  7795-CFOCW      45           No        One year               No   \n",
              "4  9237-HQITU       2          Yes  Month-to-month              Yes   \n",
              "\n",
              "               PaymentMethod  MonthlyCharges TotalCharges Churn  gender  ...  \\\n",
              "0           Electronic check           29.85        29.85    No  Female  ...   \n",
              "1               Mailed check           56.95       1889.5    No    Male  ...   \n",
              "2               Mailed check           53.85       108.15   Yes    Male  ...   \n",
              "3  Bank transfer (automatic)           42.30      1840.75    No    Male  ...   \n",
              "4           Electronic check           70.70       151.65   Yes  Female  ...   \n",
              "\n",
              "   Partner Dependents     MultipleLines InternetService OnlineSecurity  \\\n",
              "0      Yes         No  No phone service             DSL             No   \n",
              "1       No         No                No             DSL            Yes   \n",
              "2       No         No                No             DSL            Yes   \n",
              "3       No         No  No phone service             DSL            Yes   \n",
              "4       No         No                No     Fiber optic             No   \n",
              "\n",
              "  OnlineBackup DeviceProtection TechSupport StreamingTV StreamingMovies  \n",
              "0          Yes               No          No          No              No  \n",
              "1           No              Yes          No          No              No  \n",
              "2          Yes               No          No          No              No  \n",
              "3           No              Yes         Yes          No              No  \n",
              "4           No               No          No          No              No  \n",
              "\n",
              "[5 rows x 21 columns]"
            ],
            "text/html": [
              "\n",
              "  <div id=\"df-c9954317-2be4-4c27-b572-0417432cde55\">\n",
              "    <div class=\"colab-df-container\">\n",
              "      <div>\n",
              "<style scoped>\n",
              "    .dataframe tbody tr th:only-of-type {\n",
              "        vertical-align: middle;\n",
              "    }\n",
              "\n",
              "    .dataframe tbody tr th {\n",
              "        vertical-align: top;\n",
              "    }\n",
              "\n",
              "    .dataframe thead th {\n",
              "        text-align: right;\n",
              "    }\n",
              "</style>\n",
              "<table border=\"1\" class=\"dataframe\">\n",
              "  <thead>\n",
              "    <tr style=\"text-align: right;\">\n",
              "      <th></th>\n",
              "      <th>customerID</th>\n",
              "      <th>tenure</th>\n",
              "      <th>PhoneService</th>\n",
              "      <th>Contract</th>\n",
              "      <th>PaperlessBilling</th>\n",
              "      <th>PaymentMethod</th>\n",
              "      <th>MonthlyCharges</th>\n",
              "      <th>TotalCharges</th>\n",
              "      <th>Churn</th>\n",
              "      <th>gender</th>\n",
              "      <th>...</th>\n",
              "      <th>Partner</th>\n",
              "      <th>Dependents</th>\n",
              "      <th>MultipleLines</th>\n",
              "      <th>InternetService</th>\n",
              "      <th>OnlineSecurity</th>\n",
              "      <th>OnlineBackup</th>\n",
              "      <th>DeviceProtection</th>\n",
              "      <th>TechSupport</th>\n",
              "      <th>StreamingTV</th>\n",
              "      <th>StreamingMovies</th>\n",
              "    </tr>\n",
              "  </thead>\n",
              "  <tbody>\n",
              "    <tr>\n",
              "      <th>0</th>\n",
              "      <td>7590-VHVEG</td>\n",
              "      <td>1</td>\n",
              "      <td>No</td>\n",
              "      <td>Month-to-month</td>\n",
              "      <td>Yes</td>\n",
              "      <td>Electronic check</td>\n",
              "      <td>29.85</td>\n",
              "      <td>29.85</td>\n",
              "      <td>No</td>\n",
              "      <td>Female</td>\n",
              "      <td>...</td>\n",
              "      <td>Yes</td>\n",
              "      <td>No</td>\n",
              "      <td>No phone service</td>\n",
              "      <td>DSL</td>\n",
              "      <td>No</td>\n",
              "      <td>Yes</td>\n",
              "      <td>No</td>\n",
              "      <td>No</td>\n",
              "      <td>No</td>\n",
              "      <td>No</td>\n",
              "    </tr>\n",
              "    <tr>\n",
              "      <th>1</th>\n",
              "      <td>5575-GNVDE</td>\n",
              "      <td>34</td>\n",
              "      <td>Yes</td>\n",
              "      <td>One year</td>\n",
              "      <td>No</td>\n",
              "      <td>Mailed check</td>\n",
              "      <td>56.95</td>\n",
              "      <td>1889.5</td>\n",
              "      <td>No</td>\n",
              "      <td>Male</td>\n",
              "      <td>...</td>\n",
              "      <td>No</td>\n",
              "      <td>No</td>\n",
              "      <td>No</td>\n",
              "      <td>DSL</td>\n",
              "      <td>Yes</td>\n",
              "      <td>No</td>\n",
              "      <td>Yes</td>\n",
              "      <td>No</td>\n",
              "      <td>No</td>\n",
              "      <td>No</td>\n",
              "    </tr>\n",
              "    <tr>\n",
              "      <th>2</th>\n",
              "      <td>3668-QPYBK</td>\n",
              "      <td>2</td>\n",
              "      <td>Yes</td>\n",
              "      <td>Month-to-month</td>\n",
              "      <td>Yes</td>\n",
              "      <td>Mailed check</td>\n",
              "      <td>53.85</td>\n",
              "      <td>108.15</td>\n",
              "      <td>Yes</td>\n",
              "      <td>Male</td>\n",
              "      <td>...</td>\n",
              "      <td>No</td>\n",
              "      <td>No</td>\n",
              "      <td>No</td>\n",
              "      <td>DSL</td>\n",
              "      <td>Yes</td>\n",
              "      <td>Yes</td>\n",
              "      <td>No</td>\n",
              "      <td>No</td>\n",
              "      <td>No</td>\n",
              "      <td>No</td>\n",
              "    </tr>\n",
              "    <tr>\n",
              "      <th>3</th>\n",
              "      <td>7795-CFOCW</td>\n",
              "      <td>45</td>\n",
              "      <td>No</td>\n",
              "      <td>One year</td>\n",
              "      <td>No</td>\n",
              "      <td>Bank transfer (automatic)</td>\n",
              "      <td>42.30</td>\n",
              "      <td>1840.75</td>\n",
              "      <td>No</td>\n",
              "      <td>Male</td>\n",
              "      <td>...</td>\n",
              "      <td>No</td>\n",
              "      <td>No</td>\n",
              "      <td>No phone service</td>\n",
              "      <td>DSL</td>\n",
              "      <td>Yes</td>\n",
              "      <td>No</td>\n",
              "      <td>Yes</td>\n",
              "      <td>Yes</td>\n",
              "      <td>No</td>\n",
              "      <td>No</td>\n",
              "    </tr>\n",
              "    <tr>\n",
              "      <th>4</th>\n",
              "      <td>9237-HQITU</td>\n",
              "      <td>2</td>\n",
              "      <td>Yes</td>\n",
              "      <td>Month-to-month</td>\n",
              "      <td>Yes</td>\n",
              "      <td>Electronic check</td>\n",
              "      <td>70.70</td>\n",
              "      <td>151.65</td>\n",
              "      <td>Yes</td>\n",
              "      <td>Female</td>\n",
              "      <td>...</td>\n",
              "      <td>No</td>\n",
              "      <td>No</td>\n",
              "      <td>No</td>\n",
              "      <td>Fiber optic</td>\n",
              "      <td>No</td>\n",
              "      <td>No</td>\n",
              "      <td>No</td>\n",
              "      <td>No</td>\n",
              "      <td>No</td>\n",
              "      <td>No</td>\n",
              "    </tr>\n",
              "  </tbody>\n",
              "</table>\n",
              "<p>5 rows × 21 columns</p>\n",
              "</div>\n",
              "      <button class=\"colab-df-convert\" onclick=\"convertToInteractive('df-c9954317-2be4-4c27-b572-0417432cde55')\"\n",
              "              title=\"Convert this dataframe to an interactive table.\"\n",
              "              style=\"display:none;\">\n",
              "        \n",
              "  <svg xmlns=\"http://www.w3.org/2000/svg\" height=\"24px\"viewBox=\"0 0 24 24\"\n",
              "       width=\"24px\">\n",
              "    <path d=\"M0 0h24v24H0V0z\" fill=\"none\"/>\n",
              "    <path d=\"M18.56 5.44l.94 2.06.94-2.06 2.06-.94-2.06-.94-.94-2.06-.94 2.06-2.06.94zm-11 1L8.5 8.5l.94-2.06 2.06-.94-2.06-.94L8.5 2.5l-.94 2.06-2.06.94zm10 10l.94 2.06.94-2.06 2.06-.94-2.06-.94-.94-2.06-.94 2.06-2.06.94z\"/><path d=\"M17.41 7.96l-1.37-1.37c-.4-.4-.92-.59-1.43-.59-.52 0-1.04.2-1.43.59L10.3 9.45l-7.72 7.72c-.78.78-.78 2.05 0 2.83L4 21.41c.39.39.9.59 1.41.59.51 0 1.02-.2 1.41-.59l7.78-7.78 2.81-2.81c.8-.78.8-2.07 0-2.86zM5.41 20L4 18.59l7.72-7.72 1.47 1.35L5.41 20z\"/>\n",
              "  </svg>\n",
              "      </button>\n",
              "      \n",
              "  <style>\n",
              "    .colab-df-container {\n",
              "      display:flex;\n",
              "      flex-wrap:wrap;\n",
              "      gap: 12px;\n",
              "    }\n",
              "\n",
              "    .colab-df-convert {\n",
              "      background-color: #E8F0FE;\n",
              "      border: none;\n",
              "      border-radius: 50%;\n",
              "      cursor: pointer;\n",
              "      display: none;\n",
              "      fill: #1967D2;\n",
              "      height: 32px;\n",
              "      padding: 0 0 0 0;\n",
              "      width: 32px;\n",
              "    }\n",
              "\n",
              "    .colab-df-convert:hover {\n",
              "      background-color: #E2EBFA;\n",
              "      box-shadow: 0px 1px 2px rgba(60, 64, 67, 0.3), 0px 1px 3px 1px rgba(60, 64, 67, 0.15);\n",
              "      fill: #174EA6;\n",
              "    }\n",
              "\n",
              "    [theme=dark] .colab-df-convert {\n",
              "      background-color: #3B4455;\n",
              "      fill: #D2E3FC;\n",
              "    }\n",
              "\n",
              "    [theme=dark] .colab-df-convert:hover {\n",
              "      background-color: #434B5C;\n",
              "      box-shadow: 0px 1px 3px 1px rgba(0, 0, 0, 0.15);\n",
              "      filter: drop-shadow(0px 1px 2px rgba(0, 0, 0, 0.3));\n",
              "      fill: #FFFFFF;\n",
              "    }\n",
              "  </style>\n",
              "\n",
              "      <script>\n",
              "        const buttonEl =\n",
              "          document.querySelector('#df-c9954317-2be4-4c27-b572-0417432cde55 button.colab-df-convert');\n",
              "        buttonEl.style.display =\n",
              "          google.colab.kernel.accessAllowed ? 'block' : 'none';\n",
              "\n",
              "        async function convertToInteractive(key) {\n",
              "          const element = document.querySelector('#df-c9954317-2be4-4c27-b572-0417432cde55');\n",
              "          const dataTable =\n",
              "            await google.colab.kernel.invokeFunction('convertToInteractive',\n",
              "                                                     [key], {});\n",
              "          if (!dataTable) return;\n",
              "\n",
              "          const docLinkHtml = 'Like what you see? Visit the ' +\n",
              "            '<a target=\"_blank\" href=https://colab.research.google.com/notebooks/data_table.ipynb>data table notebook</a>'\n",
              "            + ' to learn more about interactive tables.';\n",
              "          element.innerHTML = '';\n",
              "          dataTable['output_type'] = 'display_data';\n",
              "          await google.colab.output.renderOutput(dataTable, element);\n",
              "          const docLink = document.createElement('div');\n",
              "          docLink.innerHTML = docLinkHtml;\n",
              "          element.appendChild(docLink);\n",
              "        }\n",
              "      </script>\n",
              "    </div>\n",
              "  </div>\n",
              "  "
            ]
          },
          "metadata": {},
          "execution_count": 6
        }
      ],
      "source": [
        "# Let's see the head of our master dataset\n",
        "telecom.head()\n"
      ]
    },
    {
      "cell_type": "code",
      "execution_count": null,
      "metadata": {
        "id": "4bC_eHNp1H28",
        "outputId": "54131f46-9734-4427-dbcc-a340e19152a6",
        "colab": {
          "base_uri": "https://localhost:8080/",
          "height": 300
        }
      },
      "outputs": [
        {
          "output_type": "execute_result",
          "data": {
            "text/plain": [
              "            tenure  MonthlyCharges  SeniorCitizen\n",
              "count  7043.000000     7043.000000    7043.000000\n",
              "mean     32.371149       64.761692       0.162147\n",
              "std      24.559481       30.090047       0.368612\n",
              "min       0.000000       18.250000       0.000000\n",
              "25%       9.000000       35.500000       0.000000\n",
              "50%      29.000000       70.350000       0.000000\n",
              "75%      55.000000       89.850000       0.000000\n",
              "max      72.000000      118.750000       1.000000"
            ],
            "text/html": [
              "\n",
              "  <div id=\"df-fd5c7101-f8e3-4fc1-99c9-4c2fed10181f\">\n",
              "    <div class=\"colab-df-container\">\n",
              "      <div>\n",
              "<style scoped>\n",
              "    .dataframe tbody tr th:only-of-type {\n",
              "        vertical-align: middle;\n",
              "    }\n",
              "\n",
              "    .dataframe tbody tr th {\n",
              "        vertical-align: top;\n",
              "    }\n",
              "\n",
              "    .dataframe thead th {\n",
              "        text-align: right;\n",
              "    }\n",
              "</style>\n",
              "<table border=\"1\" class=\"dataframe\">\n",
              "  <thead>\n",
              "    <tr style=\"text-align: right;\">\n",
              "      <th></th>\n",
              "      <th>tenure</th>\n",
              "      <th>MonthlyCharges</th>\n",
              "      <th>SeniorCitizen</th>\n",
              "    </tr>\n",
              "  </thead>\n",
              "  <tbody>\n",
              "    <tr>\n",
              "      <th>count</th>\n",
              "      <td>7043.000000</td>\n",
              "      <td>7043.000000</td>\n",
              "      <td>7043.000000</td>\n",
              "    </tr>\n",
              "    <tr>\n",
              "      <th>mean</th>\n",
              "      <td>32.371149</td>\n",
              "      <td>64.761692</td>\n",
              "      <td>0.162147</td>\n",
              "    </tr>\n",
              "    <tr>\n",
              "      <th>std</th>\n",
              "      <td>24.559481</td>\n",
              "      <td>30.090047</td>\n",
              "      <td>0.368612</td>\n",
              "    </tr>\n",
              "    <tr>\n",
              "      <th>min</th>\n",
              "      <td>0.000000</td>\n",
              "      <td>18.250000</td>\n",
              "      <td>0.000000</td>\n",
              "    </tr>\n",
              "    <tr>\n",
              "      <th>25%</th>\n",
              "      <td>9.000000</td>\n",
              "      <td>35.500000</td>\n",
              "      <td>0.000000</td>\n",
              "    </tr>\n",
              "    <tr>\n",
              "      <th>50%</th>\n",
              "      <td>29.000000</td>\n",
              "      <td>70.350000</td>\n",
              "      <td>0.000000</td>\n",
              "    </tr>\n",
              "    <tr>\n",
              "      <th>75%</th>\n",
              "      <td>55.000000</td>\n",
              "      <td>89.850000</td>\n",
              "      <td>0.000000</td>\n",
              "    </tr>\n",
              "    <tr>\n",
              "      <th>max</th>\n",
              "      <td>72.000000</td>\n",
              "      <td>118.750000</td>\n",
              "      <td>1.000000</td>\n",
              "    </tr>\n",
              "  </tbody>\n",
              "</table>\n",
              "</div>\n",
              "      <button class=\"colab-df-convert\" onclick=\"convertToInteractive('df-fd5c7101-f8e3-4fc1-99c9-4c2fed10181f')\"\n",
              "              title=\"Convert this dataframe to an interactive table.\"\n",
              "              style=\"display:none;\">\n",
              "        \n",
              "  <svg xmlns=\"http://www.w3.org/2000/svg\" height=\"24px\"viewBox=\"0 0 24 24\"\n",
              "       width=\"24px\">\n",
              "    <path d=\"M0 0h24v24H0V0z\" fill=\"none\"/>\n",
              "    <path d=\"M18.56 5.44l.94 2.06.94-2.06 2.06-.94-2.06-.94-.94-2.06-.94 2.06-2.06.94zm-11 1L8.5 8.5l.94-2.06 2.06-.94-2.06-.94L8.5 2.5l-.94 2.06-2.06.94zm10 10l.94 2.06.94-2.06 2.06-.94-2.06-.94-.94-2.06-.94 2.06-2.06.94z\"/><path d=\"M17.41 7.96l-1.37-1.37c-.4-.4-.92-.59-1.43-.59-.52 0-1.04.2-1.43.59L10.3 9.45l-7.72 7.72c-.78.78-.78 2.05 0 2.83L4 21.41c.39.39.9.59 1.41.59.51 0 1.02-.2 1.41-.59l7.78-7.78 2.81-2.81c.8-.78.8-2.07 0-2.86zM5.41 20L4 18.59l7.72-7.72 1.47 1.35L5.41 20z\"/>\n",
              "  </svg>\n",
              "      </button>\n",
              "      \n",
              "  <style>\n",
              "    .colab-df-container {\n",
              "      display:flex;\n",
              "      flex-wrap:wrap;\n",
              "      gap: 12px;\n",
              "    }\n",
              "\n",
              "    .colab-df-convert {\n",
              "      background-color: #E8F0FE;\n",
              "      border: none;\n",
              "      border-radius: 50%;\n",
              "      cursor: pointer;\n",
              "      display: none;\n",
              "      fill: #1967D2;\n",
              "      height: 32px;\n",
              "      padding: 0 0 0 0;\n",
              "      width: 32px;\n",
              "    }\n",
              "\n",
              "    .colab-df-convert:hover {\n",
              "      background-color: #E2EBFA;\n",
              "      box-shadow: 0px 1px 2px rgba(60, 64, 67, 0.3), 0px 1px 3px 1px rgba(60, 64, 67, 0.15);\n",
              "      fill: #174EA6;\n",
              "    }\n",
              "\n",
              "    [theme=dark] .colab-df-convert {\n",
              "      background-color: #3B4455;\n",
              "      fill: #D2E3FC;\n",
              "    }\n",
              "\n",
              "    [theme=dark] .colab-df-convert:hover {\n",
              "      background-color: #434B5C;\n",
              "      box-shadow: 0px 1px 3px 1px rgba(0, 0, 0, 0.15);\n",
              "      filter: drop-shadow(0px 1px 2px rgba(0, 0, 0, 0.3));\n",
              "      fill: #FFFFFF;\n",
              "    }\n",
              "  </style>\n",
              "\n",
              "      <script>\n",
              "        const buttonEl =\n",
              "          document.querySelector('#df-fd5c7101-f8e3-4fc1-99c9-4c2fed10181f button.colab-df-convert');\n",
              "        buttonEl.style.display =\n",
              "          google.colab.kernel.accessAllowed ? 'block' : 'none';\n",
              "\n",
              "        async function convertToInteractive(key) {\n",
              "          const element = document.querySelector('#df-fd5c7101-f8e3-4fc1-99c9-4c2fed10181f');\n",
              "          const dataTable =\n",
              "            await google.colab.kernel.invokeFunction('convertToInteractive',\n",
              "                                                     [key], {});\n",
              "          if (!dataTable) return;\n",
              "\n",
              "          const docLinkHtml = 'Like what you see? Visit the ' +\n",
              "            '<a target=\"_blank\" href=https://colab.research.google.com/notebooks/data_table.ipynb>data table notebook</a>'\n",
              "            + ' to learn more about interactive tables.';\n",
              "          element.innerHTML = '';\n",
              "          dataTable['output_type'] = 'display_data';\n",
              "          await google.colab.output.renderOutput(dataTable, element);\n",
              "          const docLink = document.createElement('div');\n",
              "          docLink.innerHTML = docLinkHtml;\n",
              "          element.appendChild(docLink);\n",
              "        }\n",
              "      </script>\n",
              "    </div>\n",
              "  </div>\n",
              "  "
            ]
          },
          "metadata": {},
          "execution_count": 7
        }
      ],
      "source": [
        "#Lets see statistical description for our master data\n",
        "\n",
        "telecom.describe()"
      ]
    },
    {
      "cell_type": "code",
      "execution_count": null,
      "metadata": {
        "id": "Jc_C7ypW1H29",
        "outputId": "6ea65b76-0fcc-4708-a62a-559e4de5ad62",
        "colab": {
          "base_uri": "https://localhost:8080/"
        }
      },
      "outputs": [
        {
          "output_type": "stream",
          "name": "stdout",
          "text": [
            "<class 'pandas.core.frame.DataFrame'>\n",
            "Int64Index: 7043 entries, 0 to 7042\n",
            "Data columns (total 21 columns):\n",
            " #   Column            Non-Null Count  Dtype  \n",
            "---  ------            --------------  -----  \n",
            " 0   customerID        7043 non-null   object \n",
            " 1   tenure            7043 non-null   int64  \n",
            " 2   PhoneService      7043 non-null   object \n",
            " 3   Contract          7043 non-null   object \n",
            " 4   PaperlessBilling  7043 non-null   object \n",
            " 5   PaymentMethod     7043 non-null   object \n",
            " 6   MonthlyCharges    7043 non-null   float64\n",
            " 7   TotalCharges      7043 non-null   object \n",
            " 8   Churn             7043 non-null   object \n",
            " 9   gender            7043 non-null   object \n",
            " 10  SeniorCitizen     7043 non-null   int64  \n",
            " 11  Partner           7043 non-null   object \n",
            " 12  Dependents        7043 non-null   object \n",
            " 13  MultipleLines     7043 non-null   object \n",
            " 14  InternetService   7043 non-null   object \n",
            " 15  OnlineSecurity    7043 non-null   object \n",
            " 16  OnlineBackup      7043 non-null   object \n",
            " 17  DeviceProtection  7043 non-null   object \n",
            " 18  TechSupport       7043 non-null   object \n",
            " 19  StreamingTV       7043 non-null   object \n",
            " 20  StreamingMovies   7043 non-null   object \n",
            "dtypes: float64(1), int64(2), object(18)\n",
            "memory usage: 1.2+ MB\n"
          ]
        }
      ],
      "source": [
        "# Let's see the type of each column\n",
        "\n",
        "telecom.info()"
      ]
    },
    {
      "cell_type": "markdown",
      "metadata": {
        "id": "TKAQu8Kx1H29"
      },
      "source": [
        "## **`Data Preparation`**\n",
        "<p style='text-align: right;'> 10 points</p>\n"
      ]
    },
    {
      "cell_type": "code",
      "source": [
        "def convert(x):\n",
        "  if x == 'Yes':\n",
        "    return 1 \n",
        "  else :\n",
        "    return 0"
      ],
      "metadata": {
        "id": "v_wEOzt-9LgO"
      },
      "execution_count": null,
      "outputs": []
    },
    {
      "cell_type": "code",
      "execution_count": null,
      "metadata": {
        "id": "CUlS8zl81H2-"
      },
      "outputs": [],
      "source": [
        "# Converting Yes to 1 and No to 0 using map\n",
        "telecom['PhoneService'] = telecom['PhoneService'].map({ 'Yes':1,'No':0})    #Using map\n",
        "\n",
        "telecom['PaperlessBilling'] = telecom['PaperlessBilling'].apply(lambda x : 1 if x =='Yes' else 0)   #Using lambda\n",
        "\n",
        "telecom['Churn'] = telecom['Churn'].apply(lambda x : 1 if x =='Yes' else 0)\n",
        "\n",
        "telecom['Partner'] = telecom['Partner'].apply(convert)   #Using user defined function\n",
        "\n",
        "telecom['Dependents'] = telecom['Dependents'].apply(convert)\n"
      ]
    },
    {
      "cell_type": "code",
      "source": [
        "telecom.head()"
      ],
      "metadata": {
        "colab": {
          "base_uri": "https://localhost:8080/",
          "height": 386
        },
        "id": "6v3J3VfK8_L9",
        "outputId": "e688721c-dd37-45d0-cfeb-79dea70e3e26"
      },
      "execution_count": null,
      "outputs": [
        {
          "output_type": "execute_result",
          "data": {
            "text/plain": [
              "   customerID  tenure  PhoneService        Contract  PaperlessBilling  \\\n",
              "0  7590-VHVEG       1             0  Month-to-month                 1   \n",
              "1  5575-GNVDE      34             1        One year                 0   \n",
              "2  3668-QPYBK       2             1  Month-to-month                 1   \n",
              "3  7795-CFOCW      45             0        One year                 0   \n",
              "4  9237-HQITU       2             1  Month-to-month                 1   \n",
              "\n",
              "               PaymentMethod  MonthlyCharges TotalCharges  Churn  gender  ...  \\\n",
              "0           Electronic check           29.85        29.85      0  Female  ...   \n",
              "1               Mailed check           56.95       1889.5      0    Male  ...   \n",
              "2               Mailed check           53.85       108.15      1    Male  ...   \n",
              "3  Bank transfer (automatic)           42.30      1840.75      0    Male  ...   \n",
              "4           Electronic check           70.70       151.65      1  Female  ...   \n",
              "\n",
              "   Partner  Dependents     MultipleLines InternetService OnlineSecurity  \\\n",
              "0        1           0  No phone service             DSL             No   \n",
              "1        0           0                No             DSL            Yes   \n",
              "2        0           0                No             DSL            Yes   \n",
              "3        0           0  No phone service             DSL            Yes   \n",
              "4        0           0                No     Fiber optic             No   \n",
              "\n",
              "  OnlineBackup DeviceProtection TechSupport StreamingTV StreamingMovies  \n",
              "0          Yes               No          No          No              No  \n",
              "1           No              Yes          No          No              No  \n",
              "2          Yes               No          No          No              No  \n",
              "3           No              Yes         Yes          No              No  \n",
              "4           No               No          No          No              No  \n",
              "\n",
              "[5 rows x 21 columns]"
            ],
            "text/html": [
              "\n",
              "  <div id=\"df-433494df-c537-4417-aac2-0c3a504be9c0\">\n",
              "    <div class=\"colab-df-container\">\n",
              "      <div>\n",
              "<style scoped>\n",
              "    .dataframe tbody tr th:only-of-type {\n",
              "        vertical-align: middle;\n",
              "    }\n",
              "\n",
              "    .dataframe tbody tr th {\n",
              "        vertical-align: top;\n",
              "    }\n",
              "\n",
              "    .dataframe thead th {\n",
              "        text-align: right;\n",
              "    }\n",
              "</style>\n",
              "<table border=\"1\" class=\"dataframe\">\n",
              "  <thead>\n",
              "    <tr style=\"text-align: right;\">\n",
              "      <th></th>\n",
              "      <th>customerID</th>\n",
              "      <th>tenure</th>\n",
              "      <th>PhoneService</th>\n",
              "      <th>Contract</th>\n",
              "      <th>PaperlessBilling</th>\n",
              "      <th>PaymentMethod</th>\n",
              "      <th>MonthlyCharges</th>\n",
              "      <th>TotalCharges</th>\n",
              "      <th>Churn</th>\n",
              "      <th>gender</th>\n",
              "      <th>...</th>\n",
              "      <th>Partner</th>\n",
              "      <th>Dependents</th>\n",
              "      <th>MultipleLines</th>\n",
              "      <th>InternetService</th>\n",
              "      <th>OnlineSecurity</th>\n",
              "      <th>OnlineBackup</th>\n",
              "      <th>DeviceProtection</th>\n",
              "      <th>TechSupport</th>\n",
              "      <th>StreamingTV</th>\n",
              "      <th>StreamingMovies</th>\n",
              "    </tr>\n",
              "  </thead>\n",
              "  <tbody>\n",
              "    <tr>\n",
              "      <th>0</th>\n",
              "      <td>7590-VHVEG</td>\n",
              "      <td>1</td>\n",
              "      <td>0</td>\n",
              "      <td>Month-to-month</td>\n",
              "      <td>1</td>\n",
              "      <td>Electronic check</td>\n",
              "      <td>29.85</td>\n",
              "      <td>29.85</td>\n",
              "      <td>0</td>\n",
              "      <td>Female</td>\n",
              "      <td>...</td>\n",
              "      <td>1</td>\n",
              "      <td>0</td>\n",
              "      <td>No phone service</td>\n",
              "      <td>DSL</td>\n",
              "      <td>No</td>\n",
              "      <td>Yes</td>\n",
              "      <td>No</td>\n",
              "      <td>No</td>\n",
              "      <td>No</td>\n",
              "      <td>No</td>\n",
              "    </tr>\n",
              "    <tr>\n",
              "      <th>1</th>\n",
              "      <td>5575-GNVDE</td>\n",
              "      <td>34</td>\n",
              "      <td>1</td>\n",
              "      <td>One year</td>\n",
              "      <td>0</td>\n",
              "      <td>Mailed check</td>\n",
              "      <td>56.95</td>\n",
              "      <td>1889.5</td>\n",
              "      <td>0</td>\n",
              "      <td>Male</td>\n",
              "      <td>...</td>\n",
              "      <td>0</td>\n",
              "      <td>0</td>\n",
              "      <td>No</td>\n",
              "      <td>DSL</td>\n",
              "      <td>Yes</td>\n",
              "      <td>No</td>\n",
              "      <td>Yes</td>\n",
              "      <td>No</td>\n",
              "      <td>No</td>\n",
              "      <td>No</td>\n",
              "    </tr>\n",
              "    <tr>\n",
              "      <th>2</th>\n",
              "      <td>3668-QPYBK</td>\n",
              "      <td>2</td>\n",
              "      <td>1</td>\n",
              "      <td>Month-to-month</td>\n",
              "      <td>1</td>\n",
              "      <td>Mailed check</td>\n",
              "      <td>53.85</td>\n",
              "      <td>108.15</td>\n",
              "      <td>1</td>\n",
              "      <td>Male</td>\n",
              "      <td>...</td>\n",
              "      <td>0</td>\n",
              "      <td>0</td>\n",
              "      <td>No</td>\n",
              "      <td>DSL</td>\n",
              "      <td>Yes</td>\n",
              "      <td>Yes</td>\n",
              "      <td>No</td>\n",
              "      <td>No</td>\n",
              "      <td>No</td>\n",
              "      <td>No</td>\n",
              "    </tr>\n",
              "    <tr>\n",
              "      <th>3</th>\n",
              "      <td>7795-CFOCW</td>\n",
              "      <td>45</td>\n",
              "      <td>0</td>\n",
              "      <td>One year</td>\n",
              "      <td>0</td>\n",
              "      <td>Bank transfer (automatic)</td>\n",
              "      <td>42.30</td>\n",
              "      <td>1840.75</td>\n",
              "      <td>0</td>\n",
              "      <td>Male</td>\n",
              "      <td>...</td>\n",
              "      <td>0</td>\n",
              "      <td>0</td>\n",
              "      <td>No phone service</td>\n",
              "      <td>DSL</td>\n",
              "      <td>Yes</td>\n",
              "      <td>No</td>\n",
              "      <td>Yes</td>\n",
              "      <td>Yes</td>\n",
              "      <td>No</td>\n",
              "      <td>No</td>\n",
              "    </tr>\n",
              "    <tr>\n",
              "      <th>4</th>\n",
              "      <td>9237-HQITU</td>\n",
              "      <td>2</td>\n",
              "      <td>1</td>\n",
              "      <td>Month-to-month</td>\n",
              "      <td>1</td>\n",
              "      <td>Electronic check</td>\n",
              "      <td>70.70</td>\n",
              "      <td>151.65</td>\n",
              "      <td>1</td>\n",
              "      <td>Female</td>\n",
              "      <td>...</td>\n",
              "      <td>0</td>\n",
              "      <td>0</td>\n",
              "      <td>No</td>\n",
              "      <td>Fiber optic</td>\n",
              "      <td>No</td>\n",
              "      <td>No</td>\n",
              "      <td>No</td>\n",
              "      <td>No</td>\n",
              "      <td>No</td>\n",
              "      <td>No</td>\n",
              "    </tr>\n",
              "  </tbody>\n",
              "</table>\n",
              "<p>5 rows × 21 columns</p>\n",
              "</div>\n",
              "      <button class=\"colab-df-convert\" onclick=\"convertToInteractive('df-433494df-c537-4417-aac2-0c3a504be9c0')\"\n",
              "              title=\"Convert this dataframe to an interactive table.\"\n",
              "              style=\"display:none;\">\n",
              "        \n",
              "  <svg xmlns=\"http://www.w3.org/2000/svg\" height=\"24px\"viewBox=\"0 0 24 24\"\n",
              "       width=\"24px\">\n",
              "    <path d=\"M0 0h24v24H0V0z\" fill=\"none\"/>\n",
              "    <path d=\"M18.56 5.44l.94 2.06.94-2.06 2.06-.94-2.06-.94-.94-2.06-.94 2.06-2.06.94zm-11 1L8.5 8.5l.94-2.06 2.06-.94-2.06-.94L8.5 2.5l-.94 2.06-2.06.94zm10 10l.94 2.06.94-2.06 2.06-.94-2.06-.94-.94-2.06-.94 2.06-2.06.94z\"/><path d=\"M17.41 7.96l-1.37-1.37c-.4-.4-.92-.59-1.43-.59-.52 0-1.04.2-1.43.59L10.3 9.45l-7.72 7.72c-.78.78-.78 2.05 0 2.83L4 21.41c.39.39.9.59 1.41.59.51 0 1.02-.2 1.41-.59l7.78-7.78 2.81-2.81c.8-.78.8-2.07 0-2.86zM5.41 20L4 18.59l7.72-7.72 1.47 1.35L5.41 20z\"/>\n",
              "  </svg>\n",
              "      </button>\n",
              "      \n",
              "  <style>\n",
              "    .colab-df-container {\n",
              "      display:flex;\n",
              "      flex-wrap:wrap;\n",
              "      gap: 12px;\n",
              "    }\n",
              "\n",
              "    .colab-df-convert {\n",
              "      background-color: #E8F0FE;\n",
              "      border: none;\n",
              "      border-radius: 50%;\n",
              "      cursor: pointer;\n",
              "      display: none;\n",
              "      fill: #1967D2;\n",
              "      height: 32px;\n",
              "      padding: 0 0 0 0;\n",
              "      width: 32px;\n",
              "    }\n",
              "\n",
              "    .colab-df-convert:hover {\n",
              "      background-color: #E2EBFA;\n",
              "      box-shadow: 0px 1px 2px rgba(60, 64, 67, 0.3), 0px 1px 3px 1px rgba(60, 64, 67, 0.15);\n",
              "      fill: #174EA6;\n",
              "    }\n",
              "\n",
              "    [theme=dark] .colab-df-convert {\n",
              "      background-color: #3B4455;\n",
              "      fill: #D2E3FC;\n",
              "    }\n",
              "\n",
              "    [theme=dark] .colab-df-convert:hover {\n",
              "      background-color: #434B5C;\n",
              "      box-shadow: 0px 1px 3px 1px rgba(0, 0, 0, 0.15);\n",
              "      filter: drop-shadow(0px 1px 2px rgba(0, 0, 0, 0.3));\n",
              "      fill: #FFFFFF;\n",
              "    }\n",
              "  </style>\n",
              "\n",
              "      <script>\n",
              "        const buttonEl =\n",
              "          document.querySelector('#df-433494df-c537-4417-aac2-0c3a504be9c0 button.colab-df-convert');\n",
              "        buttonEl.style.display =\n",
              "          google.colab.kernel.accessAllowed ? 'block' : 'none';\n",
              "\n",
              "        async function convertToInteractive(key) {\n",
              "          const element = document.querySelector('#df-433494df-c537-4417-aac2-0c3a504be9c0');\n",
              "          const dataTable =\n",
              "            await google.colab.kernel.invokeFunction('convertToInteractive',\n",
              "                                                     [key], {});\n",
              "          if (!dataTable) return;\n",
              "\n",
              "          const docLinkHtml = 'Like what you see? Visit the ' +\n",
              "            '<a target=\"_blank\" href=https://colab.research.google.com/notebooks/data_table.ipynb>data table notebook</a>'\n",
              "            + ' to learn more about interactive tables.';\n",
              "          element.innerHTML = '';\n",
              "          dataTable['output_type'] = 'display_data';\n",
              "          await google.colab.output.renderOutput(dataTable, element);\n",
              "          const docLink = document.createElement('div');\n",
              "          docLink.innerHTML = docLinkHtml;\n",
              "          element.appendChild(docLink);\n",
              "        }\n",
              "      </script>\n",
              "    </div>\n",
              "  </div>\n",
              "  "
            ]
          },
          "metadata": {},
          "execution_count": 11
        }
      ]
    },
    {
      "cell_type": "markdown",
      "metadata": {
        "id": "t3g3q55L1H2-"
      },
      "source": [
        "### **`Dummy Variable Creation`**\n",
        "\n",
        "As you can see there are many textual information in our data set. Lets do encoding for these classes using get_dummies() function.\n",
        "\n",
        "Note: use prefix='column_name' where column_name is the column whose encoding has to be done."
      ]
    },
    {
      "cell_type": "code",
      "source": [
        "telecom.shape"
      ],
      "metadata": {
        "colab": {
          "base_uri": "https://localhost:8080/"
        },
        "id": "a079RmmTDrFa",
        "outputId": "2ed015f6-cb51-4ee0-a0d0-645db0489cc3"
      },
      "execution_count": null,
      "outputs": [
        {
          "output_type": "execute_result",
          "data": {
            "text/plain": [
              "(7043, 21)"
            ]
          },
          "metadata": {},
          "execution_count": 12
        }
      ]
    },
    {
      "cell_type": "code",
      "source": [
        "telecom['MultipleLines'].unique()"
      ],
      "metadata": {
        "colab": {
          "base_uri": "https://localhost:8080/"
        },
        "id": "Sxo32DziBaS1",
        "outputId": "14a4a062-580a-4fc3-dd06-25f914898903"
      },
      "execution_count": null,
      "outputs": [
        {
          "output_type": "execute_result",
          "data": {
            "text/plain": [
              "array(['No phone service', 'No', 'Yes'], dtype=object)"
            ]
          },
          "metadata": {},
          "execution_count": 13
        }
      ]
    },
    {
      "cell_type": "code",
      "execution_count": null,
      "metadata": {
        "id": "KZ0vG2Fo1H2_",
        "colab": {
          "base_uri": "https://localhost:8080/"
        },
        "outputId": "b834a10e-d02e-4667-9a20-af9a0b90cf04"
      },
      "outputs": [
        {
          "output_type": "stream",
          "name": "stdout",
          "text": [
            "      OnlineSecurity_No  OnlineSecurity_No internet service  \\\n",
            "0                     1                                   0   \n",
            "1                     0                                   0   \n",
            "2                     0                                   0   \n",
            "3                     0                                   0   \n",
            "4                     1                                   0   \n",
            "...                 ...                                 ...   \n",
            "7038                  0                                   0   \n",
            "7039                  1                                   0   \n",
            "7040                  0                                   0   \n",
            "7041                  1                                   0   \n",
            "7042                  0                                   0   \n",
            "\n",
            "      OnlineSecurity_Yes  \n",
            "0                      0  \n",
            "1                      1  \n",
            "2                      1  \n",
            "3                      1  \n",
            "4                      0  \n",
            "...                  ...  \n",
            "7038                   1  \n",
            "7039                   0  \n",
            "7040                   1  \n",
            "7041                   0  \n",
            "7042                   1  \n",
            "\n",
            "[7043 rows x 3 columns]\n",
            "      OnlineSecurity_No  OnlineSecurity_Yes\n",
            "0                     1                   0\n",
            "1                     0                   1\n",
            "2                     0                   1\n",
            "3                     0                   1\n",
            "4                     1                   0\n",
            "...                 ...                 ...\n",
            "7038                  0                   1\n",
            "7039                  1                   0\n",
            "7040                  0                   1\n",
            "7041                  1                   0\n",
            "7042                  0                   1\n",
            "\n",
            "[7043 rows x 2 columns]\n"
          ]
        }
      ],
      "source": [
        "# Creating a dummy variable for the variable 'Contract' and keeping drop_first=True\n",
        "cont = pd.get_dummies(telecom['Contract'], prefix= 'Contract' ,drop_first=True)\n",
        "#print(cont)\n",
        "#Adding the results to the master dataframe i.e telecom\n",
        "telecom = pd.concat([telecom, cont], axis=1)\n",
        "\n",
        "\n",
        "# Creating a dummy variable for the variable 'PaymentMethod' and keeping drop_first=True\n",
        "pm = pd.get_dummies(telecom['PaymentMethod'], prefix='PaymentMethod', drop_first=True)\n",
        "\n",
        "#Adding the results to the master dataframe\n",
        "telecom = pd.concat([telecom, pm], axis=1)\n",
        "\n",
        "\n",
        "# Creating a dummy variable for the variable 'gender' and keeping drop_first=True\n",
        "gen = pd.get_dummies(telecom['gender'], prefix='gender' ,drop_first=True)\n",
        "\n",
        "#Adding the results to the master dataframe\n",
        "telecom = pd.concat([telecom, gen], axis=1)\n",
        "\n",
        "\n",
        "# Creating a dummy variable for the variable 'MultipleLines' and keeping drop_first=True\n",
        "ml = pd.get_dummies(telecom['MultipleLines'], prefix='MultipleLines')\n",
        "#print(ml)\n",
        "#  dropping MultipleLines_No phone service column\n",
        "ml1 = ml.drop(columns='MultipleLines_No phone service', axis=1)\n",
        "#print(ml1)\n",
        "\n",
        "#Adding the results to the master dataframe\n",
        "telecom = pd.concat([telecom, ml1], axis=1)\n",
        "\n",
        "# Creating a dummy variable for the variable 'InternetService' and keeping drop_first=True\n",
        "iser = pd.get_dummies(telecom['InternetService'], prefix='InternetService' ,drop_first=True)\n",
        "\n",
        "#Adding the results to the master dataframe\n",
        "telecom = pd.concat([telecom, iser], axis=1)\n",
        "\n",
        "\n",
        "# Creating a dummy variable for the variable 'OnlineSecurity'.\n",
        "os = pd.get_dummies(telecom['OnlineSecurity'], prefix='OnlineSecurity')\n",
        "print(os)\n",
        "#drop OnlineSecurity_No internet service column from os\n",
        "os1= os.drop(columns='OnlineSecurity_No internet service', axis=1)\n",
        "print(os1)\n",
        "#Adding os1 to the master dataframe\n",
        "telecom = pd.concat([telecom, os1], axis=1)\n",
        "\n",
        "# Creating a dummy variable for the variable 'OnlineBackup' and keeping drop_first=True\n",
        "ob = pd.get_dummies(telecom['OnlineBackup'], prefix='OnlineBackup')\n",
        "#print(ob)\n",
        "#dropping OnlineBackup_No internet service from ob\n",
        "ob1 = ob.drop(columns='OnlineBackup_No internet service', axis=1)\n",
        "#print(ob1)\n",
        "#Adding the results(ob1) to the master dataframe\n",
        "telecom = pd.concat([telecom, ob1], axis=1)\n",
        "\n"
      ]
    },
    {
      "cell_type": "code",
      "source": [
        "telecom.shape"
      ],
      "metadata": {
        "colab": {
          "base_uri": "https://localhost:8080/"
        },
        "id": "Pn7QHOTCJnFG",
        "outputId": "16145445-13f7-4fb4-c5fb-e7558c26f502"
      },
      "execution_count": null,
      "outputs": [
        {
          "output_type": "execute_result",
          "data": {
            "text/plain": [
              "(7043, 35)"
            ]
          },
          "metadata": {},
          "execution_count": 15
        }
      ]
    },
    {
      "cell_type": "code",
      "source": [
        "\n",
        "# Creating a dummy variable for the variable 'DeviceProtection' and keeping drop_first=True\n",
        "dp = pd.get_dummies(telecom['DeviceProtection'],  prefix='DeviceProtection')\n",
        "#print(dp)\n",
        "\n",
        "#dropping DeviceProtection_No internet service\n",
        "dp1 = dp.drop(columns='DeviceProtection_No internet service', axis=1)\n",
        "\n",
        "\n",
        "#Adding the results(dp1) to the master dataframe\n",
        "telecom = pd.concat([telecom, dp1], axis=1)\n",
        "\n",
        "# Creating a dummy variable for the variable 'TechSupport' and keeping drop_first=True\n",
        "ts = pd.get_dummies(telecom['TechSupport'], prefix='TechSupport')\n",
        "\n",
        "#dropping TechSupport_No internet service from ts\n",
        "ts1 = ts.drop(columns='TechSupport_No internet service', axis=1) \n",
        "\n",
        "#Adding the results(ts1) to the master dataframe\n",
        "telecom = pd.concat([telecom, ts1], axis=1)\n",
        "\n",
        "# Creating a dummy variable for the variable 'StreamingTV' and keeping drop_first=True\n",
        "st = pd.get_dummies(telecom['StreamingTV'], prefix='StreamingTV')\n",
        "\n",
        "#dropping StreamingTV_No internet service from st\n",
        "st1 = st.drop(columns='StreamingTV_No internet service', axis=1)\n",
        "\n",
        "#Adding the results(st1) to the master dataframe\n",
        "telecom = pd.concat([telecom, st1], axis=1)\n",
        "\n",
        "# Creating a dummy variable for the variable 'StreamingMovies' and keeping drop_first=True \n",
        "sm = pd.get_dummies(telecom['StreamingMovies'], prefix='StreamingMovies')\n",
        "\n",
        "#dropping StreamingMovies_No internet service from sm\n",
        "sm1 = sm.drop(columns='StreamingMovies_No internet service', axis=1)\n",
        "\n",
        "#Adding the results(sm1) to the master dataframe\n",
        "telecom = pd.concat([telecom, sm1], axis=1)\n"
      ],
      "metadata": {
        "id": "c-HvzaZSDyyp"
      },
      "execution_count": null,
      "outputs": []
    },
    {
      "cell_type": "code",
      "source": [
        "telecom.shape"
      ],
      "metadata": {
        "colab": {
          "base_uri": "https://localhost:8080/"
        },
        "id": "YUqQpgCLVyYB",
        "outputId": "0fe9d9cc-1661-4f01-b599-c80b7d753373"
      },
      "execution_count": null,
      "outputs": [
        {
          "output_type": "execute_result",
          "data": {
            "text/plain": [
              "(7043, 43)"
            ]
          },
          "metadata": {},
          "execution_count": 17
        }
      ]
    },
    {
      "cell_type": "markdown",
      "metadata": {
        "id": "WBXqiCLb1H3B"
      },
      "source": [
        "### **`Dropping the repeated variables`**\n",
        "\n",
        "Since We have already created dummies for the below variables\n",
        "    \n",
        "    'Contract',\n",
        "    'PaymentMethod',\n",
        "    'gender',\n",
        "    'MultipleLines',\n",
        "    'InternetService', \n",
        "    'OnlineSecurity', \n",
        "    'OnlineBackup', \n",
        "    'DeviceProtection',\n",
        "    'TechSupport', \n",
        "    'StreamingTV', \n",
        "    'StreamingMovies'\n",
        "so we can drop them off as they are now repeated in our master dataset\n"
      ]
    },
    {
      "cell_type": "code",
      "execution_count": null,
      "metadata": {
        "id": "TwpUTW_V1H3C"
      },
      "outputs": [],
      "source": [
        "# drop all duplicate columns\n",
        "drop_cols = ['Contract',\n",
        "'PaymentMethod',\n",
        "'gender',\n",
        "'MultipleLines',\n",
        "'InternetService', \n",
        "'OnlineSecurity', \n",
        "'OnlineBackup', \n",
        "'DeviceProtection',\n",
        "'TechSupport', \n",
        "'StreamingTV', \n",
        "'StreamingMovies']\n",
        "\n",
        "telecom = telecom.drop(columns= drop_cols, axis=1)\n"
      ]
    },
    {
      "cell_type": "code",
      "source": [
        "telecom.shape"
      ],
      "metadata": {
        "colab": {
          "base_uri": "https://localhost:8080/"
        },
        "id": "fgDVMNR_WUjr",
        "outputId": "2461283d-4cf9-4ea9-e6e9-710261eafe55"
      },
      "execution_count": null,
      "outputs": [
        {
          "output_type": "execute_result",
          "data": {
            "text/plain": [
              "(7043, 32)"
            ]
          },
          "metadata": {},
          "execution_count": 19
        }
      ]
    },
    {
      "cell_type": "markdown",
      "metadata": {
        "id": "wUjXo8NE1H3D"
      },
      "source": [
        "The TotalCharges variable was imported as a string we need to convert it to numeric type<br>\n",
        "Hint: Use pandas.to_numeric() function. Refer:https://pandas.pydata.org/pandas-docs/stable/reference/api/pandas.to_numeric.html"
      ]
    },
    {
      "cell_type": "code",
      "execution_count": null,
      "metadata": {
        "id": "xxUdkcMG1H3E"
      },
      "outputs": [],
      "source": [
        "telecom['TotalCharges'] = pd.to_numeric(telecom['TotalCharges'], errors='coerce')"
      ]
    },
    {
      "cell_type": "code",
      "execution_count": null,
      "metadata": {
        "id": "_j9fnmyO1H3E",
        "outputId": "422839d8-7865-4e60-8724-4ea0200b2747",
        "colab": {
          "base_uri": "https://localhost:8080/"
        }
      },
      "outputs": [
        {
          "output_type": "stream",
          "name": "stdout",
          "text": [
            "<class 'pandas.core.frame.DataFrame'>\n",
            "Int64Index: 7043 entries, 0 to 7042\n",
            "Data columns (total 32 columns):\n",
            " #   Column                                 Non-Null Count  Dtype  \n",
            "---  ------                                 --------------  -----  \n",
            " 0   customerID                             7043 non-null   object \n",
            " 1   tenure                                 7043 non-null   int64  \n",
            " 2   PhoneService                           7043 non-null   int64  \n",
            " 3   PaperlessBilling                       7043 non-null   int64  \n",
            " 4   MonthlyCharges                         7043 non-null   float64\n",
            " 5   TotalCharges                           7032 non-null   float64\n",
            " 6   Churn                                  7043 non-null   int64  \n",
            " 7   SeniorCitizen                          7043 non-null   int64  \n",
            " 8   Partner                                7043 non-null   int64  \n",
            " 9   Dependents                             7043 non-null   int64  \n",
            " 10  Contract_One year                      7043 non-null   uint8  \n",
            " 11  Contract_Two year                      7043 non-null   uint8  \n",
            " 12  PaymentMethod_Credit card (automatic)  7043 non-null   uint8  \n",
            " 13  PaymentMethod_Electronic check         7043 non-null   uint8  \n",
            " 14  PaymentMethod_Mailed check             7043 non-null   uint8  \n",
            " 15  gender_Male                            7043 non-null   uint8  \n",
            " 16  MultipleLines_No                       7043 non-null   uint8  \n",
            " 17  MultipleLines_Yes                      7043 non-null   uint8  \n",
            " 18  InternetService_Fiber optic            7043 non-null   uint8  \n",
            " 19  InternetService_No                     7043 non-null   uint8  \n",
            " 20  OnlineSecurity_No                      7043 non-null   uint8  \n",
            " 21  OnlineSecurity_Yes                     7043 non-null   uint8  \n",
            " 22  OnlineBackup_No                        7043 non-null   uint8  \n",
            " 23  OnlineBackup_Yes                       7043 non-null   uint8  \n",
            " 24  DeviceProtection_No                    7043 non-null   uint8  \n",
            " 25  DeviceProtection_Yes                   7043 non-null   uint8  \n",
            " 26  TechSupport_No                         7043 non-null   uint8  \n",
            " 27  TechSupport_Yes                        7043 non-null   uint8  \n",
            " 28  StreamingTV_No                         7043 non-null   uint8  \n",
            " 29  StreamingTV_Yes                        7043 non-null   uint8  \n",
            " 30  StreamingMovies_No                     7043 non-null   uint8  \n",
            " 31  StreamingMovies_Yes                    7043 non-null   uint8  \n",
            "dtypes: float64(2), int64(7), object(1), uint8(22)\n",
            "memory usage: 756.6+ KB\n"
          ]
        }
      ],
      "source": [
        "# again check data type informationof our master dataset\n",
        "\n",
        "telecom.info()"
      ]
    },
    {
      "cell_type": "markdown",
      "metadata": {
        "id": "zobN4dzW1H3F"
      },
      "source": [
        "Now we can see we have all variables as integer."
      ]
    },
    {
      "cell_type": "code",
      "source": [
        "telecom.isnull().sum()"
      ],
      "metadata": {
        "colab": {
          "base_uri": "https://localhost:8080/"
        },
        "id": "fONXj7b8X4WZ",
        "outputId": "e0e1d2fa-fd10-4428-c6ff-7e32dc132cf0"
      },
      "execution_count": null,
      "outputs": [
        {
          "output_type": "execute_result",
          "data": {
            "text/plain": [
              "customerID                                0\n",
              "tenure                                    0\n",
              "PhoneService                              0\n",
              "PaperlessBilling                          0\n",
              "MonthlyCharges                            0\n",
              "TotalCharges                             11\n",
              "Churn                                     0\n",
              "SeniorCitizen                             0\n",
              "Partner                                   0\n",
              "Dependents                                0\n",
              "Contract_One year                         0\n",
              "Contract_Two year                         0\n",
              "PaymentMethod_Credit card (automatic)     0\n",
              "PaymentMethod_Electronic check            0\n",
              "PaymentMethod_Mailed check                0\n",
              "gender_Male                               0\n",
              "MultipleLines_No                          0\n",
              "MultipleLines_Yes                         0\n",
              "InternetService_Fiber optic               0\n",
              "InternetService_No                        0\n",
              "OnlineSecurity_No                         0\n",
              "OnlineSecurity_Yes                        0\n",
              "OnlineBackup_No                           0\n",
              "OnlineBackup_Yes                          0\n",
              "DeviceProtection_No                       0\n",
              "DeviceProtection_Yes                      0\n",
              "TechSupport_No                            0\n",
              "TechSupport_Yes                           0\n",
              "StreamingTV_No                            0\n",
              "StreamingTV_Yes                           0\n",
              "StreamingMovies_No                        0\n",
              "StreamingMovies_Yes                       0\n",
              "dtype: int64"
            ]
          },
          "metadata": {},
          "execution_count": 22
        }
      ]
    },
    {
      "cell_type": "markdown",
      "metadata": {
        "collapsed": true,
        "id": "F5ha-8X21H3F"
      },
      "source": [
        "### **`Checking for Outliers`**\n",
        "<p style='text-align: right;'> 4 points</p>\n",
        "\n",
        "\n",
        "Checking for outliers in the continuous variables like 'tenure','MonthlyCharges','SeniorCitizen','TotalCharges'\n"
      ]
    },
    {
      "cell_type": "code",
      "execution_count": null,
      "metadata": {
        "id": "88nugxmR1H3F",
        "colab": {
          "base_uri": "https://localhost:8080/",
          "height": 206
        },
        "outputId": "c6b192c4-6553-4dcb-fdc8-34950622c020"
      },
      "outputs": [
        {
          "output_type": "execute_result",
          "data": {
            "text/plain": [
              "   tenure  MonthlyCharges  SeniorCitizen  TotalCharges\n",
              "0       1           29.85              0         29.85\n",
              "1      34           56.95              0       1889.50\n",
              "2       2           53.85              0        108.15\n",
              "3      45           42.30              0       1840.75\n",
              "4       2           70.70              0        151.65"
            ],
            "text/html": [
              "\n",
              "  <div id=\"df-de1bbca4-9554-4133-ae15-995f7b1aa967\">\n",
              "    <div class=\"colab-df-container\">\n",
              "      <div>\n",
              "<style scoped>\n",
              "    .dataframe tbody tr th:only-of-type {\n",
              "        vertical-align: middle;\n",
              "    }\n",
              "\n",
              "    .dataframe tbody tr th {\n",
              "        vertical-align: top;\n",
              "    }\n",
              "\n",
              "    .dataframe thead th {\n",
              "        text-align: right;\n",
              "    }\n",
              "</style>\n",
              "<table border=\"1\" class=\"dataframe\">\n",
              "  <thead>\n",
              "    <tr style=\"text-align: right;\">\n",
              "      <th></th>\n",
              "      <th>tenure</th>\n",
              "      <th>MonthlyCharges</th>\n",
              "      <th>SeniorCitizen</th>\n",
              "      <th>TotalCharges</th>\n",
              "    </tr>\n",
              "  </thead>\n",
              "  <tbody>\n",
              "    <tr>\n",
              "      <th>0</th>\n",
              "      <td>1</td>\n",
              "      <td>29.85</td>\n",
              "      <td>0</td>\n",
              "      <td>29.85</td>\n",
              "    </tr>\n",
              "    <tr>\n",
              "      <th>1</th>\n",
              "      <td>34</td>\n",
              "      <td>56.95</td>\n",
              "      <td>0</td>\n",
              "      <td>1889.50</td>\n",
              "    </tr>\n",
              "    <tr>\n",
              "      <th>2</th>\n",
              "      <td>2</td>\n",
              "      <td>53.85</td>\n",
              "      <td>0</td>\n",
              "      <td>108.15</td>\n",
              "    </tr>\n",
              "    <tr>\n",
              "      <th>3</th>\n",
              "      <td>45</td>\n",
              "      <td>42.30</td>\n",
              "      <td>0</td>\n",
              "      <td>1840.75</td>\n",
              "    </tr>\n",
              "    <tr>\n",
              "      <th>4</th>\n",
              "      <td>2</td>\n",
              "      <td>70.70</td>\n",
              "      <td>0</td>\n",
              "      <td>151.65</td>\n",
              "    </tr>\n",
              "  </tbody>\n",
              "</table>\n",
              "</div>\n",
              "      <button class=\"colab-df-convert\" onclick=\"convertToInteractive('df-de1bbca4-9554-4133-ae15-995f7b1aa967')\"\n",
              "              title=\"Convert this dataframe to an interactive table.\"\n",
              "              style=\"display:none;\">\n",
              "        \n",
              "  <svg xmlns=\"http://www.w3.org/2000/svg\" height=\"24px\"viewBox=\"0 0 24 24\"\n",
              "       width=\"24px\">\n",
              "    <path d=\"M0 0h24v24H0V0z\" fill=\"none\"/>\n",
              "    <path d=\"M18.56 5.44l.94 2.06.94-2.06 2.06-.94-2.06-.94-.94-2.06-.94 2.06-2.06.94zm-11 1L8.5 8.5l.94-2.06 2.06-.94-2.06-.94L8.5 2.5l-.94 2.06-2.06.94zm10 10l.94 2.06.94-2.06 2.06-.94-2.06-.94-.94-2.06-.94 2.06-2.06.94z\"/><path d=\"M17.41 7.96l-1.37-1.37c-.4-.4-.92-.59-1.43-.59-.52 0-1.04.2-1.43.59L10.3 9.45l-7.72 7.72c-.78.78-.78 2.05 0 2.83L4 21.41c.39.39.9.59 1.41.59.51 0 1.02-.2 1.41-.59l7.78-7.78 2.81-2.81c.8-.78.8-2.07 0-2.86zM5.41 20L4 18.59l7.72-7.72 1.47 1.35L5.41 20z\"/>\n",
              "  </svg>\n",
              "      </button>\n",
              "      \n",
              "  <style>\n",
              "    .colab-df-container {\n",
              "      display:flex;\n",
              "      flex-wrap:wrap;\n",
              "      gap: 12px;\n",
              "    }\n",
              "\n",
              "    .colab-df-convert {\n",
              "      background-color: #E8F0FE;\n",
              "      border: none;\n",
              "      border-radius: 50%;\n",
              "      cursor: pointer;\n",
              "      display: none;\n",
              "      fill: #1967D2;\n",
              "      height: 32px;\n",
              "      padding: 0 0 0 0;\n",
              "      width: 32px;\n",
              "    }\n",
              "\n",
              "    .colab-df-convert:hover {\n",
              "      background-color: #E2EBFA;\n",
              "      box-shadow: 0px 1px 2px rgba(60, 64, 67, 0.3), 0px 1px 3px 1px rgba(60, 64, 67, 0.15);\n",
              "      fill: #174EA6;\n",
              "    }\n",
              "\n",
              "    [theme=dark] .colab-df-convert {\n",
              "      background-color: #3B4455;\n",
              "      fill: #D2E3FC;\n",
              "    }\n",
              "\n",
              "    [theme=dark] .colab-df-convert:hover {\n",
              "      background-color: #434B5C;\n",
              "      box-shadow: 0px 1px 3px 1px rgba(0, 0, 0, 0.15);\n",
              "      filter: drop-shadow(0px 1px 2px rgba(0, 0, 0, 0.3));\n",
              "      fill: #FFFFFF;\n",
              "    }\n",
              "  </style>\n",
              "\n",
              "      <script>\n",
              "        const buttonEl =\n",
              "          document.querySelector('#df-de1bbca4-9554-4133-ae15-995f7b1aa967 button.colab-df-convert');\n",
              "        buttonEl.style.display =\n",
              "          google.colab.kernel.accessAllowed ? 'block' : 'none';\n",
              "\n",
              "        async function convertToInteractive(key) {\n",
              "          const element = document.querySelector('#df-de1bbca4-9554-4133-ae15-995f7b1aa967');\n",
              "          const dataTable =\n",
              "            await google.colab.kernel.invokeFunction('convertToInteractive',\n",
              "                                                     [key], {});\n",
              "          if (!dataTable) return;\n",
              "\n",
              "          const docLinkHtml = 'Like what you see? Visit the ' +\n",
              "            '<a target=\"_blank\" href=https://colab.research.google.com/notebooks/data_table.ipynb>data table notebook</a>'\n",
              "            + ' to learn more about interactive tables.';\n",
              "          element.innerHTML = '';\n",
              "          dataTable['output_type'] = 'display_data';\n",
              "          await google.colab.output.renderOutput(dataTable, element);\n",
              "          const docLink = document.createElement('div');\n",
              "          docLink.innerHTML = docLinkHtml;\n",
              "          element.appendChild(docLink);\n",
              "        }\n",
              "      </script>\n",
              "    </div>\n",
              "  </div>\n",
              "  "
            ]
          },
          "metadata": {},
          "execution_count": 23
        }
      ],
      "source": [
        "# Getting all continues variables in separate dataframe\n",
        "num_telecom = telecom[['tenure', 'MonthlyCharges','SeniorCitizen','TotalCharges']]\n",
        "num_telecom.head()"
      ]
    },
    {
      "cell_type": "code",
      "source": [
        "import seaborn as sns\n",
        "sns.boxplot(data = num_telecom['TotalCharges'])"
      ],
      "metadata": {
        "colab": {
          "base_uri": "https://localhost:8080/",
          "height": 282
        },
        "id": "2oW7qvvJzg1v",
        "outputId": "24e5f1da-e269-4978-b533-6a4ee35657fd"
      },
      "execution_count": null,
      "outputs": [
        {
          "output_type": "execute_result",
          "data": {
            "text/plain": [
              "<matplotlib.axes._subplots.AxesSubplot at 0x7f1e97ae9730>"
            ]
          },
          "metadata": {},
          "execution_count": 24
        },
        {
          "output_type": "display_data",
          "data": {
            "text/plain": [
              "<Figure size 432x288 with 1 Axes>"
            ],
            "image/png": "[encoded data removed]"
          },
          "metadata": {
            "needs_background": "light"
          }
        }
      ]
    },
    {
      "cell_type": "code",
      "execution_count": null,
      "metadata": {
        "id": "_nTW7FmY1H3G",
        "colab": {
          "base_uri": "https://localhost:8080/",
          "height": 363
        },
        "outputId": "46d51e84-91ce-40c6-a59e-8052e4fb118a"
      },
      "outputs": [
        {
          "output_type": "execute_result",
          "data": {
            "text/plain": [
              "            tenure  MonthlyCharges  SeniorCitizen  TotalCharges\n",
              "count  7043.000000     7043.000000    7043.000000   7032.000000\n",
              "mean     32.371149       64.761692       0.162147   2283.300441\n",
              "std      24.559481       30.090047       0.368612   2266.771362\n",
              "min       0.000000       18.250000       0.000000     18.800000\n",
              "25%       9.000000       35.500000       0.000000    401.450000\n",
              "50%      29.000000       70.350000       0.000000   1397.475000\n",
              "75%      55.000000       89.850000       0.000000   3794.737500\n",
              "95%      72.000000      107.400000       1.000000   6923.590000\n",
              "99%      72.000000      114.729000       1.000000   8039.883000\n",
              "max      72.000000      118.750000       1.000000   8684.800000"
            ],
            "text/html": [
              "\n",
              "  <div id=\"df-6d16d616-9ca3-46c4-96fa-6906d39905f0\">\n",
              "    <div class=\"colab-df-container\">\n",
              "      <div>\n",
              "<style scoped>\n",
              "    .dataframe tbody tr th:only-of-type {\n",
              "        vertical-align: middle;\n",
              "    }\n",
              "\n",
              "    .dataframe tbody tr th {\n",
              "        vertical-align: top;\n",
              "    }\n",
              "\n",
              "    .dataframe thead th {\n",
              "        text-align: right;\n",
              "    }\n",
              "</style>\n",
              "<table border=\"1\" class=\"dataframe\">\n",
              "  <thead>\n",
              "    <tr style=\"text-align: right;\">\n",
              "      <th></th>\n",
              "      <th>tenure</th>\n",
              "      <th>MonthlyCharges</th>\n",
              "      <th>SeniorCitizen</th>\n",
              "      <th>TotalCharges</th>\n",
              "    </tr>\n",
              "  </thead>\n",
              "  <tbody>\n",
              "    <tr>\n",
              "      <th>count</th>\n",
              "      <td>7043.000000</td>\n",
              "      <td>7043.000000</td>\n",
              "      <td>7043.000000</td>\n",
              "      <td>7032.000000</td>\n",
              "    </tr>\n",
              "    <tr>\n",
              "      <th>mean</th>\n",
              "      <td>32.371149</td>\n",
              "      <td>64.761692</td>\n",
              "      <td>0.162147</td>\n",
              "      <td>2283.300441</td>\n",
              "    </tr>\n",
              "    <tr>\n",
              "      <th>std</th>\n",
              "      <td>24.559481</td>\n",
              "      <td>30.090047</td>\n",
              "      <td>0.368612</td>\n",
              "      <td>2266.771362</td>\n",
              "    </tr>\n",
              "    <tr>\n",
              "      <th>min</th>\n",
              "      <td>0.000000</td>\n",
              "      <td>18.250000</td>\n",
              "      <td>0.000000</td>\n",
              "      <td>18.800000</td>\n",
              "    </tr>\n",
              "    <tr>\n",
              "      <th>25%</th>\n",
              "      <td>9.000000</td>\n",
              "      <td>35.500000</td>\n",
              "      <td>0.000000</td>\n",
              "      <td>401.450000</td>\n",
              "    </tr>\n",
              "    <tr>\n",
              "      <th>50%</th>\n",
              "      <td>29.000000</td>\n",
              "      <td>70.350000</td>\n",
              "      <td>0.000000</td>\n",
              "      <td>1397.475000</td>\n",
              "    </tr>\n",
              "    <tr>\n",
              "      <th>75%</th>\n",
              "      <td>55.000000</td>\n",
              "      <td>89.850000</td>\n",
              "      <td>0.000000</td>\n",
              "      <td>3794.737500</td>\n",
              "    </tr>\n",
              "    <tr>\n",
              "      <th>95%</th>\n",
              "      <td>72.000000</td>\n",
              "      <td>107.400000</td>\n",
              "      <td>1.000000</td>\n",
              "      <td>6923.590000</td>\n",
              "    </tr>\n",
              "    <tr>\n",
              "      <th>99%</th>\n",
              "      <td>72.000000</td>\n",
              "      <td>114.729000</td>\n",
              "      <td>1.000000</td>\n",
              "      <td>8039.883000</td>\n",
              "    </tr>\n",
              "    <tr>\n",
              "      <th>max</th>\n",
              "      <td>72.000000</td>\n",
              "      <td>118.750000</td>\n",
              "      <td>1.000000</td>\n",
              "      <td>8684.800000</td>\n",
              "    </tr>\n",
              "  </tbody>\n",
              "</table>\n",
              "</div>\n",
              "      <button class=\"colab-df-convert\" onclick=\"convertToInteractive('df-6d16d616-9ca3-46c4-96fa-6906d39905f0')\"\n",
              "              title=\"Convert this dataframe to an interactive table.\"\n",
              "              style=\"display:none;\">\n",
              "        \n",
              "  <svg xmlns=\"http://www.w3.org/2000/svg\" height=\"24px\"viewBox=\"0 0 24 24\"\n",
              "       width=\"24px\">\n",
              "    <path d=\"M0 0h24v24H0V0z\" fill=\"none\"/>\n",
              "    <path d=\"M18.56 5.44l.94 2.06.94-2.06 2.06-.94-2.06-.94-.94-2.06-.94 2.06-2.06.94zm-11 1L8.5 8.5l.94-2.06 2.06-.94-2.06-.94L8.5 2.5l-.94 2.06-2.06.94zm10 10l.94 2.06.94-2.06 2.06-.94-2.06-.94-.94-2.06-.94 2.06-2.06.94z\"/><path d=\"M17.41 7.96l-1.37-1.37c-.4-.4-.92-.59-1.43-.59-.52 0-1.04.2-1.43.59L10.3 9.45l-7.72 7.72c-.78.78-.78 2.05 0 2.83L4 21.41c.39.39.9.59 1.41.59.51 0 1.02-.2 1.41-.59l7.78-7.78 2.81-2.81c.8-.78.8-2.07 0-2.86zM5.41 20L4 18.59l7.72-7.72 1.47 1.35L5.41 20z\"/>\n",
              "  </svg>\n",
              "      </button>\n",
              "      \n",
              "  <style>\n",
              "    .colab-df-container {\n",
              "      display:flex;\n",
              "      flex-wrap:wrap;\n",
              "      gap: 12px;\n",
              "    }\n",
              "\n",
              "    .colab-df-convert {\n",
              "      background-color: #E8F0FE;\n",
              "      border: none;\n",
              "      border-radius: 50%;\n",
              "      cursor: pointer;\n",
              "      display: none;\n",
              "      fill: #1967D2;\n",
              "      height: 32px;\n",
              "      padding: 0 0 0 0;\n",
              "      width: 32px;\n",
              "    }\n",
              "\n",
              "    .colab-df-convert:hover {\n",
              "      background-color: #E2EBFA;\n",
              "      box-shadow: 0px 1px 2px rgba(60, 64, 67, 0.3), 0px 1px 3px 1px rgba(60, 64, 67, 0.15);\n",
              "      fill: #174EA6;\n",
              "    }\n",
              "\n",
              "    [theme=dark] .colab-df-convert {\n",
              "      background-color: #3B4455;\n",
              "      fill: #D2E3FC;\n",
              "    }\n",
              "\n",
              "    [theme=dark] .colab-df-convert:hover {\n",
              "      background-color: #434B5C;\n",
              "      box-shadow: 0px 1px 3px 1px rgba(0, 0, 0, 0.15);\n",
              "      filter: drop-shadow(0px 1px 2px rgba(0, 0, 0, 0.3));\n",
              "      fill: #FFFFFF;\n",
              "    }\n",
              "  </style>\n",
              "\n",
              "      <script>\n",
              "        const buttonEl =\n",
              "          document.querySelector('#df-6d16d616-9ca3-46c4-96fa-6906d39905f0 button.colab-df-convert');\n",
              "        buttonEl.style.display =\n",
              "          google.colab.kernel.accessAllowed ? 'block' : 'none';\n",
              "\n",
              "        async function convertToInteractive(key) {\n",
              "          const element = document.querySelector('#df-6d16d616-9ca3-46c4-96fa-6906d39905f0');\n",
              "          const dataTable =\n",
              "            await google.colab.kernel.invokeFunction('convertToInteractive',\n",
              "                                                     [key], {});\n",
              "          if (!dataTable) return;\n",
              "\n",
              "          const docLinkHtml = 'Like what you see? Visit the ' +\n",
              "            '<a target=\"_blank\" href=https://colab.research.google.com/notebooks/data_table.ipynb>data table notebook</a>'\n",
              "            + ' to learn more about interactive tables.';\n",
              "          element.innerHTML = '';\n",
              "          dataTable['output_type'] = 'display_data';\n",
              "          await google.colab.output.renderOutput(dataTable, element);\n",
              "          const docLink = document.createElement('div');\n",
              "          docLink.innerHTML = docLinkHtml;\n",
              "          element.appendChild(docLink);\n",
              "        }\n",
              "      </script>\n",
              "    </div>\n",
              "  </div>\n",
              "  "
            ]
          },
          "metadata": {},
          "execution_count": 25
        }
      ],
      "source": [
        "# Checking outliers at 25%,50%,75%,90%,95% and 99%\n",
        "num_telecom.describe(percentiles=[.25, .5, .75, .95, .99])"
      ]
    },
    {
      "cell_type": "markdown",
      "metadata": {
        "id": "YdNiiA-b1H3G"
      },
      "source": [
        "From the distribution shown above, you can see that there no outliner in your data as the numbers are gradually increasing."
      ]
    },
    {
      "cell_type": "markdown",
      "metadata": {
        "id": "xFMBabi91H3H"
      },
      "source": [
        "### **`Checking for Missing Values and Inputing Them`**\n",
        "\n",
        "<p style='text-align: right;'> 5 points</p>\n"
      ]
    },
    {
      "cell_type": "code",
      "execution_count": null,
      "metadata": {
        "id": "QxR8EcTs1H3H",
        "colab": {
          "base_uri": "https://localhost:8080/"
        },
        "outputId": "8ec1a4d3-f5bb-46f8-8441-e4a1c99bf589"
      },
      "outputs": [
        {
          "output_type": "execute_result",
          "data": {
            "text/plain": [
              "customerID                                0\n",
              "tenure                                    0\n",
              "PhoneService                              0\n",
              "PaperlessBilling                          0\n",
              "MonthlyCharges                            0\n",
              "TotalCharges                             11\n",
              "Churn                                     0\n",
              "SeniorCitizen                             0\n",
              "Partner                                   0\n",
              "Dependents                                0\n",
              "Contract_One year                         0\n",
              "Contract_Two year                         0\n",
              "PaymentMethod_Credit card (automatic)     0\n",
              "PaymentMethod_Electronic check            0\n",
              "PaymentMethod_Mailed check                0\n",
              "gender_Male                               0\n",
              "MultipleLines_No                          0\n",
              "MultipleLines_Yes                         0\n",
              "InternetService_Fiber optic               0\n",
              "InternetService_No                        0\n",
              "OnlineSecurity_No                         0\n",
              "OnlineSecurity_Yes                        0\n",
              "OnlineBackup_No                           0\n",
              "OnlineBackup_Yes                          0\n",
              "DeviceProtection_No                       0\n",
              "DeviceProtection_Yes                      0\n",
              "TechSupport_No                            0\n",
              "TechSupport_Yes                           0\n",
              "StreamingTV_No                            0\n",
              "StreamingTV_Yes                           0\n",
              "StreamingMovies_No                        0\n",
              "StreamingMovies_Yes                       0\n",
              "dtype: int64"
            ]
          },
          "metadata": {},
          "execution_count": 26
        }
      ],
      "source": [
        "# Checking total missing values (column-wise)\n",
        "telecom.isna().sum()\n"
      ]
    },
    {
      "cell_type": "code",
      "execution_count": null,
      "metadata": {
        "id": "9_e_fOrP1H3H",
        "colab": {
          "base_uri": "https://localhost:8080/"
        },
        "outputId": "7d48b06a-a7cb-4fae-c42c-86444f9e4cff"
      },
      "outputs": [
        {
          "output_type": "execute_result",
          "data": {
            "text/plain": [
              "customerID                               0.00\n",
              "tenure                                   0.00\n",
              "PhoneService                             0.00\n",
              "PaperlessBilling                         0.00\n",
              "MonthlyCharges                           0.00\n",
              "TotalCharges                             0.16\n",
              "Churn                                    0.00\n",
              "SeniorCitizen                            0.00\n",
              "Partner                                  0.00\n",
              "Dependents                               0.00\n",
              "Contract_One year                        0.00\n",
              "Contract_Two year                        0.00\n",
              "PaymentMethod_Credit card (automatic)    0.00\n",
              "PaymentMethod_Electronic check           0.00\n",
              "PaymentMethod_Mailed check               0.00\n",
              "gender_Male                              0.00\n",
              "MultipleLines_No                         0.00\n",
              "MultipleLines_Yes                        0.00\n",
              "InternetService_Fiber optic              0.00\n",
              "InternetService_No                       0.00\n",
              "OnlineSecurity_No                        0.00\n",
              "OnlineSecurity_Yes                       0.00\n",
              "OnlineBackup_No                          0.00\n",
              "OnlineBackup_Yes                         0.00\n",
              "DeviceProtection_No                      0.00\n",
              "DeviceProtection_Yes                     0.00\n",
              "TechSupport_No                           0.00\n",
              "TechSupport_Yes                          0.00\n",
              "StreamingTV_No                           0.00\n",
              "StreamingTV_Yes                          0.00\n",
              "StreamingMovies_No                       0.00\n",
              "StreamingMovies_Yes                      0.00\n",
              "dtype: float64"
            ]
          },
          "metadata": {},
          "execution_count": 27
        }
      ],
      "source": [
        "# Checking the percentage of missing values\n",
        "round(telecom.isna().sum() /len(telecom.index)*100 ,2)"
      ]
    },
    {
      "cell_type": "markdown",
      "metadata": {
        "id": "y_CUot3u1H3I"
      },
      "source": [
        "It means that 11/7043 = 0.001561834 i.e 0.15%, the best option to get rid of these null values in this scenario is to remove these observations from the analysis"
      ]
    },
    {
      "cell_type": "code",
      "source": [
        "len(telecom['TotalCharges'])"
      ],
      "metadata": {
        "colab": {
          "base_uri": "https://localhost:8080/"
        },
        "id": "1YPJsErZ69iJ",
        "outputId": "06bc3846-9b3a-45af-bd2c-4d8a4de47d09"
      },
      "execution_count": null,
      "outputs": [
        {
          "output_type": "execute_result",
          "data": {
            "text/plain": [
              "7043"
            ]
          },
          "metadata": {},
          "execution_count": 28
        }
      ]
    },
    {
      "cell_type": "code",
      "execution_count": null,
      "metadata": {
        "id": "bM9HxD0Z1H3I"
      },
      "outputs": [],
      "source": [
        "# Removing NaN form TotalCharges rows\n",
        "#telecom['TotalCharges'] = telecom['TotalCharges'].dropna()\n",
        "telecom.dropna(inplace = True)"
      ]
    },
    {
      "cell_type": "code",
      "source": [
        "len(telecom['TotalCharges'])"
      ],
      "metadata": {
        "colab": {
          "base_uri": "https://localhost:8080/"
        },
        "id": "7ihOsMlV7S5v",
        "outputId": "7345a58f-7cf5-435b-b03c-e16136f2e1a4"
      },
      "execution_count": null,
      "outputs": [
        {
          "output_type": "execute_result",
          "data": {
            "text/plain": [
              "7032"
            ]
          },
          "metadata": {},
          "execution_count": 30
        }
      ]
    },
    {
      "cell_type": "code",
      "execution_count": null,
      "metadata": {
        "id": "lyBg-4fp1H3I",
        "colab": {
          "base_uri": "https://localhost:8080/"
        },
        "outputId": "a2bfba16-96df-4eaa-b413-ba8a1fd3d971"
      },
      "outputs": [
        {
          "output_type": "execute_result",
          "data": {
            "text/plain": [
              "customerID                               0.0\n",
              "tenure                                   0.0\n",
              "PhoneService                             0.0\n",
              "PaperlessBilling                         0.0\n",
              "MonthlyCharges                           0.0\n",
              "TotalCharges                             0.0\n",
              "Churn                                    0.0\n",
              "SeniorCitizen                            0.0\n",
              "Partner                                  0.0\n",
              "Dependents                               0.0\n",
              "Contract_One year                        0.0\n",
              "Contract_Two year                        0.0\n",
              "PaymentMethod_Credit card (automatic)    0.0\n",
              "PaymentMethod_Electronic check           0.0\n",
              "PaymentMethod_Mailed check               0.0\n",
              "gender_Male                              0.0\n",
              "MultipleLines_No                         0.0\n",
              "MultipleLines_Yes                        0.0\n",
              "InternetService_Fiber optic              0.0\n",
              "InternetService_No                       0.0\n",
              "OnlineSecurity_No                        0.0\n",
              "OnlineSecurity_Yes                       0.0\n",
              "OnlineBackup_No                          0.0\n",
              "OnlineBackup_Yes                         0.0\n",
              "DeviceProtection_No                      0.0\n",
              "DeviceProtection_Yes                     0.0\n",
              "TechSupport_No                           0.0\n",
              "TechSupport_Yes                          0.0\n",
              "StreamingTV_No                           0.0\n",
              "StreamingTV_Yes                          0.0\n",
              "StreamingMovies_No                       0.0\n",
              "StreamingMovies_Yes                      0.0\n",
              "dtype: float64"
            ]
          },
          "metadata": {},
          "execution_count": 31
        }
      ],
      "source": [
        "# Lets Check percentage of missing values after removing the missing values\n",
        "telecom.isnull().sum() / len(telecom.index) * 100"
      ]
    },
    {
      "cell_type": "markdown",
      "metadata": {
        "id": "xXxFMy8W1H3J"
      },
      "source": [
        "Now we don't have any missing values"
      ]
    },
    {
      "cell_type": "markdown",
      "metadata": {
        "id": "VB7WcLhv1H3K"
      },
      "source": [
        "### **`Feature Standardisation`**\n",
        "\n",
        "<p style='text-align: right;'> 6 points</p>\n",
        "\n",
        "\n",
        "Standardization is one of the scaling technique where the values are centered around the mean with a unit standard deviation. This means that the mean of the attribute becomes zero and the resultant distribution has a unit standard deviation.\n",
        "\n",
        "Here’s the formula for standardization:\n",
        "\n",
        "\n",
        "![image.png](attachment:image.png)\n",
        "\n",
        "![image-3.png](attachment:image-3.png)\n",
        "\n",
        "\n",
        "We are sure that you have got this Scaling concept clear from your previous assignements. But for the sake of your revision we\n",
        "provide you with following video."
      ]
    },
    {
      "cell_type": "markdown",
      "source": [
        "## **`Watch Video 4 : Normalization  & Standardization`**"
      ],
      "metadata": {
        "id": "Y0390FYRn3j6"
      }
    },
    {
      "cell_type": "code",
      "execution_count": null,
      "metadata": {
        "id": "3l8IBOU51H3V",
        "colab": {
          "base_uri": "https://localhost:8080/"
        },
        "outputId": "e25b026c-89d3-40d1-b374-14fe32472f60"
      },
      "outputs": [
        {
          "output_type": "stream",
          "name": "stdout",
          "text": [
            "<class 'pandas.core.frame.DataFrame'>\n",
            "Int64Index: 7032 entries, 0 to 7042\n",
            "Data columns (total 32 columns):\n",
            " #   Column                                 Non-Null Count  Dtype  \n",
            "---  ------                                 --------------  -----  \n",
            " 0   customerID                             7032 non-null   object \n",
            " 1   tenure                                 7032 non-null   int64  \n",
            " 2   PhoneService                           7032 non-null   int64  \n",
            " 3   PaperlessBilling                       7032 non-null   int64  \n",
            " 4   MonthlyCharges                         7032 non-null   float64\n",
            " 5   TotalCharges                           7032 non-null   float64\n",
            " 6   Churn                                  7032 non-null   int64  \n",
            " 7   SeniorCitizen                          7032 non-null   int64  \n",
            " 8   Partner                                7032 non-null   int64  \n",
            " 9   Dependents                             7032 non-null   int64  \n",
            " 10  Contract_One year                      7032 non-null   uint8  \n",
            " 11  Contract_Two year                      7032 non-null   uint8  \n",
            " 12  PaymentMethod_Credit card (automatic)  7032 non-null   uint8  \n",
            " 13  PaymentMethod_Electronic check         7032 non-null   uint8  \n",
            " 14  PaymentMethod_Mailed check             7032 non-null   uint8  \n",
            " 15  gender_Male                            7032 non-null   uint8  \n",
            " 16  MultipleLines_No                       7032 non-null   uint8  \n",
            " 17  MultipleLines_Yes                      7032 non-null   uint8  \n",
            " 18  InternetService_Fiber optic            7032 non-null   uint8  \n",
            " 19  InternetService_No                     7032 non-null   uint8  \n",
            " 20  OnlineSecurity_No                      7032 non-null   uint8  \n",
            " 21  OnlineSecurity_Yes                     7032 non-null   uint8  \n",
            " 22  OnlineBackup_No                        7032 non-null   uint8  \n",
            " 23  OnlineBackup_Yes                       7032 non-null   uint8  \n",
            " 24  DeviceProtection_No                    7032 non-null   uint8  \n",
            " 25  DeviceProtection_Yes                   7032 non-null   uint8  \n",
            " 26  TechSupport_No                         7032 non-null   uint8  \n",
            " 27  TechSupport_Yes                        7032 non-null   uint8  \n",
            " 28  StreamingTV_No                         7032 non-null   uint8  \n",
            " 29  StreamingTV_Yes                        7032 non-null   uint8  \n",
            " 30  StreamingMovies_No                     7032 non-null   uint8  \n",
            " 31  StreamingMovies_Yes                    7032 non-null   uint8  \n",
            "dtypes: float64(2), int64(7), object(1), uint8(22)\n",
            "memory usage: 755.4+ KB\n"
          ]
        }
      ],
      "source": [
        "# print non null count in df\n",
        "telecom.info()"
      ]
    },
    {
      "cell_type": "code",
      "execution_count": null,
      "metadata": {
        "id": "Oi1eA9vX1H3W",
        "colab": {
          "base_uri": "https://localhost:8080/",
          "height": 223
        },
        "outputId": "d8eabb9f-a8e8-45eb-e506-398f02b4b73d"
      },
      "outputs": [
        {
          "output_type": "stream",
          "name": "stdout",
          "text": [
            "(7032, 3)\n"
          ]
        },
        {
          "output_type": "execute_result",
          "data": {
            "text/plain": [
              "   tenure  MonthlyCharges  TotalCharges\n",
              "0       1           29.85         29.85\n",
              "1      34           56.95       1889.50\n",
              "2       2           53.85        108.15\n",
              "3      45           42.30       1840.75\n",
              "4       2           70.70        151.65"
            ],
            "text/html": [
              "\n",
              "  <div id=\"df-1022f502-5893-4b9b-8b2a-39778c6a453b\">\n",
              "    <div class=\"colab-df-container\">\n",
              "      <div>\n",
              "<style scoped>\n",
              "    .dataframe tbody tr th:only-of-type {\n",
              "        vertical-align: middle;\n",
              "    }\n",
              "\n",
              "    .dataframe tbody tr th {\n",
              "        vertical-align: top;\n",
              "    }\n",
              "\n",
              "    .dataframe thead th {\n",
              "        text-align: right;\n",
              "    }\n",
              "</style>\n",
              "<table border=\"1\" class=\"dataframe\">\n",
              "  <thead>\n",
              "    <tr style=\"text-align: right;\">\n",
              "      <th></th>\n",
              "      <th>tenure</th>\n",
              "      <th>MonthlyCharges</th>\n",
              "      <th>TotalCharges</th>\n",
              "    </tr>\n",
              "  </thead>\n",
              "  <tbody>\n",
              "    <tr>\n",
              "      <th>0</th>\n",
              "      <td>1</td>\n",
              "      <td>29.85</td>\n",
              "      <td>29.85</td>\n",
              "    </tr>\n",
              "    <tr>\n",
              "      <th>1</th>\n",
              "      <td>34</td>\n",
              "      <td>56.95</td>\n",
              "      <td>1889.50</td>\n",
              "    </tr>\n",
              "    <tr>\n",
              "      <th>2</th>\n",
              "      <td>2</td>\n",
              "      <td>53.85</td>\n",
              "      <td>108.15</td>\n",
              "    </tr>\n",
              "    <tr>\n",
              "      <th>3</th>\n",
              "      <td>45</td>\n",
              "      <td>42.30</td>\n",
              "      <td>1840.75</td>\n",
              "    </tr>\n",
              "    <tr>\n",
              "      <th>4</th>\n",
              "      <td>2</td>\n",
              "      <td>70.70</td>\n",
              "      <td>151.65</td>\n",
              "    </tr>\n",
              "  </tbody>\n",
              "</table>\n",
              "</div>\n",
              "      <button class=\"colab-df-convert\" onclick=\"convertToInteractive('df-1022f502-5893-4b9b-8b2a-39778c6a453b')\"\n",
              "              title=\"Convert this dataframe to an interactive table.\"\n",
              "              style=\"display:none;\">\n",
              "        \n",
              "  <svg xmlns=\"http://www.w3.org/2000/svg\" height=\"24px\"viewBox=\"0 0 24 24\"\n",
              "       width=\"24px\">\n",
              "    <path d=\"M0 0h24v24H0V0z\" fill=\"none\"/>\n",
              "    <path d=\"M18.56 5.44l.94 2.06.94-2.06 2.06-.94-2.06-.94-.94-2.06-.94 2.06-2.06.94zm-11 1L8.5 8.5l.94-2.06 2.06-.94-2.06-.94L8.5 2.5l-.94 2.06-2.06.94zm10 10l.94 2.06.94-2.06 2.06-.94-2.06-.94-.94-2.06-.94 2.06-2.06.94z\"/><path d=\"M17.41 7.96l-1.37-1.37c-.4-.4-.92-.59-1.43-.59-.52 0-1.04.2-1.43.59L10.3 9.45l-7.72 7.72c-.78.78-.78 2.05 0 2.83L4 21.41c.39.39.9.59 1.41.59.51 0 1.02-.2 1.41-.59l7.78-7.78 2.81-2.81c.8-.78.8-2.07 0-2.86zM5.41 20L4 18.59l7.72-7.72 1.47 1.35L5.41 20z\"/>\n",
              "  </svg>\n",
              "      </button>\n",
              "      \n",
              "  <style>\n",
              "    .colab-df-container {\n",
              "      display:flex;\n",
              "      flex-wrap:wrap;\n",
              "      gap: 12px;\n",
              "    }\n",
              "\n",
              "    .colab-df-convert {\n",
              "      background-color: #E8F0FE;\n",
              "      border: none;\n",
              "      border-radius: 50%;\n",
              "      cursor: pointer;\n",
              "      display: none;\n",
              "      fill: #1967D2;\n",
              "      height: 32px;\n",
              "      padding: 0 0 0 0;\n",
              "      width: 32px;\n",
              "    }\n",
              "\n",
              "    .colab-df-convert:hover {\n",
              "      background-color: #E2EBFA;\n",
              "      box-shadow: 0px 1px 2px rgba(60, 64, 67, 0.3), 0px 1px 3px 1px rgba(60, 64, 67, 0.15);\n",
              "      fill: #174EA6;\n",
              "    }\n",
              "\n",
              "    [theme=dark] .colab-df-convert {\n",
              "      background-color: #3B4455;\n",
              "      fill: #D2E3FC;\n",
              "    }\n",
              "\n",
              "    [theme=dark] .colab-df-convert:hover {\n",
              "      background-color: #434B5C;\n",
              "      box-shadow: 0px 1px 3px 1px rgba(0, 0, 0, 0.15);\n",
              "      filter: drop-shadow(0px 1px 2px rgba(0, 0, 0, 0.3));\n",
              "      fill: #FFFFFF;\n",
              "    }\n",
              "  </style>\n",
              "\n",
              "      <script>\n",
              "        const buttonEl =\n",
              "          document.querySelector('#df-1022f502-5893-4b9b-8b2a-39778c6a453b button.colab-df-convert');\n",
              "        buttonEl.style.display =\n",
              "          google.colab.kernel.accessAllowed ? 'block' : 'none';\n",
              "\n",
              "        async function convertToInteractive(key) {\n",
              "          const element = document.querySelector('#df-1022f502-5893-4b9b-8b2a-39778c6a453b');\n",
              "          const dataTable =\n",
              "            await google.colab.kernel.invokeFunction('convertToInteractive',\n",
              "                                                     [key], {});\n",
              "          if (!dataTable) return;\n",
              "\n",
              "          const docLinkHtml = 'Like what you see? Visit the ' +\n",
              "            '<a target=\"_blank\" href=https://colab.research.google.com/notebooks/data_table.ipynb>data table notebook</a>'\n",
              "            + ' to learn more about interactive tables.';\n",
              "          element.innerHTML = '';\n",
              "          dataTable['output_type'] = 'display_data';\n",
              "          await google.colab.output.renderOutput(dataTable, element);\n",
              "          const docLink = document.createElement('div');\n",
              "          docLink.innerHTML = docLinkHtml;\n",
              "          element.appendChild(docLink);\n",
              "        }\n",
              "      </script>\n",
              "    </div>\n",
              "  </div>\n",
              "  "
            ]
          },
          "metadata": {},
          "execution_count": 33
        }
      ],
      "source": [
        "# Getting all desired continues variables like 'tenure','MonthlyCharges' and 'TotalCharges' into one dataframe.\n",
        "df = telecom[['tenure', 'MonthlyCharges', 'TotalCharges']]\n",
        "print(df.shape)\n",
        "df.head()"
      ]
    },
    {
      "cell_type": "code",
      "source": [],
      "metadata": {
        "id": "S78S4g3c_fvl"
      },
      "execution_count": null,
      "outputs": []
    },
    {
      "cell_type": "code",
      "execution_count": null,
      "metadata": {
        "id": "cCoZkjrR1H3X",
        "colab": {
          "base_uri": "https://localhost:8080/",
          "height": 52
        },
        "outputId": "de0abacb-d2fb-4cf5-b2a4-9c2e3ba22fa8"
      },
      "outputs": [
        {
          "output_type": "execute_result",
          "data": {
            "text/plain": [
              "\"\\nfrom sklearn.preprocessing import StandardScaler\\nstd_df= StandardScaler()\\nstd_df = std_df.fit_transform(df)\\nstd_df = pd.DataFrame(std_df, columns=['tenure', 'MonthlyCharges','TotalCharges'])\\nstd_df.tail()\\n\""
            ],
            "application/vnd.google.colaboratory.intrinsic+json": {
              "type": "string"
            }
          },
          "metadata": {},
          "execution_count": 34
        }
      ],
      "source": [
        "# Standardising above continuous features\n",
        "'''\n",
        "from sklearn.preprocessing import StandardScaler\n",
        "std_df= StandardScaler()\n",
        "std_df = std_df.fit_transform(df)\n",
        "std_df = pd.DataFrame(std_df, columns=['tenure', 'MonthlyCharges','TotalCharges'])\n",
        "std_df.tail()\n",
        "'''"
      ]
    },
    {
      "cell_type": "code",
      "source": [
        "std_df = (df - df.mean()) / df.std()\n",
        "std_df.tail()"
      ],
      "metadata": {
        "colab": {
          "base_uri": "https://localhost:8080/",
          "height": 206
        },
        "id": "m39cLkeC93_V",
        "outputId": "b755f605-8a47-43b2-906c-ffd3feeb5926"
      },
      "execution_count": null,
      "outputs": [
        {
          "output_type": "execute_result",
          "data": {
            "text/plain": [
              "        tenure  MonthlyCharges  TotalCharges\n",
              "7038 -0.343113        0.664821     -0.129171\n",
              "7039  1.612459        1.276402      2.240896\n",
              "7040 -0.872746       -1.169921     -0.854453\n",
              "7041 -1.157934        0.319145     -0.872033\n",
              "7042  1.368012        1.357835      2.012201"
            ],
            "text/html": [
              "\n",
              "  <div id=\"df-6a44b443-ab75-4178-a431-67f7d03c96bc\">\n",
              "    <div class=\"colab-df-container\">\n",
              "      <div>\n",
              "<style scoped>\n",
              "    .dataframe tbody tr th:only-of-type {\n",
              "        vertical-align: middle;\n",
              "    }\n",
              "\n",
              "    .dataframe tbody tr th {\n",
              "        vertical-align: top;\n",
              "    }\n",
              "\n",
              "    .dataframe thead th {\n",
              "        text-align: right;\n",
              "    }\n",
              "</style>\n",
              "<table border=\"1\" class=\"dataframe\">\n",
              "  <thead>\n",
              "    <tr style=\"text-align: right;\">\n",
              "      <th></th>\n",
              "      <th>tenure</th>\n",
              "      <th>MonthlyCharges</th>\n",
              "      <th>TotalCharges</th>\n",
              "    </tr>\n",
              "  </thead>\n",
              "  <tbody>\n",
              "    <tr>\n",
              "      <th>7038</th>\n",
              "      <td>-0.343113</td>\n",
              "      <td>0.664821</td>\n",
              "      <td>-0.129171</td>\n",
              "    </tr>\n",
              "    <tr>\n",
              "      <th>7039</th>\n",
              "      <td>1.612459</td>\n",
              "      <td>1.276402</td>\n",
              "      <td>2.240896</td>\n",
              "    </tr>\n",
              "    <tr>\n",
              "      <th>7040</th>\n",
              "      <td>-0.872746</td>\n",
              "      <td>-1.169921</td>\n",
              "      <td>-0.854453</td>\n",
              "    </tr>\n",
              "    <tr>\n",
              "      <th>7041</th>\n",
              "      <td>-1.157934</td>\n",
              "      <td>0.319145</td>\n",
              "      <td>-0.872033</td>\n",
              "    </tr>\n",
              "    <tr>\n",
              "      <th>7042</th>\n",
              "      <td>1.368012</td>\n",
              "      <td>1.357835</td>\n",
              "      <td>2.012201</td>\n",
              "    </tr>\n",
              "  </tbody>\n",
              "</table>\n",
              "</div>\n",
              "      <button class=\"colab-df-convert\" onclick=\"convertToInteractive('df-6a44b443-ab75-4178-a431-67f7d03c96bc')\"\n",
              "              title=\"Convert this dataframe to an interactive table.\"\n",
              "              style=\"display:none;\">\n",
              "        \n",
              "  <svg xmlns=\"http://www.w3.org/2000/svg\" height=\"24px\"viewBox=\"0 0 24 24\"\n",
              "       width=\"24px\">\n",
              "    <path d=\"M0 0h24v24H0V0z\" fill=\"none\"/>\n",
              "    <path d=\"M18.56 5.44l.94 2.06.94-2.06 2.06-.94-2.06-.94-.94-2.06-.94 2.06-2.06.94zm-11 1L8.5 8.5l.94-2.06 2.06-.94-2.06-.94L8.5 2.5l-.94 2.06-2.06.94zm10 10l.94 2.06.94-2.06 2.06-.94-2.06-.94-.94-2.06-.94 2.06-2.06.94z\"/><path d=\"M17.41 7.96l-1.37-1.37c-.4-.4-.92-.59-1.43-.59-.52 0-1.04.2-1.43.59L10.3 9.45l-7.72 7.72c-.78.78-.78 2.05 0 2.83L4 21.41c.39.39.9.59 1.41.59.51 0 1.02-.2 1.41-.59l7.78-7.78 2.81-2.81c.8-.78.8-2.07 0-2.86zM5.41 20L4 18.59l7.72-7.72 1.47 1.35L5.41 20z\"/>\n",
              "  </svg>\n",
              "      </button>\n",
              "      \n",
              "  <style>\n",
              "    .colab-df-container {\n",
              "      display:flex;\n",
              "      flex-wrap:wrap;\n",
              "      gap: 12px;\n",
              "    }\n",
              "\n",
              "    .colab-df-convert {\n",
              "      background-color: #E8F0FE;\n",
              "      border: none;\n",
              "      border-radius: 50%;\n",
              "      cursor: pointer;\n",
              "      display: none;\n",
              "      fill: #1967D2;\n",
              "      height: 32px;\n",
              "      padding: 0 0 0 0;\n",
              "      width: 32px;\n",
              "    }\n",
              "\n",
              "    .colab-df-convert:hover {\n",
              "      background-color: #E2EBFA;\n",
              "      box-shadow: 0px 1px 2px rgba(60, 64, 67, 0.3), 0px 1px 3px 1px rgba(60, 64, 67, 0.15);\n",
              "      fill: #174EA6;\n",
              "    }\n",
              "\n",
              "    [theme=dark] .colab-df-convert {\n",
              "      background-color: #3B4455;\n",
              "      fill: #D2E3FC;\n",
              "    }\n",
              "\n",
              "    [theme=dark] .colab-df-convert:hover {\n",
              "      background-color: #434B5C;\n",
              "      box-shadow: 0px 1px 3px 1px rgba(0, 0, 0, 0.15);\n",
              "      filter: drop-shadow(0px 1px 2px rgba(0, 0, 0, 0.3));\n",
              "      fill: #FFFFFF;\n",
              "    }\n",
              "  </style>\n",
              "\n",
              "      <script>\n",
              "        const buttonEl =\n",
              "          document.querySelector('#df-6a44b443-ab75-4178-a431-67f7d03c96bc button.colab-df-convert');\n",
              "        buttonEl.style.display =\n",
              "          google.colab.kernel.accessAllowed ? 'block' : 'none';\n",
              "\n",
              "        async function convertToInteractive(key) {\n",
              "          const element = document.querySelector('#df-6a44b443-ab75-4178-a431-67f7d03c96bc');\n",
              "          const dataTable =\n",
              "            await google.colab.kernel.invokeFunction('convertToInteractive',\n",
              "                                                     [key], {});\n",
              "          if (!dataTable) return;\n",
              "\n",
              "          const docLinkHtml = 'Like what you see? Visit the ' +\n",
              "            '<a target=\"_blank\" href=https://colab.research.google.com/notebooks/data_table.ipynb>data table notebook</a>'\n",
              "            + ' to learn more about interactive tables.';\n",
              "          element.innerHTML = '';\n",
              "          dataTable['output_type'] = 'display_data';\n",
              "          await google.colab.output.renderOutput(dataTable, element);\n",
              "          const docLink = document.createElement('div');\n",
              "          docLink.innerHTML = docLinkHtml;\n",
              "          element.appendChild(docLink);\n",
              "        }\n",
              "      </script>\n",
              "    </div>\n",
              "  </div>\n",
              "  "
            ]
          },
          "metadata": {},
          "execution_count": 35
        }
      ]
    },
    {
      "cell_type": "code",
      "execution_count": null,
      "metadata": {
        "id": "Y1ZYQWrz1H3X"
      },
      "outputs": [],
      "source": [
        "# Dropping 'tenure','MonthlyCharges' and 'TotalCharges' from telecom as we want to add the standardised fetaures \n",
        "telecom = telecom.drop(columns=['tenure', 'MonthlyCharges','TotalCharges'], axis=1)\n"
      ]
    },
    {
      "cell_type": "code",
      "source": [
        "telecom.columns"
      ],
      "metadata": {
        "colab": {
          "base_uri": "https://localhost:8080/"
        },
        "id": "G2lKomuf86eE",
        "outputId": "c1751d6f-4f13-4d19-f5ef-36c310dda8a5"
      },
      "execution_count": null,
      "outputs": [
        {
          "output_type": "execute_result",
          "data": {
            "text/plain": [
              "Index(['customerID', 'PhoneService', 'PaperlessBilling', 'Churn',\n",
              "       'SeniorCitizen', 'Partner', 'Dependents', 'Contract_One year',\n",
              "       'Contract_Two year', 'PaymentMethod_Credit card (automatic)',\n",
              "       'PaymentMethod_Electronic check', 'PaymentMethod_Mailed check',\n",
              "       'gender_Male', 'MultipleLines_No', 'MultipleLines_Yes',\n",
              "       'InternetService_Fiber optic', 'InternetService_No',\n",
              "       'OnlineSecurity_No', 'OnlineSecurity_Yes', 'OnlineBackup_No',\n",
              "       'OnlineBackup_Yes', 'DeviceProtection_No', 'DeviceProtection_Yes',\n",
              "       'TechSupport_No', 'TechSupport_Yes', 'StreamingTV_No',\n",
              "       'StreamingTV_Yes', 'StreamingMovies_No', 'StreamingMovies_Yes'],\n",
              "      dtype='object')"
            ]
          },
          "metadata": {},
          "execution_count": 37
        }
      ]
    },
    {
      "cell_type": "code",
      "execution_count": null,
      "metadata": {
        "id": "jKICUQv51H3Y"
      },
      "outputs": [],
      "source": [
        "# Add std_df into telecom\n",
        "telecom = pd.concat([telecom, std_df], axis=1)\n"
      ]
    },
    {
      "cell_type": "code",
      "execution_count": null,
      "metadata": {
        "id": "acKybHHP1H3Y",
        "colab": {
          "base_uri": "https://localhost:8080/",
          "height": 404
        },
        "outputId": "4687e4de-ca8d-4d10-ebb6-aa066df02420"
      },
      "outputs": [
        {
          "output_type": "execute_result",
          "data": {
            "text/plain": [
              "   customerID  PhoneService  PaperlessBilling  Churn  SeniorCitizen  Partner  \\\n",
              "0  7590-VHVEG             0                 1      0              0        1   \n",
              "1  5575-GNVDE             1                 0      0              0        0   \n",
              "2  3668-QPYBK             1                 1      1              0        0   \n",
              "3  7795-CFOCW             0                 0      0              0        0   \n",
              "4  9237-HQITU             1                 1      1              0        0   \n",
              "\n",
              "   Dependents  Contract_One year  Contract_Two year  \\\n",
              "0           0                  0                  0   \n",
              "1           0                  1                  0   \n",
              "2           0                  0                  0   \n",
              "3           0                  1                  0   \n",
              "4           0                  0                  0   \n",
              "\n",
              "   PaymentMethod_Credit card (automatic)  ...  DeviceProtection_Yes  \\\n",
              "0                                      0  ...                     0   \n",
              "1                                      0  ...                     1   \n",
              "2                                      0  ...                     0   \n",
              "3                                      0  ...                     1   \n",
              "4                                      0  ...                     0   \n",
              "\n",
              "   TechSupport_No  TechSupport_Yes  StreamingTV_No  StreamingTV_Yes  \\\n",
              "0               1                0               1                0   \n",
              "1               1                0               1                0   \n",
              "2               1                0               1                0   \n",
              "3               0                1               1                0   \n",
              "4               1                0               1                0   \n",
              "\n",
              "   StreamingMovies_No  StreamingMovies_Yes    tenure  MonthlyCharges  \\\n",
              "0                   1                    0 -1.280157       -1.161611   \n",
              "1                   1                    0  0.064298       -0.260859   \n",
              "2                   1                    0 -1.239416       -0.363897   \n",
              "3                   1                    0  0.512450       -0.747797   \n",
              "4                   1                    0 -1.239416        0.196164   \n",
              "\n",
              "   TotalCharges  \n",
              "0     -0.994123  \n",
              "1     -0.173727  \n",
              "2     -0.959581  \n",
              "3     -0.195234  \n",
              "4     -0.940391  \n",
              "\n",
              "[5 rows x 32 columns]"
            ],
            "text/html": [
              "\n",
              "  <div id=\"df-968665c3-d1d5-4cd9-9ed1-3684c558004b\">\n",
              "    <div class=\"colab-df-container\">\n",
              "      <div>\n",
              "<style scoped>\n",
              "    .dataframe tbody tr th:only-of-type {\n",
              "        vertical-align: middle;\n",
              "    }\n",
              "\n",
              "    .dataframe tbody tr th {\n",
              "        vertical-align: top;\n",
              "    }\n",
              "\n",
              "    .dataframe thead th {\n",
              "        text-align: right;\n",
              "    }\n",
              "</style>\n",
              "<table border=\"1\" class=\"dataframe\">\n",
              "  <thead>\n",
              "    <tr style=\"text-align: right;\">\n",
              "      <th></th>\n",
              "      <th>customerID</th>\n",
              "      <th>PhoneService</th>\n",
              "      <th>PaperlessBilling</th>\n",
              "      <th>Churn</th>\n",
              "      <th>SeniorCitizen</th>\n",
              "      <th>Partner</th>\n",
              "      <th>Dependents</th>\n",
              "      <th>Contract_One year</th>\n",
              "      <th>Contract_Two year</th>\n",
              "      <th>PaymentMethod_Credit card (automatic)</th>\n",
              "      <th>...</th>\n",
              "      <th>DeviceProtection_Yes</th>\n",
              "      <th>TechSupport_No</th>\n",
              "      <th>TechSupport_Yes</th>\n",
              "      <th>StreamingTV_No</th>\n",
              "      <th>StreamingTV_Yes</th>\n",
              "      <th>StreamingMovies_No</th>\n",
              "      <th>StreamingMovies_Yes</th>\n",
              "      <th>tenure</th>\n",
              "      <th>MonthlyCharges</th>\n",
              "      <th>TotalCharges</th>\n",
              "    </tr>\n",
              "  </thead>\n",
              "  <tbody>\n",
              "    <tr>\n",
              "      <th>0</th>\n",
              "      <td>7590-VHVEG</td>\n",
              "      <td>0</td>\n",
              "      <td>1</td>\n",
              "      <td>0</td>\n",
              "      <td>0</td>\n",
              "      <td>1</td>\n",
              "      <td>0</td>\n",
              "      <td>0</td>\n",
              "      <td>0</td>\n",
              "      <td>0</td>\n",
              "      <td>...</td>\n",
              "      <td>0</td>\n",
              "      <td>1</td>\n",
              "      <td>0</td>\n",
              "      <td>1</td>\n",
              "      <td>0</td>\n",
              "      <td>1</td>\n",
              "      <td>0</td>\n",
              "      <td>-1.280157</td>\n",
              "      <td>-1.161611</td>\n",
              "      <td>-0.994123</td>\n",
              "    </tr>\n",
              "    <tr>\n",
              "      <th>1</th>\n",
              "      <td>5575-GNVDE</td>\n",
              "      <td>1</td>\n",
              "      <td>0</td>\n",
              "      <td>0</td>\n",
              "      <td>0</td>\n",
              "      <td>0</td>\n",
              "      <td>0</td>\n",
              "      <td>1</td>\n",
              "      <td>0</td>\n",
              "      <td>0</td>\n",
              "      <td>...</td>\n",
              "      <td>1</td>\n",
              "      <td>1</td>\n",
              "      <td>0</td>\n",
              "      <td>1</td>\n",
              "      <td>0</td>\n",
              "      <td>1</td>\n",
              "      <td>0</td>\n",
              "      <td>0.064298</td>\n",
              "      <td>-0.260859</td>\n",
              "      <td>-0.173727</td>\n",
              "    </tr>\n",
              "    <tr>\n",
              "      <th>2</th>\n",
              "      <td>3668-QPYBK</td>\n",
              "      <td>1</td>\n",
              "      <td>1</td>\n",
              "      <td>1</td>\n",
              "      <td>0</td>\n",
              "      <td>0</td>\n",
              "      <td>0</td>\n",
              "      <td>0</td>\n",
              "      <td>0</td>\n",
              "      <td>0</td>\n",
              "      <td>...</td>\n",
              "      <td>0</td>\n",
              "      <td>1</td>\n",
              "      <td>0</td>\n",
              "      <td>1</td>\n",
              "      <td>0</td>\n",
              "      <td>1</td>\n",
              "      <td>0</td>\n",
              "      <td>-1.239416</td>\n",
              "      <td>-0.363897</td>\n",
              "      <td>-0.959581</td>\n",
              "    </tr>\n",
              "    <tr>\n",
              "      <th>3</th>\n",
              "      <td>7795-CFOCW</td>\n",
              "      <td>0</td>\n",
              "      <td>0</td>\n",
              "      <td>0</td>\n",
              "      <td>0</td>\n",
              "      <td>0</td>\n",
              "      <td>0</td>\n",
              "      <td>1</td>\n",
              "      <td>0</td>\n",
              "      <td>0</td>\n",
              "      <td>...</td>\n",
              "      <td>1</td>\n",
              "      <td>0</td>\n",
              "      <td>1</td>\n",
              "      <td>1</td>\n",
              "      <td>0</td>\n",
              "      <td>1</td>\n",
              "      <td>0</td>\n",
              "      <td>0.512450</td>\n",
              "      <td>-0.747797</td>\n",
              "      <td>-0.195234</td>\n",
              "    </tr>\n",
              "    <tr>\n",
              "      <th>4</th>\n",
              "      <td>9237-HQITU</td>\n",
              "      <td>1</td>\n",
              "      <td>1</td>\n",
              "      <td>1</td>\n",
              "      <td>0</td>\n",
              "      <td>0</td>\n",
              "      <td>0</td>\n",
              "      <td>0</td>\n",
              "      <td>0</td>\n",
              "      <td>0</td>\n",
              "      <td>...</td>\n",
              "      <td>0</td>\n",
              "      <td>1</td>\n",
              "      <td>0</td>\n",
              "      <td>1</td>\n",
              "      <td>0</td>\n",
              "      <td>1</td>\n",
              "      <td>0</td>\n",
              "      <td>-1.239416</td>\n",
              "      <td>0.196164</td>\n",
              "      <td>-0.940391</td>\n",
              "    </tr>\n",
              "  </tbody>\n",
              "</table>\n",
              "<p>5 rows × 32 columns</p>\n",
              "</div>\n",
              "      <button class=\"colab-df-convert\" onclick=\"convertToInteractive('df-968665c3-d1d5-4cd9-9ed1-3684c558004b')\"\n",
              "              title=\"Convert this dataframe to an interactive table.\"\n",
              "              style=\"display:none;\">\n",
              "        \n",
              "  <svg xmlns=\"http://www.w3.org/2000/svg\" height=\"24px\"viewBox=\"0 0 24 24\"\n",
              "       width=\"24px\">\n",
              "    <path d=\"M0 0h24v24H0V0z\" fill=\"none\"/>\n",
              "    <path d=\"M18.56 5.44l.94 2.06.94-2.06 2.06-.94-2.06-.94-.94-2.06-.94 2.06-2.06.94zm-11 1L8.5 8.5l.94-2.06 2.06-.94-2.06-.94L8.5 2.5l-.94 2.06-2.06.94zm10 10l.94 2.06.94-2.06 2.06-.94-2.06-.94-.94-2.06-.94 2.06-2.06.94z\"/><path d=\"M17.41 7.96l-1.37-1.37c-.4-.4-.92-.59-1.43-.59-.52 0-1.04.2-1.43.59L10.3 9.45l-7.72 7.72c-.78.78-.78 2.05 0 2.83L4 21.41c.39.39.9.59 1.41.59.51 0 1.02-.2 1.41-.59l7.78-7.78 2.81-2.81c.8-.78.8-2.07 0-2.86zM5.41 20L4 18.59l7.72-7.72 1.47 1.35L5.41 20z\"/>\n",
              "  </svg>\n",
              "      </button>\n",
              "      \n",
              "  <style>\n",
              "    .colab-df-container {\n",
              "      display:flex;\n",
              "      flex-wrap:wrap;\n",
              "      gap: 12px;\n",
              "    }\n",
              "\n",
              "    .colab-df-convert {\n",
              "      background-color: #E8F0FE;\n",
              "      border: none;\n",
              "      border-radius: 50%;\n",
              "      cursor: pointer;\n",
              "      display: none;\n",
              "      fill: #1967D2;\n",
              "      height: 32px;\n",
              "      padding: 0 0 0 0;\n",
              "      width: 32px;\n",
              "    }\n",
              "\n",
              "    .colab-df-convert:hover {\n",
              "      background-color: #E2EBFA;\n",
              "      box-shadow: 0px 1px 2px rgba(60, 64, 67, 0.3), 0px 1px 3px 1px rgba(60, 64, 67, 0.15);\n",
              "      fill: #174EA6;\n",
              "    }\n",
              "\n",
              "    [theme=dark] .colab-df-convert {\n",
              "      background-color: #3B4455;\n",
              "      fill: #D2E3FC;\n",
              "    }\n",
              "\n",
              "    [theme=dark] .colab-df-convert:hover {\n",
              "      background-color: #434B5C;\n",
              "      box-shadow: 0px 1px 3px 1px rgba(0, 0, 0, 0.15);\n",
              "      filter: drop-shadow(0px 1px 2px rgba(0, 0, 0, 0.3));\n",
              "      fill: #FFFFFF;\n",
              "    }\n",
              "  </style>\n",
              "\n",
              "      <script>\n",
              "        const buttonEl =\n",
              "          document.querySelector('#df-968665c3-d1d5-4cd9-9ed1-3684c558004b button.colab-df-convert');\n",
              "        buttonEl.style.display =\n",
              "          google.colab.kernel.accessAllowed ? 'block' : 'none';\n",
              "\n",
              "        async function convertToInteractive(key) {\n",
              "          const element = document.querySelector('#df-968665c3-d1d5-4cd9-9ed1-3684c558004b');\n",
              "          const dataTable =\n",
              "            await google.colab.kernel.invokeFunction('convertToInteractive',\n",
              "                                                     [key], {});\n",
              "          if (!dataTable) return;\n",
              "\n",
              "          const docLinkHtml = 'Like what you see? Visit the ' +\n",
              "            '<a target=\"_blank\" href=https://colab.research.google.com/notebooks/data_table.ipynb>data table notebook</a>'\n",
              "            + ' to learn more about interactive tables.';\n",
              "          element.innerHTML = '';\n",
              "          dataTable['output_type'] = 'display_data';\n",
              "          await google.colab.output.renderOutput(dataTable, element);\n",
              "          const docLink = document.createElement('div');\n",
              "          docLink.innerHTML = docLinkHtml;\n",
              "          element.appendChild(docLink);\n",
              "        }\n",
              "      </script>\n",
              "    </div>\n",
              "  </div>\n",
              "  "
            ]
          },
          "metadata": {},
          "execution_count": 39
        }
      ],
      "source": [
        "# print telecom tail\n",
        "\n",
        "telecom.head()"
      ]
    },
    {
      "cell_type": "markdown",
      "metadata": {
        "id": "gnVBlgxe1H3Z"
      },
      "source": [
        "### **`Checking the Churn Rate`**\n",
        "\n",
        "<p style='text-align: right;'> 2 points</p>\n"
      ]
    },
    {
      "cell_type": "code",
      "source": [
        "len(telecom['Churn'])"
      ],
      "metadata": {
        "colab": {
          "base_uri": "https://localhost:8080/"
        },
        "id": "eTCWV_8DFZE2",
        "outputId": "3774fe3c-31a5-40c7-9e8e-e63ae0b544c1"
      },
      "execution_count": null,
      "outputs": [
        {
          "output_type": "execute_result",
          "data": {
            "text/plain": [
              "7032"
            ]
          },
          "metadata": {},
          "execution_count": 40
        }
      ]
    },
    {
      "cell_type": "code",
      "execution_count": null,
      "metadata": {
        "id": "22ZbF7uR1H3Z"
      },
      "outputs": [],
      "source": [
        "#caluclating total churn percentage in our master dataframe\n",
        "churn = sum(telecom['Churn']) / len(telecom['Churn'].index) * 100\n"
      ]
    },
    {
      "cell_type": "code",
      "execution_count": null,
      "metadata": {
        "id": "_OTIzq7z1H3Z",
        "colab": {
          "base_uri": "https://localhost:8080/"
        },
        "outputId": "04f4c63d-cc6b-426c-e5ab-4cf44fa98cd5"
      },
      "outputs": [
        {
          "output_type": "execute_result",
          "data": {
            "text/plain": [
              "26.578498293515356"
            ]
          },
          "metadata": {},
          "execution_count": 42
        }
      ],
      "source": [
        "# print churn\n",
        "churn"
      ]
    },
    {
      "cell_type": "markdown",
      "metadata": {
        "id": "pidpQ9eF1H3a"
      },
      "source": [
        "We have almost 27% churn rate"
      ]
    },
    {
      "cell_type": "code",
      "source": [
        "telecom.head(1)"
      ],
      "metadata": {
        "colab": {
          "base_uri": "https://localhost:8080/",
          "height": 209
        },
        "id": "YoLKHhxmGrYu",
        "outputId": "ae855e36-15ad-4ec0-f1fe-7780bd2dac6e"
      },
      "execution_count": null,
      "outputs": [
        {
          "output_type": "execute_result",
          "data": {
            "text/plain": [
              "   customerID  PhoneService  PaperlessBilling  Churn  SeniorCitizen  Partner  \\\n",
              "0  7590-VHVEG             0                 1      0              0        1   \n",
              "\n",
              "   Dependents  Contract_One year  Contract_Two year  \\\n",
              "0           0                  0                  0   \n",
              "\n",
              "   PaymentMethod_Credit card (automatic)  ...  DeviceProtection_Yes  \\\n",
              "0                                      0  ...                     0   \n",
              "\n",
              "   TechSupport_No  TechSupport_Yes  StreamingTV_No  StreamingTV_Yes  \\\n",
              "0               1                0               1                0   \n",
              "\n",
              "   StreamingMovies_No  StreamingMovies_Yes    tenure  MonthlyCharges  \\\n",
              "0                   1                    0 -1.280157       -1.161611   \n",
              "\n",
              "   TotalCharges  \n",
              "0     -0.994123  \n",
              "\n",
              "[1 rows x 32 columns]"
            ],
            "text/html": [
              "\n",
              "  <div id=\"df-6ac06698-07e2-4817-bbc7-b9413d741aad\">\n",
              "    <div class=\"colab-df-container\">\n",
              "      <div>\n",
              "<style scoped>\n",
              "    .dataframe tbody tr th:only-of-type {\n",
              "        vertical-align: middle;\n",
              "    }\n",
              "\n",
              "    .dataframe tbody tr th {\n",
              "        vertical-align: top;\n",
              "    }\n",
              "\n",
              "    .dataframe thead th {\n",
              "        text-align: right;\n",
              "    }\n",
              "</style>\n",
              "<table border=\"1\" class=\"dataframe\">\n",
              "  <thead>\n",
              "    <tr style=\"text-align: right;\">\n",
              "      <th></th>\n",
              "      <th>customerID</th>\n",
              "      <th>PhoneService</th>\n",
              "      <th>PaperlessBilling</th>\n",
              "      <th>Churn</th>\n",
              "      <th>SeniorCitizen</th>\n",
              "      <th>Partner</th>\n",
              "      <th>Dependents</th>\n",
              "      <th>Contract_One year</th>\n",
              "      <th>Contract_Two year</th>\n",
              "      <th>PaymentMethod_Credit card (automatic)</th>\n",
              "      <th>...</th>\n",
              "      <th>DeviceProtection_Yes</th>\n",
              "      <th>TechSupport_No</th>\n",
              "      <th>TechSupport_Yes</th>\n",
              "      <th>StreamingTV_No</th>\n",
              "      <th>StreamingTV_Yes</th>\n",
              "      <th>StreamingMovies_No</th>\n",
              "      <th>StreamingMovies_Yes</th>\n",
              "      <th>tenure</th>\n",
              "      <th>MonthlyCharges</th>\n",
              "      <th>TotalCharges</th>\n",
              "    </tr>\n",
              "  </thead>\n",
              "  <tbody>\n",
              "    <tr>\n",
              "      <th>0</th>\n",
              "      <td>7590-VHVEG</td>\n",
              "      <td>0</td>\n",
              "      <td>1</td>\n",
              "      <td>0</td>\n",
              "      <td>0</td>\n",
              "      <td>1</td>\n",
              "      <td>0</td>\n",
              "      <td>0</td>\n",
              "      <td>0</td>\n",
              "      <td>0</td>\n",
              "      <td>...</td>\n",
              "      <td>0</td>\n",
              "      <td>1</td>\n",
              "      <td>0</td>\n",
              "      <td>1</td>\n",
              "      <td>0</td>\n",
              "      <td>1</td>\n",
              "      <td>0</td>\n",
              "      <td>-1.280157</td>\n",
              "      <td>-1.161611</td>\n",
              "      <td>-0.994123</td>\n",
              "    </tr>\n",
              "  </tbody>\n",
              "</table>\n",
              "<p>1 rows × 32 columns</p>\n",
              "</div>\n",
              "      <button class=\"colab-df-convert\" onclick=\"convertToInteractive('df-6ac06698-07e2-4817-bbc7-b9413d741aad')\"\n",
              "              title=\"Convert this dataframe to an interactive table.\"\n",
              "              style=\"display:none;\">\n",
              "        \n",
              "  <svg xmlns=\"http://www.w3.org/2000/svg\" height=\"24px\"viewBox=\"0 0 24 24\"\n",
              "       width=\"24px\">\n",
              "    <path d=\"M0 0h24v24H0V0z\" fill=\"none\"/>\n",
              "    <path d=\"M18.56 5.44l.94 2.06.94-2.06 2.06-.94-2.06-.94-.94-2.06-.94 2.06-2.06.94zm-11 1L8.5 8.5l.94-2.06 2.06-.94-2.06-.94L8.5 2.5l-.94 2.06-2.06.94zm10 10l.94 2.06.94-2.06 2.06-.94-2.06-.94-.94-2.06-.94 2.06-2.06.94z\"/><path d=\"M17.41 7.96l-1.37-1.37c-.4-.4-.92-.59-1.43-.59-.52 0-1.04.2-1.43.59L10.3 9.45l-7.72 7.72c-.78.78-.78 2.05 0 2.83L4 21.41c.39.39.9.59 1.41.59.51 0 1.02-.2 1.41-.59l7.78-7.78 2.81-2.81c.8-.78.8-2.07 0-2.86zM5.41 20L4 18.59l7.72-7.72 1.47 1.35L5.41 20z\"/>\n",
              "  </svg>\n",
              "      </button>\n",
              "      \n",
              "  <style>\n",
              "    .colab-df-container {\n",
              "      display:flex;\n",
              "      flex-wrap:wrap;\n",
              "      gap: 12px;\n",
              "    }\n",
              "\n",
              "    .colab-df-convert {\n",
              "      background-color: #E8F0FE;\n",
              "      border: none;\n",
              "      border-radius: 50%;\n",
              "      cursor: pointer;\n",
              "      display: none;\n",
              "      fill: #1967D2;\n",
              "      height: 32px;\n",
              "      padding: 0 0 0 0;\n",
              "      width: 32px;\n",
              "    }\n",
              "\n",
              "    .colab-df-convert:hover {\n",
              "      background-color: #E2EBFA;\n",
              "      box-shadow: 0px 1px 2px rgba(60, 64, 67, 0.3), 0px 1px 3px 1px rgba(60, 64, 67, 0.15);\n",
              "      fill: #174EA6;\n",
              "    }\n",
              "\n",
              "    [theme=dark] .colab-df-convert {\n",
              "      background-color: #3B4455;\n",
              "      fill: #D2E3FC;\n",
              "    }\n",
              "\n",
              "    [theme=dark] .colab-df-convert:hover {\n",
              "      background-color: #434B5C;\n",
              "      box-shadow: 0px 1px 3px 1px rgba(0, 0, 0, 0.15);\n",
              "      filter: drop-shadow(0px 1px 2px rgba(0, 0, 0, 0.3));\n",
              "      fill: #FFFFFF;\n",
              "    }\n",
              "  </style>\n",
              "\n",
              "      <script>\n",
              "        const buttonEl =\n",
              "          document.querySelector('#df-6ac06698-07e2-4817-bbc7-b9413d741aad button.colab-df-convert');\n",
              "        buttonEl.style.display =\n",
              "          google.colab.kernel.accessAllowed ? 'block' : 'none';\n",
              "\n",
              "        async function convertToInteractive(key) {\n",
              "          const element = document.querySelector('#df-6ac06698-07e2-4817-bbc7-b9413d741aad');\n",
              "          const dataTable =\n",
              "            await google.colab.kernel.invokeFunction('convertToInteractive',\n",
              "                                                     [key], {});\n",
              "          if (!dataTable) return;\n",
              "\n",
              "          const docLinkHtml = 'Like what you see? Visit the ' +\n",
              "            '<a target=\"_blank\" href=https://colab.research.google.com/notebooks/data_table.ipynb>data table notebook</a>'\n",
              "            + ' to learn more about interactive tables.';\n",
              "          element.innerHTML = '';\n",
              "          dataTable['output_type'] = 'display_data';\n",
              "          await google.colab.output.renderOutput(dataTable, element);\n",
              "          const docLink = document.createElement('div');\n",
              "          docLink.innerHTML = docLinkHtml;\n",
              "          element.appendChild(docLink);\n",
              "        }\n",
              "      </script>\n",
              "    </div>\n",
              "  </div>\n",
              "  "
            ]
          },
          "metadata": {},
          "execution_count": 43
        }
      ]
    },
    {
      "cell_type": "markdown",
      "metadata": {
        "id": "ygZztFai1H3a"
      },
      "source": [
        "## **`Model Building`**\n",
        "\n",
        "<p style='text-align: right;'> 11 points</p>\n",
        "\n",
        "Let's start by splitting our data into a training set and a test set."
      ]
    },
    {
      "cell_type": "code",
      "execution_count": null,
      "metadata": {
        "id": "HL2Tr-Yq1H3a"
      },
      "outputs": [],
      "source": [
        "# Putting feature variable to X. drop 'customerID' from features as its not informative for our prediction\n",
        "X = telecom.drop(columns= ['customerID', 'Churn'], axis=1)\n",
        "\n",
        "# Putting response variable to y\n",
        "y = telecom['Churn']\n"
      ]
    },
    {
      "cell_type": "code",
      "execution_count": null,
      "metadata": {
        "id": "GS23q7i61H3b",
        "colab": {
          "base_uri": "https://localhost:8080/"
        },
        "outputId": "4a33245a-6ebb-4d1d-eb9a-6629b7d879bf"
      },
      "outputs": [
        {
          "output_type": "execute_result",
          "data": {
            "text/plain": [
              "0    0\n",
              "1    0\n",
              "2    1\n",
              "3    0\n",
              "4    1\n",
              "Name: Churn, dtype: int64"
            ]
          },
          "metadata": {},
          "execution_count": 45
        }
      ],
      "source": [
        "# print y head\n",
        "y.head()\n"
      ]
    },
    {
      "cell_type": "markdown",
      "metadata": {
        "id": "VH8SUUm81H3b"
      },
      "source": [
        "### **`Running Your First Training Model`**"
      ]
    },
    {
      "cell_type": "code",
      "execution_count": null,
      "metadata": {
        "id": "-zp-fMtU1H3b"
      },
      "outputs": [],
      "source": [
        "# import statsmodels api as sm\n",
        "import statsmodels.api as sm"
      ]
    },
    {
      "cell_type": "markdown",
      "metadata": {
        "id": "ZWukvXe11H3c"
      },
      "source": [
        "Statsmodels provides a Logit() function for performing logistic regression. The Logit() function accepts y and X as parameters and returns the Logit object. The model is then fitted to the data.\n",
        "\n",
        "Reference:"
      ]
    },
    {
      "cell_type": "markdown",
      "source": [
        "## **`Watch Video 5, 6 : Logistic Regression by Statsmodel(Theory) + Practical`**\n",
        "- File Used: https://drive.google.com/file/d/1bGq_HqmXhQSSf9fuL6Duol7QCRI-xxvs/view?usp=sharing\n",
        "- Dataset: https://www.kaggle.com/datasets/saurabh00007/diabetescsv"
      ],
      "metadata": {
        "id": "1eSB8-FWoE2o"
      }
    },
    {
      "cell_type": "markdown",
      "metadata": {
        "id": "4DV7Il-s1H3c"
      },
      "source": [
        "### **`Splitting Data into Training and Test Sets`**"
      ]
    },
    {
      "cell_type": "code",
      "execution_count": null,
      "metadata": {
        "id": "SWwmspOs1H3c"
      },
      "outputs": [],
      "source": [
        "# import train_test_split module\n",
        "from sklearn.model_selection import train_test_split\n"
      ]
    },
    {
      "cell_type": "code",
      "execution_count": null,
      "metadata": {
        "id": "kpA1h2wG1H3c",
        "colab": {
          "base_uri": "https://localhost:8080/"
        },
        "outputId": "8231d032-a6c1-41e8-d935-7593f78456ec"
      },
      "outputs": [
        {
          "output_type": "stream",
          "name": "stderr",
          "text": [
            "/usr/local/lib/python3.8/dist-packages/statsmodels/tsa/tsatools.py:142: FutureWarning: In a future version of pandas all arguments of concat except for the argument 'objs' will be keyword-only\n",
            "  x = pd.concat(x[::order], 1)\n"
          ]
        }
      ],
      "source": [
        "# adding constant to X\n",
        "X= sm.add_constant(X)\n",
        "\n",
        "# Splitting the data into train and test with train_size=0.7 and random_state=100\n",
        "X_train, X_test, y_train, y_test = train_test_split(X, y, train_size=0.7, random_state=100)\n",
        "\n"
      ]
    },
    {
      "cell_type": "code",
      "source": [
        "X_train.shape"
      ],
      "metadata": {
        "colab": {
          "base_uri": "https://localhost:8080/"
        },
        "id": "l6jI_ukFBTLo",
        "outputId": "0f320a0e-5669-40dd-bd77-0b462c4de803"
      },
      "execution_count": null,
      "outputs": [
        {
          "output_type": "execute_result",
          "data": {
            "text/plain": [
              "(4922, 31)"
            ]
          },
          "metadata": {},
          "execution_count": 49
        }
      ]
    },
    {
      "cell_type": "code",
      "execution_count": null,
      "metadata": {
        "scrolled": false,
        "id": "QCZCppxA1H3d",
        "colab": {
          "base_uri": "https://localhost:8080/"
        },
        "outputId": "6e8e5cc5-12d0-47d9-fe89-7950a95ae9a6"
      },
      "outputs": [
        {
          "output_type": "stream",
          "name": "stdout",
          "text": [
            "Optimization terminated successfully.\n",
            "         Current function value: 0.407291\n",
            "         Iterations 9\n"
          ]
        }
      ],
      "source": [
        "# Logistic regression model\n",
        "logm1 = sm.Logit(y_train, X_train)\n",
        "trained_logm1 = logm1.fit()\n",
        "\n",
        "#print(trained_logm1.Summary())"
      ]
    },
    {
      "cell_type": "code",
      "source": [
        "print(trained_logm1.summary())"
      ],
      "metadata": {
        "colab": {
          "base_uri": "https://localhost:8080/"
        },
        "id": "86JDaPgVJ0bB",
        "outputId": "55dd2e28-cb07-4e0f-cd90-68a030c6e138"
      },
      "execution_count": null,
      "outputs": [
        {
          "output_type": "stream",
          "name": "stdout",
          "text": [
            "                           Logit Regression Results                           \n",
            "==============================================================================\n",
            "Dep. Variable:                  Churn   No. Observations:                 4922\n",
            "Model:                          Logit   Df Residuals:                     4898\n",
            "Method:                           MLE   Df Model:                           23\n",
            "Date:                Tue, 10 Jan 2023   Pseudo R-squ.:                  0.2912\n",
            "Time:                        11:11:26   Log-Likelihood:                -2004.7\n",
            "converged:                       True   LL-Null:                       -2828.2\n",
            "Covariance Type:            nonrobust   LLR p-value:                     0.000\n",
            "=========================================================================================================\n",
            "                                            coef    std err          z      P>|z|      [0.025      0.975]\n",
            "---------------------------------------------------------------------------------------------------------\n",
            "const                                    -1.5940   2.46e+05  -6.47e-06      1.000   -4.83e+05    4.83e+05\n",
            "PhoneService                              2.2591        nan        nan        nan         nan         nan\n",
            "PaperlessBilling                          0.3254      0.090      3.614      0.000       0.149       0.502\n",
            "SeniorCitizen                             0.3984      0.102      3.924      0.000       0.199       0.597\n",
            "Partner                                   0.0374      0.094      0.399      0.690      -0.146       0.221\n",
            "Dependents                               -0.1430      0.107     -1.332      0.183      -0.353       0.067\n",
            "Contract_One year                        -0.6578      0.129     -5.106      0.000      -0.910      -0.405\n",
            "Contract_Two year                        -1.2455      0.212     -5.874      0.000      -1.661      -0.830\n",
            "PaymentMethod_Credit card (automatic)    -0.2577      0.137     -1.883      0.060      -0.526       0.011\n",
            "PaymentMethod_Electronic check            0.1615      0.113      1.434      0.152      -0.059       0.382\n",
            "PaymentMethod_Mailed check               -0.2536      0.137     -1.845      0.065      -0.523       0.016\n",
            "gender_Male                              -0.0346      0.078     -0.442      0.658      -0.188       0.119\n",
            "MultipleLines_No                         -1.3083        nan        nan        nan         nan         nan\n",
            "MultipleLines_Yes                        -0.7460        nan        nan        nan         nan         nan\n",
            "InternetService_Fiber optic               2.5124      0.967      2.599      0.009       0.618       4.407\n",
            "InternetService_No                       -5.1190        nan        nan        nan         nan         nan\n",
            "OnlineSecurity_No                        -0.2967        nan        nan        nan         nan         nan\n",
            "OnlineSecurity_Yes                       -0.3212   7.61e+05  -4.22e-07      1.000   -1.49e+06    1.49e+06\n",
            "OnlineBackup_No                          -0.1859   3.89e+06  -4.78e-08      1.000   -7.63e+06    7.63e+06\n",
            "OnlineBackup_Yes                         -0.0118   3.63e+06  -3.25e-09      1.000   -7.12e+06    7.12e+06\n",
            "DeviceProtection_No                      -0.8667   1.63e+06  -5.31e-07      1.000    -3.2e+06     3.2e+06\n",
            "DeviceProtection_Yes                     -0.5439   1.63e+06  -3.33e-07      1.000    -3.2e+06     3.2e+06\n",
            "TechSupport_No                            0.2003    1.1e+06   1.82e-07      1.000   -2.16e+06    2.16e+06\n",
            "TechSupport_Yes                           0.1698   1.34e+06   1.27e-07      1.000   -2.62e+06    2.62e+06\n",
            "StreamingTV_No                           -0.8449        nan        nan        nan         nan         nan\n",
            "StreamingTV_Yes                           0.1149   2.26e+06   5.09e-08      1.000   -4.42e+06    4.42e+06\n",
            "StreamingMovies_No                       -0.3459   2.48e+06  -1.39e-07      1.000   -4.86e+06    4.86e+06\n",
            "StreamingMovies_Yes                       0.5024   2.48e+06   2.03e-07      1.000   -4.86e+06    4.86e+06\n",
            "tenure                                   -1.5198      0.190     -8.015      0.000      -1.891      -1.148\n",
            "MonthlyCharges                           -2.1817      1.160     -1.880      0.060      -4.456       0.092\n",
            "TotalCharges                              0.7329      0.198      3.705      0.000       0.345       1.121\n",
            "=========================================================================================================\n"
          ]
        }
      ]
    },
    {
      "cell_type": "markdown",
      "metadata": {
        "id": "KT5wCrDt1H3d"
      },
      "source": [
        "Hey buddy, from above you can see that there few statistically insignificant variables present in our dataset. Lets drop them off.\n",
        "\n",
        "Here drop those variables which has less than 70% confidence to reject the null hyposthesis looking into P values.\n",
        "\n",
        "Few insignificant variables we can see from above stats summary are:\n",
        " \n",
        "    partner\n",
        "    Dependents\t\n",
        "    PaymentMethod_Electronic check\t\n",
        "    gender_Male\n",
        "    InternetService_No\n",
        "    DeviceProtection_no\n",
        "    DeviceProtection_Yes\n",
        "    \n",
        "So lets drop them off from X\n",
        "\n",
        "Note: We are not dropping const variable as it is required for OLS model building"
      ]
    },
    {
      "cell_type": "code",
      "execution_count": null,
      "metadata": {
        "id": "xj4XnLzp1H3e"
      },
      "outputs": [],
      "source": [
        "X.drop(columns=['Partner','Dependents', 'PaymentMethod_Electronic check',  'gender_Male','InternetService_No','DeviceProtection_No','DeviceProtection_Yes'], axis=1, inplace=True)\n"
      ]
    },
    {
      "cell_type": "markdown",
      "metadata": {
        "id": "30CVw0F71H3f"
      },
      "source": [
        "### **`Correlation Matrix`**\n",
        "\n",
        "<p style='text-align: right;'> 2 points</p>\n"
      ]
    },
    {
      "cell_type": "code",
      "execution_count": null,
      "metadata": {
        "id": "1MHpzxVj1H3f"
      },
      "outputs": [],
      "source": [
        "# Importing matplotlib and seaborn\n",
        "import matplotlib.pyplot as plt\n",
        "import seaborn as sns\n",
        "%matplotlib inline"
      ]
    },
    {
      "cell_type": "code",
      "execution_count": null,
      "metadata": {
        "id": "aD4eP2we1H3f",
        "colab": {
          "base_uri": "https://localhost:8080/",
          "height": 624
        },
        "outputId": "63fa12b0-c242-4426-b69e-451c7cb4d328"
      },
      "outputs": [
        {
          "output_type": "execute_result",
          "data": {
            "text/plain": [
              "<matplotlib.axes._subplots.AxesSubplot at 0x7f1e8ded63d0>"
            ]
          },
          "metadata": {},
          "execution_count": 54
        },
        {
          "output_type": "display_data",
          "data": {
            "text/plain": [
              "<Figure size 1440x720 with 2 Axes>"
            ],
            "image/png": "[encoded data removed]"
          },
          "metadata": {
            "needs_background": "light"
          }
        }
      ],
      "source": [
        "# Let's see the correlation matrix \n",
        "X.corr()\n",
        "       # Size of the figure\n",
        "plt.figure(figsize=(20,10))\n",
        "sns.heatmap(X.corr(), annot=True, cmap='BrBG')"
      ]
    },
    {
      "cell_type": "markdown",
      "metadata": {
        "id": "7ZW1asRD1H3g"
      },
      "source": [
        "### **`Dropping highly correlated variables.`**\n",
        "\n",
        "<p style='text-align: right;'> 4 points</p>\n",
        "\n",
        "\n",
        "Check video: \n",
        "## **`Watch Video 7 : Dropping Highly Correlated Variables`**\n"
      ]
    },
    {
      "cell_type": "code",
      "execution_count": null,
      "metadata": {
        "id": "NEIkIpKR1H3g"
      },
      "outputs": [],
      "source": [
        "# Write a correlation function to drop correlleation function to remove highly correlated variables (>70%)\n",
        "def correlation(dataset, threshold):\n",
        "    # Set of all the names of correlated columns\n",
        "    col_corr = set()\n",
        "    \n",
        "    # apply corr method on dataset\n",
        "    corr_matrix = dataset.corr()\n",
        "    \n",
        "    for i in range(len(corr_matrix.columns)):\n",
        "        for j in range(i):\n",
        "\n",
        "            # we are interested in absolute coeff value \n",
        "            if abs(corr_matrix.iloc[i, j]) >  threshold: # write condition here:\n",
        "                # getting the name of column\n",
        "                colname = corr_matrix.columns[i]\n",
        "                # add in col_corr \n",
        "                col_corr.add(colname)\n",
        "\n",
        "    # return col_corr\n",
        "    return col_corr"
      ]
    },
    {
      "cell_type": "code",
      "execution_count": null,
      "metadata": {
        "id": "6juWpSar1H3g",
        "colab": {
          "base_uri": "https://localhost:8080/"
        },
        "outputId": "9881bf44-85ad-4fec-df29-1b2a2660bb77"
      },
      "outputs": [
        {
          "output_type": "execute_result",
          "data": {
            "text/plain": [
              "3"
            ]
          },
          "metadata": {},
          "execution_count": 56
        }
      ],
      "source": [
        "# call the function with threshold\n",
        "corr_features = correlation(X, 0.7)\n",
        "\n",
        "len(set(corr_features))"
      ]
    },
    {
      "cell_type": "code",
      "execution_count": null,
      "metadata": {
        "id": "FlQRlllq1H3h",
        "colab": {
          "base_uri": "https://localhost:8080/"
        },
        "outputId": "503ca207-dfc3-462b-bd46-2edceb0fe957"
      },
      "outputs": [
        {
          "output_type": "stream",
          "name": "stdout",
          "text": [
            "{'MultipleLines_Yes', 'MonthlyCharges', 'TotalCharges'}\n"
          ]
        }
      ],
      "source": [
        "# print corr_features\n",
        "print(corr_features)"
      ]
    },
    {
      "cell_type": "code",
      "source": [
        "X.shape"
      ],
      "metadata": {
        "colab": {
          "base_uri": "https://localhost:8080/"
        },
        "id": "IgKnaq7XMgPb",
        "outputId": "8915c962-8498-48ad-fc7d-20f9fcf00000"
      },
      "execution_count": null,
      "outputs": [
        {
          "output_type": "execute_result",
          "data": {
            "text/plain": [
              "(7032, 24)"
            ]
          },
          "metadata": {},
          "execution_count": 58
        }
      ]
    },
    {
      "cell_type": "code",
      "execution_count": null,
      "metadata": {
        "id": "p88T9pA11H3h",
        "colab": {
          "base_uri": "https://localhost:8080/"
        },
        "outputId": "af8d3607-536e-4ad7-d63a-028a9b152b23"
      },
      "outputs": [
        {
          "output_type": "stream",
          "name": "stderr",
          "text": [
            "<ipython-input-59-35754709ce0a>:2: FutureWarning: In a future version of pandas all arguments of DataFrame.drop except for the argument 'labels' will be keyword-only\n",
            "  X.drop(['MultipleLines_Yes', 'MonthlyCharges', 'TotalCharges'],1, inplace = True)\n"
          ]
        }
      ],
      "source": [
        "# Lets drop the above variables from X\n",
        "X.drop(['MultipleLines_Yes', 'MonthlyCharges', 'TotalCharges'],1, inplace = True)\n"
      ]
    },
    {
      "cell_type": "code",
      "source": [
        "X.shape"
      ],
      "metadata": {
        "colab": {
          "base_uri": "https://localhost:8080/"
        },
        "id": "dGNu6r02MbPV",
        "outputId": "efa7b6a9-1482-4e36-a961-d888edad6310"
      },
      "execution_count": null,
      "outputs": [
        {
          "output_type": "execute_result",
          "data": {
            "text/plain": [
              "(7032, 21)"
            ]
          },
          "metadata": {},
          "execution_count": 60
        }
      ]
    },
    {
      "cell_type": "markdown",
      "metadata": {
        "id": "EELjfVXY1H3h"
      },
      "source": [
        "## **`Dropping Variable with high VIF`**\n",
        "\n",
        "<p style='text-align: right;'> 5 points</p>\n",
        "\n",
        "\n",
        "Lets check multicollinearity using Variance inflation factor too!\n",
        "\n",
        "Reference:\n",
        "## **`Watch Video 8 : Variance Inflation Factor`**"
      ]
    },
    {
      "cell_type": "code",
      "execution_count": null,
      "metadata": {
        "id": "GYuOVzWL1H3i",
        "colab": {
          "base_uri": "https://localhost:8080/",
          "height": 763
        },
        "outputId": "3e3ad448-c7e4-426c-fbc6-294898a18cba"
      },
      "outputs": [
        {
          "output_type": "stream",
          "name": "stderr",
          "text": [
            "/usr/local/lib/python3.8/dist-packages/statsmodels/stats/outliers_influence.py:193: RuntimeWarning: divide by zero encountered in double_scalars\n",
            "  vif = 1. / (1. - r_squared_i)\n"
          ]
        },
        {
          "output_type": "execute_result",
          "data": {
            "text/plain": [
              "                                 Features    VIF\n",
              "10                      OnlineSecurity_No    inf\n",
              "11                     OnlineSecurity_Yes    inf\n",
              "19                    StreamingMovies_Yes    inf\n",
              "18                     StreamingMovies_No    inf\n",
              "17                        StreamingTV_Yes    inf\n",
              "16                         StreamingTV_No    inf\n",
              "15                        TechSupport_Yes    inf\n",
              "14                         TechSupport_No    inf\n",
              "13                       OnlineBackup_Yes    inf\n",
              "12                        OnlineBackup_No    inf\n",
              "0                                   const  26.37\n",
              "20                                 tenure   2.63\n",
              "5                       Contract_Two year   2.59\n",
              "9             InternetService_Fiber optic   1.99\n",
              "4                       Contract_One year   1.60\n",
              "8                        MultipleLines_No   1.46\n",
              "1                            PhoneService   1.45\n",
              "7              PaymentMethod_Mailed check   1.37\n",
              "2                        PaperlessBilling   1.21\n",
              "6   PaymentMethod_Credit card (automatic)   1.17\n",
              "3                           SeniorCitizen   1.11"
            ],
            "text/html": [
              "\n",
              "  <div id=\"df-34dea4cb-cad7-4fc2-bed6-6c04d8fb1ba9\">\n",
              "    <div class=\"colab-df-container\">\n",
              "      <div>\n",
              "<style scoped>\n",
              "    .dataframe tbody tr th:only-of-type {\n",
              "        vertical-align: middle;\n",
              "    }\n",
              "\n",
              "    .dataframe tbody tr th {\n",
              "        vertical-align: top;\n",
              "    }\n",
              "\n",
              "    .dataframe thead th {\n",
              "        text-align: right;\n",
              "    }\n",
              "</style>\n",
              "<table border=\"1\" class=\"dataframe\">\n",
              "  <thead>\n",
              "    <tr style=\"text-align: right;\">\n",
              "      <th></th>\n",
              "      <th>Features</th>\n",
              "      <th>VIF</th>\n",
              "    </tr>\n",
              "  </thead>\n",
              "  <tbody>\n",
              "    <tr>\n",
              "      <th>10</th>\n",
              "      <td>OnlineSecurity_No</td>\n",
              "      <td>inf</td>\n",
              "    </tr>\n",
              "    <tr>\n",
              "      <th>11</th>\n",
              "      <td>OnlineSecurity_Yes</td>\n",
              "      <td>inf</td>\n",
              "    </tr>\n",
              "    <tr>\n",
              "      <th>19</th>\n",
              "      <td>StreamingMovies_Yes</td>\n",
              "      <td>inf</td>\n",
              "    </tr>\n",
              "    <tr>\n",
              "      <th>18</th>\n",
              "      <td>StreamingMovies_No</td>\n",
              "      <td>inf</td>\n",
              "    </tr>\n",
              "    <tr>\n",
              "      <th>17</th>\n",
              "      <td>StreamingTV_Yes</td>\n",
              "      <td>inf</td>\n",
              "    </tr>\n",
              "    <tr>\n",
              "      <th>16</th>\n",
              "      <td>StreamingTV_No</td>\n",
              "      <td>inf</td>\n",
              "    </tr>\n",
              "    <tr>\n",
              "      <th>15</th>\n",
              "      <td>TechSupport_Yes</td>\n",
              "      <td>inf</td>\n",
              "    </tr>\n",
              "    <tr>\n",
              "      <th>14</th>\n",
              "      <td>TechSupport_No</td>\n",
              "      <td>inf</td>\n",
              "    </tr>\n",
              "    <tr>\n",
              "      <th>13</th>\n",
              "      <td>OnlineBackup_Yes</td>\n",
              "      <td>inf</td>\n",
              "    </tr>\n",
              "    <tr>\n",
              "      <th>12</th>\n",
              "      <td>OnlineBackup_No</td>\n",
              "      <td>inf</td>\n",
              "    </tr>\n",
              "    <tr>\n",
              "      <th>0</th>\n",
              "      <td>const</td>\n",
              "      <td>26.37</td>\n",
              "    </tr>\n",
              "    <tr>\n",
              "      <th>20</th>\n",
              "      <td>tenure</td>\n",
              "      <td>2.63</td>\n",
              "    </tr>\n",
              "    <tr>\n",
              "      <th>5</th>\n",
              "      <td>Contract_Two year</td>\n",
              "      <td>2.59</td>\n",
              "    </tr>\n",
              "    <tr>\n",
              "      <th>9</th>\n",
              "      <td>InternetService_Fiber optic</td>\n",
              "      <td>1.99</td>\n",
              "    </tr>\n",
              "    <tr>\n",
              "      <th>4</th>\n",
              "      <td>Contract_One year</td>\n",
              "      <td>1.60</td>\n",
              "    </tr>\n",
              "    <tr>\n",
              "      <th>8</th>\n",
              "      <td>MultipleLines_No</td>\n",
              "      <td>1.46</td>\n",
              "    </tr>\n",
              "    <tr>\n",
              "      <th>1</th>\n",
              "      <td>PhoneService</td>\n",
              "      <td>1.45</td>\n",
              "    </tr>\n",
              "    <tr>\n",
              "      <th>7</th>\n",
              "      <td>PaymentMethod_Mailed check</td>\n",
              "      <td>1.37</td>\n",
              "    </tr>\n",
              "    <tr>\n",
              "      <th>2</th>\n",
              "      <td>PaperlessBilling</td>\n",
              "      <td>1.21</td>\n",
              "    </tr>\n",
              "    <tr>\n",
              "      <th>6</th>\n",
              "      <td>PaymentMethod_Credit card (automatic)</td>\n",
              "      <td>1.17</td>\n",
              "    </tr>\n",
              "    <tr>\n",
              "      <th>3</th>\n",
              "      <td>SeniorCitizen</td>\n",
              "      <td>1.11</td>\n",
              "    </tr>\n",
              "  </tbody>\n",
              "</table>\n",
              "</div>\n",
              "      <button class=\"colab-df-convert\" onclick=\"convertToInteractive('df-34dea4cb-cad7-4fc2-bed6-6c04d8fb1ba9')\"\n",
              "              title=\"Convert this dataframe to an interactive table.\"\n",
              "              style=\"display:none;\">\n",
              "        \n",
              "  <svg xmlns=\"http://www.w3.org/2000/svg\" height=\"24px\"viewBox=\"0 0 24 24\"\n",
              "       width=\"24px\">\n",
              "    <path d=\"M0 0h24v24H0V0z\" fill=\"none\"/>\n",
              "    <path d=\"M18.56 5.44l.94 2.06.94-2.06 2.06-.94-2.06-.94-.94-2.06-.94 2.06-2.06.94zm-11 1L8.5 8.5l.94-2.06 2.06-.94-2.06-.94L8.5 2.5l-.94 2.06-2.06.94zm10 10l.94 2.06.94-2.06 2.06-.94-2.06-.94-.94-2.06-.94 2.06-2.06.94z\"/><path d=\"M17.41 7.96l-1.37-1.37c-.4-.4-.92-.59-1.43-.59-.52 0-1.04.2-1.43.59L10.3 9.45l-7.72 7.72c-.78.78-.78 2.05 0 2.83L4 21.41c.39.39.9.59 1.41.59.51 0 1.02-.2 1.41-.59l7.78-7.78 2.81-2.81c.8-.78.8-2.07 0-2.86zM5.41 20L4 18.59l7.72-7.72 1.47 1.35L5.41 20z\"/>\n",
              "  </svg>\n",
              "      </button>\n",
              "      \n",
              "  <style>\n",
              "    .colab-df-container {\n",
              "      display:flex;\n",
              "      flex-wrap:wrap;\n",
              "      gap: 12px;\n",
              "    }\n",
              "\n",
              "    .colab-df-convert {\n",
              "      background-color: #E8F0FE;\n",
              "      border: none;\n",
              "      border-radius: 50%;\n",
              "      cursor: pointer;\n",
              "      display: none;\n",
              "      fill: #1967D2;\n",
              "      height: 32px;\n",
              "      padding: 0 0 0 0;\n",
              "      width: 32px;\n",
              "    }\n",
              "\n",
              "    .colab-df-convert:hover {\n",
              "      background-color: #E2EBFA;\n",
              "      box-shadow: 0px 1px 2px rgba(60, 64, 67, 0.3), 0px 1px 3px 1px rgba(60, 64, 67, 0.15);\n",
              "      fill: #174EA6;\n",
              "    }\n",
              "\n",
              "    [theme=dark] .colab-df-convert {\n",
              "      background-color: #3B4455;\n",
              "      fill: #D2E3FC;\n",
              "    }\n",
              "\n",
              "    [theme=dark] .colab-df-convert:hover {\n",
              "      background-color: #434B5C;\n",
              "      box-shadow: 0px 1px 3px 1px rgba(0, 0, 0, 0.15);\n",
              "      filter: drop-shadow(0px 1px 2px rgba(0, 0, 0, 0.3));\n",
              "      fill: #FFFFFF;\n",
              "    }\n",
              "  </style>\n",
              "\n",
              "      <script>\n",
              "        const buttonEl =\n",
              "          document.querySelector('#df-34dea4cb-cad7-4fc2-bed6-6c04d8fb1ba9 button.colab-df-convert');\n",
              "        buttonEl.style.display =\n",
              "          google.colab.kernel.accessAllowed ? 'block' : 'none';\n",
              "\n",
              "        async function convertToInteractive(key) {\n",
              "          const element = document.querySelector('#df-34dea4cb-cad7-4fc2-bed6-6c04d8fb1ba9');\n",
              "          const dataTable =\n",
              "            await google.colab.kernel.invokeFunction('convertToInteractive',\n",
              "                                                     [key], {});\n",
              "          if (!dataTable) return;\n",
              "\n",
              "          const docLinkHtml = 'Like what you see? Visit the ' +\n",
              "            '<a target=\"_blank\" href=https://colab.research.google.com/notebooks/data_table.ipynb>data table notebook</a>'\n",
              "            + ' to learn more about interactive tables.';\n",
              "          element.innerHTML = '';\n",
              "          dataTable['output_type'] = 'display_data';\n",
              "          await google.colab.output.renderOutput(dataTable, element);\n",
              "          const docLink = document.createElement('div');\n",
              "          docLink.innerHTML = docLinkHtml;\n",
              "          element.appendChild(docLink);\n",
              "        }\n",
              "      </script>\n",
              "    </div>\n",
              "  </div>\n",
              "  "
            ]
          },
          "metadata": {},
          "execution_count": 61
        }
      ],
      "source": [
        "# Import library for VIF\n",
        "from statsmodels.stats.outliers_influence import variance_inflation_factor\n",
        "\n",
        "# empyty dataframe\n",
        "vif = pd.DataFrame()\n",
        "columns = X.columns\n",
        "#print(columns)\n",
        "#variables names with all variables in column X\n",
        "vif['Features'] = columns\n",
        "vif['VIF'] = [round(variance_inflation_factor(X.values, i),2) for i in range(len(columns))]\n",
        "# Vif scores for corresponding features\n",
        "vif.sort_values(by='VIF', ascending=False)\n",
        "\n"
      ]
    },
    {
      "cell_type": "code",
      "execution_count": null,
      "metadata": {
        "id": "fKlSd2LX1H3i",
        "colab": {
          "base_uri": "https://localhost:8080/"
        },
        "outputId": "2aaa0ee7-f623-4f7c-aea2-4f23ded8e5cc"
      },
      "outputs": [
        {
          "output_type": "stream",
          "name": "stdout",
          "text": [
            "                                 Features    VIF\n",
            "0                                   const  26.37\n",
            "1                            PhoneService   1.45\n",
            "2                        PaperlessBilling   1.21\n",
            "3                           SeniorCitizen   1.11\n",
            "4                       Contract_One year   1.60\n",
            "5                       Contract_Two year   2.59\n",
            "6   PaymentMethod_Credit card (automatic)   1.17\n",
            "7              PaymentMethod_Mailed check   1.37\n",
            "8                        MultipleLines_No   1.46\n",
            "9             InternetService_Fiber optic   1.99\n",
            "10                      OnlineSecurity_No    inf\n",
            "11                     OnlineSecurity_Yes    inf\n",
            "12                        OnlineBackup_No    inf\n",
            "13                       OnlineBackup_Yes    inf\n",
            "14                         TechSupport_No    inf\n",
            "15                        TechSupport_Yes    inf\n",
            "16                         StreamingTV_No    inf\n",
            "17                        StreamingTV_Yes    inf\n",
            "18                     StreamingMovies_No    inf\n",
            "19                    StreamingMovies_Yes    inf\n",
            "20                                 tenure   2.63\n"
          ]
        }
      ],
      "source": [
        "# print vif\n",
        "print(vif)\n"
      ]
    },
    {
      "cell_type": "markdown",
      "metadata": {
        "id": "6nretj_B1H3j"
      },
      "source": [
        "Lets drop variables which are having infinite vif scores.\n",
        "\n",
        "they are:\n",
        "    \n",
        "    OnlineSecurity_No\n",
        "    OnlineSecurity_Yes\n",
        "    OnlineBackup_No\n",
        "    OnlineBackup_Yes\n",
        "    TechSupport_No\n",
        "    TechSupport_Yes\n",
        "    StreamingTV_No\n",
        "    StreamingTV_Yes\n",
        "    StreamingMovies_No\n",
        "    StreamingMovies_Yes"
      ]
    },
    {
      "cell_type": "code",
      "execution_count": null,
      "metadata": {
        "id": "N6MKx85a1H3j"
      },
      "outputs": [],
      "source": [
        "# Lets drop above variables also from X\n",
        "X.drop(columns=['OnlineSecurity_No',\n",
        "'OnlineSecurity_Yes',\n",
        "'OnlineBackup_No',\n",
        "'OnlineBackup_Yes',\n",
        "'TechSupport_No',\n",
        "'TechSupport_Yes',\n",
        "'StreamingTV_No',\n",
        "'StreamingTV_Yes',\n",
        "'StreamingMovies_No',\n",
        "'StreamingMovies_Yes'], axis=1, inplace=True)\n",
        "\n"
      ]
    },
    {
      "cell_type": "markdown",
      "metadata": {
        "id": "eGgUVMtU1H3k"
      },
      "source": [
        "### **`Checking the Correlation Matrix again`**"
      ]
    },
    {
      "cell_type": "markdown",
      "metadata": {
        "id": "Lvq5A2d01H3k"
      },
      "source": [
        "After dropping highly correlated variables now let's check the correlation matrix again."
      ]
    },
    {
      "cell_type": "code",
      "execution_count": null,
      "metadata": {
        "id": "nVxaC9qu1H3k",
        "colab": {
          "base_uri": "https://localhost:8080/",
          "height": 696
        },
        "outputId": "f2eef860-1bfd-4605-b1db-12801ad2e340"
      },
      "outputs": [
        {
          "output_type": "execute_result",
          "data": {
            "text/plain": [
              "<matplotlib.axes._subplots.AxesSubplot at 0x7f1e89182f70>"
            ]
          },
          "metadata": {},
          "execution_count": 64
        },
        {
          "output_type": "display_data",
          "data": {
            "text/plain": [
              "<Figure size 864x576 with 2 Axes>"
            ],
            "image/png": "[encoded data removed]"
          },
          "metadata": {
            "needs_background": "light"
          }
        }
      ],
      "source": [
        "plt.figure(figsize=(12,8))\n",
        "sns.heatmap(X.corr(), annot=True, cmap= 'BrBG')\n"
      ]
    },
    {
      "cell_type": "markdown",
      "metadata": {
        "id": "PXHfBp0r1H3l"
      },
      "source": [
        "### **`Re-Running the Model`**\n",
        "\n",
        "<p style='text-align: right;'> 3 points</p>\n"
      ]
    },
    {
      "cell_type": "markdown",
      "metadata": {
        "id": "epPRo8YU1H3l"
      },
      "source": [
        "Now let's run our model again after dropping highly correlated variables"
      ]
    },
    {
      "cell_type": "code",
      "execution_count": null,
      "metadata": {
        "id": "lNXBtlnx1H3l",
        "colab": {
          "base_uri": "https://localhost:8080/"
        },
        "outputId": "14a8ace2-a519-4b8d-d75d-74d3b8b5cc7d"
      },
      "outputs": [
        {
          "output_type": "stream",
          "name": "stdout",
          "text": [
            "Optimization terminated successfully.\n",
            "         Current function value: 0.417905\n",
            "         Iterations 8\n"
          ]
        }
      ],
      "source": [
        "# Splitting the data into train and test with train_size=0.7 and random_state=100 again\n",
        "X_train, X_test, y_train, y_test = train_test_split(X, y, train_size=0.7, random_state=100)\n",
        "\n",
        "# call logit method on sm and pass train data\n",
        "logm2 = sm.Logit(y_train, X_train)\n",
        "trained_logm2 = logm2.fit()\n"
      ]
    },
    {
      "cell_type": "code",
      "source": [
        "# call fit and summary on logm2\n",
        "print(trained_logm2.summary())"
      ],
      "metadata": {
        "colab": {
          "base_uri": "https://localhost:8080/"
        },
        "id": "AjwPWl7Oz4Fe",
        "outputId": "66f5d774-7638-4808-a2d8-cb78f56b7cd4"
      },
      "execution_count": null,
      "outputs": [
        {
          "output_type": "stream",
          "name": "stdout",
          "text": [
            "                           Logit Regression Results                           \n",
            "==============================================================================\n",
            "Dep. Variable:                  Churn   No. Observations:                 4922\n",
            "Model:                          Logit   Df Residuals:                     4911\n",
            "Method:                           MLE   Df Model:                           10\n",
            "Date:                Tue, 10 Jan 2023   Pseudo R-squ.:                  0.2727\n",
            "Time:                        11:11:29   Log-Likelihood:                -2056.9\n",
            "converged:                       True   LL-Null:                       -2828.2\n",
            "Covariance Type:            nonrobust   LLR p-value:                     0.000\n",
            "=========================================================================================================\n",
            "                                            coef    std err          z      P>|z|      [0.025      0.975]\n",
            "---------------------------------------------------------------------------------------------------------\n",
            "const                                    -1.2686      0.151     -8.421      0.000      -1.564      -0.973\n",
            "PhoneService                             -0.4334      0.156     -2.771      0.006      -0.740      -0.127\n",
            "PaperlessBilling                          0.4239      0.088      4.831      0.000       0.252       0.596\n",
            "SeniorCitizen                             0.4801      0.099      4.830      0.000       0.285       0.675\n",
            "Contract_One year                        -0.7379      0.124     -5.973      0.000      -0.980      -0.496\n",
            "Contract_Two year                        -1.4344      0.203     -7.076      0.000      -1.832      -1.037\n",
            "PaymentMethod_Credit card (automatic)    -0.4385      0.112     -3.927      0.000      -0.657      -0.220\n",
            "PaymentMethod_Mailed check               -0.4864      0.107     -4.560      0.000      -0.695      -0.277\n",
            "MultipleLines_No                         -0.3268      0.094     -3.487      0.000      -0.511      -0.143\n",
            "InternetService_Fiber optic               1.2979      0.099     13.065      0.000       1.103       1.493\n",
            "tenure                                   -0.9134      0.063    -14.468      0.000      -1.037      -0.790\n",
            "=========================================================================================================\n"
          ]
        }
      ]
    },
    {
      "cell_type": "markdown",
      "metadata": {
        "id": "PXpR0xCX1H3l"
      },
      "source": [
        "Now you can see after removing all multicollinear features we got all P values to zero,  so now we can say that all features are statistically significant.\n",
        "\n",
        "### **`Feature Selection Using RFE`**\n",
        "\n",
        "<p style='text-align: right;'> 5 points</p>\n",
        "\n",
        "\n",
        "Lets do feature selection using LogisticRegression with RFE"
      ]
    },
    {
      "cell_type": "code",
      "execution_count": null,
      "metadata": {
        "id": "nWEc0C_61H3m"
      },
      "outputs": [],
      "source": [
        "# import RFE and LogisticRegression\n",
        "from sklearn.feature_selection import RFE\n",
        "from sklearn.linear_model import LogisticRegression\n",
        "# Initiate LogisticRegression()\n",
        "logreg = LogisticRegression()\n",
        "\n",
        " # Initialise RFE \n",
        "rfe = RFE(logreg)\n",
        "           \n",
        "# fitting RFE \n",
        "rfe = rfe.fit(X,y)\n",
        "           "
      ]
    },
    {
      "cell_type": "code",
      "source": [
        "# Printing the boolean results\n",
        "print(rfe.support_)\n",
        "\n",
        "# Printing the ranking\n",
        "print(rfe.ranking_)"
      ],
      "metadata": {
        "colab": {
          "base_uri": "https://localhost:8080/"
        },
        "id": "b_Ps62l35IoG",
        "outputId": "c6a9821c-9cab-4339-fc7f-e82d87f3116f"
      },
      "execution_count": null,
      "outputs": [
        {
          "output_type": "stream",
          "name": "stdout",
          "text": [
            "[False  True False False  True  True False False False  True  True]\n",
            "[7 1 2 6 1 1 5 4 3 1 1]\n"
          ]
        }
      ]
    },
    {
      "cell_type": "code",
      "execution_count": null,
      "metadata": {
        "id": "YChCL62I1H3m",
        "colab": {
          "base_uri": "https://localhost:8080/"
        },
        "outputId": "ab3413ef-c678-4ea9-a8b6-b7b91aad30e1"
      },
      "outputs": [
        {
          "output_type": "execute_result",
          "data": {
            "text/plain": [
              "Index(['PhoneService', 'Contract_One year', 'Contract_Two year',\n",
              "       'InternetService_Fiber optic', 'tenure'],\n",
              "      dtype='object')"
            ]
          },
          "metadata": {},
          "execution_count": 69
        }
      ],
      "source": [
        "# printing column names which were suppported by RFE\n",
        "X.columns[(rfe.support_)]"
      ]
    },
    {
      "cell_type": "code",
      "execution_count": null,
      "metadata": {
        "id": "eb2WtoHD1H3m"
      },
      "outputs": [],
      "source": [
        "# Variables selected by RFE \n",
        "col = X.columns[(rfe.support_)]\n"
      ]
    },
    {
      "cell_type": "code",
      "execution_count": null,
      "metadata": {
        "id": "ayk_X8eF1H3n",
        "colab": {
          "base_uri": "https://localhost:8080/"
        },
        "outputId": "959a9443-9a58-4358-b81d-b131042e7bac"
      },
      "outputs": [
        {
          "output_type": "execute_result",
          "data": {
            "text/plain": [
              "LogisticRegression()"
            ]
          },
          "metadata": {},
          "execution_count": 71
        }
      ],
      "source": [
        "# Let's run the model using the selected variables but this time we will use Logistic Regression\n",
        "# from sklearn import metrics\n",
        "\n",
        "#initialise Logistic Regression\n",
        "logsk = LogisticRegression()\n",
        "\n",
        "\n",
        "#fitting model using above columns as input\n",
        "logsk.fit(X_train[col], y_train)\n"
      ]
    },
    {
      "cell_type": "code",
      "execution_count": null,
      "metadata": {
        "id": "PMd9onip1H3n",
        "colab": {
          "base_uri": "https://localhost:8080/"
        },
        "outputId": "8dba68f3-a0ad-4a6f-fee6-b39043fc8b77"
      },
      "outputs": [
        {
          "output_type": "stream",
          "name": "stdout",
          "text": [
            "Optimization terminated successfully.\n",
            "         Current function value: 0.435736\n",
            "         Iterations 8\n",
            "                           Logit Regression Results                           \n",
            "==============================================================================\n",
            "Dep. Variable:                  Churn   No. Observations:                 4922\n",
            "Model:                          Logit   Df Residuals:                     4917\n",
            "Method:                           MLE   Df Model:                            4\n",
            "Date:                Tue, 10 Jan 2023   Pseudo R-squ.:                  0.2417\n",
            "Time:                        11:11:30   Log-Likelihood:                -2144.7\n",
            "converged:                       True   LL-Null:                       -2828.2\n",
            "Covariance Type:            nonrobust   LLR p-value:                1.009e-294\n",
            "===============================================================================================\n",
            "                                  coef    std err          z      P>|z|      [0.025      0.975]\n",
            "-----------------------------------------------------------------------------------------------\n",
            "PhoneService                   -1.6604      0.085    -19.428      0.000      -1.828      -1.493\n",
            "Contract_One year              -1.2033      0.115    -10.497      0.000      -1.428      -0.979\n",
            "Contract_Two year              -2.1243      0.192    -11.050      0.000      -2.501      -1.748\n",
            "InternetService_Fiber optic     1.6316      0.089     18.334      0.000       1.457       1.806\n",
            "tenure                         -0.6128      0.053    -11.648      0.000      -0.716      -0.510\n",
            "===============================================================================================\n"
          ]
        }
      ],
      "source": [
        "#recreating the model with StatsModels with RFE selecte columns\n",
        "\n",
        "logm3 = sm.Logit(y_train, X_train[col])\n",
        "\n",
        "logm3 = logm3.fit()\n",
        "print(logm3.summary())"
      ]
    },
    {
      "cell_type": "markdown",
      "metadata": {
        "id": "1znjQrQV1H3n"
      },
      "source": [
        "### **`Making Predictions`**\n",
        "\n",
        "<p style='text-align: right;'> 14 points</p>\n"
      ]
    },
    {
      "cell_type": "code",
      "execution_count": null,
      "metadata": {
        "id": "jKKiSDOw1H3o"
      },
      "outputs": [],
      "source": [
        "# Predicted probabilities\n",
        "y_pred = logsk.predict_proba(X_test[col])\n"
      ]
    },
    {
      "cell_type": "code",
      "execution_count": null,
      "metadata": {
        "id": "KtpTQ-sk1H3o"
      },
      "outputs": [],
      "source": [
        "# Converting y_pred to a dataframe which is an array\n",
        "y_pred_df = pd.DataFrame(y_pred)\n"
      ]
    },
    {
      "cell_type": "code",
      "source": [
        "print(y_pred_df)"
      ],
      "metadata": {
        "colab": {
          "base_uri": "https://localhost:8080/"
        },
        "id": "U0jU6-Or8r4B",
        "outputId": "9496c1e0-e274-414a-d09d-ae2795a7948a"
      },
      "execution_count": null,
      "outputs": [
        {
          "output_type": "stream",
          "name": "stdout",
          "text": [
            "             0         1\n",
            "0     0.465497  0.534503\n",
            "1     0.707265  0.292735\n",
            "2     0.986537  0.013463\n",
            "3     0.299559  0.700441\n",
            "4     0.977437  0.022563\n",
            "...        ...       ...\n",
            "2105  0.975264  0.024736\n",
            "2106  0.950746  0.049254\n",
            "2107  0.990381  0.009619\n",
            "2108  0.701747  0.298253\n",
            "2109  0.990953  0.009047\n",
            "\n",
            "[2110 rows x 2 columns]\n"
          ]
        }
      ]
    },
    {
      "cell_type": "code",
      "execution_count": null,
      "metadata": {
        "id": "zkG_TQp61H3o"
      },
      "outputs": [],
      "source": [
        "# Converting to column dataframe\n",
        "y_pred_1 = y_pred_df.iloc[:,[1]]\n"
      ]
    },
    {
      "cell_type": "code",
      "execution_count": null,
      "metadata": {
        "id": "_F_059Zu1H3p",
        "colab": {
          "base_uri": "https://localhost:8080/",
          "height": 206
        },
        "outputId": "163082bf-ce5f-484f-fbd6-c99543298e9d"
      },
      "outputs": [
        {
          "output_type": "execute_result",
          "data": {
            "text/plain": [
              "          1\n",
              "0  0.534503\n",
              "1  0.292735\n",
              "2  0.013463\n",
              "3  0.700441\n",
              "4  0.022563"
            ],
            "text/html": [
              "\n",
              "  <div id=\"df-11e2d2cc-205b-4368-a20b-7b0ac6868784\">\n",
              "    <div class=\"colab-df-container\">\n",
              "      <div>\n",
              "<style scoped>\n",
              "    .dataframe tbody tr th:only-of-type {\n",
              "        vertical-align: middle;\n",
              "    }\n",
              "\n",
              "    .dataframe tbody tr th {\n",
              "        vertical-align: top;\n",
              "    }\n",
              "\n",
              "    .dataframe thead th {\n",
              "        text-align: right;\n",
              "    }\n",
              "</style>\n",
              "<table border=\"1\" class=\"dataframe\">\n",
              "  <thead>\n",
              "    <tr style=\"text-align: right;\">\n",
              "      <th></th>\n",
              "      <th>1</th>\n",
              "    </tr>\n",
              "  </thead>\n",
              "  <tbody>\n",
              "    <tr>\n",
              "      <th>0</th>\n",
              "      <td>0.534503</td>\n",
              "    </tr>\n",
              "    <tr>\n",
              "      <th>1</th>\n",
              "      <td>0.292735</td>\n",
              "    </tr>\n",
              "    <tr>\n",
              "      <th>2</th>\n",
              "      <td>0.013463</td>\n",
              "    </tr>\n",
              "    <tr>\n",
              "      <th>3</th>\n",
              "      <td>0.700441</td>\n",
              "    </tr>\n",
              "    <tr>\n",
              "      <th>4</th>\n",
              "      <td>0.022563</td>\n",
              "    </tr>\n",
              "  </tbody>\n",
              "</table>\n",
              "</div>\n",
              "      <button class=\"colab-df-convert\" onclick=\"convertToInteractive('df-11e2d2cc-205b-4368-a20b-7b0ac6868784')\"\n",
              "              title=\"Convert this dataframe to an interactive table.\"\n",
              "              style=\"display:none;\">\n",
              "        \n",
              "  <svg xmlns=\"http://www.w3.org/2000/svg\" height=\"24px\"viewBox=\"0 0 24 24\"\n",
              "       width=\"24px\">\n",
              "    <path d=\"M0 0h24v24H0V0z\" fill=\"none\"/>\n",
              "    <path d=\"M18.56 5.44l.94 2.06.94-2.06 2.06-.94-2.06-.94-.94-2.06-.94 2.06-2.06.94zm-11 1L8.5 8.5l.94-2.06 2.06-.94-2.06-.94L8.5 2.5l-.94 2.06-2.06.94zm10 10l.94 2.06.94-2.06 2.06-.94-2.06-.94-.94-2.06-.94 2.06-2.06.94z\"/><path d=\"M17.41 7.96l-1.37-1.37c-.4-.4-.92-.59-1.43-.59-.52 0-1.04.2-1.43.59L10.3 9.45l-7.72 7.72c-.78.78-.78 2.05 0 2.83L4 21.41c.39.39.9.59 1.41.59.51 0 1.02-.2 1.41-.59l7.78-7.78 2.81-2.81c.8-.78.8-2.07 0-2.86zM5.41 20L4 18.59l7.72-7.72 1.47 1.35L5.41 20z\"/>\n",
              "  </svg>\n",
              "      </button>\n",
              "      \n",
              "  <style>\n",
              "    .colab-df-container {\n",
              "      display:flex;\n",
              "      flex-wrap:wrap;\n",
              "      gap: 12px;\n",
              "    }\n",
              "\n",
              "    .colab-df-convert {\n",
              "      background-color: #E8F0FE;\n",
              "      border: none;\n",
              "      border-radius: 50%;\n",
              "      cursor: pointer;\n",
              "      display: none;\n",
              "      fill: #1967D2;\n",
              "      height: 32px;\n",
              "      padding: 0 0 0 0;\n",
              "      width: 32px;\n",
              "    }\n",
              "\n",
              "    .colab-df-convert:hover {\n",
              "      background-color: #E2EBFA;\n",
              "      box-shadow: 0px 1px 2px rgba(60, 64, 67, 0.3), 0px 1px 3px 1px rgba(60, 64, 67, 0.15);\n",
              "      fill: #174EA6;\n",
              "    }\n",
              "\n",
              "    [theme=dark] .colab-df-convert {\n",
              "      background-color: #3B4455;\n",
              "      fill: #D2E3FC;\n",
              "    }\n",
              "\n",
              "    [theme=dark] .colab-df-convert:hover {\n",
              "      background-color: #434B5C;\n",
              "      box-shadow: 0px 1px 3px 1px rgba(0, 0, 0, 0.15);\n",
              "      filter: drop-shadow(0px 1px 2px rgba(0, 0, 0, 0.3));\n",
              "      fill: #FFFFFF;\n",
              "    }\n",
              "  </style>\n",
              "\n",
              "      <script>\n",
              "        const buttonEl =\n",
              "          document.querySelector('#df-11e2d2cc-205b-4368-a20b-7b0ac6868784 button.colab-df-convert');\n",
              "        buttonEl.style.display =\n",
              "          google.colab.kernel.accessAllowed ? 'block' : 'none';\n",
              "\n",
              "        async function convertToInteractive(key) {\n",
              "          const element = document.querySelector('#df-11e2d2cc-205b-4368-a20b-7b0ac6868784');\n",
              "          const dataTable =\n",
              "            await google.colab.kernel.invokeFunction('convertToInteractive',\n",
              "                                                     [key], {});\n",
              "          if (!dataTable) return;\n",
              "\n",
              "          const docLinkHtml = 'Like what you see? Visit the ' +\n",
              "            '<a target=\"_blank\" href=https://colab.research.google.com/notebooks/data_table.ipynb>data table notebook</a>'\n",
              "            + ' to learn more about interactive tables.';\n",
              "          element.innerHTML = '';\n",
              "          dataTable['output_type'] = 'display_data';\n",
              "          await google.colab.output.renderOutput(dataTable, element);\n",
              "          const docLink = document.createElement('div');\n",
              "          docLink.innerHTML = docLinkHtml;\n",
              "          element.appendChild(docLink);\n",
              "        }\n",
              "      </script>\n",
              "    </div>\n",
              "  </div>\n",
              "  "
            ]
          },
          "metadata": {},
          "execution_count": 77
        }
      ],
      "source": [
        "# Let's see the head\n",
        "\n",
        "y_pred_1.head()"
      ]
    },
    {
      "cell_type": "code",
      "source": [
        "type(y_test)"
      ],
      "metadata": {
        "colab": {
          "base_uri": "https://localhost:8080/"
        },
        "id": "5jVzE_Gb9UMw",
        "outputId": "29096498-38ab-4bf2-b734-d1207b98a622"
      },
      "execution_count": null,
      "outputs": [
        {
          "output_type": "execute_result",
          "data": {
            "text/plain": [
              "pandas.core.series.Series"
            ]
          },
          "metadata": {},
          "execution_count": 78
        }
      ]
    },
    {
      "cell_type": "code",
      "execution_count": null,
      "metadata": {
        "id": "Of_15GfG1H3p"
      },
      "outputs": [],
      "source": [
        "# Converting y_test to dataframe\n",
        "y_test_df = pd.DataFrame(y_test)\n"
      ]
    },
    {
      "cell_type": "code",
      "source": [
        "y_test_df.head()"
      ],
      "metadata": {
        "colab": {
          "base_uri": "https://localhost:8080/",
          "height": 206
        },
        "id": "I0m7OwoC9fMi",
        "outputId": "a2f1f070-f483-4ebf-a405-307b9bee444e"
      },
      "execution_count": null,
      "outputs": [
        {
          "output_type": "execute_result",
          "data": {
            "text/plain": [
              "      Churn\n",
              "942       0\n",
              "3730      1\n",
              "1761      0\n",
              "2283      1\n",
              "1872      0"
            ],
            "text/html": [
              "\n",
              "  <div id=\"df-61476344-ab1a-4201-9737-bbe45dc7e9bf\">\n",
              "    <div class=\"colab-df-container\">\n",
              "      <div>\n",
              "<style scoped>\n",
              "    .dataframe tbody tr th:only-of-type {\n",
              "        vertical-align: middle;\n",
              "    }\n",
              "\n",
              "    .dataframe tbody tr th {\n",
              "        vertical-align: top;\n",
              "    }\n",
              "\n",
              "    .dataframe thead th {\n",
              "        text-align: right;\n",
              "    }\n",
              "</style>\n",
              "<table border=\"1\" class=\"dataframe\">\n",
              "  <thead>\n",
              "    <tr style=\"text-align: right;\">\n",
              "      <th></th>\n",
              "      <th>Churn</th>\n",
              "    </tr>\n",
              "  </thead>\n",
              "  <tbody>\n",
              "    <tr>\n",
              "      <th>942</th>\n",
              "      <td>0</td>\n",
              "    </tr>\n",
              "    <tr>\n",
              "      <th>3730</th>\n",
              "      <td>1</td>\n",
              "    </tr>\n",
              "    <tr>\n",
              "      <th>1761</th>\n",
              "      <td>0</td>\n",
              "    </tr>\n",
              "    <tr>\n",
              "      <th>2283</th>\n",
              "      <td>1</td>\n",
              "    </tr>\n",
              "    <tr>\n",
              "      <th>1872</th>\n",
              "      <td>0</td>\n",
              "    </tr>\n",
              "  </tbody>\n",
              "</table>\n",
              "</div>\n",
              "      <button class=\"colab-df-convert\" onclick=\"convertToInteractive('df-61476344-ab1a-4201-9737-bbe45dc7e9bf')\"\n",
              "              title=\"Convert this dataframe to an interactive table.\"\n",
              "              style=\"display:none;\">\n",
              "        \n",
              "  <svg xmlns=\"http://www.w3.org/2000/svg\" height=\"24px\"viewBox=\"0 0 24 24\"\n",
              "       width=\"24px\">\n",
              "    <path d=\"M0 0h24v24H0V0z\" fill=\"none\"/>\n",
              "    <path d=\"M18.56 5.44l.94 2.06.94-2.06 2.06-.94-2.06-.94-.94-2.06-.94 2.06-2.06.94zm-11 1L8.5 8.5l.94-2.06 2.06-.94-2.06-.94L8.5 2.5l-.94 2.06-2.06.94zm10 10l.94 2.06.94-2.06 2.06-.94-2.06-.94-.94-2.06-.94 2.06-2.06.94z\"/><path d=\"M17.41 7.96l-1.37-1.37c-.4-.4-.92-.59-1.43-.59-.52 0-1.04.2-1.43.59L10.3 9.45l-7.72 7.72c-.78.78-.78 2.05 0 2.83L4 21.41c.39.39.9.59 1.41.59.51 0 1.02-.2 1.41-.59l7.78-7.78 2.81-2.81c.8-.78.8-2.07 0-2.86zM5.41 20L4 18.59l7.72-7.72 1.47 1.35L5.41 20z\"/>\n",
              "  </svg>\n",
              "      </button>\n",
              "      \n",
              "  <style>\n",
              "    .colab-df-container {\n",
              "      display:flex;\n",
              "      flex-wrap:wrap;\n",
              "      gap: 12px;\n",
              "    }\n",
              "\n",
              "    .colab-df-convert {\n",
              "      background-color: #E8F0FE;\n",
              "      border: none;\n",
              "      border-radius: 50%;\n",
              "      cursor: pointer;\n",
              "      display: none;\n",
              "      fill: #1967D2;\n",
              "      height: 32px;\n",
              "      padding: 0 0 0 0;\n",
              "      width: 32px;\n",
              "    }\n",
              "\n",
              "    .colab-df-convert:hover {\n",
              "      background-color: #E2EBFA;\n",
              "      box-shadow: 0px 1px 2px rgba(60, 64, 67, 0.3), 0px 1px 3px 1px rgba(60, 64, 67, 0.15);\n",
              "      fill: #174EA6;\n",
              "    }\n",
              "\n",
              "    [theme=dark] .colab-df-convert {\n",
              "      background-color: #3B4455;\n",
              "      fill: #D2E3FC;\n",
              "    }\n",
              "\n",
              "    [theme=dark] .colab-df-convert:hover {\n",
              "      background-color: #434B5C;\n",
              "      box-shadow: 0px 1px 3px 1px rgba(0, 0, 0, 0.15);\n",
              "      filter: drop-shadow(0px 1px 2px rgba(0, 0, 0, 0.3));\n",
              "      fill: #FFFFFF;\n",
              "    }\n",
              "  </style>\n",
              "\n",
              "      <script>\n",
              "        const buttonEl =\n",
              "          document.querySelector('#df-61476344-ab1a-4201-9737-bbe45dc7e9bf button.colab-df-convert');\n",
              "        buttonEl.style.display =\n",
              "          google.colab.kernel.accessAllowed ? 'block' : 'none';\n",
              "\n",
              "        async function convertToInteractive(key) {\n",
              "          const element = document.querySelector('#df-61476344-ab1a-4201-9737-bbe45dc7e9bf');\n",
              "          const dataTable =\n",
              "            await google.colab.kernel.invokeFunction('convertToInteractive',\n",
              "                                                     [key], {});\n",
              "          if (!dataTable) return;\n",
              "\n",
              "          const docLinkHtml = 'Like what you see? Visit the ' +\n",
              "            '<a target=\"_blank\" href=https://colab.research.google.com/notebooks/data_table.ipynb>data table notebook</a>'\n",
              "            + ' to learn more about interactive tables.';\n",
              "          element.innerHTML = '';\n",
              "          dataTable['output_type'] = 'display_data';\n",
              "          await google.colab.output.renderOutput(dataTable, element);\n",
              "          const docLink = document.createElement('div');\n",
              "          docLink.innerHTML = docLinkHtml;\n",
              "          element.appendChild(docLink);\n",
              "        }\n",
              "      </script>\n",
              "    </div>\n",
              "  </div>\n",
              "  "
            ]
          },
          "metadata": {},
          "execution_count": 80
        }
      ]
    },
    {
      "cell_type": "code",
      "execution_count": null,
      "metadata": {
        "id": "9h9X1ZbJ1H3p"
      },
      "outputs": [],
      "source": [
        "# Putting CustID to index\n",
        "y_test_df['CustID'] = y_test_df.index\n"
      ]
    },
    {
      "cell_type": "code",
      "execution_count": null,
      "metadata": {
        "id": "TXnsX8A_1H3q"
      },
      "outputs": [],
      "source": [
        "# Removing index for both dataframes to append them side by side \n",
        "y_pred_1.reset_index(drop=True, inplace=True)\n",
        "\n",
        "y_test_df.reset_index(drop=True, inplace=True)"
      ]
    },
    {
      "cell_type": "code",
      "execution_count": null,
      "metadata": {
        "id": "u8cxefdw1H3q"
      },
      "outputs": [],
      "source": [
        "# Appending y_test_df and y_pred_1\n",
        "y_pred_final = pd.concat([y_pred_1, y_test_df], axis=1)\n"
      ]
    },
    {
      "cell_type": "code",
      "source": [
        "y_pred_final.head(1)"
      ],
      "metadata": {
        "colab": {
          "base_uri": "https://localhost:8080/",
          "height": 81
        },
        "id": "TPW5WG06-u_A",
        "outputId": "ab59cd5e-03a4-43b4-f422-7b28b38d4144"
      },
      "execution_count": null,
      "outputs": [
        {
          "output_type": "execute_result",
          "data": {
            "text/plain": [
              "          1  Churn  CustID\n",
              "0  0.534503      0     942"
            ],
            "text/html": [
              "\n",
              "  <div id=\"df-d1d731ab-bb0e-4f58-9dee-f6d5e4054edd\">\n",
              "    <div class=\"colab-df-container\">\n",
              "      <div>\n",
              "<style scoped>\n",
              "    .dataframe tbody tr th:only-of-type {\n",
              "        vertical-align: middle;\n",
              "    }\n",
              "\n",
              "    .dataframe tbody tr th {\n",
              "        vertical-align: top;\n",
              "    }\n",
              "\n",
              "    .dataframe thead th {\n",
              "        text-align: right;\n",
              "    }\n",
              "</style>\n",
              "<table border=\"1\" class=\"dataframe\">\n",
              "  <thead>\n",
              "    <tr style=\"text-align: right;\">\n",
              "      <th></th>\n",
              "      <th>1</th>\n",
              "      <th>Churn</th>\n",
              "      <th>CustID</th>\n",
              "    </tr>\n",
              "  </thead>\n",
              "  <tbody>\n",
              "    <tr>\n",
              "      <th>0</th>\n",
              "      <td>0.534503</td>\n",
              "      <td>0</td>\n",
              "      <td>942</td>\n",
              "    </tr>\n",
              "  </tbody>\n",
              "</table>\n",
              "</div>\n",
              "      <button class=\"colab-df-convert\" onclick=\"convertToInteractive('df-d1d731ab-bb0e-4f58-9dee-f6d5e4054edd')\"\n",
              "              title=\"Convert this dataframe to an interactive table.\"\n",
              "              style=\"display:none;\">\n",
              "        \n",
              "  <svg xmlns=\"http://www.w3.org/2000/svg\" height=\"24px\"viewBox=\"0 0 24 24\"\n",
              "       width=\"24px\">\n",
              "    <path d=\"M0 0h24v24H0V0z\" fill=\"none\"/>\n",
              "    <path d=\"M18.56 5.44l.94 2.06.94-2.06 2.06-.94-2.06-.94-.94-2.06-.94 2.06-2.06.94zm-11 1L8.5 8.5l.94-2.06 2.06-.94-2.06-.94L8.5 2.5l-.94 2.06-2.06.94zm10 10l.94 2.06.94-2.06 2.06-.94-2.06-.94-.94-2.06-.94 2.06-2.06.94z\"/><path d=\"M17.41 7.96l-1.37-1.37c-.4-.4-.92-.59-1.43-.59-.52 0-1.04.2-1.43.59L10.3 9.45l-7.72 7.72c-.78.78-.78 2.05 0 2.83L4 21.41c.39.39.9.59 1.41.59.51 0 1.02-.2 1.41-.59l7.78-7.78 2.81-2.81c.8-.78.8-2.07 0-2.86zM5.41 20L4 18.59l7.72-7.72 1.47 1.35L5.41 20z\"/>\n",
              "  </svg>\n",
              "      </button>\n",
              "      \n",
              "  <style>\n",
              "    .colab-df-container {\n",
              "      display:flex;\n",
              "      flex-wrap:wrap;\n",
              "      gap: 12px;\n",
              "    }\n",
              "\n",
              "    .colab-df-convert {\n",
              "      background-color: #E8F0FE;\n",
              "      border: none;\n",
              "      border-radius: 50%;\n",
              "      cursor: pointer;\n",
              "      display: none;\n",
              "      fill: #1967D2;\n",
              "      height: 32px;\n",
              "      padding: 0 0 0 0;\n",
              "      width: 32px;\n",
              "    }\n",
              "\n",
              "    .colab-df-convert:hover {\n",
              "      background-color: #E2EBFA;\n",
              "      box-shadow: 0px 1px 2px rgba(60, 64, 67, 0.3), 0px 1px 3px 1px rgba(60, 64, 67, 0.15);\n",
              "      fill: #174EA6;\n",
              "    }\n",
              "\n",
              "    [theme=dark] .colab-df-convert {\n",
              "      background-color: #3B4455;\n",
              "      fill: #D2E3FC;\n",
              "    }\n",
              "\n",
              "    [theme=dark] .colab-df-convert:hover {\n",
              "      background-color: #434B5C;\n",
              "      box-shadow: 0px 1px 3px 1px rgba(0, 0, 0, 0.15);\n",
              "      filter: drop-shadow(0px 1px 2px rgba(0, 0, 0, 0.3));\n",
              "      fill: #FFFFFF;\n",
              "    }\n",
              "  </style>\n",
              "\n",
              "      <script>\n",
              "        const buttonEl =\n",
              "          document.querySelector('#df-d1d731ab-bb0e-4f58-9dee-f6d5e4054edd button.colab-df-convert');\n",
              "        buttonEl.style.display =\n",
              "          google.colab.kernel.accessAllowed ? 'block' : 'none';\n",
              "\n",
              "        async function convertToInteractive(key) {\n",
              "          const element = document.querySelector('#df-d1d731ab-bb0e-4f58-9dee-f6d5e4054edd');\n",
              "          const dataTable =\n",
              "            await google.colab.kernel.invokeFunction('convertToInteractive',\n",
              "                                                     [key], {});\n",
              "          if (!dataTable) return;\n",
              "\n",
              "          const docLinkHtml = 'Like what you see? Visit the ' +\n",
              "            '<a target=\"_blank\" href=https://colab.research.google.com/notebooks/data_table.ipynb>data table notebook</a>'\n",
              "            + ' to learn more about interactive tables.';\n",
              "          element.innerHTML = '';\n",
              "          dataTable['output_type'] = 'display_data';\n",
              "          await google.colab.output.renderOutput(dataTable, element);\n",
              "          const docLink = document.createElement('div');\n",
              "          docLink.innerHTML = docLinkHtml;\n",
              "          element.appendChild(docLink);\n",
              "        }\n",
              "      </script>\n",
              "    </div>\n",
              "  </div>\n",
              "  "
            ]
          },
          "metadata": {},
          "execution_count": 84
        }
      ]
    },
    {
      "cell_type": "code",
      "execution_count": null,
      "metadata": {
        "id": "ZUeXOxa21H3q"
      },
      "outputs": [],
      "source": [
        "# Renaming the column \n",
        "y_pred_final= y_pred_final.rename(columns = {1 : 'Churn_Prob'})\n"
      ]
    },
    {
      "cell_type": "code",
      "execution_count": null,
      "metadata": {
        "id": "TQ94ksul1H3r",
        "colab": {
          "base_uri": "https://localhost:8080/",
          "height": 206
        },
        "outputId": "8a2e61b1-c2fc-4d6f-eea6-9ade9eb9d343"
      },
      "outputs": [
        {
          "output_type": "execute_result",
          "data": {
            "text/plain": [
              "   Churn_Prob  Churn  CustID\n",
              "0    0.534503      0     942\n",
              "1    0.292735      1    3730\n",
              "2    0.013463      0    1761\n",
              "3    0.700441      1    2283\n",
              "4    0.022563      0    1872"
            ],
            "text/html": [
              "\n",
              "  <div id=\"df-6e5c511a-1550-4981-8997-6471229d1e97\">\n",
              "    <div class=\"colab-df-container\">\n",
              "      <div>\n",
              "<style scoped>\n",
              "    .dataframe tbody tr th:only-of-type {\n",
              "        vertical-align: middle;\n",
              "    }\n",
              "\n",
              "    .dataframe tbody tr th {\n",
              "        vertical-align: top;\n",
              "    }\n",
              "\n",
              "    .dataframe thead th {\n",
              "        text-align: right;\n",
              "    }\n",
              "</style>\n",
              "<table border=\"1\" class=\"dataframe\">\n",
              "  <thead>\n",
              "    <tr style=\"text-align: right;\">\n",
              "      <th></th>\n",
              "      <th>Churn_Prob</th>\n",
              "      <th>Churn</th>\n",
              "      <th>CustID</th>\n",
              "    </tr>\n",
              "  </thead>\n",
              "  <tbody>\n",
              "    <tr>\n",
              "      <th>0</th>\n",
              "      <td>0.534503</td>\n",
              "      <td>0</td>\n",
              "      <td>942</td>\n",
              "    </tr>\n",
              "    <tr>\n",
              "      <th>1</th>\n",
              "      <td>0.292735</td>\n",
              "      <td>1</td>\n",
              "      <td>3730</td>\n",
              "    </tr>\n",
              "    <tr>\n",
              "      <th>2</th>\n",
              "      <td>0.013463</td>\n",
              "      <td>0</td>\n",
              "      <td>1761</td>\n",
              "    </tr>\n",
              "    <tr>\n",
              "      <th>3</th>\n",
              "      <td>0.700441</td>\n",
              "      <td>1</td>\n",
              "      <td>2283</td>\n",
              "    </tr>\n",
              "    <tr>\n",
              "      <th>4</th>\n",
              "      <td>0.022563</td>\n",
              "      <td>0</td>\n",
              "      <td>1872</td>\n",
              "    </tr>\n",
              "  </tbody>\n",
              "</table>\n",
              "</div>\n",
              "      <button class=\"colab-df-convert\" onclick=\"convertToInteractive('df-6e5c511a-1550-4981-8997-6471229d1e97')\"\n",
              "              title=\"Convert this dataframe to an interactive table.\"\n",
              "              style=\"display:none;\">\n",
              "        \n",
              "  <svg xmlns=\"http://www.w3.org/2000/svg\" height=\"24px\"viewBox=\"0 0 24 24\"\n",
              "       width=\"24px\">\n",
              "    <path d=\"M0 0h24v24H0V0z\" fill=\"none\"/>\n",
              "    <path d=\"M18.56 5.44l.94 2.06.94-2.06 2.06-.94-2.06-.94-.94-2.06-.94 2.06-2.06.94zm-11 1L8.5 8.5l.94-2.06 2.06-.94-2.06-.94L8.5 2.5l-.94 2.06-2.06.94zm10 10l.94 2.06.94-2.06 2.06-.94-2.06-.94-.94-2.06-.94 2.06-2.06.94z\"/><path d=\"M17.41 7.96l-1.37-1.37c-.4-.4-.92-.59-1.43-.59-.52 0-1.04.2-1.43.59L10.3 9.45l-7.72 7.72c-.78.78-.78 2.05 0 2.83L4 21.41c.39.39.9.59 1.41.59.51 0 1.02-.2 1.41-.59l7.78-7.78 2.81-2.81c.8-.78.8-2.07 0-2.86zM5.41 20L4 18.59l7.72-7.72 1.47 1.35L5.41 20z\"/>\n",
              "  </svg>\n",
              "      </button>\n",
              "      \n",
              "  <style>\n",
              "    .colab-df-container {\n",
              "      display:flex;\n",
              "      flex-wrap:wrap;\n",
              "      gap: 12px;\n",
              "    }\n",
              "\n",
              "    .colab-df-convert {\n",
              "      background-color: #E8F0FE;\n",
              "      border: none;\n",
              "      border-radius: 50%;\n",
              "      cursor: pointer;\n",
              "      display: none;\n",
              "      fill: #1967D2;\n",
              "      height: 32px;\n",
              "      padding: 0 0 0 0;\n",
              "      width: 32px;\n",
              "    }\n",
              "\n",
              "    .colab-df-convert:hover {\n",
              "      background-color: #E2EBFA;\n",
              "      box-shadow: 0px 1px 2px rgba(60, 64, 67, 0.3), 0px 1px 3px 1px rgba(60, 64, 67, 0.15);\n",
              "      fill: #174EA6;\n",
              "    }\n",
              "\n",
              "    [theme=dark] .colab-df-convert {\n",
              "      background-color: #3B4455;\n",
              "      fill: #D2E3FC;\n",
              "    }\n",
              "\n",
              "    [theme=dark] .colab-df-convert:hover {\n",
              "      background-color: #434B5C;\n",
              "      box-shadow: 0px 1px 3px 1px rgba(0, 0, 0, 0.15);\n",
              "      filter: drop-shadow(0px 1px 2px rgba(0, 0, 0, 0.3));\n",
              "      fill: #FFFFFF;\n",
              "    }\n",
              "  </style>\n",
              "\n",
              "      <script>\n",
              "        const buttonEl =\n",
              "          document.querySelector('#df-6e5c511a-1550-4981-8997-6471229d1e97 button.colab-df-convert');\n",
              "        buttonEl.style.display =\n",
              "          google.colab.kernel.accessAllowed ? 'block' : 'none';\n",
              "\n",
              "        async function convertToInteractive(key) {\n",
              "          const element = document.querySelector('#df-6e5c511a-1550-4981-8997-6471229d1e97');\n",
              "          const dataTable =\n",
              "            await google.colab.kernel.invokeFunction('convertToInteractive',\n",
              "                                                     [key], {});\n",
              "          if (!dataTable) return;\n",
              "\n",
              "          const docLinkHtml = 'Like what you see? Visit the ' +\n",
              "            '<a target=\"_blank\" href=https://colab.research.google.com/notebooks/data_table.ipynb>data table notebook</a>'\n",
              "            + ' to learn more about interactive tables.';\n",
              "          element.innerHTML = '';\n",
              "          dataTable['output_type'] = 'display_data';\n",
              "          await google.colab.output.renderOutput(dataTable, element);\n",
              "          const docLink = document.createElement('div');\n",
              "          docLink.innerHTML = docLinkHtml;\n",
              "          element.appendChild(docLink);\n",
              "        }\n",
              "      </script>\n",
              "    </div>\n",
              "  </div>\n",
              "  "
            ]
          },
          "metadata": {},
          "execution_count": 86
        }
      ],
      "source": [
        "#print y_pred_final\n",
        "y_pred_final.head()\n"
      ]
    },
    {
      "cell_type": "code",
      "execution_count": null,
      "metadata": {
        "id": "_f3enc511H3r"
      },
      "outputs": [],
      "source": [
        "# Rearranging the columns\n",
        "y_pred_final = y_pred_final.reindex(columns= ['CustID', 'Churn', 'Churn_Prob'])\n"
      ]
    },
    {
      "cell_type": "code",
      "execution_count": null,
      "metadata": {
        "id": "YSbg8O-B1H3r",
        "colab": {
          "base_uri": "https://localhost:8080/",
          "height": 206
        },
        "outputId": "c897ecbd-8dd8-41eb-a1fe-de7818e3b09d"
      },
      "outputs": [
        {
          "output_type": "execute_result",
          "data": {
            "text/plain": [
              "   CustID  Churn  Churn_Prob\n",
              "0     942      0    0.534503\n",
              "1    3730      1    0.292735\n",
              "2    1761      0    0.013463\n",
              "3    2283      1    0.700441\n",
              "4    1872      0    0.022563"
            ],
            "text/html": [
              "\n",
              "  <div id=\"df-c4230b2f-1dfb-421c-8a66-77cdece5b09e\">\n",
              "    <div class=\"colab-df-container\">\n",
              "      <div>\n",
              "<style scoped>\n",
              "    .dataframe tbody tr th:only-of-type {\n",
              "        vertical-align: middle;\n",
              "    }\n",
              "\n",
              "    .dataframe tbody tr th {\n",
              "        vertical-align: top;\n",
              "    }\n",
              "\n",
              "    .dataframe thead th {\n",
              "        text-align: right;\n",
              "    }\n",
              "</style>\n",
              "<table border=\"1\" class=\"dataframe\">\n",
              "  <thead>\n",
              "    <tr style=\"text-align: right;\">\n",
              "      <th></th>\n",
              "      <th>CustID</th>\n",
              "      <th>Churn</th>\n",
              "      <th>Churn_Prob</th>\n",
              "    </tr>\n",
              "  </thead>\n",
              "  <tbody>\n",
              "    <tr>\n",
              "      <th>0</th>\n",
              "      <td>942</td>\n",
              "      <td>0</td>\n",
              "      <td>0.534503</td>\n",
              "    </tr>\n",
              "    <tr>\n",
              "      <th>1</th>\n",
              "      <td>3730</td>\n",
              "      <td>1</td>\n",
              "      <td>0.292735</td>\n",
              "    </tr>\n",
              "    <tr>\n",
              "      <th>2</th>\n",
              "      <td>1761</td>\n",
              "      <td>0</td>\n",
              "      <td>0.013463</td>\n",
              "    </tr>\n",
              "    <tr>\n",
              "      <th>3</th>\n",
              "      <td>2283</td>\n",
              "      <td>1</td>\n",
              "      <td>0.700441</td>\n",
              "    </tr>\n",
              "    <tr>\n",
              "      <th>4</th>\n",
              "      <td>1872</td>\n",
              "      <td>0</td>\n",
              "      <td>0.022563</td>\n",
              "    </tr>\n",
              "  </tbody>\n",
              "</table>\n",
              "</div>\n",
              "      <button class=\"colab-df-convert\" onclick=\"convertToInteractive('df-c4230b2f-1dfb-421c-8a66-77cdece5b09e')\"\n",
              "              title=\"Convert this dataframe to an interactive table.\"\n",
              "              style=\"display:none;\">\n",
              "        \n",
              "  <svg xmlns=\"http://www.w3.org/2000/svg\" height=\"24px\"viewBox=\"0 0 24 24\"\n",
              "       width=\"24px\">\n",
              "    <path d=\"M0 0h24v24H0V0z\" fill=\"none\"/>\n",
              "    <path d=\"M18.56 5.44l.94 2.06.94-2.06 2.06-.94-2.06-.94-.94-2.06-.94 2.06-2.06.94zm-11 1L8.5 8.5l.94-2.06 2.06-.94-2.06-.94L8.5 2.5l-.94 2.06-2.06.94zm10 10l.94 2.06.94-2.06 2.06-.94-2.06-.94-.94-2.06-.94 2.06-2.06.94z\"/><path d=\"M17.41 7.96l-1.37-1.37c-.4-.4-.92-.59-1.43-.59-.52 0-1.04.2-1.43.59L10.3 9.45l-7.72 7.72c-.78.78-.78 2.05 0 2.83L4 21.41c.39.39.9.59 1.41.59.51 0 1.02-.2 1.41-.59l7.78-7.78 2.81-2.81c.8-.78.8-2.07 0-2.86zM5.41 20L4 18.59l7.72-7.72 1.47 1.35L5.41 20z\"/>\n",
              "  </svg>\n",
              "      </button>\n",
              "      \n",
              "  <style>\n",
              "    .colab-df-container {\n",
              "      display:flex;\n",
              "      flex-wrap:wrap;\n",
              "      gap: 12px;\n",
              "    }\n",
              "\n",
              "    .colab-df-convert {\n",
              "      background-color: #E8F0FE;\n",
              "      border: none;\n",
              "      border-radius: 50%;\n",
              "      cursor: pointer;\n",
              "      display: none;\n",
              "      fill: #1967D2;\n",
              "      height: 32px;\n",
              "      padding: 0 0 0 0;\n",
              "      width: 32px;\n",
              "    }\n",
              "\n",
              "    .colab-df-convert:hover {\n",
              "      background-color: #E2EBFA;\n",
              "      box-shadow: 0px 1px 2px rgba(60, 64, 67, 0.3), 0px 1px 3px 1px rgba(60, 64, 67, 0.15);\n",
              "      fill: #174EA6;\n",
              "    }\n",
              "\n",
              "    [theme=dark] .colab-df-convert {\n",
              "      background-color: #3B4455;\n",
              "      fill: #D2E3FC;\n",
              "    }\n",
              "\n",
              "    [theme=dark] .colab-df-convert:hover {\n",
              "      background-color: #434B5C;\n",
              "      box-shadow: 0px 1px 3px 1px rgba(0, 0, 0, 0.15);\n",
              "      filter: drop-shadow(0px 1px 2px rgba(0, 0, 0, 0.3));\n",
              "      fill: #FFFFFF;\n",
              "    }\n",
              "  </style>\n",
              "\n",
              "      <script>\n",
              "        const buttonEl =\n",
              "          document.querySelector('#df-c4230b2f-1dfb-421c-8a66-77cdece5b09e button.colab-df-convert');\n",
              "        buttonEl.style.display =\n",
              "          google.colab.kernel.accessAllowed ? 'block' : 'none';\n",
              "\n",
              "        async function convertToInteractive(key) {\n",
              "          const element = document.querySelector('#df-c4230b2f-1dfb-421c-8a66-77cdece5b09e');\n",
              "          const dataTable =\n",
              "            await google.colab.kernel.invokeFunction('convertToInteractive',\n",
              "                                                     [key], {});\n",
              "          if (!dataTable) return;\n",
              "\n",
              "          const docLinkHtml = 'Like what you see? Visit the ' +\n",
              "            '<a target=\"_blank\" href=https://colab.research.google.com/notebooks/data_table.ipynb>data table notebook</a>'\n",
              "            + ' to learn more about interactive tables.';\n",
              "          element.innerHTML = '';\n",
              "          dataTable['output_type'] = 'display_data';\n",
              "          await google.colab.output.renderOutput(dataTable, element);\n",
              "          const docLink = document.createElement('div');\n",
              "          docLink.innerHTML = docLinkHtml;\n",
              "          element.appendChild(docLink);\n",
              "        }\n",
              "      </script>\n",
              "    </div>\n",
              "  </div>\n",
              "  "
            ]
          },
          "metadata": {},
          "execution_count": 88
        }
      ],
      "source": [
        "# Let's see the head of y_pred_final\n",
        "\n",
        "y_pred_final.head()"
      ]
    },
    {
      "cell_type": "code",
      "execution_count": null,
      "metadata": {
        "id": "HktHyogD1H3s"
      },
      "outputs": [],
      "source": [
        "# Creating new column 'predicted' with 1 if Churn_Prob>0.5 else 0\n",
        "y_pred_final['predicted'] = y_pred_final['Churn_Prob'].map(lambda x : 1 if x >0.5 else 0)\n"
      ]
    },
    {
      "cell_type": "code",
      "execution_count": null,
      "metadata": {
        "id": "kLiC_mFj1H3s",
        "colab": {
          "base_uri": "https://localhost:8080/",
          "height": 206
        },
        "outputId": "03a6ab1b-5a25-4741-861a-b14914e8edc7"
      },
      "outputs": [
        {
          "output_type": "execute_result",
          "data": {
            "text/plain": [
              "   CustID  Churn  Churn_Prob  predicted\n",
              "0     942      0    0.534503          1\n",
              "1    3730      1    0.292735          0\n",
              "2    1761      0    0.013463          0\n",
              "3    2283      1    0.700441          1\n",
              "4    1872      0    0.022563          0"
            ],
            "text/html": [
              "\n",
              "  <div id=\"df-e7681205-4fdb-4a9f-a367-49d08ec89138\">\n",
              "    <div class=\"colab-df-container\">\n",
              "      <div>\n",
              "<style scoped>\n",
              "    .dataframe tbody tr th:only-of-type {\n",
              "        vertical-align: middle;\n",
              "    }\n",
              "\n",
              "    .dataframe tbody tr th {\n",
              "        vertical-align: top;\n",
              "    }\n",
              "\n",
              "    .dataframe thead th {\n",
              "        text-align: right;\n",
              "    }\n",
              "</style>\n",
              "<table border=\"1\" class=\"dataframe\">\n",
              "  <thead>\n",
              "    <tr style=\"text-align: right;\">\n",
              "      <th></th>\n",
              "      <th>CustID</th>\n",
              "      <th>Churn</th>\n",
              "      <th>Churn_Prob</th>\n",
              "      <th>predicted</th>\n",
              "    </tr>\n",
              "  </thead>\n",
              "  <tbody>\n",
              "    <tr>\n",
              "      <th>0</th>\n",
              "      <td>942</td>\n",
              "      <td>0</td>\n",
              "      <td>0.534503</td>\n",
              "      <td>1</td>\n",
              "    </tr>\n",
              "    <tr>\n",
              "      <th>1</th>\n",
              "      <td>3730</td>\n",
              "      <td>1</td>\n",
              "      <td>0.292735</td>\n",
              "      <td>0</td>\n",
              "    </tr>\n",
              "    <tr>\n",
              "      <th>2</th>\n",
              "      <td>1761</td>\n",
              "      <td>0</td>\n",
              "      <td>0.013463</td>\n",
              "      <td>0</td>\n",
              "    </tr>\n",
              "    <tr>\n",
              "      <th>3</th>\n",
              "      <td>2283</td>\n",
              "      <td>1</td>\n",
              "      <td>0.700441</td>\n",
              "      <td>1</td>\n",
              "    </tr>\n",
              "    <tr>\n",
              "      <th>4</th>\n",
              "      <td>1872</td>\n",
              "      <td>0</td>\n",
              "      <td>0.022563</td>\n",
              "      <td>0</td>\n",
              "    </tr>\n",
              "  </tbody>\n",
              "</table>\n",
              "</div>\n",
              "      <button class=\"colab-df-convert\" onclick=\"convertToInteractive('df-e7681205-4fdb-4a9f-a367-49d08ec89138')\"\n",
              "              title=\"Convert this dataframe to an interactive table.\"\n",
              "              style=\"display:none;\">\n",
              "        \n",
              "  <svg xmlns=\"http://www.w3.org/2000/svg\" height=\"24px\"viewBox=\"0 0 24 24\"\n",
              "       width=\"24px\">\n",
              "    <path d=\"M0 0h24v24H0V0z\" fill=\"none\"/>\n",
              "    <path d=\"M18.56 5.44l.94 2.06.94-2.06 2.06-.94-2.06-.94-.94-2.06-.94 2.06-2.06.94zm-11 1L8.5 8.5l.94-2.06 2.06-.94-2.06-.94L8.5 2.5l-.94 2.06-2.06.94zm10 10l.94 2.06.94-2.06 2.06-.94-2.06-.94-.94-2.06-.94 2.06-2.06.94z\"/><path d=\"M17.41 7.96l-1.37-1.37c-.4-.4-.92-.59-1.43-.59-.52 0-1.04.2-1.43.59L10.3 9.45l-7.72 7.72c-.78.78-.78 2.05 0 2.83L4 21.41c.39.39.9.59 1.41.59.51 0 1.02-.2 1.41-.59l7.78-7.78 2.81-2.81c.8-.78.8-2.07 0-2.86zM5.41 20L4 18.59l7.72-7.72 1.47 1.35L5.41 20z\"/>\n",
              "  </svg>\n",
              "      </button>\n",
              "      \n",
              "  <style>\n",
              "    .colab-df-container {\n",
              "      display:flex;\n",
              "      flex-wrap:wrap;\n",
              "      gap: 12px;\n",
              "    }\n",
              "\n",
              "    .colab-df-convert {\n",
              "      background-color: #E8F0FE;\n",
              "      border: none;\n",
              "      border-radius: 50%;\n",
              "      cursor: pointer;\n",
              "      display: none;\n",
              "      fill: #1967D2;\n",
              "      height: 32px;\n",
              "      padding: 0 0 0 0;\n",
              "      width: 32px;\n",
              "    }\n",
              "\n",
              "    .colab-df-convert:hover {\n",
              "      background-color: #E2EBFA;\n",
              "      box-shadow: 0px 1px 2px rgba(60, 64, 67, 0.3), 0px 1px 3px 1px rgba(60, 64, 67, 0.15);\n",
              "      fill: #174EA6;\n",
              "    }\n",
              "\n",
              "    [theme=dark] .colab-df-convert {\n",
              "      background-color: #3B4455;\n",
              "      fill: #D2E3FC;\n",
              "    }\n",
              "\n",
              "    [theme=dark] .colab-df-convert:hover {\n",
              "      background-color: #434B5C;\n",
              "      box-shadow: 0px 1px 3px 1px rgba(0, 0, 0, 0.15);\n",
              "      filter: drop-shadow(0px 1px 2px rgba(0, 0, 0, 0.3));\n",
              "      fill: #FFFFFF;\n",
              "    }\n",
              "  </style>\n",
              "\n",
              "      <script>\n",
              "        const buttonEl =\n",
              "          document.querySelector('#df-e7681205-4fdb-4a9f-a367-49d08ec89138 button.colab-df-convert');\n",
              "        buttonEl.style.display =\n",
              "          google.colab.kernel.accessAllowed ? 'block' : 'none';\n",
              "\n",
              "        async function convertToInteractive(key) {\n",
              "          const element = document.querySelector('#df-e7681205-4fdb-4a9f-a367-49d08ec89138');\n",
              "          const dataTable =\n",
              "            await google.colab.kernel.invokeFunction('convertToInteractive',\n",
              "                                                     [key], {});\n",
              "          if (!dataTable) return;\n",
              "\n",
              "          const docLinkHtml = 'Like what you see? Visit the ' +\n",
              "            '<a target=\"_blank\" href=https://colab.research.google.com/notebooks/data_table.ipynb>data table notebook</a>'\n",
              "            + ' to learn more about interactive tables.';\n",
              "          element.innerHTML = '';\n",
              "          dataTable['output_type'] = 'display_data';\n",
              "          await google.colab.output.renderOutput(dataTable, element);\n",
              "          const docLink = document.createElement('div');\n",
              "          docLink.innerHTML = docLinkHtml;\n",
              "          element.appendChild(docLink);\n",
              "        }\n",
              "      </script>\n",
              "    </div>\n",
              "  </div>\n",
              "  "
            ]
          },
          "metadata": {},
          "execution_count": 90
        }
      ],
      "source": [
        "# Let's see the head\n",
        "\n",
        "y_pred_final.head()"
      ]
    },
    {
      "cell_type": "markdown",
      "metadata": {
        "id": "cbDwtvrU1H3s"
      },
      "source": [
        "### **`Model Evaluation`**\n",
        "\n",
        "<p style='text-align: right;'> 11 points</p>\n",
        "\n",
        "\n",
        "Choosing the right metric is very important in any classification problem.\n",
        "To know about various metrics for classification model evaluation refer: \n",
        "\n",
        "\n"
      ]
    },
    {
      "cell_type": "markdown",
      "source": [
        "## **`Watch Video 9 & 10 : Performace Measure for Classification(theory + practical)`**"
      ],
      "metadata": {
        "id": "WhS154bvpLdI"
      }
    },
    {
      "cell_type": "markdown",
      "source": [
        "Lets check Confusion matrix for model evaluation:"
      ],
      "metadata": {
        "id": "22Pi9B5opQ8z"
      }
    },
    {
      "cell_type": "code",
      "execution_count": null,
      "metadata": {
        "id": "lwo8VRBu1H3t"
      },
      "outputs": [],
      "source": [
        "# import metrics \n",
        "from sklearn import metrics\n",
        "from sklearn.metrics import confusion_matrix"
      ]
    },
    {
      "cell_type": "code",
      "execution_count": null,
      "metadata": {
        "id": "z-K9JTfV1H3t",
        "colab": {
          "base_uri": "https://localhost:8080/"
        },
        "outputId": "b50be61f-c5e6-4724-d8d9-a604a01ec36f"
      },
      "outputs": [
        {
          "output_type": "stream",
          "name": "stdout",
          "text": [
            "Help on function confusion_matrix in module sklearn.metrics._classification:\n",
            "\n",
            "confusion_matrix(y_true, y_pred, *, labels=None, sample_weight=None, normalize=None)\n",
            "    Compute confusion matrix to evaluate the accuracy of a classification.\n",
            "    \n",
            "    By definition a confusion matrix :math:`C` is such that :math:`C_{i, j}`\n",
            "    is equal to the number of observations known to be in group :math:`i` and\n",
            "    predicted to be in group :math:`j`.\n",
            "    \n",
            "    Thus in binary classification, the count of true negatives is\n",
            "    :math:`C_{0,0}`, false negatives is :math:`C_{1,0}`, true positives is\n",
            "    :math:`C_{1,1}` and false positives is :math:`C_{0,1}`.\n",
            "    \n",
            "    Read more in the :ref:`User Guide <confusion_matrix>`.\n",
            "    \n",
            "    Parameters\n",
            "    ----------\n",
            "    y_true : array-like of shape (n_samples,)\n",
            "        Ground truth (correct) target values.\n",
            "    \n",
            "    y_pred : array-like of shape (n_samples,)\n",
            "        Estimated targets as returned by a classifier.\n",
            "    \n",
            "    labels : array-like of shape (n_classes), default=None\n",
            "        List of labels to index the matrix. This may be used to reorder\n",
            "        or select a subset of labels.\n",
            "        If ``None`` is given, those that appear at least once\n",
            "        in ``y_true`` or ``y_pred`` are used in sorted order.\n",
            "    \n",
            "    sample_weight : array-like of shape (n_samples,), default=None\n",
            "        Sample weights.\n",
            "    \n",
            "        .. versionadded:: 0.18\n",
            "    \n",
            "    normalize : {'true', 'pred', 'all'}, default=None\n",
            "        Normalizes confusion matrix over the true (rows), predicted (columns)\n",
            "        conditions or all the population. If None, confusion matrix will not be\n",
            "        normalized.\n",
            "    \n",
            "    Returns\n",
            "    -------\n",
            "    C : ndarray of shape (n_classes, n_classes)\n",
            "        Confusion matrix whose i-th row and j-th\n",
            "        column entry indicates the number of\n",
            "        samples with true label being i-th class\n",
            "        and predicted label being j-th class.\n",
            "    \n",
            "    See Also\n",
            "    --------\n",
            "    ConfusionMatrixDisplay.from_estimator : Plot the confusion matrix\n",
            "        given an estimator, the data, and the label.\n",
            "    ConfusionMatrixDisplay.from_predictions : Plot the confusion matrix\n",
            "        given the true and predicted labels.\n",
            "    ConfusionMatrixDisplay : Confusion Matrix visualization.\n",
            "    \n",
            "    References\n",
            "    ----------\n",
            "    .. [1] `Wikipedia entry for the Confusion matrix\n",
            "           <https://en.wikipedia.org/wiki/Confusion_matrix>`_\n",
            "           (Wikipedia and other references may use a different\n",
            "           convention for axes).\n",
            "    \n",
            "    Examples\n",
            "    --------\n",
            "    >>> from sklearn.metrics import confusion_matrix\n",
            "    >>> y_true = [2, 0, 2, 2, 0, 1]\n",
            "    >>> y_pred = [0, 0, 2, 2, 0, 2]\n",
            "    >>> confusion_matrix(y_true, y_pred)\n",
            "    array([[2, 0, 0],\n",
            "           [0, 0, 1],\n",
            "           [1, 0, 2]])\n",
            "    \n",
            "    >>> y_true = [\"cat\", \"ant\", \"cat\", \"cat\", \"ant\", \"bird\"]\n",
            "    >>> y_pred = [\"ant\", \"ant\", \"cat\", \"cat\", \"ant\", \"cat\"]\n",
            "    >>> confusion_matrix(y_true, y_pred, labels=[\"ant\", \"bird\", \"cat\"])\n",
            "    array([[2, 0, 0],\n",
            "           [0, 0, 1],\n",
            "           [1, 0, 2]])\n",
            "    \n",
            "    In the binary case, we can extract true positives, etc as follows:\n",
            "    \n",
            "    >>> tn, fp, fn, tp = confusion_matrix([0, 1, 0, 1], [1, 1, 1, 0]).ravel()\n",
            "    >>> (tn, fp, fn, tp)\n",
            "    (0, 2, 1, 1)\n",
            "\n"
          ]
        }
      ],
      "source": [
        "# Lets check what all things python provides us in confusion matrix using help function.\n",
        "help(metrics.confusion_matrix)\n"
      ]
    },
    {
      "cell_type": "code",
      "source": [
        "print(y_pred_final['predicted'].shape)\n",
        "y_test.shape"
      ],
      "metadata": {
        "colab": {
          "base_uri": "https://localhost:8080/"
        },
        "id": "Nw2gw8Nh-jdO",
        "outputId": "e634d770-3206-472b-f49e-873d6baac641"
      },
      "execution_count": null,
      "outputs": [
        {
          "output_type": "stream",
          "name": "stdout",
          "text": [
            "(2110,)\n"
          ]
        },
        {
          "output_type": "execute_result",
          "data": {
            "text/plain": [
              "(2110,)"
            ]
          },
          "metadata": {},
          "execution_count": 93
        }
      ]
    },
    {
      "cell_type": "code",
      "execution_count": null,
      "metadata": {
        "id": "N2gG2DZp1H3u",
        "outputId": "b2e51bda-297e-4af5-bcce-00346888d3d1",
        "colab": {
          "base_uri": "https://localhost:8080/"
        }
      },
      "outputs": [
        {
          "output_type": "execute_result",
          "data": {
            "text/plain": [
              "array([[1363,  165],\n",
              "       [ 303,  279]])"
            ]
          },
          "metadata": {},
          "execution_count": 94
        }
      ],
      "source": [
        "# get Confusion matrix \n",
        "confusion = confusion_matrix(y_pred_final.Churn, y_pred_final['predicted'])\n",
        "confusion"
      ]
    },
    {
      "cell_type": "code",
      "execution_count": null,
      "metadata": {
        "id": "4clwKBRm1H3u"
      },
      "outputs": [],
      "source": [
        "# meaning of above confusion matrix is\n",
        "\n",
        "# Predicted     not_churn    churn\n",
        "# Actual\n",
        "# not_churn        1363      165\n",
        "# churn            273       309"
      ]
    },
    {
      "cell_type": "code",
      "execution_count": null,
      "metadata": {
        "id": "CCLpWh1N1H3u",
        "colab": {
          "base_uri": "https://localhost:8080/"
        },
        "outputId": "bd2c186b-5f06-402f-ecaa-7e3c7ca9c797"
      },
      "outputs": [
        {
          "output_type": "execute_result",
          "data": {
            "text/plain": [
              "0.7781990521327015"
            ]
          },
          "metadata": {},
          "execution_count": 96
        }
      ],
      "source": [
        "#Let's check the overall accuracy.\n",
        "from sklearn.metrics import accuracy_score\n",
        "accuracy = accuracy_score(y_pred_final.Churn, y_pred_final['predicted'])\n",
        "accuracy"
      ]
    },
    {
      "cell_type": "code",
      "execution_count": null,
      "metadata": {
        "id": "zSNRqJHr1H3v"
      },
      "outputs": [],
      "source": [
        "# Lets check true positive ,true negatives,false positives and false negatives\n",
        "\n",
        "TP = confusion[1 ,1]        # true positive \n",
        "TN = confusion[0, 0]        # true negatives\n",
        "FP = confusion[0, 1]        # false positives\n",
        "FN = confusion[1, 0]        # false negatives"
      ]
    },
    {
      "cell_type": "code",
      "execution_count": null,
      "metadata": {
        "id": "PtHGFHO51H3v",
        "colab": {
          "base_uri": "https://localhost:8080/"
        },
        "outputId": "54ea006b-6324-462b-ec5e-7dafa3b83bb1"
      },
      "outputs": [
        {
          "output_type": "execute_result",
          "data": {
            "text/plain": [
              "0.4793814432989691"
            ]
          },
          "metadata": {},
          "execution_count": 98
        }
      ],
      "source": [
        "# Let's see the sensitivity of our logistic regression model\n",
        "TP / float(TP+FN)\n"
      ]
    },
    {
      "cell_type": "code",
      "execution_count": null,
      "metadata": {
        "id": "ahBYnwy21H3v",
        "colab": {
          "base_uri": "https://localhost:8080/"
        },
        "outputId": "f0045b47-8267-4c9d-957b-1a4091ad9507"
      },
      "outputs": [
        {
          "output_type": "execute_result",
          "data": {
            "text/plain": [
              "0.8920157068062827"
            ]
          },
          "metadata": {},
          "execution_count": 99
        }
      ],
      "source": [
        "# Let us calculate specificity\n",
        "TN / float(TN+FP)"
      ]
    },
    {
      "cell_type": "code",
      "execution_count": null,
      "metadata": {
        "id": "8yUiu9wD1H3w",
        "colab": {
          "base_uri": "https://localhost:8080/"
        },
        "outputId": "5998ed7f-454b-4484-cdda-ff17548a7832"
      },
      "outputs": [
        {
          "output_type": "execute_result",
          "data": {
            "text/plain": [
              "0.10798429319371727"
            ]
          },
          "metadata": {},
          "execution_count": 100
        }
      ],
      "source": [
        "# Calculate false postive rate - predicting churn when customer does not have churned\n",
        "FP / float(TN + FP)\n"
      ]
    },
    {
      "cell_type": "code",
      "execution_count": null,
      "metadata": {
        "id": "JQ1y9gL01H3w",
        "colab": {
          "base_uri": "https://localhost:8080/"
        },
        "outputId": "401ed853-ba71-4a0c-f5f8-ef6dceab682f"
      },
      "outputs": [
        {
          "output_type": "execute_result",
          "data": {
            "text/plain": [
              "0.6283783783783784"
            ]
          },
          "metadata": {},
          "execution_count": 101
        }
      ],
      "source": [
        "# positive predictive value \n",
        "TP / float(TP+ FP)\n"
      ]
    },
    {
      "cell_type": "code",
      "execution_count": null,
      "metadata": {
        "id": "RjTXKBX41H3w",
        "colab": {
          "base_uri": "https://localhost:8080/"
        },
        "outputId": "855dc9ad-cff5-4db7-acca-7732bde17541"
      },
      "outputs": [
        {
          "output_type": "execute_result",
          "data": {
            "text/plain": [
              "0.8181272509003601"
            ]
          },
          "metadata": {},
          "execution_count": 102
        }
      ],
      "source": [
        "# Negative predictive value\n",
        "TN / float(TN + FN)\n"
      ]
    },
    {
      "cell_type": "markdown",
      "metadata": {
        "id": "4skjd4J41H3x"
      },
      "source": [
        "You can also use classification_report to get precision, recall, f1-score, support"
      ]
    },
    {
      "cell_type": "code",
      "execution_count": null,
      "metadata": {
        "id": "TDyES9EK1H3x",
        "colab": {
          "base_uri": "https://localhost:8080/"
        },
        "outputId": "874939a1-e59f-48de-aadf-fd431c744f13"
      },
      "outputs": [
        {
          "output_type": "stream",
          "name": "stdout",
          "text": [
            "              precision    recall  f1-score   support\n",
            "\n",
            "           0       0.82      0.89      0.85      1528\n",
            "           1       0.63      0.48      0.54       582\n",
            "\n",
            "    accuracy                           0.78      2110\n",
            "   macro avg       0.72      0.69      0.70      2110\n",
            "weighted avg       0.77      0.78      0.77      2110\n",
            "\n"
          ]
        }
      ],
      "source": [
        "#  import classification_report\n",
        "from sklearn.metrics import classification_report\n",
        "# print classification_report\n",
        "print(classification_report(y_pred_final.Churn, y_pred_final.predicted))\n"
      ]
    },
    {
      "cell_type": "markdown",
      "metadata": {
        "collapsed": true,
        "id": "G18zerc_1H3x"
      },
      "source": [
        "### **`ROC Curve`**\n",
        "\n",
        "<p style='text-align: right;'> 1 points</p>\n"
      ]
    },
    {
      "cell_type": "markdown",
      "metadata": {
        "collapsed": true,
        "id": "XpkqfuTj1H3y"
      },
      "source": [
        "An ROC curve demonstrates several things:\n",
        "\n",
        "- It shows the tradeoff between sensitivity and specificity (any increase in sensitivity will be accompanied by a decrease in specificity).\n",
        "- The closer the curve follows the left-hand border and then the top border of the ROC space, the more accurate the test.\n",
        "- The closer the curve comes to the 45-degree diagonal of the ROC space, the less accurate the test."
      ]
    },
    {
      "cell_type": "markdown",
      "source": [
        "## **`Watch Video 11 : ROC-AUC`**"
      ],
      "metadata": {
        "id": "WOfCawUQqoqH"
      }
    },
    {
      "cell_type": "code",
      "execution_count": null,
      "metadata": {
        "id": "V0NtSBGq1H3y"
      },
      "outputs": [],
      "source": [
        "# Here we have given you a function to plot ROC curve\n",
        "\n",
        "def draw_roc( actual, probs ):\n",
        "    fpr, tpr, thresholds = metrics.roc_curve( actual, probs,\n",
        "                                              drop_intermediate = False )\n",
        "    auc_score = metrics.roc_auc_score( actual, probs )\n",
        "    plt.figure(figsize=(6, 4))\n",
        "    plt.plot( fpr, tpr, label='ROC curve (area = %0.2f)' % auc_score )\n",
        "    plt.plot([0, 1], [0, 1], 'k--')\n",
        "    plt.xlim([0.0, 1.0])\n",
        "    plt.ylim([0.0, 1.05])\n",
        "    plt.xlabel('False Positive Rate or [1 - True Negative Rate]')\n",
        "    plt.ylabel('True Positive Rate')\n",
        "    plt.title('Receiver operating characteristic example')\n",
        "    plt.legend(loc=\"lower right\")\n",
        "    plt.show()\n",
        "\n",
        "    return fpr, tpr, thresholds"
      ]
    },
    {
      "cell_type": "code",
      "execution_count": null,
      "metadata": {
        "id": "aqnNBU601H3z",
        "colab": {
          "base_uri": "https://localhost:8080/",
          "height": 347
        },
        "outputId": "0b805311-32b4-435e-de6a-7251b4bec0d3"
      },
      "outputs": [
        {
          "output_type": "display_data",
          "data": {
            "text/plain": [
              "<Figure size 432x288 with 1 Axes>"
            ],
            "image/png": "[encoded data removed]"
          },
          "metadata": {
            "needs_background": "light"
          }
        },
        {
          "output_type": "execute_result",
          "data": {
            "text/plain": [
              "(array([0.        , 0.10798429, 1.        ]),\n",
              " array([0.        , 0.47938144, 1.        ]),\n",
              " array([2, 1, 0]))"
            ]
          },
          "metadata": {},
          "execution_count": 105
        }
      ],
      "source": [
        "# Use above function to plot ROC curve\n",
        "\n",
        "draw_roc(y_pred_final.Churn, y_pred_final.predicted)"
      ]
    },
    {
      "cell_type": "markdown",
      "metadata": {
        "id": "JArvbRkt1H3z"
      },
      "source": [
        "### **`Finding Optimal Cutoff Point`**\n",
        "\n",
        "<p style='text-align: right;'> 6 points</p>\n"
      ]
    },
    {
      "cell_type": "markdown",
      "metadata": {
        "id": "gfX_KYdc1H3z"
      },
      "source": [
        "Optimal cutoff probability is that probability where we get balanced sensitivity and specificity"
      ]
    },
    {
      "cell_type": "code",
      "execution_count": null,
      "metadata": {
        "id": "j12ZEeuy1H3z",
        "colab": {
          "base_uri": "https://localhost:8080/",
          "height": 206
        },
        "outputId": "4011fa8f-26c2-4d59-9a8c-b009c2377f31"
      },
      "outputs": [
        {
          "output_type": "execute_result",
          "data": {
            "text/plain": [
              "   CustID  Churn  Churn_Prob  predicted  0.0  0.1  0.2  0.3  0.4  0.5  0.6  \\\n",
              "0     942      0    0.534503          1    1    1    1    1    1    1    0   \n",
              "1    3730      1    0.292735          0    1    1    1    0    0    0    0   \n",
              "2    1761      0    0.013463          0    1    0    0    0    0    0    0   \n",
              "3    2283      1    0.700441          1    1    1    1    1    1    1    1   \n",
              "4    1872      0    0.022563          0    1    0    0    0    0    0    0   \n",
              "\n",
              "   0.7  0.8  0.9  \n",
              "0    0    0    0  \n",
              "1    0    0    0  \n",
              "2    0    0    0  \n",
              "3    1    0    0  \n",
              "4    0    0    0  "
            ],
            "text/html": [
              "\n",
              "  <div id=\"df-8d50556d-622c-4ef8-bc7c-4713b79e6ad2\">\n",
              "    <div class=\"colab-df-container\">\n",
              "      <div>\n",
              "<style scoped>\n",
              "    .dataframe tbody tr th:only-of-type {\n",
              "        vertical-align: middle;\n",
              "    }\n",
              "\n",
              "    .dataframe tbody tr th {\n",
              "        vertical-align: top;\n",
              "    }\n",
              "\n",
              "    .dataframe thead th {\n",
              "        text-align: right;\n",
              "    }\n",
              "</style>\n",
              "<table border=\"1\" class=\"dataframe\">\n",
              "  <thead>\n",
              "    <tr style=\"text-align: right;\">\n",
              "      <th></th>\n",
              "      <th>CustID</th>\n",
              "      <th>Churn</th>\n",
              "      <th>Churn_Prob</th>\n",
              "      <th>predicted</th>\n",
              "      <th>0.0</th>\n",
              "      <th>0.1</th>\n",
              "      <th>0.2</th>\n",
              "      <th>0.3</th>\n",
              "      <th>0.4</th>\n",
              "      <th>0.5</th>\n",
              "      <th>0.6</th>\n",
              "      <th>0.7</th>\n",
              "      <th>0.8</th>\n",
              "      <th>0.9</th>\n",
              "    </tr>\n",
              "  </thead>\n",
              "  <tbody>\n",
              "    <tr>\n",
              "      <th>0</th>\n",
              "      <td>942</td>\n",
              "      <td>0</td>\n",
              "      <td>0.534503</td>\n",
              "      <td>1</td>\n",
              "      <td>1</td>\n",
              "      <td>1</td>\n",
              "      <td>1</td>\n",
              "      <td>1</td>\n",
              "      <td>1</td>\n",
              "      <td>1</td>\n",
              "      <td>0</td>\n",
              "      <td>0</td>\n",
              "      <td>0</td>\n",
              "      <td>0</td>\n",
              "    </tr>\n",
              "    <tr>\n",
              "      <th>1</th>\n",
              "      <td>3730</td>\n",
              "      <td>1</td>\n",
              "      <td>0.292735</td>\n",
              "      <td>0</td>\n",
              "      <td>1</td>\n",
              "      <td>1</td>\n",
              "      <td>1</td>\n",
              "      <td>0</td>\n",
              "      <td>0</td>\n",
              "      <td>0</td>\n",
              "      <td>0</td>\n",
              "      <td>0</td>\n",
              "      <td>0</td>\n",
              "      <td>0</td>\n",
              "    </tr>\n",
              "    <tr>\n",
              "      <th>2</th>\n",
              "      <td>1761</td>\n",
              "      <td>0</td>\n",
              "      <td>0.013463</td>\n",
              "      <td>0</td>\n",
              "      <td>1</td>\n",
              "      <td>0</td>\n",
              "      <td>0</td>\n",
              "      <td>0</td>\n",
              "      <td>0</td>\n",
              "      <td>0</td>\n",
              "      <td>0</td>\n",
              "      <td>0</td>\n",
              "      <td>0</td>\n",
              "      <td>0</td>\n",
              "    </tr>\n",
              "    <tr>\n",
              "      <th>3</th>\n",
              "      <td>2283</td>\n",
              "      <td>1</td>\n",
              "      <td>0.700441</td>\n",
              "      <td>1</td>\n",
              "      <td>1</td>\n",
              "      <td>1</td>\n",
              "      <td>1</td>\n",
              "      <td>1</td>\n",
              "      <td>1</td>\n",
              "      <td>1</td>\n",
              "      <td>1</td>\n",
              "      <td>1</td>\n",
              "      <td>0</td>\n",
              "      <td>0</td>\n",
              "    </tr>\n",
              "    <tr>\n",
              "      <th>4</th>\n",
              "      <td>1872</td>\n",
              "      <td>0</td>\n",
              "      <td>0.022563</td>\n",
              "      <td>0</td>\n",
              "      <td>1</td>\n",
              "      <td>0</td>\n",
              "      <td>0</td>\n",
              "      <td>0</td>\n",
              "      <td>0</td>\n",
              "      <td>0</td>\n",
              "      <td>0</td>\n",
              "      <td>0</td>\n",
              "      <td>0</td>\n",
              "      <td>0</td>\n",
              "    </tr>\n",
              "  </tbody>\n",
              "</table>\n",
              "</div>\n",
              "      <button class=\"colab-df-convert\" onclick=\"convertToInteractive('df-8d50556d-622c-4ef8-bc7c-4713b79e6ad2')\"\n",
              "              title=\"Convert this dataframe to an interactive table.\"\n",
              "              style=\"display:none;\">\n",
              "        \n",
              "  <svg xmlns=\"http://www.w3.org/2000/svg\" height=\"24px\"viewBox=\"0 0 24 24\"\n",
              "       width=\"24px\">\n",
              "    <path d=\"M0 0h24v24H0V0z\" fill=\"none\"/>\n",
              "    <path d=\"M18.56 5.44l.94 2.06.94-2.06 2.06-.94-2.06-.94-.94-2.06-.94 2.06-2.06.94zm-11 1L8.5 8.5l.94-2.06 2.06-.94-2.06-.94L8.5 2.5l-.94 2.06-2.06.94zm10 10l.94 2.06.94-2.06 2.06-.94-2.06-.94-.94-2.06-.94 2.06-2.06.94z\"/><path d=\"M17.41 7.96l-1.37-1.37c-.4-.4-.92-.59-1.43-.59-.52 0-1.04.2-1.43.59L10.3 9.45l-7.72 7.72c-.78.78-.78 2.05 0 2.83L4 21.41c.39.39.9.59 1.41.59.51 0 1.02-.2 1.41-.59l7.78-7.78 2.81-2.81c.8-.78.8-2.07 0-2.86zM5.41 20L4 18.59l7.72-7.72 1.47 1.35L5.41 20z\"/>\n",
              "  </svg>\n",
              "      </button>\n",
              "      \n",
              "  <style>\n",
              "    .colab-df-container {\n",
              "      display:flex;\n",
              "      flex-wrap:wrap;\n",
              "      gap: 12px;\n",
              "    }\n",
              "\n",
              "    .colab-df-convert {\n",
              "      background-color: #E8F0FE;\n",
              "      border: none;\n",
              "      border-radius: 50%;\n",
              "      cursor: pointer;\n",
              "      display: none;\n",
              "      fill: #1967D2;\n",
              "      height: 32px;\n",
              "      padding: 0 0 0 0;\n",
              "      width: 32px;\n",
              "    }\n",
              "\n",
              "    .colab-df-convert:hover {\n",
              "      background-color: #E2EBFA;\n",
              "      box-shadow: 0px 1px 2px rgba(60, 64, 67, 0.3), 0px 1px 3px 1px rgba(60, 64, 67, 0.15);\n",
              "      fill: #174EA6;\n",
              "    }\n",
              "\n",
              "    [theme=dark] .colab-df-convert {\n",
              "      background-color: #3B4455;\n",
              "      fill: #D2E3FC;\n",
              "    }\n",
              "\n",
              "    [theme=dark] .colab-df-convert:hover {\n",
              "      background-color: #434B5C;\n",
              "      box-shadow: 0px 1px 3px 1px rgba(0, 0, 0, 0.15);\n",
              "      filter: drop-shadow(0px 1px 2px rgba(0, 0, 0, 0.3));\n",
              "      fill: #FFFFFF;\n",
              "    }\n",
              "  </style>\n",
              "\n",
              "      <script>\n",
              "        const buttonEl =\n",
              "          document.querySelector('#df-8d50556d-622c-4ef8-bc7c-4713b79e6ad2 button.colab-df-convert');\n",
              "        buttonEl.style.display =\n",
              "          google.colab.kernel.accessAllowed ? 'block' : 'none';\n",
              "\n",
              "        async function convertToInteractive(key) {\n",
              "          const element = document.querySelector('#df-8d50556d-622c-4ef8-bc7c-4713b79e6ad2');\n",
              "          const dataTable =\n",
              "            await google.colab.kernel.invokeFunction('convertToInteractive',\n",
              "                                                     [key], {});\n",
              "          if (!dataTable) return;\n",
              "\n",
              "          const docLinkHtml = 'Like what you see? Visit the ' +\n",
              "            '<a target=\"_blank\" href=https://colab.research.google.com/notebooks/data_table.ipynb>data table notebook</a>'\n",
              "            + ' to learn more about interactive tables.';\n",
              "          element.innerHTML = '';\n",
              "          dataTable['output_type'] = 'display_data';\n",
              "          await google.colab.output.renderOutput(dataTable, element);\n",
              "          const docLink = document.createElement('div');\n",
              "          docLink.innerHTML = docLinkHtml;\n",
              "          element.appendChild(docLink);\n",
              "        }\n",
              "      </script>\n",
              "    </div>\n",
              "  </div>\n",
              "  "
            ]
          },
          "metadata": {},
          "execution_count": 106
        }
      ],
      "source": [
        "# Let's create columns with different probability cutoffs \n",
        "\n",
        "numbers = [float(x)/10 for x in range(10)]\n",
        "\n",
        "# loop numbers and append churn probability to y_pred_final for different prob cutoff \n",
        "for i in numbers:\n",
        "    #print(i)\n",
        "    y_pred_final[i]= y_pred_final.Churn_Prob.map(lambda x : 1 if x > i else 0) # code here\n",
        "    #print(y_pred_final[i].values)\n",
        "    \n",
        "# print  y_pred_final head\n",
        "y_pred_final.head()\n"
      ]
    },
    {
      "cell_type": "markdown",
      "metadata": {
        "id": "zj_SRqh-1H30"
      },
      "source": [
        "Now let's calculate accuracy sensitivity and specificity for various probability cutoffs.\n"
      ]
    },
    {
      "cell_type": "code",
      "execution_count": null,
      "metadata": {
        "id": "Y7AOLAhU1H34",
        "colab": {
          "base_uri": "https://localhost:8080/"
        },
        "outputId": "6a1d6eb8-5df2-42e9-ba95-fb3291106e4a"
      },
      "outputs": [
        {
          "output_type": "stream",
          "name": "stdout",
          "text": [
            "     prob  accuracy     sensi     speci\n",
            "0.0   0.0  0.275829  1.000000  0.000000\n",
            "0.1   0.1  0.596209  0.951890  0.460733\n",
            "0.2   0.2  0.681991  0.878007  0.607330\n",
            "0.3   0.3  0.760190  0.661512  0.797775\n",
            "0.4   0.4  0.768720  0.594502  0.835079\n",
            "0.5   0.5  0.778199  0.479381  0.892016\n",
            "0.6   0.6  0.782938  0.384880  0.934555\n",
            "0.7   0.7  0.749763  0.108247  0.994110\n",
            "0.8   0.8  0.724171  0.000000  1.000000\n",
            "0.9   0.9  0.724171  0.000000  1.000000\n"
          ]
        }
      ],
      "source": [
        "# Create an empty dataframe with columns 'prob','accuracy','sensi' and 'speci'\n",
        "cutoff_df = pd.DataFrame(columns = ['prob','accuracy','sensi', 'speci'])\n",
        "\n",
        "num = [0.0,0.1,0.2,0.3,0.4,0.5,0.6,0.7,0.8,0.9]\n",
        "\n",
        "#iterate through num\n",
        "for i in num:\n",
        "    #calculate confusion metrics\n",
        "    cm1 = metrics.confusion_matrix(y_pred_final.Churn, y_pred_final[i])\n",
        "    \n",
        "    #total in cm1\n",
        "    total1= sum(sum(cm1))\n",
        "    \n",
        "    #Calculate accuracy\n",
        "    accuracy = (cm1[0, 0] + cm1[1, 1]) / total1\n",
        "    \n",
        "    #calculate specificity\n",
        "    speci = cm1[0, 0] / (cm1[0, 0] + cm1[0, 1])\n",
        "    \n",
        "    #calculate sensitivity\n",
        "    sensi = cm1[1, 1] / (cm1[1, 0] + cm1[1, 1])\n",
        "    \n",
        "    #append rows in cutoff_df with cutoff values, accuracy, sensitivity and specificity\n",
        "    cutoff_df.loc[i] = [i , accuracy, sensi, speci]\n",
        "\n",
        "# print cutoff_df \n",
        "print(cutoff_df)\n"
      ]
    },
    {
      "cell_type": "code",
      "execution_count": null,
      "metadata": {
        "id": "3chWtzbs1H34",
        "colab": {
          "base_uri": "https://localhost:8080/",
          "height": 296
        },
        "outputId": "0ffe7eac-9e61-4b78-a720-2b2ac40f41cd"
      },
      "outputs": [
        {
          "output_type": "execute_result",
          "data": {
            "text/plain": [
              "<matplotlib.axes._subplots.AxesSubplot at 0x7f1e87205340>"
            ]
          },
          "metadata": {},
          "execution_count": 108
        },
        {
          "output_type": "display_data",
          "data": {
            "text/plain": [
              "<Figure size 432x288 with 1 Axes>"
            ],
            "image/png": "[encoded data removed]"
          },
          "metadata": {
            "needs_background": "light"
          }
        }
      ],
      "source": [
        "# Let's plot accuracy sensitivity and specificity for various probabilities.\n",
        "cutoff_df.plot.line(x='prob' , y = ['accuracy', 'sensi', 'speci'])\n"
      ]
    },
    {
      "cell_type": "markdown",
      "metadata": {
        "id": "RjIQ3J271H35"
      },
      "source": [
        "### **`From the curve above, 0.3 is the optimum point to take it as a cutoff probability.`**\n",
        "\n",
        "<p style='text-align: right;'> 4 points</p>\n"
      ]
    },
    {
      "cell_type": "code",
      "execution_count": null,
      "metadata": {
        "id": "zELSnMG91H35"
      },
      "outputs": [],
      "source": [
        "# Now lets get another column with final_predicted which has 0.3 cutoff probability\n",
        "\n",
        "y_pred_final['final_predicted'] = y_pred_final.Churn_Prob.map(lambda x :1 if x > 0.3 else 0)\n"
      ]
    },
    {
      "cell_type": "code",
      "execution_count": null,
      "metadata": {
        "id": "afE_KklT1H36",
        "colab": {
          "base_uri": "https://localhost:8080/"
        },
        "outputId": "0adc05db-2280-4c3a-f059-0e373697b502"
      },
      "outputs": [
        {
          "output_type": "execute_result",
          "data": {
            "text/plain": [
              "0.7601895734597156"
            ]
          },
          "metadata": {},
          "execution_count": 110
        }
      ],
      "source": [
        "#Let's check the overall accuracy now again\n",
        "\n",
        "metrics.accuracy_score(y_pred_final.Churn, y_pred_final.final_predicted)"
      ]
    },
    {
      "cell_type": "code",
      "execution_count": null,
      "metadata": {
        "id": "PtH9OUDJ1H36",
        "colab": {
          "base_uri": "https://localhost:8080/"
        },
        "outputId": "956bb74b-c717-449c-af3c-cfe5e023a6b6"
      },
      "outputs": [
        {
          "output_type": "execute_result",
          "data": {
            "text/plain": [
              "array([[1219,  309],\n",
              "       [ 197,  385]])"
            ]
          },
          "metadata": {},
          "execution_count": 111
        }
      ],
      "source": [
        "metrics.confusion_matrix(y_pred_final.Churn, y_pred_final.final_predicted)\n"
      ]
    },
    {
      "cell_type": "markdown",
      "metadata": {
        "id": "9tlv8EQT1H37"
      },
      "source": [
        "Though this approach of finding best cutoff probability is perfectly fine, but as you can see our error got increased when cutoff is 0.3. \n",
        "\n",
        "\n",
        "The reason may be the features which we used to predict. We need go back and check them again. Else we can even try out different classification problems. \n",
        "\n",
        "\n",
        "Lets try using all the features available before doing RFE. i.e consider all features in X\n",
        "\n",
        "\n"
      ]
    },
    {
      "cell_type": "code",
      "execution_count": null,
      "metadata": {
        "id": "yDT0XAzt1H38",
        "colab": {
          "base_uri": "https://localhost:8080/"
        },
        "outputId": "96d6117f-0e49-409e-e808-331c5ace0d10"
      },
      "outputs": [
        {
          "output_type": "stream",
          "name": "stdout",
          "text": [
            "(4922, 11)\n",
            "(2110, 11)\n",
            "(4922,)\n",
            "(2110,)\n"
          ]
        }
      ],
      "source": [
        "# Splitting the data into train and test with train_size=0.7 and random_state=100 again\n",
        "\n",
        "X_train, X_test, y_train, y_test = train_test_split(X, y , test_size=0.3, random_state=100)\n",
        "print(X_train.shape)\n",
        "print(X_test.shape)\n",
        "print(y_train.shape)\n",
        "print(y_test.shape)"
      ]
    },
    {
      "cell_type": "code",
      "execution_count": null,
      "metadata": {
        "id": "dV7RcYtl1H38"
      },
      "outputs": [],
      "source": [
        "#initialise Logistic Regression\n",
        "logs2 = LogisticRegression()\n",
        "\n",
        "\n",
        "#fitting model using above columns as input\n",
        "logs2.fit(X_train, y_train)\n",
        "\n",
        "\n",
        "#prediction on test data\n",
        "y_pred = logs2.predict(X_test)\n"
      ]
    },
    {
      "cell_type": "code",
      "execution_count": null,
      "metadata": {
        "id": "kV9n1bDu1H39",
        "colab": {
          "base_uri": "https://localhost:8080/"
        },
        "outputId": "9b898629-6950-409e-d095-418309781f8c"
      },
      "outputs": [
        {
          "output_type": "stream",
          "name": "stdout",
          "text": [
            "              precision    recall  f1-score   support\n",
            "\n",
            "           0       0.83      0.90      0.86      1528\n",
            "           1       0.66      0.52      0.58       582\n",
            "\n",
            "    accuracy                           0.79      2110\n",
            "   macro avg       0.74      0.71      0.72      2110\n",
            "weighted avg       0.78      0.79      0.78      2110\n",
            "\n"
          ]
        }
      ],
      "source": [
        "# print classification_report\n",
        "print(metrics.classification_report(y_test, y_pred))\n",
        "\n"
      ]
    },
    {
      "cell_type": "code",
      "execution_count": null,
      "metadata": {
        "id": "bLDMwQGI1H39",
        "colab": {
          "base_uri": "https://localhost:8080/"
        },
        "outputId": "bc41045e-5f8e-4298-91ae-2f392cc119b5"
      },
      "outputs": [
        {
          "output_type": "stream",
          "name": "stdout",
          "text": [
            "[[1370  158]\n",
            " [ 281  301]]\n"
          ]
        }
      ],
      "source": [
        "#print confusion metrix\n",
        "print(metrics.confusion_matrix(y_test, y_pred))\n"
      ]
    },
    {
      "cell_type": "markdown",
      "metadata": {
        "id": "Dfmi_XfZ1H3-"
      },
      "source": [
        "So from above result we can see that our results are improved slightly after using all the features in X"
      ]
    },
    {
      "cell_type": "markdown",
      "metadata": {
        "id": "HBpKIZTI1H3_"
      },
      "source": [
        "## **`Summary`**\n",
        "\n",
        "1. Logistic Regression is a Machine Learning classification algorithm that is used to predict the probability of a categorical dependent variable. \n",
        "2. In logistic regression, the dependent variable is a binary variable that contains data coded as 1 (yes, success, etc.) or 0 (no, failure, etc.)\n",
        "\n",
        "\n",
        "\n",
        "\n",
        "\n",
        "\n",
        "\n",
        "\n",
        "\n",
        "\n",
        "\n",
        "\n",
        "\n",
        "\n",
        "\n",
        "\n",
        "\n",
        "So in this assignment you learned when to use and how to use logistic regression and what all important metrics we can look for.\n",
        "\n",
        "Well done buddy. So far so good.!\n",
        "\n",
        "------------------------------\n",
        "\n",
        "# Oh yeah! Congratulations you have made your first classification alogorithm! Very well done.\n",
        "\n",
        "-------------------------------------\n",
        "\n",
        "# Its Feedback Time!\n",
        "\n",
        "We hope you’ve enjoyed this course so far. We’re committed to help you use \"AI for All\" course to its full potential, so that you have a great learning experience. And that’s why we need your help in form of a feedback here.\n",
        "\n",
        "**Please fill this feedback form**\n",
        " https://zfrmz.in/MtRG5oWXBdesm6rmSM7N"
      ]
    },
    {
      "cell_type": "markdown",
      "metadata": {
        "id": "joJ4wU1u1H4A"
      },
      "source": [
        "_______________________________"
      ]
    }
  ],
  "metadata": {
    "kernelspec": {
      "display_name": "Python 3",
      "language": "python",
      "name": "python3"
    },
    "language_info": {
      "codemirror_mode": {
        "name": "ipython",
        "version": 3
      },
      "file_extension": ".py",
      "mimetype": "text/x-python",
      "name": "python",
      "nbconvert_exporter": "python",
      "pygments_lexer": "ipython3",
      "version": "3.8.5"
    },
    "colab": {
      "provenance": []
    }
  },
  "nbformat": 4,
  "nbformat_minor": 0
}