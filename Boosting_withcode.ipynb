{
  "cells": [
    {
      "cell_type": "markdown",
      "metadata": {
        "_cell_guid": "79c7e3d0-c299-4dcb-8224-4455121ee9b0",
        "_uuid": "d629ff2d2480ee46fbb7e2d37f6b5fab8052498a",
        "collapsed": true,
        "id": "u93kzhf1D3UX"
      },
      "source": [
        "\n",
        "# <center><u>**`Ensemble ML Algorithms - Boosting`**</u></center>\n",
        "\n",
        "\n",
        "\n",
        "\n",
        "## **`TalkingData: Fraudulent Click Prediction`**\n",
        "\n",
        "\n",
        "\n",
        "\n"
      ]
    },
    {
      "cell_type": "markdown",
      "metadata": {
        "id": "DThpWOx6D3UZ"
      },
      "source": [
        "In this assignment, we will apply various boosting algorithms to solve an interesting classification problem from the domain of 'digital fraud'.\n",
        "\n",
        "The analysis is divided into the following sections:\n",
        "- `Understanding the business problem`\n",
        "- `Understanding and exploring the data`\n",
        "- `Feature engineering: Creating new features`\n",
        "- `Model building and evaluation: AdaBoost`\n",
        "- `Modelling building and evaluation: Gradient Boosting`\n",
        "- `Modelling building and evaluation: XGBoost`\n",
        "- `Modelling building and evaluation: LightGBM`\n",
        "- `Modelling building and evaluation: CatBoost`\n",
        "\n",
        "\n"
      ]
    },
    {
      "cell_type": "markdown",
      "metadata": {
        "id": "AZvCLMIhD3Ua"
      },
      "source": [
        "## **`Understanding the Business Problem`**\n",
        "\n",
        "<p style='text-align: right;'> 5 points</p>\n",
        "\n",
        "\n",
        "<a href=\"https://www.talkingdata.com/\">TalkingData</a> is a Chinese big data company, and one of their areas of expertise is mobile advertisements.\n",
        "\n",
        "In mobile advertisements, **click fraud** is a major source of losses. Click fraud is the practice of repeatedly clicking on an advertisement hosted on a website with the intention of generating revenue for the host website or draining revenue from the advertiser.\n",
        "\n",
        "In this case, TalkingData happens to be serving the advertisers (their clients). TalkingData cover a whopping **approx. 70% of the active mobile devices in China**, of which 90% are potentially fraudulent (i.e. the user is actually not going to download the app after clicking).\n",
        "\n",
        "You can imagine the amount of money they can help clients save if they are able to predict whether a given click is fraudulent (or equivalently, whether a given click will result in a download). \n",
        "\n",
        "Their current approach to solve this problem is that they've generated a blacklist of IP addresses - those IPs which produce lots of clicks, but never install any apps. Now, they want to try some advanced techniques to predict the probability of a click being genuine/fraud.\n",
        "\n",
        "In this problem, we will use the features associated with clicks, such as IP address, operating system, device type, time of click etc. to predict the probability of a click being fraud.\n",
        "\n",
        "They have released <a href=\"https://www.kaggle.com/c/talkingdata-adtracking-fraud-detection\">the problem on Kaggle here.</a>."
      ]
    },
    {
      "cell_type": "markdown",
      "metadata": {
        "id": "mOroROEND3Ub"
      },
      "source": [
        "## **`Understanding and Exploring the Data`**\n",
        "\n",
        "The data contains observations of about 240 million clicks, and whether a given click resulted in a download or not (1/0). \n",
        "\n",
        "On Kaggle, the data is split into train.csv and train_sample.csv (100,000 observations). We'll use the smaller train_sample.csv in this notebook for speed, though while training the model for Kaggle submissions, the full training data will obviously produce better results.\n",
        "\n",
        "The detailed data dictionary is mentioned here:\n",
        "- ```ip```: ip address of click.\n",
        "- ```app```: app id for marketing.\n",
        "- ```device```: device type id of user mobile phone (e.g., iphone 6 plus, iphone 7, huawei mate 7, etc.)\n",
        "- ```os```: os version id of user mobile phone\n",
        "- ```channel```: channel id of mobile ad publisher\n",
        "- ```click_time```: timestamp of click (UTC)\n",
        "- ```attributed_time```: if user download the app for after clicking an ad, this is the time of the app download\n",
        "- ```is_attributed```: the target that is to be predicted, indicating the app was downloaded\n",
        "\n",
        "Let's try finding some useful trends in the data."
      ]
    },
    {
      "cell_type": "code",
      "execution_count": null,
      "metadata": {
        "id": "ikrMVyDEPcLa",
        "outputId": "4e2af6ee-fb73-42b0-c843-3fff2875aa4b",
        "colab": {
          "base_uri": "https://localhost:8080/"
        }
      },
      "outputs": [
        {
          "output_type": "stream",
          "name": "stdout",
          "text": [
            "Looking in indexes: https://pypi.org/simple, https://us-python.pkg.dev/colab-wheels/public/simple/\n",
            "Requirement already satisfied: xgboost in /usr/local/lib/python3.8/dist-packages (0.90)\n",
            "Requirement already satisfied: numpy in /usr/local/lib/python3.8/dist-packages (from xgboost) (1.22.4)\n",
            "Requirement already satisfied: scipy in /usr/local/lib/python3.8/dist-packages (from xgboost) (1.7.3)\n"
          ]
        }
      ],
      "source": [
        "pip install xgboost"
      ]
    },
    {
      "cell_type": "code",
      "execution_count": null,
      "metadata": {
        "_cell_guid": "5ba86a36-b8be-44db-ad92-e3cddbb354d1",
        "_uuid": "cd4d66f4ecc6daa0ea4cab6359fc5203112f245c",
        "id": "wEs3rPsoD3Uc"
      },
      "outputs": [],
      "source": [
        "#importing important libraries\n",
        "\n",
        "import numpy as np \n",
        "import pandas as pd \n",
        "import sklearn\n",
        "import matplotlib.pyplot as plt\n",
        "import seaborn as sns\n",
        "\n",
        "from sklearn.model_selection import train_test_split\n",
        "from sklearn.model_selection import KFold\n",
        "from sklearn.model_selection import GridSearchCV\n",
        "from sklearn.model_selection import RandomizedSearchCV\n",
        "\n",
        "from sklearn.model_selection import cross_val_score\n",
        "from sklearn.preprocessing import LabelEncoder\n",
        "from sklearn.tree import DecisionTreeClassifier\n",
        "from sklearn.ensemble import AdaBoostClassifier\n",
        "from sklearn.ensemble import GradientBoostingClassifier\n",
        "from sklearn import metrics\n",
        "import xgboost as xgb\n",
        "from xgboost import XGBClassifier\n",
        "from xgboost import plot_importance\n",
        "import gc # for deleting unused variables\n",
        "%matplotlib inline\n",
        "\n",
        "import os\n",
        "import warnings\n",
        "warnings.filterwarnings('ignore')"
      ]
    },
    {
      "cell_type": "markdown",
      "metadata": {
        "_cell_guid": "d408baf0-f640-45f3-8dec-141746a985a8",
        "_uuid": "7a3dc1d7ebed1cdc9818338682bf5858e276681e",
        "id": "4rn6B52SD3Ud"
      },
      "source": [
        "#### `Reading the Data` \n",
        "\n",
        "The code below reads the train_sample.csv file if you set testing = True, else reads the full train.csv file. You can read the sample while tuning the model etc., and then run the model on the full data once done.\n",
        "\n",
        "#### `Important Note: Save memory when the data is huge`\n",
        "\n",
        "Since the training data is quite huge, the program will be quite slow if you don't consciously follow some best practices to save memory. This notebook demonstrates some of those practices. "
      ]
    },
    {
      "cell_type": "code",
      "execution_count": null,
      "metadata": {
        "_cell_guid": "54ed4833-efb3-4adf-971b-28a56ae19d01",
        "_uuid": "bac7dea7334ff1fb925347f9302b3d06e189fbc7",
        "id": "ylU947HvD3Ue",
        "scrolled": false
      },
      "outputs": [],
      "source": [
        "# reading training data\n",
        "\n",
        "# specify column dtypes to save memory (by default pandas reads some columns as floats)\n",
        "# note that click_id is only in test data, not training data\n",
        "dtypes = {\n",
        "        'ip'            : 'uint16',\n",
        "        'app'           : 'uint16',\n",
        "        'device'        : 'uint16',\n",
        "        'os'            : 'uint16',\n",
        "        'channel'       : 'uint16',\n",
        "        'is_attributed' : 'uint8',\n",
        "        'click_id'      : 'uint32' \n",
        "        }\n",
        "\n",
        "# read training_sample.csv for quick testing/debug, else read the full train.csv\n",
        "testing = True\n",
        "if testing:\n",
        "    train_path = \"train_sample.csv\"\n",
        "    skiprows = None\n",
        "    nrows = None\n",
        "    colnames=['ip','app','device','os', 'channel', 'click_time', 'is_attributed']\n",
        "else:\n",
        "    train_path = \"train.csv\"\n",
        "    skiprows = range(1, 144903891)\n",
        "    nrows = 10000000\n",
        "    colnames=['ip','app','device','os', 'channel', 'click_time', 'is_attributed']\n",
        "\n",
        "# read training data (train_sample.csv)\n",
        "train_sample = pd.read_csv(train_path, skiprows=skiprows, nrows=nrows, dtype=dtypes, usecols=colnames)\n"
      ]
    },
    {
      "cell_type": "code",
      "execution_count": null,
      "metadata": {
        "_cell_guid": "98d1b00a-8ee6-4959-9091-e8b56e4bcb15",
        "_uuid": "a9f5559317e6cc476c47b166bd95118c9f29dbbe",
        "id": "__DK7dKCD3Ug",
        "colab": {
          "base_uri": "https://localhost:8080/"
        },
        "outputId": "d20d9969-842f-48e3-9e95-dcd675ba34db"
      },
      "outputs": [
        {
          "output_type": "execute_result",
          "data": {
            "text/plain": [
              "100000"
            ]
          },
          "metadata": {},
          "execution_count": 4
        }
      ],
      "source": [
        "# Printing length of training data\n",
        "len(train_sample.index)\n",
        "\n"
      ]
    },
    {
      "cell_type": "markdown",
      "metadata": {
        "id": "MCt2oiT6D3Uj"
      },
      "source": [
        "To get memory consumed by each column use memory_usage() function on train_sample\n",
        "\n",
        "Refer: https://www.w3resource.com/pandas/dataframe/dataframe-memory_usage.php"
      ]
    },
    {
      "cell_type": "code",
      "execution_count": null,
      "metadata": {
        "_cell_guid": "7743ffd9-a38c-4130-b7d4-373e324bd9ae",
        "_uuid": "663ed1e0137fce0f2a5b2ebd02c7bf6a35c506c7",
        "id": "pqrdhOIyD3Uk",
        "scrolled": true,
        "colab": {
          "base_uri": "https://localhost:8080/"
        },
        "outputId": "f894a421-601e-4e9c-cfc4-164c0366b59f"
      },
      "outputs": [
        {
          "output_type": "execute_result",
          "data": {
            "text/plain": [
              "Index               128\n",
              "ip               200000\n",
              "app              200000\n",
              "device           200000\n",
              "os               200000\n",
              "channel          200000\n",
              "click_time       800000\n",
              "is_attributed    100000\n",
              "dtype: int64"
            ]
          },
          "metadata": {},
          "execution_count": 5
        }
      ],
      "source": [
        "# Displays memory consumed by each column ---\n",
        "train_sample.memory_usage()\n"
      ]
    },
    {
      "cell_type": "markdown",
      "metadata": {
        "id": "2oETlzPKD3Ul"
      },
      "source": [
        "To get space used by training data then use sum of memory consumed by each variable divided by 1024**2\n"
      ]
    },
    {
      "cell_type": "code",
      "execution_count": null,
      "metadata": {
        "_cell_guid": "196408ab-7891-4f75-bf3a-c491525ab4ff",
        "_uuid": "4c4323fe3fdf0f12fd065c83b253385a5826413c",
        "id": "BW05Lt3DD3Ul",
        "colab": {
          "base_uri": "https://localhost:8080/"
        },
        "outputId": "2580583a-d55d-414b-c950-dc52f6649604"
      },
      "outputs": [
        {
          "output_type": "stream",
          "name": "stdout",
          "text": [
            "Training dataset uses: 1.812103271484375\n"
          ]
        }
      ],
      "source": [
        "# space used by training data\n",
        "space = (sum(train_sample.memory_usage())/ 1024**2)\n",
        "\n",
        "print('Training dataset uses:', space)\n"
      ]
    },
    {
      "cell_type": "code",
      "execution_count": null,
      "metadata": {
        "_cell_guid": "85dce024-c56b-412d-b230-7a42d1e61661",
        "_uuid": "831d573b61c925fed93c55d4a4094e2f374e727b",
        "id": "tAPg-EDgD3Um",
        "scrolled": true,
        "colab": {
          "base_uri": "https://localhost:8080/",
          "height": 206
        },
        "outputId": "6b4112f3-0c8d-46b2-acf0-a63fead52f1d"
      },
      "outputs": [
        {
          "output_type": "execute_result",
          "data": {
            "text/plain": [
              "      ip  app  device  os  channel           click_time  is_attributed\n",
              "0  22004   12       1  13      497  2017-11-07 09:30:38              0\n",
              "1  40024   25       1  17      259  2017-11-07 13:40:27              0\n",
              "2  35888   12       1  19      212  2017-11-07 18:05:24              0\n",
              "3  29048   13       1  13      477  2017-11-07 04:58:08              0\n",
              "4   2877   12       1   1      178  2017-11-09 09:00:09              0"
            ],
            "text/html": [
              "\n",
              "  <div id=\"df-3023b76c-c2d9-46c7-8066-bdf9c5a6ca00\">\n",
              "    <div class=\"colab-df-container\">\n",
              "      <div>\n",
              "<style scoped>\n",
              "    .dataframe tbody tr th:only-of-type {\n",
              "        vertical-align: middle;\n",
              "    }\n",
              "\n",
              "    .dataframe tbody tr th {\n",
              "        vertical-align: top;\n",
              "    }\n",
              "\n",
              "    .dataframe thead th {\n",
              "        text-align: right;\n",
              "    }\n",
              "</style>\n",
              "<table border=\"1\" class=\"dataframe\">\n",
              "  <thead>\n",
              "    <tr style=\"text-align: right;\">\n",
              "      <th></th>\n",
              "      <th>ip</th>\n",
              "      <th>app</th>\n",
              "      <th>device</th>\n",
              "      <th>os</th>\n",
              "      <th>channel</th>\n",
              "      <th>click_time</th>\n",
              "      <th>is_attributed</th>\n",
              "    </tr>\n",
              "  </thead>\n",
              "  <tbody>\n",
              "    <tr>\n",
              "      <th>0</th>\n",
              "      <td>22004</td>\n",
              "      <td>12</td>\n",
              "      <td>1</td>\n",
              "      <td>13</td>\n",
              "      <td>497</td>\n",
              "      <td>2017-11-07 09:30:38</td>\n",
              "      <td>0</td>\n",
              "    </tr>\n",
              "    <tr>\n",
              "      <th>1</th>\n",
              "      <td>40024</td>\n",
              "      <td>25</td>\n",
              "      <td>1</td>\n",
              "      <td>17</td>\n",
              "      <td>259</td>\n",
              "      <td>2017-11-07 13:40:27</td>\n",
              "      <td>0</td>\n",
              "    </tr>\n",
              "    <tr>\n",
              "      <th>2</th>\n",
              "      <td>35888</td>\n",
              "      <td>12</td>\n",
              "      <td>1</td>\n",
              "      <td>19</td>\n",
              "      <td>212</td>\n",
              "      <td>2017-11-07 18:05:24</td>\n",
              "      <td>0</td>\n",
              "    </tr>\n",
              "    <tr>\n",
              "      <th>3</th>\n",
              "      <td>29048</td>\n",
              "      <td>13</td>\n",
              "      <td>1</td>\n",
              "      <td>13</td>\n",
              "      <td>477</td>\n",
              "      <td>2017-11-07 04:58:08</td>\n",
              "      <td>0</td>\n",
              "    </tr>\n",
              "    <tr>\n",
              "      <th>4</th>\n",
              "      <td>2877</td>\n",
              "      <td>12</td>\n",
              "      <td>1</td>\n",
              "      <td>1</td>\n",
              "      <td>178</td>\n",
              "      <td>2017-11-09 09:00:09</td>\n",
              "      <td>0</td>\n",
              "    </tr>\n",
              "  </tbody>\n",
              "</table>\n",
              "</div>\n",
              "      <button class=\"colab-df-convert\" onclick=\"convertToInteractive('df-3023b76c-c2d9-46c7-8066-bdf9c5a6ca00')\"\n",
              "              title=\"Convert this dataframe to an interactive table.\"\n",
              "              style=\"display:none;\">\n",
              "        \n",
              "  <svg xmlns=\"http://www.w3.org/2000/svg\" height=\"24px\"viewBox=\"0 0 24 24\"\n",
              "       width=\"24px\">\n",
              "    <path d=\"M0 0h24v24H0V0z\" fill=\"none\"/>\n",
              "    <path d=\"M18.56 5.44l.94 2.06.94-2.06 2.06-.94-2.06-.94-.94-2.06-.94 2.06-2.06.94zm-11 1L8.5 8.5l.94-2.06 2.06-.94-2.06-.94L8.5 2.5l-.94 2.06-2.06.94zm10 10l.94 2.06.94-2.06 2.06-.94-2.06-.94-.94-2.06-.94 2.06-2.06.94z\"/><path d=\"M17.41 7.96l-1.37-1.37c-.4-.4-.92-.59-1.43-.59-.52 0-1.04.2-1.43.59L10.3 9.45l-7.72 7.72c-.78.78-.78 2.05 0 2.83L4 21.41c.39.39.9.59 1.41.59.51 0 1.02-.2 1.41-.59l7.78-7.78 2.81-2.81c.8-.78.8-2.07 0-2.86zM5.41 20L4 18.59l7.72-7.72 1.47 1.35L5.41 20z\"/>\n",
              "  </svg>\n",
              "      </button>\n",
              "      \n",
              "  <style>\n",
              "    .colab-df-container {\n",
              "      display:flex;\n",
              "      flex-wrap:wrap;\n",
              "      gap: 12px;\n",
              "    }\n",
              "\n",
              "    .colab-df-convert {\n",
              "      background-color: #E8F0FE;\n",
              "      border: none;\n",
              "      border-radius: 50%;\n",
              "      cursor: pointer;\n",
              "      display: none;\n",
              "      fill: #1967D2;\n",
              "      height: 32px;\n",
              "      padding: 0 0 0 0;\n",
              "      width: 32px;\n",
              "    }\n",
              "\n",
              "    .colab-df-convert:hover {\n",
              "      background-color: #E2EBFA;\n",
              "      box-shadow: 0px 1px 2px rgba(60, 64, 67, 0.3), 0px 1px 3px 1px rgba(60, 64, 67, 0.15);\n",
              "      fill: #174EA6;\n",
              "    }\n",
              "\n",
              "    [theme=dark] .colab-df-convert {\n",
              "      background-color: #3B4455;\n",
              "      fill: #D2E3FC;\n",
              "    }\n",
              "\n",
              "    [theme=dark] .colab-df-convert:hover {\n",
              "      background-color: #434B5C;\n",
              "      box-shadow: 0px 1px 3px 1px rgba(0, 0, 0, 0.15);\n",
              "      filter: drop-shadow(0px 1px 2px rgba(0, 0, 0, 0.3));\n",
              "      fill: #FFFFFF;\n",
              "    }\n",
              "  </style>\n",
              "\n",
              "      <script>\n",
              "        const buttonEl =\n",
              "          document.querySelector('#df-3023b76c-c2d9-46c7-8066-bdf9c5a6ca00 button.colab-df-convert');\n",
              "        buttonEl.style.display =\n",
              "          google.colab.kernel.accessAllowed ? 'block' : 'none';\n",
              "\n",
              "        async function convertToInteractive(key) {\n",
              "          const element = document.querySelector('#df-3023b76c-c2d9-46c7-8066-bdf9c5a6ca00');\n",
              "          const dataTable =\n",
              "            await google.colab.kernel.invokeFunction('convertToInteractive',\n",
              "                                                     [key], {});\n",
              "          if (!dataTable) return;\n",
              "\n",
              "          const docLinkHtml = 'Like what you see? Visit the ' +\n",
              "            '<a target=\"_blank\" href=https://colab.research.google.com/notebooks/data_table.ipynb>data table notebook</a>'\n",
              "            + ' to learn more about interactive tables.';\n",
              "          element.innerHTML = '';\n",
              "          dataTable['output_type'] = 'display_data';\n",
              "          await google.colab.output.renderOutput(dataTable, element);\n",
              "          const docLink = document.createElement('div');\n",
              "          docLink.innerHTML = docLinkHtml;\n",
              "          element.appendChild(docLink);\n",
              "        }\n",
              "      </script>\n",
              "    </div>\n",
              "  </div>\n",
              "  "
            ]
          },
          "metadata": {},
          "execution_count": 7
        }
      ],
      "source": [
        "# training data top rows\n",
        "\n",
        "train_sample.head()\n"
      ]
    },
    {
      "cell_type": "markdown",
      "metadata": {
        "_cell_guid": "047cdedb-b9a4-4185-9079-31d19e418dd5",
        "_uuid": "bdca59dbbab3ea6e7938ed6348bda8b022b54437",
        "id": "r_u94Wa8D3Un"
      },
      "source": [
        "### `Exploring the Data - Univariate Analysis`\n"
      ]
    },
    {
      "cell_type": "markdown",
      "metadata": {
        "_cell_guid": "f1924177-9395-4f17-bbec-6746cf8c360e",
        "_uuid": "778a6efbfc8c7c9d82f6aa6c84af3e145777be13",
        "id": "RAONtm2kD3Un"
      },
      "source": [
        "Let's now understand and explore the data. Let's start with understanding the size and data types of the train_sample data."
      ]
    },
    {
      "cell_type": "code",
      "execution_count": null,
      "metadata": {
        "_cell_guid": "4539d9f9-fe8e-438b-9c6e-8d0f4d089e17",
        "_uuid": "0aff4ad2d4abb7a49cfeccbd0d65f96a5256eab8",
        "id": "VFe2i-5fD3Un",
        "colab": {
          "base_uri": "https://localhost:8080/"
        },
        "outputId": "1da8b45b-85a5-438d-acf8-67a378ad1084"
      },
      "outputs": [
        {
          "output_type": "stream",
          "name": "stdout",
          "text": [
            "<class 'pandas.core.frame.DataFrame'>\n",
            "RangeIndex: 100000 entries, 0 to 99999\n",
            "Data columns (total 7 columns):\n",
            " #   Column         Non-Null Count   Dtype \n",
            "---  ------         --------------   ----- \n",
            " 0   ip             100000 non-null  uint16\n",
            " 1   app            100000 non-null  uint16\n",
            " 2   device         100000 non-null  uint16\n",
            " 3   os             100000 non-null  uint16\n",
            " 4   channel        100000 non-null  uint16\n",
            " 5   click_time     100000 non-null  object\n",
            " 6   is_attributed  100000 non-null  uint8 \n",
            "dtypes: object(1), uint16(5), uint8(1)\n",
            "memory usage: 1.8+ MB\n"
          ]
        }
      ],
      "source": [
        "# look at non-null values, null values, number of entries etc.\n",
        "\n",
        "train_sample.info()\n"
      ]
    },
    {
      "cell_type": "markdown",
      "metadata": {
        "id": "AiyvMM1rD3Uo"
      },
      "source": [
        "You can see that there is no missing values\n",
        "\n",
        "## `Basic exploratory analysis `\n",
        "\n",
        "<p style='text-align: right;'> 10 points</p>\n",
        "\n",
        "\n",
        "1. Number of unique values in each column\n"
      ]
    },
    {
      "cell_type": "code",
      "execution_count": null,
      "metadata": {
        "_cell_guid": "dd930aa6-557f-4b59-9a36-8f940324f594",
        "_uuid": "816535e82869da6601f9dd7227a201adda9843d1",
        "id": "DD8nAsb-D3Uo",
        "scrolled": false,
        "colab": {
          "base_uri": "https://localhost:8080/"
        },
        "outputId": "52d5e964-228e-421f-80d2-0b175944c0b6"
      },
      "outputs": [
        {
          "output_type": "stream",
          "name": "stdout",
          "text": [
            "{'ip': 28470, 'app': 161, 'device': 100, 'os': 130, 'channel': 161, 'click_time': 80350, 'is_attributed': 2}\n"
          ]
        }
      ],
      "source": [
        "# Define a function to fetch unique values in each column\n",
        "def fraction_unique(x):\n",
        "    # return unique values\n",
        "    return len(train_sample[x].unique())\n",
        "      \n",
        "# one line code to use above function and creating a dictionary\n",
        "number_unique_vals = {x: fraction_unique(x) for x in train_sample.columns}\n",
        "\n",
        "#print dictionary of Unique values\n",
        "\n",
        "print(number_unique_vals)\n"
      ]
    },
    {
      "cell_type": "code",
      "source": [
        "train_sample.nunique()"
      ],
      "metadata": {
        "id": "7s-eMx236gEC",
        "colab": {
          "base_uri": "https://localhost:8080/"
        },
        "outputId": "35a11a29-3179-453e-d5d0-68a5ff76e4bb"
      },
      "execution_count": null,
      "outputs": [
        {
          "output_type": "execute_result",
          "data": {
            "text/plain": [
              "ip               28470\n",
              "app                161\n",
              "device             100\n",
              "os                 130\n",
              "channel            161\n",
              "click_time       80350\n",
              "is_attributed        2\n",
              "dtype: int64"
            ]
          },
          "metadata": {},
          "execution_count": 10
        }
      ]
    },
    {
      "cell_type": "markdown",
      "metadata": {
        "id": "ZNc24VdED3Uo"
      },
      "source": [
        "2. Checking data type of each columns"
      ]
    },
    {
      "cell_type": "code",
      "execution_count": null,
      "metadata": {
        "_cell_guid": "408e795a-2d0d-4ae0-bf96-868721d9394d",
        "_uuid": "c6bd82f7f439f73bf543d2313c82e4d3e99519e4",
        "id": "TIBrWcz8D3Up",
        "colab": {
          "base_uri": "https://localhost:8080/"
        },
        "outputId": "535d0e7c-693a-4bef-f41f-d16ba91096c0"
      },
      "outputs": [
        {
          "output_type": "stream",
          "name": "stdout",
          "text": [
            "ip : uint16\n",
            "app : uint16\n",
            "device : uint16\n",
            "os : uint16\n",
            "channel : uint16\n",
            "click_time : object\n",
            "is_attributed : uint8\n"
          ]
        }
      ],
      "source": [
        "# each column data type\n",
        "#print(train_sample.dtypes)\n",
        "\n",
        "\n",
        "#train_sample.dtypes\n",
        "for c_n, c_v in train_sample.iteritems():\n",
        "  print(c_n, ':', c_v.dtype)\n"
      ]
    },
    {
      "cell_type": "markdown",
      "metadata": {
        "id": "2T3DGwEID3Up"
      },
      "source": [
        "You will see that all columns apart from click time are originally int type, though note that they are all actually categorical "
      ]
    },
    {
      "cell_type": "markdown",
      "metadata": {
        "_cell_guid": "a329709b-2d48-4b32-8491-d0a3a57a9635",
        "_uuid": "16271bff54cffd07c656c21023b0a1cb62297960",
        "id": "oiX69GjLD3Uq"
      },
      "source": [
        "There are certain 'apps' which have quite high number of instances/rows (each row is a click). So lets plot it below "
      ]
    },
    {
      "cell_type": "code",
      "execution_count": null,
      "metadata": {
        "_cell_guid": "3e9c25d8-31a7-4b43-b2ac-5ecc21921f26",
        "_uuid": "b99fbb4955c7f05d78495d958d16d673479aca64",
        "id": "CLmSle3kD3Uq",
        "scrolled": false,
        "colab": {
          "base_uri": "https://localhost:8080/",
          "height": 388
        },
        "outputId": "30f44112-0120-44cf-a493-44b53e5978e4"
      },
      "outputs": [
        {
          "output_type": "display_data",
          "data": {
            "text/plain": [
              "<Figure size 1080x432 with 1 Axes>"
            ],
            "image/png": "[encoded data removed]"
          },
          "metadata": {
            "needs_background": "light"
          }
        }
      ],
      "source": [
        "#distribution of 'app' \n",
        "plt.figure(figsize=(15, 6))\n",
        "\n",
        "sns.countplot(x='app',data = train_sample)\n",
        "plt.show()\n"
      ]
    },
    {
      "cell_type": "markdown",
      "metadata": {
        "id": "6Tb5ICFGD3Ur"
      },
      "source": [
        "some 'apps' have a disproportionately high number of clicks (>15k), and some are very rare (3-4)\n",
        "\n",
        "Let us now plot device distribution below "
      ]
    },
    {
      "cell_type": "code",
      "execution_count": null,
      "metadata": {
        "_cell_guid": "77e73dce-cf2f-43a9-b0a8-fe5956ff99a9",
        "_uuid": "d3815fab7e31db39452c9fca0b3ade757124da25",
        "id": "ljelEux4D3Ur",
        "colab": {
          "base_uri": "https://localhost:8080/",
          "height": 388
        },
        "outputId": "9b9994be-26e0-4b19-8495-d86eeadba902"
      },
      "outputs": [
        {
          "output_type": "display_data",
          "data": {
            "text/plain": [
              "<Figure size 1080x432 with 1 Axes>"
            ],
            "image/png": "[encoded data removed]"
          },
          "metadata": {
            "needs_background": "light"
          }
        }
      ],
      "source": [
        "# distribution of 'device' \n",
        "plt.figure(figsize=(15, 6))\n",
        "sns.countplot(x='device', data = train_sample)\n",
        "\n",
        "plt.show()\n",
        "\n"
      ]
    },
    {
      "cell_type": "markdown",
      "metadata": {
        "id": "BhKCORYWD3Ur"
      },
      "source": [
        "The above result is expected because a few popular devices are used heavily\n",
        "\n",
        "Let us now plot channel below"
      ]
    },
    {
      "cell_type": "code",
      "execution_count": null,
      "metadata": {
        "_cell_guid": "098c5d37-5302-45e8-9845-eb3dfa7be87b",
        "_uuid": "656c6cfa30d189febea9bb4c12b2f2519c0b0cef",
        "id": "e23wBoTRD3Us",
        "colab": {
          "base_uri": "https://localhost:8080/",
          "height": 388
        },
        "outputId": "0c546483-cc75-4e93-853d-17969b6a2c3d"
      },
      "outputs": [
        {
          "output_type": "display_data",
          "data": {
            "text/plain": [
              "<Figure size 1080x432 with 1 Axes>"
            ],
            "image/png": "[encoded data removed]"
          },
          "metadata": {
            "needs_background": "light"
          }
        }
      ],
      "source": [
        "# distribution of 'channel' \n",
        "\n",
        "plt.figure(figsize=(15, 6))\n",
        "sns.countplot(x = 'channel',data = train_sample)\n",
        "plt.show()\n",
        "\n"
      ]
    },
    {
      "cell_type": "markdown",
      "metadata": {
        "id": "rdMi9jwED3Us"
      },
      "source": [
        "you can see abobe that various channels get clicks in comparable quantities\n",
        "\n",
        "Lets see distribution of 'os' now "
      ]
    },
    {
      "cell_type": "code",
      "execution_count": null,
      "metadata": {
        "_cell_guid": "c39356d4-3f97-41be-944f-ce88db264365",
        "_uuid": "8f33610186e195da39033b9a64cd2d11b244113a",
        "id": "HTxIlxxND3Us",
        "scrolled": false,
        "colab": {
          "base_uri": "https://localhost:8080/",
          "height": 391
        },
        "outputId": "5ec05ea7-308b-4593-bccb-09ea166580ef"
      },
      "outputs": [
        {
          "output_type": "display_data",
          "data": {
            "text/plain": [
              "<Figure size 1080x432 with 1 Axes>"
            ],
            "image/png": "[encoded data removed]"
          },
          "metadata": {
            "needs_background": "light"
          }
        }
      ],
      "source": [
        "# distribution of 'os' \n",
        "\n",
        "plt.figure(figsize=(15, 6))\n",
        "sns.countplot(x='os',data = train_sample)\n",
        "plt.show()\n"
      ]
    },
    {
      "cell_type": "markdown",
      "metadata": {
        "id": "EhwMZakkD3Ut"
      },
      "source": [
        "there are a couple commos OSes (android and ios?), though some are rare and can indicate suspicion \n"
      ]
    },
    {
      "cell_type": "markdown",
      "metadata": {
        "_cell_guid": "a52d4651-f5ca-45e0-8b20-ec1f70d80edb",
        "_uuid": "6604d330cee83328b4e28790829c82b40fe83ef1",
        "id": "G6082JlGD3Ut"
      },
      "source": [
        "Let's now look at the distribution of the target  variable 'is_attributed'."
      ]
    },
    {
      "cell_type": "code",
      "execution_count": null,
      "metadata": {
        "_cell_guid": "332d0c92-31f6-4109-91ba-5d1f38725ca8",
        "_uuid": "755b0ff3de0028805b6e33fe5b6fb70e5a1247d5",
        "id": "--eILMxTD3Ut",
        "scrolled": true,
        "colab": {
          "base_uri": "https://localhost:8080/"
        },
        "outputId": "750e3ea0-d4c0-4b52-c315-5d16b771162f"
      },
      "outputs": [
        {
          "output_type": "execute_result",
          "data": {
            "text/plain": [
              "0    99.773\n",
              "1     0.227\n",
              "Name: is_attributed, dtype: float64"
            ]
          },
          "metadata": {},
          "execution_count": 16
        }
      ],
      "source": [
        "# target variable distribution\n",
        "\n",
        "(train_sample['is_attributed'].astype('object').value_counts()/len(train_sample.index))*100\n",
        "\n"
      ]
    },
    {
      "cell_type": "markdown",
      "metadata": {
        "_cell_guid": "030933bd-d06b-42c8-8d1e-882f70776a74",
        "_uuid": "b604a87e4ca95bbcbe40e3192f7b66774c03d84d",
        "id": "c9tYYBg1D3Ut"
      },
      "source": [
        "Only **about 0.2% of clicks are 'fraudulent'**, which is expected in a fraud detection problem. Such high class imbalance is probably going to be the toughest challenge of this problem."
      ]
    },
    {
      "cell_type": "markdown",
      "metadata": {
        "_cell_guid": "7285fbce-6dd1-4638-80c6-8f8d94d1593c",
        "_uuid": "bca20461412ff0d2ba2d87a515785e8a762fd343",
        "id": "6jEZyNtED3Uu"
      },
      "source": [
        "### **`Exploring the Data - Segmented Univariate Analysis`**\n",
        "\n",
        "Let's now look at how the target variable varies with the various predictors."
      ]
    },
    {
      "cell_type": "code",
      "execution_count": null,
      "metadata": {
        "_cell_guid": "73089123-995e-4142-8aa9-784bbcddccb2",
        "_uuid": "1a5d777dc7d2a003752eefd8af94c4433099bf44",
        "id": "JGkQoYTSD3Uu",
        "scrolled": true,
        "colab": {
          "base_uri": "https://localhost:8080/",
          "height": 455
        },
        "outputId": "dea51a28-85c9-4524-b6c8-e0839f2e2e34"
      },
      "outputs": [
        {
          "output_type": "execute_result",
          "data": {
            "text/plain": [
              "         mean  count\n",
              "app                 \n",
              "1    0.000000   3135\n",
              "2    0.000000  11737\n",
              "3    0.000219  18279\n",
              "4    0.000000     58\n",
              "5    0.074468    188\n",
              "..        ...    ...\n",
              "486  0.000000      1\n",
              "536  0.000000      1\n",
              "538  0.000000      1\n",
              "548  0.000000      1\n",
              "551  0.000000      1\n",
              "\n",
              "[161 rows x 2 columns]"
            ],
            "text/html": [
              "\n",
              "  <div id=\"df-04cedf8d-9606-4a2f-a802-047db2885993\">\n",
              "    <div class=\"colab-df-container\">\n",
              "      <div>\n",
              "<style scoped>\n",
              "    .dataframe tbody tr th:only-of-type {\n",
              "        vertical-align: middle;\n",
              "    }\n",
              "\n",
              "    .dataframe tbody tr th {\n",
              "        vertical-align: top;\n",
              "    }\n",
              "\n",
              "    .dataframe thead th {\n",
              "        text-align: right;\n",
              "    }\n",
              "</style>\n",
              "<table border=\"1\" class=\"dataframe\">\n",
              "  <thead>\n",
              "    <tr style=\"text-align: right;\">\n",
              "      <th></th>\n",
              "      <th>mean</th>\n",
              "      <th>count</th>\n",
              "    </tr>\n",
              "    <tr>\n",
              "      <th>app</th>\n",
              "      <th></th>\n",
              "      <th></th>\n",
              "    </tr>\n",
              "  </thead>\n",
              "  <tbody>\n",
              "    <tr>\n",
              "      <th>1</th>\n",
              "      <td>0.000000</td>\n",
              "      <td>3135</td>\n",
              "    </tr>\n",
              "    <tr>\n",
              "      <th>2</th>\n",
              "      <td>0.000000</td>\n",
              "      <td>11737</td>\n",
              "    </tr>\n",
              "    <tr>\n",
              "      <th>3</th>\n",
              "      <td>0.000219</td>\n",
              "      <td>18279</td>\n",
              "    </tr>\n",
              "    <tr>\n",
              "      <th>4</th>\n",
              "      <td>0.000000</td>\n",
              "      <td>58</td>\n",
              "    </tr>\n",
              "    <tr>\n",
              "      <th>5</th>\n",
              "      <td>0.074468</td>\n",
              "      <td>188</td>\n",
              "    </tr>\n",
              "    <tr>\n",
              "      <th>...</th>\n",
              "      <td>...</td>\n",
              "      <td>...</td>\n",
              "    </tr>\n",
              "    <tr>\n",
              "      <th>486</th>\n",
              "      <td>0.000000</td>\n",
              "      <td>1</td>\n",
              "    </tr>\n",
              "    <tr>\n",
              "      <th>536</th>\n",
              "      <td>0.000000</td>\n",
              "      <td>1</td>\n",
              "    </tr>\n",
              "    <tr>\n",
              "      <th>538</th>\n",
              "      <td>0.000000</td>\n",
              "      <td>1</td>\n",
              "    </tr>\n",
              "    <tr>\n",
              "      <th>548</th>\n",
              "      <td>0.000000</td>\n",
              "      <td>1</td>\n",
              "    </tr>\n",
              "    <tr>\n",
              "      <th>551</th>\n",
              "      <td>0.000000</td>\n",
              "      <td>1</td>\n",
              "    </tr>\n",
              "  </tbody>\n",
              "</table>\n",
              "<p>161 rows × 2 columns</p>\n",
              "</div>\n",
              "      <button class=\"colab-df-convert\" onclick=\"convertToInteractive('df-04cedf8d-9606-4a2f-a802-047db2885993')\"\n",
              "              title=\"Convert this dataframe to an interactive table.\"\n",
              "              style=\"display:none;\">\n",
              "        \n",
              "  <svg xmlns=\"http://www.w3.org/2000/svg\" height=\"24px\"viewBox=\"0 0 24 24\"\n",
              "       width=\"24px\">\n",
              "    <path d=\"M0 0h24v24H0V0z\" fill=\"none\"/>\n",
              "    <path d=\"M18.56 5.44l.94 2.06.94-2.06 2.06-.94-2.06-.94-.94-2.06-.94 2.06-2.06.94zm-11 1L8.5 8.5l.94-2.06 2.06-.94-2.06-.94L8.5 2.5l-.94 2.06-2.06.94zm10 10l.94 2.06.94-2.06 2.06-.94-2.06-.94-.94-2.06-.94 2.06-2.06.94z\"/><path d=\"M17.41 7.96l-1.37-1.37c-.4-.4-.92-.59-1.43-.59-.52 0-1.04.2-1.43.59L10.3 9.45l-7.72 7.72c-.78.78-.78 2.05 0 2.83L4 21.41c.39.39.9.59 1.41.59.51 0 1.02-.2 1.41-.59l7.78-7.78 2.81-2.81c.8-.78.8-2.07 0-2.86zM5.41 20L4 18.59l7.72-7.72 1.47 1.35L5.41 20z\"/>\n",
              "  </svg>\n",
              "      </button>\n",
              "      \n",
              "  <style>\n",
              "    .colab-df-container {\n",
              "      display:flex;\n",
              "      flex-wrap:wrap;\n",
              "      gap: 12px;\n",
              "    }\n",
              "\n",
              "    .colab-df-convert {\n",
              "      background-color: #E8F0FE;\n",
              "      border: none;\n",
              "      border-radius: 50%;\n",
              "      cursor: pointer;\n",
              "      display: none;\n",
              "      fill: #1967D2;\n",
              "      height: 32px;\n",
              "      padding: 0 0 0 0;\n",
              "      width: 32px;\n",
              "    }\n",
              "\n",
              "    .colab-df-convert:hover {\n",
              "      background-color: #E2EBFA;\n",
              "      box-shadow: 0px 1px 2px rgba(60, 64, 67, 0.3), 0px 1px 3px 1px rgba(60, 64, 67, 0.15);\n",
              "      fill: #174EA6;\n",
              "    }\n",
              "\n",
              "    [theme=dark] .colab-df-convert {\n",
              "      background-color: #3B4455;\n",
              "      fill: #D2E3FC;\n",
              "    }\n",
              "\n",
              "    [theme=dark] .colab-df-convert:hover {\n",
              "      background-color: #434B5C;\n",
              "      box-shadow: 0px 1px 3px 1px rgba(0, 0, 0, 0.15);\n",
              "      filter: drop-shadow(0px 1px 2px rgba(0, 0, 0, 0.3));\n",
              "      fill: #FFFFFF;\n",
              "    }\n",
              "  </style>\n",
              "\n",
              "      <script>\n",
              "        const buttonEl =\n",
              "          document.querySelector('#df-04cedf8d-9606-4a2f-a802-047db2885993 button.colab-df-convert');\n",
              "        buttonEl.style.display =\n",
              "          google.colab.kernel.accessAllowed ? 'block' : 'none';\n",
              "\n",
              "        async function convertToInteractive(key) {\n",
              "          const element = document.querySelector('#df-04cedf8d-9606-4a2f-a802-047db2885993');\n",
              "          const dataTable =\n",
              "            await google.colab.kernel.invokeFunction('convertToInteractive',\n",
              "                                                     [key], {});\n",
              "          if (!dataTable) return;\n",
              "\n",
              "          const docLinkHtml = 'Like what you see? Visit the ' +\n",
              "            '<a target=\"_blank\" href=https://colab.research.google.com/notebooks/data_table.ipynb>data table notebook</a>'\n",
              "            + ' to learn more about interactive tables.';\n",
              "          element.innerHTML = '';\n",
              "          dataTable['output_type'] = 'display_data';\n",
              "          await google.colab.output.renderOutput(dataTable, element);\n",
              "          const docLink = document.createElement('div');\n",
              "          docLink.innerHTML = docLinkHtml;\n",
              "          element.appendChild(docLink);\n",
              "        }\n",
              "      </script>\n",
              "    </div>\n",
              "  </div>\n",
              "  "
            ]
          },
          "metadata": {},
          "execution_count": 17
        }
      ],
      "source": [
        "# Get average of 'is_attributed', or 'download rate' grouped with app\n",
        "app_target = train_sample.groupby('app').is_attributed.agg(['mean', 'count'])\n",
        "\n",
        "# print app_target\n",
        "app_target"
      ]
    },
    {
      "cell_type": "markdown",
      "metadata": {
        "id": "-9re9UfeD3Uu"
      },
      "source": [
        "This is clearly non-readable, so let's first get rid of all the apps that are very rare (say which comprise of less than 20% clicks) and plot the rest."
      ]
    },
    {
      "cell_type": "code",
      "execution_count": null,
      "metadata": {
        "id": "tpClVS04D3Uu",
        "scrolled": true,
        "colab": {
          "base_uri": "https://localhost:8080/",
          "height": 206
        },
        "outputId": "182ae438-d6ef-4dd8-df3f-4491fdeeacd6"
      },
      "outputs": [
        {
          "output_type": "execute_result",
          "data": {
            "text/plain": [
              "   app  count     ip  device  os  channel           click_time  is_attributed\n",
              "0    1   3135  17059       1  17      135  2017-11-09 01:17:58              0\n",
              "1    1   3135  52432       1  13      115  2017-11-07 17:22:52              0\n",
              "2    1   3135  23706       1  27      124  2017-11-07 09:37:21              0\n",
              "3    1   3135  58458       1  19      101  2017-11-09 14:27:57              0\n",
              "4    1   3135  34067       1  15      134  2017-11-07 15:06:06              0"
            ],
            "text/html": [
              "\n",
              "  <div id=\"df-42330567-e5c1-414b-8b59-ef5d4ebc38e3\">\n",
              "    <div class=\"colab-df-container\">\n",
              "      <div>\n",
              "<style scoped>\n",
              "    .dataframe tbody tr th:only-of-type {\n",
              "        vertical-align: middle;\n",
              "    }\n",
              "\n",
              "    .dataframe tbody tr th {\n",
              "        vertical-align: top;\n",
              "    }\n",
              "\n",
              "    .dataframe thead th {\n",
              "        text-align: right;\n",
              "    }\n",
              "</style>\n",
              "<table border=\"1\" class=\"dataframe\">\n",
              "  <thead>\n",
              "    <tr style=\"text-align: right;\">\n",
              "      <th></th>\n",
              "      <th>app</th>\n",
              "      <th>count</th>\n",
              "      <th>ip</th>\n",
              "      <th>device</th>\n",
              "      <th>os</th>\n",
              "      <th>channel</th>\n",
              "      <th>click_time</th>\n",
              "      <th>is_attributed</th>\n",
              "    </tr>\n",
              "  </thead>\n",
              "  <tbody>\n",
              "    <tr>\n",
              "      <th>0</th>\n",
              "      <td>1</td>\n",
              "      <td>3135</td>\n",
              "      <td>17059</td>\n",
              "      <td>1</td>\n",
              "      <td>17</td>\n",
              "      <td>135</td>\n",
              "      <td>2017-11-09 01:17:58</td>\n",
              "      <td>0</td>\n",
              "    </tr>\n",
              "    <tr>\n",
              "      <th>1</th>\n",
              "      <td>1</td>\n",
              "      <td>3135</td>\n",
              "      <td>52432</td>\n",
              "      <td>1</td>\n",
              "      <td>13</td>\n",
              "      <td>115</td>\n",
              "      <td>2017-11-07 17:22:52</td>\n",
              "      <td>0</td>\n",
              "    </tr>\n",
              "    <tr>\n",
              "      <th>2</th>\n",
              "      <td>1</td>\n",
              "      <td>3135</td>\n",
              "      <td>23706</td>\n",
              "      <td>1</td>\n",
              "      <td>27</td>\n",
              "      <td>124</td>\n",
              "      <td>2017-11-07 09:37:21</td>\n",
              "      <td>0</td>\n",
              "    </tr>\n",
              "    <tr>\n",
              "      <th>3</th>\n",
              "      <td>1</td>\n",
              "      <td>3135</td>\n",
              "      <td>58458</td>\n",
              "      <td>1</td>\n",
              "      <td>19</td>\n",
              "      <td>101</td>\n",
              "      <td>2017-11-09 14:27:57</td>\n",
              "      <td>0</td>\n",
              "    </tr>\n",
              "    <tr>\n",
              "      <th>4</th>\n",
              "      <td>1</td>\n",
              "      <td>3135</td>\n",
              "      <td>34067</td>\n",
              "      <td>1</td>\n",
              "      <td>15</td>\n",
              "      <td>134</td>\n",
              "      <td>2017-11-07 15:06:06</td>\n",
              "      <td>0</td>\n",
              "    </tr>\n",
              "  </tbody>\n",
              "</table>\n",
              "</div>\n",
              "      <button class=\"colab-df-convert\" onclick=\"convertToInteractive('df-42330567-e5c1-414b-8b59-ef5d4ebc38e3')\"\n",
              "              title=\"Convert this dataframe to an interactive table.\"\n",
              "              style=\"display:none;\">\n",
              "        \n",
              "  <svg xmlns=\"http://www.w3.org/2000/svg\" height=\"24px\"viewBox=\"0 0 24 24\"\n",
              "       width=\"24px\">\n",
              "    <path d=\"M0 0h24v24H0V0z\" fill=\"none\"/>\n",
              "    <path d=\"M18.56 5.44l.94 2.06.94-2.06 2.06-.94-2.06-.94-.94-2.06-.94 2.06-2.06.94zm-11 1L8.5 8.5l.94-2.06 2.06-.94-2.06-.94L8.5 2.5l-.94 2.06-2.06.94zm10 10l.94 2.06.94-2.06 2.06-.94-2.06-.94-.94-2.06-.94 2.06-2.06.94z\"/><path d=\"M17.41 7.96l-1.37-1.37c-.4-.4-.92-.59-1.43-.59-.52 0-1.04.2-1.43.59L10.3 9.45l-7.72 7.72c-.78.78-.78 2.05 0 2.83L4 21.41c.39.39.9.59 1.41.59.51 0 1.02-.2 1.41-.59l7.78-7.78 2.81-2.81c.8-.78.8-2.07 0-2.86zM5.41 20L4 18.59l7.72-7.72 1.47 1.35L5.41 20z\"/>\n",
              "  </svg>\n",
              "      </button>\n",
              "      \n",
              "  <style>\n",
              "    .colab-df-container {\n",
              "      display:flex;\n",
              "      flex-wrap:wrap;\n",
              "      gap: 12px;\n",
              "    }\n",
              "\n",
              "    .colab-df-convert {\n",
              "      background-color: #E8F0FE;\n",
              "      border: none;\n",
              "      border-radius: 50%;\n",
              "      cursor: pointer;\n",
              "      display: none;\n",
              "      fill: #1967D2;\n",
              "      height: 32px;\n",
              "      padding: 0 0 0 0;\n",
              "      width: 32px;\n",
              "    }\n",
              "\n",
              "    .colab-df-convert:hover {\n",
              "      background-color: #E2EBFA;\n",
              "      box-shadow: 0px 1px 2px rgba(60, 64, 67, 0.3), 0px 1px 3px 1px rgba(60, 64, 67, 0.15);\n",
              "      fill: #174EA6;\n",
              "    }\n",
              "\n",
              "    [theme=dark] .colab-df-convert {\n",
              "      background-color: #3B4455;\n",
              "      fill: #D2E3FC;\n",
              "    }\n",
              "\n",
              "    [theme=dark] .colab-df-convert:hover {\n",
              "      background-color: #434B5C;\n",
              "      box-shadow: 0px 1px 3px 1px rgba(0, 0, 0, 0.15);\n",
              "      filter: drop-shadow(0px 1px 2px rgba(0, 0, 0, 0.3));\n",
              "      fill: #FFFFFF;\n",
              "    }\n",
              "  </style>\n",
              "\n",
              "      <script>\n",
              "        const buttonEl =\n",
              "          document.querySelector('#df-42330567-e5c1-414b-8b59-ef5d4ebc38e3 button.colab-df-convert');\n",
              "        buttonEl.style.display =\n",
              "          google.colab.kernel.accessAllowed ? 'block' : 'none';\n",
              "\n",
              "        async function convertToInteractive(key) {\n",
              "          const element = document.querySelector('#df-42330567-e5c1-414b-8b59-ef5d4ebc38e3');\n",
              "          const dataTable =\n",
              "            await google.colab.kernel.invokeFunction('convertToInteractive',\n",
              "                                                     [key], {});\n",
              "          if (!dataTable) return;\n",
              "\n",
              "          const docLinkHtml = 'Like what you see? Visit the ' +\n",
              "            '<a target=\"_blank\" href=https://colab.research.google.com/notebooks/data_table.ipynb>data table notebook</a>'\n",
              "            + ' to learn more about interactive tables.';\n",
              "          element.innerHTML = '';\n",
              "          dataTable['output_type'] = 'display_data';\n",
              "          await google.colab.output.renderOutput(dataTable, element);\n",
              "          const docLink = document.createElement('div');\n",
              "          docLink.innerHTML = docLinkHtml;\n",
              "          element.appendChild(docLink);\n",
              "        }\n",
              "      </script>\n",
              "    </div>\n",
              "  </div>\n",
              "  "
            ]
          },
          "metadata": {},
          "execution_count": 18
        }
      ],
      "source": [
        "# Make a 'count' column based on app size and reset index on count\n",
        "frequent_apps = train_sample.groupby('app').size().reset_index(name='count')\n",
        "\n",
        "# filter count greater than count above 80% quantile range\n",
        "frequent_apps = frequent_apps[frequent_apps['count']>frequent_apps['count'].quantile(0.80)]\n",
        "\n",
        "#inner join frequent_apps with train_sample on 'app'\n",
        "frequent_apps = frequent_apps.merge(train_sample, on='app', how='inner')\n",
        "\n",
        "\n",
        "#print head of frequent_apps\n",
        "frequent_apps.head()"
      ]
    },
    {
      "cell_type": "code",
      "execution_count": null,
      "metadata": {
        "id": "_2xSWynTD3Uv",
        "colab": {
          "base_uri": "https://localhost:8080/",
          "height": 624
        },
        "outputId": "bf5ff839-b483-4363-ef28-f6465f2a5adc"
      },
      "outputs": [
        {
          "output_type": "execute_result",
          "data": {
            "text/plain": [
              "<AxesSubplot:xlabel='count', ylabel='app'>"
            ]
          },
          "metadata": {},
          "execution_count": 19
        },
        {
          "output_type": "display_data",
          "data": {
            "text/plain": [
              "<Figure size 720x720 with 1 Axes>"
            ],
            "image/png": "[encoded data removed]"
          },
          "metadata": {
            "needs_background": "light"
          }
        }
      ],
      "source": [
        "#plot count distribution of 'app' hued with 'is_attributed'\n",
        "plt.figure(figsize=(10,10))\n",
        "\n",
        "sns.countplot(y = 'app', data = frequent_apps, hue='is_attributed')\n"
      ]
    },
    {
      "cell_type": "markdown",
      "metadata": {
        "id": "slP7NO3rD3Uv"
      },
      "source": [
        "You can do lots of other interesting ananlysis with the existing features. For now, let's create some new features which will probably improve the model."
      ]
    },
    {
      "cell_type": "code",
      "source": [
        "print(len(train_sample))"
      ],
      "metadata": {
        "id": "PskUtZl3aMrs",
        "colab": {
          "base_uri": "https://localhost:8080/"
        },
        "outputId": "958d4ba2-5a22-4403-9c9e-097417447981"
      },
      "execution_count": null,
      "outputs": [
        {
          "output_type": "stream",
          "name": "stdout",
          "text": [
            "100000\n"
          ]
        }
      ]
    },
    {
      "cell_type": "markdown",
      "metadata": {
        "_cell_guid": "40f6f8d9-bd39-4876-bca8-5dcaa14eed04",
        "_uuid": "b76d4314871b8db705dc26b51f4ba07df2cd857b",
        "id": "x8O9K64TD3Uv"
      },
      "source": [
        "## **`Feature Engineering`**\n",
        "\n",
        "<p style='text-align: right;'> 10 points</p>\n"
      ]
    },
    {
      "cell_type": "markdown",
      "metadata": {
        "id": "cMwV3jpuD3Uv"
      },
      "source": [
        "Let's now derive some new features from the existing ones. There are a number of features one can extract from ```click_time``` itself, and by grouping combinations of IP with other features."
      ]
    },
    {
      "cell_type": "code",
      "source": [
        "# print(train_sample['click_time'].dtype)\n",
        "#train_sample['click_time'] = pd.to_datetime(train_sample['click_time'])\n",
        "# print(train_sample['click_time'].dtype)"
      ],
      "metadata": {
        "id": "8AAgoD7n973P"
      },
      "execution_count": null,
      "outputs": []
    },
    {
      "cell_type": "markdown",
      "metadata": {
        "_cell_guid": "9963886f-8f33-4ff4-be76-0a28e8d6ba8b",
        "_uuid": "833037301451ca4d6939909f8cfd47314834b7b9",
        "id": "u8txepiAD3Uw"
      },
      "source": [
        "### Datetime Based Features\n"
      ]
    },
    {
      "cell_type": "code",
      "execution_count": null,
      "metadata": {
        "_cell_guid": "fd611758-c8ec-4401-9875-1eb760ccddb7",
        "_uuid": "a38688f6b07581964699b4a8c41100844f21090c",
        "id": "4IdMw79vD3Uw"
      },
      "outputs": [],
      "source": [
        "# Create a function which takes in a df, adds date/time based columns to it and returns the modified df\n",
        "\n",
        "def timeFeatures(df):\n",
        "    # Creating datetime variables using the click_time column \n",
        "    df['datetime'] = pd.to_datetime(df['click_time'])\n",
        "    \n",
        "    #Creating day_of_week variables extracting week from the datetime column \n",
        "\n",
        "    df['day_of_week'] = df['datetime'].dt.dayofweek\n",
        "    \n",
        "     #Creating day_of_year variables extracting day from the datetime column \n",
        "\n",
        "    df[\"day_of_year\"] = df[\"datetime\"].dt.dayofyear\n",
        "    \n",
        "    #Creating month variables extracting month from the datetime column \n",
        "\n",
        "    df[\"month\"] = df[\"datetime\"].dt.month\n",
        "    \n",
        "    #Creating hour variables extracting hour from the datetime column \n",
        "\n",
        "    df[\"hour\"] = df[\"datetime\"].dt.hour\n",
        "    \n",
        "    #return df\n",
        "    return df"
      ]
    },
    {
      "cell_type": "code",
      "execution_count": null,
      "metadata": {
        "_cell_guid": "237df241-844b-4003-b906-298432b8d868",
        "_uuid": "694177530d20a1e33801d6053a88d99f28cfd88c",
        "id": "k4H_zncvD3Uw",
        "scrolled": true,
        "colab": {
          "base_uri": "https://localhost:8080/",
          "height": 206
        },
        "outputId": "497cb97f-7ded-40f3-d004-9aa1e99f3c72"
      },
      "outputs": [
        {
          "output_type": "execute_result",
          "data": {
            "text/plain": [
              "      ip  app  device  os  channel  is_attributed  day_of_week  day_of_year  \\\n",
              "0  22004   12       1  13      497              0            1          311   \n",
              "1  40024   25       1  17      259              0            1          311   \n",
              "2  35888   12       1  19      212              0            1          311   \n",
              "3  29048   13       1  13      477              0            1          311   \n",
              "4   2877   12       1   1      178              0            3          313   \n",
              "\n",
              "   month  hour  \n",
              "0     11     9  \n",
              "1     11    13  \n",
              "2     11    18  \n",
              "3     11     4  \n",
              "4     11     9  "
            ],
            "text/html": [
              "\n",
              "  <div id=\"df-b9b62d5a-186b-412b-bfc5-6fbc53815818\">\n",
              "    <div class=\"colab-df-container\">\n",
              "      <div>\n",
              "<style scoped>\n",
              "    .dataframe tbody tr th:only-of-type {\n",
              "        vertical-align: middle;\n",
              "    }\n",
              "\n",
              "    .dataframe tbody tr th {\n",
              "        vertical-align: top;\n",
              "    }\n",
              "\n",
              "    .dataframe thead th {\n",
              "        text-align: right;\n",
              "    }\n",
              "</style>\n",
              "<table border=\"1\" class=\"dataframe\">\n",
              "  <thead>\n",
              "    <tr style=\"text-align: right;\">\n",
              "      <th></th>\n",
              "      <th>ip</th>\n",
              "      <th>app</th>\n",
              "      <th>device</th>\n",
              "      <th>os</th>\n",
              "      <th>channel</th>\n",
              "      <th>is_attributed</th>\n",
              "      <th>day_of_week</th>\n",
              "      <th>day_of_year</th>\n",
              "      <th>month</th>\n",
              "      <th>hour</th>\n",
              "    </tr>\n",
              "  </thead>\n",
              "  <tbody>\n",
              "    <tr>\n",
              "      <th>0</th>\n",
              "      <td>22004</td>\n",
              "      <td>12</td>\n",
              "      <td>1</td>\n",
              "      <td>13</td>\n",
              "      <td>497</td>\n",
              "      <td>0</td>\n",
              "      <td>1</td>\n",
              "      <td>311</td>\n",
              "      <td>11</td>\n",
              "      <td>9</td>\n",
              "    </tr>\n",
              "    <tr>\n",
              "      <th>1</th>\n",
              "      <td>40024</td>\n",
              "      <td>25</td>\n",
              "      <td>1</td>\n",
              "      <td>17</td>\n",
              "      <td>259</td>\n",
              "      <td>0</td>\n",
              "      <td>1</td>\n",
              "      <td>311</td>\n",
              "      <td>11</td>\n",
              "      <td>13</td>\n",
              "    </tr>\n",
              "    <tr>\n",
              "      <th>2</th>\n",
              "      <td>35888</td>\n",
              "      <td>12</td>\n",
              "      <td>1</td>\n",
              "      <td>19</td>\n",
              "      <td>212</td>\n",
              "      <td>0</td>\n",
              "      <td>1</td>\n",
              "      <td>311</td>\n",
              "      <td>11</td>\n",
              "      <td>18</td>\n",
              "    </tr>\n",
              "    <tr>\n",
              "      <th>3</th>\n",
              "      <td>29048</td>\n",
              "      <td>13</td>\n",
              "      <td>1</td>\n",
              "      <td>13</td>\n",
              "      <td>477</td>\n",
              "      <td>0</td>\n",
              "      <td>1</td>\n",
              "      <td>311</td>\n",
              "      <td>11</td>\n",
              "      <td>4</td>\n",
              "    </tr>\n",
              "    <tr>\n",
              "      <th>4</th>\n",
              "      <td>2877</td>\n",
              "      <td>12</td>\n",
              "      <td>1</td>\n",
              "      <td>1</td>\n",
              "      <td>178</td>\n",
              "      <td>0</td>\n",
              "      <td>3</td>\n",
              "      <td>313</td>\n",
              "      <td>11</td>\n",
              "      <td>9</td>\n",
              "    </tr>\n",
              "  </tbody>\n",
              "</table>\n",
              "</div>\n",
              "      <button class=\"colab-df-convert\" onclick=\"convertToInteractive('df-b9b62d5a-186b-412b-bfc5-6fbc53815818')\"\n",
              "              title=\"Convert this dataframe to an interactive table.\"\n",
              "              style=\"display:none;\">\n",
              "        \n",
              "  <svg xmlns=\"http://www.w3.org/2000/svg\" height=\"24px\"viewBox=\"0 0 24 24\"\n",
              "       width=\"24px\">\n",
              "    <path d=\"M0 0h24v24H0V0z\" fill=\"none\"/>\n",
              "    <path d=\"M18.56 5.44l.94 2.06.94-2.06 2.06-.94-2.06-.94-.94-2.06-.94 2.06-2.06.94zm-11 1L8.5 8.5l.94-2.06 2.06-.94-2.06-.94L8.5 2.5l-.94 2.06-2.06.94zm10 10l.94 2.06.94-2.06 2.06-.94-2.06-.94-.94-2.06-.94 2.06-2.06.94z\"/><path d=\"M17.41 7.96l-1.37-1.37c-.4-.4-.92-.59-1.43-.59-.52 0-1.04.2-1.43.59L10.3 9.45l-7.72 7.72c-.78.78-.78 2.05 0 2.83L4 21.41c.39.39.9.59 1.41.59.51 0 1.02-.2 1.41-.59l7.78-7.78 2.81-2.81c.8-.78.8-2.07 0-2.86zM5.41 20L4 18.59l7.72-7.72 1.47 1.35L5.41 20z\"/>\n",
              "  </svg>\n",
              "      </button>\n",
              "      \n",
              "  <style>\n",
              "    .colab-df-container {\n",
              "      display:flex;\n",
              "      flex-wrap:wrap;\n",
              "      gap: 12px;\n",
              "    }\n",
              "\n",
              "    .colab-df-convert {\n",
              "      background-color: #E8F0FE;\n",
              "      border: none;\n",
              "      border-radius: 50%;\n",
              "      cursor: pointer;\n",
              "      display: none;\n",
              "      fill: #1967D2;\n",
              "      height: 32px;\n",
              "      padding: 0 0 0 0;\n",
              "      width: 32px;\n",
              "    }\n",
              "\n",
              "    .colab-df-convert:hover {\n",
              "      background-color: #E2EBFA;\n",
              "      box-shadow: 0px 1px 2px rgba(60, 64, 67, 0.3), 0px 1px 3px 1px rgba(60, 64, 67, 0.15);\n",
              "      fill: #174EA6;\n",
              "    }\n",
              "\n",
              "    [theme=dark] .colab-df-convert {\n",
              "      background-color: #3B4455;\n",
              "      fill: #D2E3FC;\n",
              "    }\n",
              "\n",
              "    [theme=dark] .colab-df-convert:hover {\n",
              "      background-color: #434B5C;\n",
              "      box-shadow: 0px 1px 3px 1px rgba(0, 0, 0, 0.15);\n",
              "      filter: drop-shadow(0px 1px 2px rgba(0, 0, 0, 0.3));\n",
              "      fill: #FFFFFF;\n",
              "    }\n",
              "  </style>\n",
              "\n",
              "      <script>\n",
              "        const buttonEl =\n",
              "          document.querySelector('#df-b9b62d5a-186b-412b-bfc5-6fbc53815818 button.colab-df-convert');\n",
              "        buttonEl.style.display =\n",
              "          google.colab.kernel.accessAllowed ? 'block' : 'none';\n",
              "\n",
              "        async function convertToInteractive(key) {\n",
              "          const element = document.querySelector('#df-b9b62d5a-186b-412b-bfc5-6fbc53815818');\n",
              "          const dataTable =\n",
              "            await google.colab.kernel.invokeFunction('convertToInteractive',\n",
              "                                                     [key], {});\n",
              "          if (!dataTable) return;\n",
              "\n",
              "          const docLinkHtml = 'Like what you see? Visit the ' +\n",
              "            '<a target=\"_blank\" href=https://colab.research.google.com/notebooks/data_table.ipynb>data table notebook</a>'\n",
              "            + ' to learn more about interactive tables.';\n",
              "          element.innerHTML = '';\n",
              "          dataTable['output_type'] = 'display_data';\n",
              "          await google.colab.output.renderOutput(dataTable, element);\n",
              "          const docLink = document.createElement('div');\n",
              "          docLink.innerHTML = docLinkHtml;\n",
              "          element.appendChild(docLink);\n",
              "        }\n",
              "      </script>\n",
              "    </div>\n",
              "  </div>\n",
              "  "
            ]
          },
          "metadata": {},
          "execution_count": 23
        }
      ],
      "source": [
        "#creating new variables using above function with df as train_sample \n",
        "train_sample = timeFeatures(train_sample)\n",
        "\n",
        "# dropping the click_time and datetime variables from train_sample\n",
        "train_sample.drop(columns=['click_time','datetime'], axis=1, inplace=True)\n",
        "\n",
        "#print train_sample head\n",
        "train_sample.head()\n",
        "\n",
        "\n"
      ]
    },
    {
      "cell_type": "code",
      "source": [
        "len(train_sample)"
      ],
      "metadata": {
        "id": "AfvYyNUaLw9_",
        "colab": {
          "base_uri": "https://localhost:8080/"
        },
        "outputId": "04f181eb-842b-4639-c2b3-e838afa6d441"
      },
      "execution_count": null,
      "outputs": [
        {
          "output_type": "execute_result",
          "data": {
            "text/plain": [
              "100000"
            ]
          },
          "metadata": {},
          "execution_count": 24
        }
      ]
    },
    {
      "cell_type": "code",
      "execution_count": null,
      "metadata": {
        "_cell_guid": "4cfe36bc-b218-48ce-ac97-9b9da3758d2f",
        "_uuid": "0eead49461cc6e85bf733b2682c95b098c6b4762",
        "id": "ii_XjPN6D3Uw",
        "colab": {
          "base_uri": "https://localhost:8080/"
        },
        "outputId": "fa1a9356-8123-41a6-ea15-f5525d96752c"
      },
      "outputs": [
        {
          "output_type": "execute_result",
          "data": {
            "text/plain": [
              "ip               uint16\n",
              "app              uint16\n",
              "device           uint16\n",
              "os               uint16\n",
              "channel          uint16\n",
              "is_attributed     uint8\n",
              "day_of_week       int64\n",
              "day_of_year       int64\n",
              "month             int64\n",
              "hour              int64\n",
              "dtype: object"
            ]
          },
          "metadata": {},
          "execution_count": 25
        }
      ],
      "source": [
        "# datatypes  of all variables in train_sample\n",
        "train_sample.dtypes\n"
      ]
    },
    {
      "cell_type": "markdown",
      "metadata": {
        "id": "X7T47X_5D3Ux"
      },
      "source": [
        "note that by default the new datetime variables are int64\n"
      ]
    },
    {
      "cell_type": "code",
      "execution_count": null,
      "metadata": {
        "_cell_guid": "2c94cc5a-7f24-4321-8b64-75835eb769a1",
        "_uuid": "72fab86bd46e38c8707d48a88d4cfd9122768e5b",
        "id": "pZlihUcqD3Ux",
        "colab": {
          "base_uri": "https://localhost:8080/"
        },
        "outputId": "c2763b5a-8174-4686-9a12-885d1b80e707"
      },
      "outputs": [
        {
          "output_type": "stream",
          "name": "stdout",
          "text": [
            "train_sample memory_usage 4.100921630859375 MB:\n"
          ]
        }
      ],
      "source": [
        "# check memory/space used by training data\n",
        "\n",
        "print('train_sample memory_usage {} MB:'.format(sum(train_sample.memory_usage())/1024**2))"
      ]
    },
    {
      "cell_type": "markdown",
      "metadata": {
        "id": "b0pfN189D3Ux"
      },
      "source": [
        "Lets convert the variables back to lower dtype again\n"
      ]
    },
    {
      "cell_type": "code",
      "execution_count": null,
      "metadata": {
        "_cell_guid": "630048e3-b363-4eb7-8620-fc7c0aed8794",
        "_uuid": "f358d55b47fdd1f3458fc640a37b83f93abd01d9",
        "id": "pLGQLqTzD3Ux"
      },
      "outputs": [],
      "source": [
        "# get all int variables in a list\n",
        "int_vars = ['app', 'device', 'os', 'channel', 'day_of_week','day_of_year', 'month', 'hour']\n",
        "\n",
        "# convert all above variables into uint16 type\n",
        "train_sample[int_vars] = train_sample[int_vars].astype('uint16')"
      ]
    },
    {
      "cell_type": "code",
      "execution_count": null,
      "metadata": {
        "_cell_guid": "bfb0e108-be87-4f1f-8690-b6a0dd253d5f",
        "_uuid": "2ad5b5082c465d89a3749ef500121a0068fc7abe",
        "id": "q91YeRMND3Ux",
        "scrolled": true,
        "colab": {
          "base_uri": "https://localhost:8080/"
        },
        "outputId": "2d3acf0f-dc5a-4469-f6f0-6a9932ddc282"
      },
      "outputs": [
        {
          "output_type": "execute_result",
          "data": {
            "text/plain": [
              "ip               uint16\n",
              "app              uint16\n",
              "device           uint16\n",
              "os               uint16\n",
              "channel          uint16\n",
              "is_attributed     uint8\n",
              "day_of_week      uint16\n",
              "day_of_year      uint16\n",
              "month            uint16\n",
              "hour             uint16\n",
              "dtype: object"
            ]
          },
          "metadata": {},
          "execution_count": 28
        }
      ],
      "source": [
        "#print datatype of all variables in train_sample\n",
        "\n",
        "train_sample.dtypes\n"
      ]
    },
    {
      "cell_type": "code",
      "execution_count": null,
      "metadata": {
        "_cell_guid": "097f83a0-d7a0-486e-8315-33e4d351349e",
        "_uuid": "7d31b2a2d63b9a7637489768da96c6833079e19e",
        "id": "tH3IujidD3Uy",
        "scrolled": true,
        "colab": {
          "base_uri": "https://localhost:8080/"
        },
        "outputId": "893af982-b7f9-4cda-d028-43dd36b72d7f"
      },
      "outputs": [
        {
          "output_type": "stream",
          "name": "stdout",
          "text": [
            "train_sample memory:1.812103271484375MB\n"
          ]
        }
      ],
      "source": [
        "# space used by training data\n",
        "\n",
        "print('train_sample memory:{}MB'.format((sum(train_sample.memory_usage())/1024**2)))"
      ]
    },
    {
      "cell_type": "markdown",
      "metadata": {
        "id": "YhU-mXtLD3Uy"
      },
      "source": [
        "Hope you undertood why we converted variables into uint16 datatype\n",
        "\n",
        "Yes, you are right:) The primitive data types prefixed with \"u\" are unsigned versions with the same bit sizes. Effectively, this means they cannot store negative numbers, but on the other hand they can store positive numbers twice as large as their signed counterparts. \n",
        "\n",
        "This is why it saves memory usage."
      ]
    },
    {
      "cell_type": "markdown",
      "metadata": {
        "_cell_guid": "f1a41e27-1c82-42a1-b06f-2b2d384cecee",
        "_uuid": "1a82f07ac45c9a68893d104349971344ef7aa32b",
        "id": "nc9Y8lyKD3Uy"
      },
      "source": [
        "### **`IP Grouping Based Features`**"
      ]
    },
    {
      "cell_type": "markdown",
      "metadata": {
        "_cell_guid": "1cbfe97f-6915-4e84-b63b-35c3b3933f68",
        "_uuid": "0af86c9bec412b948482bcec80c7df233f1b7c39",
        "id": "rYPRHb3ID3Uy"
      },
      "source": [
        "Let's now create some important features by grouping IP addresses with features such as os, channel, hour, day etc. Also, count of each IP address will also be a feature.\n",
        "\n",
        "Note that though we are deriving new features by grouping IP addresses, using IP adress itself as a features is not a good idea. This is because (in the test data) if a new IP address is seen, the model will see a new 'category' and will not be able to make predictions (IP is a categorical variable, it has just been encoded with numbers).\n",
        "\n",
        "`number of clicks by count of IP address\n",
        "Note that we are explicitly asking pandas to re-encode the aggregated features as 'int16' to save memory`"
      ]
    },
    {
      "cell_type": "markdown",
      "metadata": {
        "id": "7BxrNr9DD3Uz"
      },
      "source": [
        "We can now merge this dataframe with the original training df. Similarly, we can create combinations of various features such as ip_day_hour (count of ip-day-hour combinations), ip_hour_channel, ip_hour_app, etc. \n",
        "\n",
        "The following function takes in a dataframe and creates these features."
      ]
    },
    {
      "cell_type": "code",
      "execution_count": null,
      "metadata": {
        "id": "_Ui3nAEPD3Uz"
      },
      "outputs": [],
      "source": [
        "'''creates groupings of IP addresses with other features and appends the new features to the df'''\n",
        "\n",
        "def grouped_features(df):\n",
        "    # ip_count\n",
        "    ip_count = df.groupby('ip').size().reset_index(name='ip_count').astype('uint16')\n",
        "    # ip_day_hour\n",
        "    ip_day_hour = df.groupby(['ip', 'day_of_week', 'hour']).size().reset_index(name='ip_day_hour').astype('uint16')\n",
        "#   ip_hour_channel\n",
        "    ip_hour_channel = df[['ip', 'hour', 'channel']].groupby(['ip', 'hour', 'channel']).size().reset_index(name='ip_hour_channel').astype('uint16')\n",
        "#   ip_hour_os\n",
        "    ip_hour_os = df.groupby(['ip', 'hour', 'os']).channel.count().reset_index(name='ip_hour_os').astype('uint16')\n",
        "#   ip_hour_app\n",
        "    ip_hour_app = df.groupby(['ip', 'hour', 'app']).channel.count().reset_index(name='ip_hour_app').astype('uint16')\n",
        "#   ip_hour_device\n",
        "    ip_hour_device = df.groupby(['ip', 'hour', 'device']).channel.count().reset_index(name='ip_hour_device').astype('uint16')\n",
        "    \n",
        "    '''merge the new aggregated features with the df'''\n",
        "    \n",
        "#   left join ip_count to df on ip\n",
        "    df = pd.merge(df, ip_count, on='ip', how='left')\n",
        "    \n",
        "#   delete ip_count\n",
        "    del ip_count\n",
        "    \n",
        "    #left join ip_day_hour to df on ip, day_of_week and hour\n",
        "\n",
        "    df = pd.merge(df, ip_day_hour, on=['ip', 'day_of_week', 'hour'], how='left')\n",
        "    \n",
        "    #delete ip_day_hour\n",
        "\n",
        "    del ip_day_hour\n",
        "    \n",
        "#   left join ip_hour_channel to df on ip, hour, channel\n",
        "\n",
        "    df = pd.merge(df, ip_hour_channel, on=['ip', 'hour', 'channel'], how='left')\n",
        "#   delete ip_hour_channel\n",
        "    del ip_hour_channel\n",
        "    \n",
        "    #left join ip_hour_os to df on ip, hour and os\n",
        "\n",
        "    df = pd.merge(df, ip_hour_os, on=['ip', 'hour', 'os'], how='left')\n",
        "#   delete ip_hour_os\n",
        "    del ip_hour_os\n",
        "    \n",
        "    \n",
        "    #    left join ip_hour_app to df on ip, hour and app\n",
        "\n",
        "    df = pd.merge(df, ip_hour_app, on=['ip', 'hour', 'app'], how='left')\n",
        "    \n",
        "#     delete ip_hour_app \n",
        "    del ip_hour_app\n",
        "    \n",
        "    #left join ip_hour_device to df on ip , hour and device\n",
        "\n",
        "    df = pd.merge(df, ip_hour_device, on=['ip', 'hour', 'device'], how='left')\n",
        "#   delete ip_hour_device \n",
        "    del ip_hour_device\n",
        "    \n",
        "#  return df\n",
        "    return df"
      ]
    },
    {
      "cell_type": "code",
      "execution_count": null,
      "metadata": {
        "id": "K4zweDWED3Uz"
      },
      "outputs": [],
      "source": [
        "#Use above grouped_features() function with train_sample as parameter to create your new train_sample data \n",
        "train_sample = grouped_features(train_sample)\n"
      ]
    },
    {
      "cell_type": "code",
      "execution_count": null,
      "metadata": {
        "_cell_guid": "dcb86f85-6418-40dd-8e4a-670f1df0b3fc",
        "_uuid": "3fffc4f935664d861cc0556f78f654c0c7121dac",
        "id": "kiGA5NwLD3U0",
        "scrolled": true,
        "colab": {
          "base_uri": "https://localhost:8080/",
          "height": 426
        },
        "outputId": "d93a9484-be48-48e2-beba-7c4b817928b7"
      },
      "outputs": [
        {
          "output_type": "execute_result",
          "data": {
            "text/plain": [
              "      ip  app  device  os  channel  is_attributed  day_of_week  day_of_year  \\\n",
              "0  22004   12       1  13      497              0            1          311   \n",
              "1  40024   25       1  17      259              0            1          311   \n",
              "2  35888   12       1  19      212              0            1          311   \n",
              "3  29048   13       1  13      477              0            1          311   \n",
              "4   2877   12       1   1      178              0            3          313   \n",
              "5  28127    3       1  17      115              0            3          313   \n",
              "6  17059    1       1  17      135              0            3          313   \n",
              "7  55969    9       1  25      442              0            1          311   \n",
              "8  61895    2       2  22      364              0            2          312   \n",
              "9  12564    3       1  19      135              0            2          312   \n",
              "\n",
              "   month  hour  ip_count  ip_day_hour  ip_hour_channel  ip_hour_os  \\\n",
              "0     11     9         8            1                1           1   \n",
              "1     11    13       149            4                1           1   \n",
              "2     11    18         2            1                1           1   \n",
              "3     11     4         3            1                1           1   \n",
              "4     11     9         4            1                1           1   \n",
              "5     11     1         2            1                1           1   \n",
              "6     11     1         9            1                1           1   \n",
              "7     11    10         5            1                1           1   \n",
              "8     11     9         5            1                1           1   \n",
              "9     11    12         2            1                1           1   \n",
              "\n",
              "   ip_hour_app  ip_hour_device  \n",
              "0            1               1  \n",
              "1            1               8  \n",
              "2            1               1  \n",
              "3            1               1  \n",
              "4            1               1  \n",
              "5            1               1  \n",
              "6            1               2  \n",
              "7            1               1  \n",
              "8            1               1  \n",
              "9            1               1  "
            ],
            "text/html": [
              "\n",
              "  <div id=\"df-38cd7902-d776-4298-bf7f-7dac89d28201\">\n",
              "    <div class=\"colab-df-container\">\n",
              "      <div>\n",
              "<style scoped>\n",
              "    .dataframe tbody tr th:only-of-type {\n",
              "        vertical-align: middle;\n",
              "    }\n",
              "\n",
              "    .dataframe tbody tr th {\n",
              "        vertical-align: top;\n",
              "    }\n",
              "\n",
              "    .dataframe thead th {\n",
              "        text-align: right;\n",
              "    }\n",
              "</style>\n",
              "<table border=\"1\" class=\"dataframe\">\n",
              "  <thead>\n",
              "    <tr style=\"text-align: right;\">\n",
              "      <th></th>\n",
              "      <th>ip</th>\n",
              "      <th>app</th>\n",
              "      <th>device</th>\n",
              "      <th>os</th>\n",
              "      <th>channel</th>\n",
              "      <th>is_attributed</th>\n",
              "      <th>day_of_week</th>\n",
              "      <th>day_of_year</th>\n",
              "      <th>month</th>\n",
              "      <th>hour</th>\n",
              "      <th>ip_count</th>\n",
              "      <th>ip_day_hour</th>\n",
              "      <th>ip_hour_channel</th>\n",
              "      <th>ip_hour_os</th>\n",
              "      <th>ip_hour_app</th>\n",
              "      <th>ip_hour_device</th>\n",
              "    </tr>\n",
              "  </thead>\n",
              "  <tbody>\n",
              "    <tr>\n",
              "      <th>0</th>\n",
              "      <td>22004</td>\n",
              "      <td>12</td>\n",
              "      <td>1</td>\n",
              "      <td>13</td>\n",
              "      <td>497</td>\n",
              "      <td>0</td>\n",
              "      <td>1</td>\n",
              "      <td>311</td>\n",
              "      <td>11</td>\n",
              "      <td>9</td>\n",
              "      <td>8</td>\n",
              "      <td>1</td>\n",
              "      <td>1</td>\n",
              "      <td>1</td>\n",
              "      <td>1</td>\n",
              "      <td>1</td>\n",
              "    </tr>\n",
              "    <tr>\n",
              "      <th>1</th>\n",
              "      <td>40024</td>\n",
              "      <td>25</td>\n",
              "      <td>1</td>\n",
              "      <td>17</td>\n",
              "      <td>259</td>\n",
              "      <td>0</td>\n",
              "      <td>1</td>\n",
              "      <td>311</td>\n",
              "      <td>11</td>\n",
              "      <td>13</td>\n",
              "      <td>149</td>\n",
              "      <td>4</td>\n",
              "      <td>1</td>\n",
              "      <td>1</td>\n",
              "      <td>1</td>\n",
              "      <td>8</td>\n",
              "    </tr>\n",
              "    <tr>\n",
              "      <th>2</th>\n",
              "      <td>35888</td>\n",
              "      <td>12</td>\n",
              "      <td>1</td>\n",
              "      <td>19</td>\n",
              "      <td>212</td>\n",
              "      <td>0</td>\n",
              "      <td>1</td>\n",
              "      <td>311</td>\n",
              "      <td>11</td>\n",
              "      <td>18</td>\n",
              "      <td>2</td>\n",
              "      <td>1</td>\n",
              "      <td>1</td>\n",
              "      <td>1</td>\n",
              "      <td>1</td>\n",
              "      <td>1</td>\n",
              "    </tr>\n",
              "    <tr>\n",
              "      <th>3</th>\n",
              "      <td>29048</td>\n",
              "      <td>13</td>\n",
              "      <td>1</td>\n",
              "      <td>13</td>\n",
              "      <td>477</td>\n",
              "      <td>0</td>\n",
              "      <td>1</td>\n",
              "      <td>311</td>\n",
              "      <td>11</td>\n",
              "      <td>4</td>\n",
              "      <td>3</td>\n",
              "      <td>1</td>\n",
              "      <td>1</td>\n",
              "      <td>1</td>\n",
              "      <td>1</td>\n",
              "      <td>1</td>\n",
              "    </tr>\n",
              "    <tr>\n",
              "      <th>4</th>\n",
              "      <td>2877</td>\n",
              "      <td>12</td>\n",
              "      <td>1</td>\n",
              "      <td>1</td>\n",
              "      <td>178</td>\n",
              "      <td>0</td>\n",
              "      <td>3</td>\n",
              "      <td>313</td>\n",
              "      <td>11</td>\n",
              "      <td>9</td>\n",
              "      <td>4</td>\n",
              "      <td>1</td>\n",
              "      <td>1</td>\n",
              "      <td>1</td>\n",
              "      <td>1</td>\n",
              "      <td>1</td>\n",
              "    </tr>\n",
              "    <tr>\n",
              "      <th>5</th>\n",
              "      <td>28127</td>\n",
              "      <td>3</td>\n",
              "      <td>1</td>\n",
              "      <td>17</td>\n",
              "      <td>115</td>\n",
              "      <td>0</td>\n",
              "      <td>3</td>\n",
              "      <td>313</td>\n",
              "      <td>11</td>\n",
              "      <td>1</td>\n",
              "      <td>2</td>\n",
              "      <td>1</td>\n",
              "      <td>1</td>\n",
              "      <td>1</td>\n",
              "      <td>1</td>\n",
              "      <td>1</td>\n",
              "    </tr>\n",
              "    <tr>\n",
              "      <th>6</th>\n",
              "      <td>17059</td>\n",
              "      <td>1</td>\n",
              "      <td>1</td>\n",
              "      <td>17</td>\n",
              "      <td>135</td>\n",
              "      <td>0</td>\n",
              "      <td>3</td>\n",
              "      <td>313</td>\n",
              "      <td>11</td>\n",
              "      <td>1</td>\n",
              "      <td>9</td>\n",
              "      <td>1</td>\n",
              "      <td>1</td>\n",
              "      <td>1</td>\n",
              "      <td>1</td>\n",
              "      <td>2</td>\n",
              "    </tr>\n",
              "    <tr>\n",
              "      <th>7</th>\n",
              "      <td>55969</td>\n",
              "      <td>9</td>\n",
              "      <td>1</td>\n",
              "      <td>25</td>\n",
              "      <td>442</td>\n",
              "      <td>0</td>\n",
              "      <td>1</td>\n",
              "      <td>311</td>\n",
              "      <td>11</td>\n",
              "      <td>10</td>\n",
              "      <td>5</td>\n",
              "      <td>1</td>\n",
              "      <td>1</td>\n",
              "      <td>1</td>\n",
              "      <td>1</td>\n",
              "      <td>1</td>\n",
              "    </tr>\n",
              "    <tr>\n",
              "      <th>8</th>\n",
              "      <td>61895</td>\n",
              "      <td>2</td>\n",
              "      <td>2</td>\n",
              "      <td>22</td>\n",
              "      <td>364</td>\n",
              "      <td>0</td>\n",
              "      <td>2</td>\n",
              "      <td>312</td>\n",
              "      <td>11</td>\n",
              "      <td>9</td>\n",
              "      <td>5</td>\n",
              "      <td>1</td>\n",
              "      <td>1</td>\n",
              "      <td>1</td>\n",
              "      <td>1</td>\n",
              "      <td>1</td>\n",
              "    </tr>\n",
              "    <tr>\n",
              "      <th>9</th>\n",
              "      <td>12564</td>\n",
              "      <td>3</td>\n",
              "      <td>1</td>\n",
              "      <td>19</td>\n",
              "      <td>135</td>\n",
              "      <td>0</td>\n",
              "      <td>2</td>\n",
              "      <td>312</td>\n",
              "      <td>11</td>\n",
              "      <td>12</td>\n",
              "      <td>2</td>\n",
              "      <td>1</td>\n",
              "      <td>1</td>\n",
              "      <td>1</td>\n",
              "      <td>1</td>\n",
              "      <td>1</td>\n",
              "    </tr>\n",
              "  </tbody>\n",
              "</table>\n",
              "</div>\n",
              "      <button class=\"colab-df-convert\" onclick=\"convertToInteractive('df-38cd7902-d776-4298-bf7f-7dac89d28201')\"\n",
              "              title=\"Convert this dataframe to an interactive table.\"\n",
              "              style=\"display:none;\">\n",
              "        \n",
              "  <svg xmlns=\"http://www.w3.org/2000/svg\" height=\"24px\"viewBox=\"0 0 24 24\"\n",
              "       width=\"24px\">\n",
              "    <path d=\"M0 0h24v24H0V0z\" fill=\"none\"/>\n",
              "    <path d=\"M18.56 5.44l.94 2.06.94-2.06 2.06-.94-2.06-.94-.94-2.06-.94 2.06-2.06.94zm-11 1L8.5 8.5l.94-2.06 2.06-.94-2.06-.94L8.5 2.5l-.94 2.06-2.06.94zm10 10l.94 2.06.94-2.06 2.06-.94-2.06-.94-.94-2.06-.94 2.06-2.06.94z\"/><path d=\"M17.41 7.96l-1.37-1.37c-.4-.4-.92-.59-1.43-.59-.52 0-1.04.2-1.43.59L10.3 9.45l-7.72 7.72c-.78.78-.78 2.05 0 2.83L4 21.41c.39.39.9.59 1.41.59.51 0 1.02-.2 1.41-.59l7.78-7.78 2.81-2.81c.8-.78.8-2.07 0-2.86zM5.41 20L4 18.59l7.72-7.72 1.47 1.35L5.41 20z\"/>\n",
              "  </svg>\n",
              "      </button>\n",
              "      \n",
              "  <style>\n",
              "    .colab-df-container {\n",
              "      display:flex;\n",
              "      flex-wrap:wrap;\n",
              "      gap: 12px;\n",
              "    }\n",
              "\n",
              "    .colab-df-convert {\n",
              "      background-color: #E8F0FE;\n",
              "      border: none;\n",
              "      border-radius: 50%;\n",
              "      cursor: pointer;\n",
              "      display: none;\n",
              "      fill: #1967D2;\n",
              "      height: 32px;\n",
              "      padding: 0 0 0 0;\n",
              "      width: 32px;\n",
              "    }\n",
              "\n",
              "    .colab-df-convert:hover {\n",
              "      background-color: #E2EBFA;\n",
              "      box-shadow: 0px 1px 2px rgba(60, 64, 67, 0.3), 0px 1px 3px 1px rgba(60, 64, 67, 0.15);\n",
              "      fill: #174EA6;\n",
              "    }\n",
              "\n",
              "    [theme=dark] .colab-df-convert {\n",
              "      background-color: #3B4455;\n",
              "      fill: #D2E3FC;\n",
              "    }\n",
              "\n",
              "    [theme=dark] .colab-df-convert:hover {\n",
              "      background-color: #434B5C;\n",
              "      box-shadow: 0px 1px 3px 1px rgba(0, 0, 0, 0.15);\n",
              "      filter: drop-shadow(0px 1px 2px rgba(0, 0, 0, 0.3));\n",
              "      fill: #FFFFFF;\n",
              "    }\n",
              "  </style>\n",
              "\n",
              "      <script>\n",
              "        const buttonEl =\n",
              "          document.querySelector('#df-38cd7902-d776-4298-bf7f-7dac89d28201 button.colab-df-convert');\n",
              "        buttonEl.style.display =\n",
              "          google.colab.kernel.accessAllowed ? 'block' : 'none';\n",
              "\n",
              "        async function convertToInteractive(key) {\n",
              "          const element = document.querySelector('#df-38cd7902-d776-4298-bf7f-7dac89d28201');\n",
              "          const dataTable =\n",
              "            await google.colab.kernel.invokeFunction('convertToInteractive',\n",
              "                                                     [key], {});\n",
              "          if (!dataTable) return;\n",
              "\n",
              "          const docLinkHtml = 'Like what you see? Visit the ' +\n",
              "            '<a target=\"_blank\" href=https://colab.research.google.com/notebooks/data_table.ipynb>data table notebook</a>'\n",
              "            + ' to learn more about interactive tables.';\n",
              "          element.innerHTML = '';\n",
              "          dataTable['output_type'] = 'display_data';\n",
              "          await google.colab.output.renderOutput(dataTable, element);\n",
              "          const docLink = document.createElement('div');\n",
              "          docLink.innerHTML = docLinkHtml;\n",
              "          element.appendChild(docLink);\n",
              "        }\n",
              "      </script>\n",
              "    </div>\n",
              "  </div>\n",
              "  "
            ]
          },
          "metadata": {},
          "execution_count": 32
        }
      ],
      "source": [
        "#print head of train_sample\n",
        "\n",
        "train_sample.head(10)"
      ]
    },
    {
      "cell_type": "code",
      "source": [
        "train_sample['ip_count'].isna().sum()"
      ],
      "metadata": {
        "id": "lmOLkgpVPvlC",
        "colab": {
          "base_uri": "https://localhost:8080/"
        },
        "outputId": "e201f974-cc03-44a0-ee40-d9a5d4cc7db8"
      },
      "execution_count": null,
      "outputs": [
        {
          "output_type": "execute_result",
          "data": {
            "text/plain": [
              "0"
            ]
          },
          "metadata": {},
          "execution_count": 33
        }
      ]
    },
    {
      "cell_type": "code",
      "source": [
        "100000-47536"
      ],
      "metadata": {
        "id": "uXcpHmpKBLMM",
        "colab": {
          "base_uri": "https://localhost:8080/"
        },
        "outputId": "e470cad8-2a93-4c81-f8f0-774b581e56e5"
      },
      "execution_count": null,
      "outputs": [
        {
          "output_type": "execute_result",
          "data": {
            "text/plain": [
              "52464"
            ]
          },
          "metadata": {},
          "execution_count": 34
        }
      ]
    },
    {
      "cell_type": "code",
      "source": [
        "#dummy = \n",
        "train_sample.isnull().sum()"
      ],
      "metadata": {
        "id": "8To0kT7sPdZi",
        "colab": {
          "base_uri": "https://localhost:8080/"
        },
        "outputId": "c487ad5a-4117-4cdd-f912-3fcd989c7975"
      },
      "execution_count": null,
      "outputs": [
        {
          "output_type": "execute_result",
          "data": {
            "text/plain": [
              "ip                 0\n",
              "app                0\n",
              "device             0\n",
              "os                 0\n",
              "channel            0\n",
              "is_attributed      0\n",
              "day_of_week        0\n",
              "day_of_year        0\n",
              "month              0\n",
              "hour               0\n",
              "ip_count           0\n",
              "ip_day_hour        0\n",
              "ip_hour_channel    0\n",
              "ip_hour_os         0\n",
              "ip_hour_app        0\n",
              "ip_hour_device     0\n",
              "dtype: int64"
            ]
          },
          "metadata": {},
          "execution_count": 35
        }
      ]
    },
    {
      "cell_type": "code",
      "execution_count": null,
      "metadata": {
        "_cell_guid": "e01b730e-a9a3-4899-a867-3d3da43d1670",
        "_uuid": "e819b6938609e7a2c96e3bea97d83afeea10457d",
        "id": "aHQ_6EUbD3U0",
        "scrolled": true,
        "colab": {
          "base_uri": "https://localhost:8080/"
        },
        "outputId": "6e52cf58-9d28-4b90-beb5-ad95845da2dc"
      },
      "outputs": [
        {
          "output_type": "stream",
          "name": "stdout",
          "text": [
            "3.719329833984375\n"
          ]
        }
      ],
      "source": [
        "#check space usage of train_sample again\n",
        "\n",
        "print(sum(train_sample.memory_usage())/1024**2)\n"
      ]
    },
    {
      "cell_type": "code",
      "execution_count": null,
      "metadata": {
        "_cell_guid": "e1c25766-1a45-416e-bcd0-865aa8c83e0f",
        "_uuid": "70d49f6f951fc870e404dc11f5643b39a5fe2a36",
        "id": "BkjGM0yuD3U2",
        "scrolled": true,
        "colab": {
          "base_uri": "https://localhost:8080/"
        },
        "outputId": "a7b9965e-2005-461d-8b2b-ab18856e3ed9"
      },
      "outputs": [
        {
          "output_type": "execute_result",
          "data": {
            "text/plain": [
              "44005"
            ]
          },
          "metadata": {},
          "execution_count": 37
        }
      ],
      "source": [
        "# garbage collect (unused) object using gc.collect()\n",
        "\n",
        "gc.collect()"
      ]
    },
    {
      "cell_type": "markdown",
      "metadata": {
        "id": "w6ffnEGQD3U3"
      },
      "source": [
        "## **`Modelling`**\n",
        "\n",
        "<p style='text-align: right;'> 75 points</p>\n",
        "\n",
        "\n",
        "Let's now build models to predict the variable ```is_attributed``` (downloaded). We'll try the several variants of boosting (adaboost, gradient boosting and XGBoost, LightGBM and Catboost), tune the hyperparameters in each model and choose the one which gives the best performance.\n",
        "\n",
        "In the original Kaggle competition, the metric for model evaluation is **area under the ROC curve**.\n"
      ]
    },
    {
      "cell_type": "code",
      "execution_count": null,
      "metadata": {
        "_cell_guid": "2b85ad1e-932b-4570-99ad-df89d8e09eee",
        "_uuid": "fb851915b9cd57bb5fd85a0d08b317c695db015b",
        "id": "SnK-PVG8D3U3",
        "scrolled": false,
        "colab": {
          "base_uri": "https://localhost:8080/"
        },
        "outputId": "18df0ac8-58fa-48e6-a737-cff08dc382e9"
      },
      "outputs": [
        {
          "output_type": "stream",
          "name": "stdout",
          "text": [
            "Shape of X: (100000, 15)\n",
            "Shape of y: (100000,)\n",
            "Shape of X_train (80000, 15)\n",
            "Shape of y_train (80000,)\n",
            "Shape of X_test (20000, 15)\n",
            "Shape of y_test (20000,)\n"
          ]
        }
      ],
      "source": [
        "# create X and y train\n",
        "X = train_sample.drop(columns='is_attributed', axis=1)\n",
        "\n",
        "y = train_sample['is_attributed']\n",
        "\n",
        "print('Shape of X:',X.shape)\n",
        "print('Shape of y:',y.shape)\n",
        "# split data into train and test/validation sets with test_size as 20% and random state as 101\n",
        "X_train, X_test, y_train, y_test = train_test_split(X, y, test_size=0.2, random_state=101) \n",
        "\n",
        "\n",
        "#print shape of X_train, y_train, X_test and y_test\n",
        "\n",
        "print('Shape of X_train', X_train.shape)\n",
        "print('Shape of y_train', y_train.shape)\n",
        "print('Shape of X_test', X_test.shape)\n",
        "print('Shape of y_test', y_test.shape)\n"
      ]
    },
    {
      "cell_type": "code",
      "source": [
        "print(X_train.head(3))\n",
        "print(y_train.head(3))"
      ],
      "metadata": {
        "colab": {
          "base_uri": "https://localhost:8080/"
        },
        "id": "lrC-NJDhBnoQ",
        "outputId": "bb349231-17f1-45b4-f21e-fd45c6619ebe"
      },
      "execution_count": null,
      "outputs": [
        {
          "output_type": "stream",
          "name": "stdout",
          "text": [
            "          ip  app  device  os  channel  day_of_week  day_of_year  month  hour  \\\n",
            "38823  36865    3       1  15      280            2          312     11     9   \n",
            "78870  11512   12       1  27      259            3          313     11    12   \n",
            "28393   4574    3       1   9      424            2          312     11    12   \n",
            "\n",
            "       ip_count  ip_day_hour  ip_hour_channel  ip_hour_os  ip_hour_app  \\\n",
            "38823         2            1                1           1            1   \n",
            "78870        81            3                2           1            2   \n",
            "28393       104            3                1           1            2   \n",
            "\n",
            "       ip_hour_device  \n",
            "38823               1  \n",
            "78870               5  \n",
            "28393               3  \n",
            "38823    0\n",
            "78870    0\n",
            "28393    0\n",
            "Name: is_attributed, dtype: uint8\n"
          ]
        }
      ]
    },
    {
      "cell_type": "code",
      "execution_count": null,
      "metadata": {
        "_cell_guid": "d0e93c90-38df-486b-b7e5-52c82b21d821",
        "_uuid": "116f681214fa50bf5710df325d37203a10d66df2",
        "id": "t5n0S7z7D3U3",
        "scrolled": true,
        "colab": {
          "base_uri": "https://localhost:8080/"
        },
        "outputId": "02fe2198-a191-4ba8-d544-2c874e70ecfb"
      },
      "outputs": [
        {
          "output_type": "stream",
          "name": "stdout",
          "text": [
            "Avg  download rates in Train: 0.002275\n",
            "Avg download rates in Test: 0.00225\n"
          ]
        }
      ],
      "source": [
        "# check the average download rates in train \n",
        "print('Avg  download rates in Train:',y_train.mean())\n",
        "\n",
        "\n",
        "# check the average download rates in test data, and check they should be comparable\n",
        "\n",
        "print('Avg download rates in Test:',y_test.mean())\n",
        "\n",
        "\n",
        "\n"
      ]
    },
    {
      "cell_type": "markdown",
      "metadata": {
        "id": "ZIkG7IwtD3U4"
      },
      "source": [
        "### **`1.  AdaBoost`**\n",
        "\n",
        "Reference doc: https://scikit-learn.org/stable/modules/generated/sklearn.ensemble.AdaBoostClassifier.html\n",
        "\n",
        "Reference video below:\n",
        "\n",
        "AdaBoost algorithm, short for Adaptive Boosting, is a Boosting technique that is used as an Ensemble Method in Machine Learning. It is called Adaptive Boosting as the weights are re-assigned to each instance, with higher weights to incorrectly classified instances. Boosting is used to reduce bias as well as the variance for supervised learning. It works on the principle where learners are grown sequentially. Except for the first, each subsequent learner is grown from previously grown learners. In simple words, weak learners are converted into strong ones. Adaboost algorithm also works on the same principle as boosting, but there is a slight difference in working. "
      ]
    },
    {
      "cell_type": "markdown",
      "source": [
        "# **`WATCH ALL VIDEOS IN THE PORTAL`**\n",
        "\n",
        "## **`Watch Video 1 : Boosting Intuition`**"
      ],
      "metadata": {
        "id": "1_tRnP-jtLM5"
      }
    },
    {
      "cell_type": "markdown",
      "source": [
        "## **`Watch Video 2 : Adaptive Boosting`**"
      ],
      "metadata": {
        "id": "fR3Sm6RItbAm"
      }
    },
    {
      "cell_type": "code",
      "execution_count": null,
      "metadata": {
        "id": "dCSn9O8AD3U4"
      },
      "outputs": [],
      "source": [
        "# Instantiate DecisionTreeClassifier with max_depth as 2 and random state as 1\n",
        "tree = DecisionTreeClassifier(max_depth=2, random_state=1)\n",
        "\n",
        "\n",
        "'''adaboost with the tree as base estimator, max 600 decision trees of depth=2, \n",
        "learning_rate/shrinkage=1.5 and algorithm as \"SAMME\" and random_state as 1'''\n",
        "\n",
        "adaboost_model_1 = AdaBoostClassifier(base_estimator=tree, n_estimators=600, \n",
        "                                      learning_rate=1.5, algorithm='SAMME', random_state=1)\n"
      ]
    },
    {
      "cell_type": "code",
      "execution_count": null,
      "metadata": {
        "id": "oi2t_42lD3U4",
        "colab": {
          "base_uri": "https://localhost:8080/"
        },
        "outputId": "5d6d5c29-7d5b-4f3c-c514-84740d2005e5"
      },
      "outputs": [
        {
          "output_type": "execute_result",
          "data": {
            "text/plain": [
              "AdaBoostClassifier(algorithm='SAMME',\n",
              "                   base_estimator=DecisionTreeClassifier(max_depth=2,\n",
              "                                                         random_state=1),\n",
              "                   learning_rate=1.5, n_estimators=600, random_state=1)"
            ]
          },
          "metadata": {},
          "execution_count": 42
        }
      ],
      "source": [
        "# fit adaboost_model_1 with training dataset\n",
        "\n",
        "adaboost_model_1.fit(X_train, y_train)\n",
        "\n"
      ]
    },
    {
      "cell_type": "code",
      "execution_count": null,
      "metadata": {
        "id": "SxtEqrLMD3U5",
        "scrolled": true,
        "colab": {
          "base_uri": "https://localhost:8080/"
        },
        "outputId": "500d84cd-2f49-408d-d912-ec009372cbc3"
      },
      "outputs": [
        {
          "output_type": "execute_result",
          "data": {
            "text/plain": [
              "array([[0.54049582, 0.45950418],\n",
              "       [0.53588662, 0.46411338],\n",
              "       [0.53885559, 0.46114441],\n",
              "       [0.52427816, 0.47572184],\n",
              "       [0.52018053, 0.47981947],\n",
              "       [0.5308397 , 0.4691603 ],\n",
              "       [0.53055748, 0.46944252],\n",
              "       [0.54126954, 0.45873046],\n",
              "       [0.52347347, 0.47652653],\n",
              "       [0.51624249, 0.48375751]])"
            ]
          },
          "metadata": {},
          "execution_count": 43
        }
      ],
      "source": [
        "# prediction probability on X_test\n",
        "predictions = adaboost_model_1.predict_proba(X_test)\n",
        "\n",
        "\n",
        "#print top 10 prediction result\n",
        "\n",
        "predictions[:10]\n"
      ]
    },
    {
      "cell_type": "markdown",
      "metadata": {
        "id": "af07mdE7D3U5"
      },
      "source": [
        "In above result the second column represents the probability of a click resulting in a download\n"
      ]
    },
    {
      "cell_type": "code",
      "execution_count": null,
      "metadata": {
        "id": "2A8LQ5HGD3U5",
        "colab": {
          "base_uri": "https://localhost:8080/"
        },
        "outputId": "8fc921fa-1948-4087-a45f-d680f732128a"
      },
      "outputs": [
        {
          "output_type": "execute_result",
          "data": {
            "text/plain": [
              "0.9523839750549848"
            ]
          },
          "metadata": {},
          "execution_count": 44
        }
      ],
      "source": [
        "# metrics: Get AUC score with parameters y_test and predicted probability result\n",
        "\n",
        "metrics.roc_auc_score(y_test, predictions[:,1])\n",
        "\n",
        "\n"
      ]
    },
    {
      "cell_type": "markdown",
      "metadata": {
        "id": "1ZD_mU_zD3U6"
      },
      "source": [
        "### **`AdaBoost - Hyperparameter Tuning`**\n",
        "\n",
        "Let's now tune the hyperparameters of the AdaBoost classifier. In this case, we have two types of hyperparameters - those of the component trees (max_depth etc.) and those of the ensemble (n_estimators, learning_rate etc.). \n",
        "\n",
        "\n",
        "We can tune both using the following technique - the keys of the form ```base_estimator_parameter_name``` belong to the trees (base estimator), and the rest belong to the ensemble."
      ]
    },
    {
      "cell_type": "code",
      "execution_count": null,
      "metadata": {
        "id": "EA716bp0D3U6"
      },
      "outputs": [],
      "source": [
        "# parameter grid with base_estimator__max_depth as [2,5] and n_estimators as [200, 400, 600]\n",
        "param_grid = {\n",
        "    'base_estimator__max_depth' : [2,5],\n",
        "    'n_estimators' : [200, 400, 600]\n",
        "}\n"
      ]
    },
    {
      "cell_type": "code",
      "execution_count": null,
      "metadata": {
        "id": "7sCbHLMdD3U6"
      },
      "outputs": [],
      "source": [
        "# DecisionTreeClassifier as base estimator with random_state=1\n",
        "tree = DecisionTreeClassifier(random_state=1)\n",
        "\n",
        "\n",
        "\n",
        "\n",
        "'''adaboost with the tree as base estimator and learning rate is arbitrarily set to 0.6, \n",
        "we'll discuss learning_rate below and algorithm as \"SAMME\"'''\n",
        "\n",
        "ABC = AdaBoostClassifier(base_estimator=tree, learning_rate=0.6, algorithm='SAMME' )\n",
        "\n"
      ]
    },
    {
      "cell_type": "markdown",
      "metadata": {
        "id": "ymh6clcUD3U6"
      },
      "source": [
        "#### Run grid search CV\n"
      ]
    },
    {
      "cell_type": "code",
      "execution_count": null,
      "metadata": {
        "id": "AqYdCANaD3U7"
      },
      "outputs": [],
      "source": [
        "# Keep cross validation fold as 3\n",
        "folds = 3\n",
        "\n",
        "# run grid search with ABC, folds, param_grid and scoring as roc_auc, return_train_score as True and verbose as 1\n",
        "grid_search_ABC = GridSearchCV(ABC, param_grid=param_grid, cv=folds, return_train_score=True,\n",
        "                               scoring='roc_auc', verbose=1)\n"
      ]
    },
    {
      "cell_type": "code",
      "execution_count": null,
      "metadata": {
        "id": "noipaXniD3U7",
        "colab": {
          "base_uri": "https://localhost:8080/"
        },
        "outputId": "030ce70c-0790-4b67-bf4f-132928465c99"
      },
      "outputs": [
        {
          "output_type": "stream",
          "name": "stdout",
          "text": [
            "Fitting 3 folds for each of 6 candidates, totalling 18 fits\n"
          ]
        },
        {
          "output_type": "execute_result",
          "data": {
            "text/plain": [
              "GridSearchCV(cv=3,\n",
              "             estimator=AdaBoostClassifier(algorithm='SAMME',\n",
              "                                          base_estimator=DecisionTreeClassifier(random_state=1),\n",
              "                                          learning_rate=0.6),\n",
              "             param_grid={'base_estimator__max_depth': [2, 5],\n",
              "                         'n_estimators': [200, 400, 600]},\n",
              "             return_train_score=True, scoring='roc_auc', verbose=1)"
            ]
          },
          "metadata": {},
          "execution_count": 48
        }
      ],
      "source": [
        "# fit grid_search_ABC on training data\n",
        "\n",
        "grid_search_ABC.fit(X_train, y_train)\n"
      ]
    },
    {
      "cell_type": "code",
      "execution_count": null,
      "metadata": {
        "id": "tf1glbAeD3U7",
        "scrolled": true,
        "colab": {
          "base_uri": "https://localhost:8080/"
        },
        "outputId": "1eb2bd28-8982-40b0-d373-b235141e8c41"
      },
      "outputs": [
        {
          "output_type": "stream",
          "name": "stdout",
          "text": [
            "   mean_fit_time  std_fit_time  mean_score_time  std_score_time  \\\n",
            "0      10.121949      0.269313         0.226486        0.037523   \n",
            "1      21.052824      0.586703         0.394604        0.002868   \n",
            "2      30.911772      0.034517         0.695399        0.095177   \n",
            "3      23.116745      0.203295         0.281766        0.004113   \n",
            "4      48.920628      2.996654         0.540524        0.001433   \n",
            "5      70.540276      0.366355         0.784799        0.008843   \n",
            "\n",
            "  param_base_estimator__max_depth param_n_estimators  \\\n",
            "0                               2                200   \n",
            "1                               2                400   \n",
            "2                               2                600   \n",
            "3                               5                200   \n",
            "4                               5                400   \n",
            "5                               5                600   \n",
            "\n",
            "                                              params  split0_test_score  \\\n",
            "0  {'base_estimator__max_depth': 2, 'n_estimators...           0.926966   \n",
            "1  {'base_estimator__max_depth': 2, 'n_estimators...           0.920643   \n",
            "2  {'base_estimator__max_depth': 2, 'n_estimators...           0.921720   \n",
            "3  {'base_estimator__max_depth': 5, 'n_estimators...           0.902343   \n",
            "4  {'base_estimator__max_depth': 5, 'n_estimators...           0.890494   \n",
            "5  {'base_estimator__max_depth': 5, 'n_estimators...           0.886355   \n",
            "\n",
            "   split1_test_score  split2_test_score  mean_test_score  std_test_score  \\\n",
            "0           0.975725           0.955801         0.952831        0.020017   \n",
            "1           0.974585           0.956496         0.950575        0.022416   \n",
            "2           0.973335           0.953955         0.949670        0.021288   \n",
            "3           0.943044           0.942108         0.929165        0.018970   \n",
            "4           0.930956           0.945019         0.922157        0.023113   \n",
            "5           0.940409           0.934099         0.920288        0.024132   \n",
            "\n",
            "   rank_test_score  split0_train_score  split1_train_score  \\\n",
            "0                1            0.996306            0.995094   \n",
            "1                2            0.997991            0.996683   \n",
            "2                3            0.998494            0.997923   \n",
            "3                4            1.000000            1.000000   \n",
            "4                5            1.000000            1.000000   \n",
            "5                6            1.000000            1.000000   \n",
            "\n",
            "   split2_train_score  mean_train_score  std_train_score  \n",
            "0            0.996461          0.995954         0.000611  \n",
            "1            0.997996          0.997556         0.000618  \n",
            "2            0.998417          0.998278         0.000253  \n",
            "3            1.000000          1.000000         0.000000  \n",
            "4            1.000000          1.000000         0.000000  \n",
            "5            1.000000          1.000000         0.000000  \n"
          ]
        }
      ],
      "source": [
        "# cv results\n",
        "cv_results = pd.DataFrame(grid_search_ABC.cv_results_)\n",
        "\n",
        "# print cv_results\n",
        "print(cv_results)\n",
        "\n"
      ]
    },
    {
      "cell_type": "code",
      "execution_count": null,
      "metadata": {
        "id": "42TG9kveD3U7",
        "colab": {
          "base_uri": "https://localhost:8080/",
          "height": 407
        },
        "outputId": "56848e1f-ba38-45e7-db4c-4029de92b0be"
      },
      "outputs": [
        {
          "output_type": "display_data",
          "data": {
            "text/plain": [
              "<Figure size 1152x432 with 2 Axes>"
            ],
            "image/png": "[encoded data removed]"
          },
          "metadata": {
            "needs_background": "light"
          }
        }
      ],
      "source": [
        "# plotting AUC with hyperparameter combinations\n",
        "\n",
        "plt.figure(figsize=(16,6))\n",
        "for n, depth in enumerate(param_grid['base_estimator__max_depth']):\n",
        "    \n",
        "\n",
        "    # subplot 1/n\n",
        "    plt.subplot(1,3, n+1)\n",
        "    depth_df = cv_results[cv_results['param_base_estimator__max_depth']==depth]\n",
        "    \n",
        "    # plot depth_df[\"param_n_estimators\"] for depth_df[\"mean_test_score\"],depth_df[\"mean_train_score\"] \n",
        "\n",
        "\n",
        "    plt.plot(depth_df['param_n_estimators'], depth_df['mean_test_score'])\n",
        "    plt.plot(depth_df['param_n_estimators'], depth_df['mean_train_score'])\n",
        "   \n",
        "\n",
        "    plt.xlabel('param_n_estimators')\n",
        "    plt.ylabel('AUC')\n",
        "    plt.title('depth = {0}'.format(depth))\n",
        "    plt.ylim([0.60, 1])\n",
        "    plt.legend(['test_score', 'train_score'])\n",
        "    plt.xscale('log')\n"
      ]
    },
    {
      "cell_type": "markdown",
      "metadata": {
        "id": "b0QPPEx8D3U8"
      },
      "source": [
        "The results above show that:\n",
        "- The ensemble with max_depth=5 is clearly overfitting (training auc is almost 1, while the test score is much lower)\n",
        "- At max_depth=2, the model performs slightly better (approx 95% AUC) with a higher test score \n",
        "\n",
        "Thus, we should go ahead with ```max_depth=2``` and ```n_estimators=200```.\n",
        "\n",
        "Note that we haven't experimented with many other important hyperparameters till now, such as ```learning rate```, ```subsample``` etc., and the results might be considerably improved by tuning them. We'll next experiment with these hyperparameters.\n",
        "\n",
        "As of now again rebuild AdaBoostClassifier with chosen hyperparameters"
      ]
    },
    {
      "cell_type": "code",
      "execution_count": null,
      "metadata": {
        "id": "nhE0yFVqD3U8",
        "colab": {
          "base_uri": "https://localhost:8080/"
        },
        "outputId": "d8af89d4-36f2-47f5-f8a5-4ccc2c314149"
      },
      "outputs": [
        {
          "output_type": "execute_result",
          "data": {
            "text/plain": [
              "AdaBoostClassifier(algorithm='SAMME',\n",
              "                   base_estimator=DecisionTreeClassifier(max_depth=2,\n",
              "                                                         random_state=1),\n",
              "                   learning_rate=0.6, n_estimators=200)"
            ]
          },
          "metadata": {},
          "execution_count": 51
        }
      ],
      "source": [
        "# DecisionTreeClassifier  as base estimator with max_depth as 2 and random_state as 1\n",
        "tree = DecisionTreeClassifier(max_depth=2, random_state=1)\n",
        "\n",
        "\n",
        "'''adaboost with the tree as base estimator\n",
        "# learning rate is arbitrarily set as 0.6, n_eastimator as 200 and rest same'''\n",
        "\n",
        "ABC = AdaBoostClassifier(base_estimator=tree, learning_rate=0.6, n_estimators=200, algorithm='SAMME')\n",
        "\n",
        "\n",
        "# fitting ABCon training data\n",
        "ABC.fit(X_train, y_train)\n",
        "\n",
        "\n"
      ]
    },
    {
      "cell_type": "code",
      "execution_count": null,
      "metadata": {
        "id": "pxaRQB8eD3U8",
        "colab": {
          "base_uri": "https://localhost:8080/"
        },
        "outputId": "7f008cbb-2025-4384-8a37-f98a53444f7a"
      },
      "outputs": [
        {
          "output_type": "execute_result",
          "data": {
            "text/plain": [
              "array([[0.61058431, 0.38941569],\n",
              "       [0.60742586, 0.39257414],\n",
              "       [0.63265753, 0.36734247],\n",
              "       [0.58758342, 0.41241658],\n",
              "       [0.57045678, 0.42954322],\n",
              "       [0.61162484, 0.38837516],\n",
              "       [0.59403993, 0.40596007],\n",
              "       [0.60805124, 0.39194876],\n",
              "       [0.60362848, 0.39637152],\n",
              "       [0.57654304, 0.42345696]])"
            ]
          },
          "metadata": {},
          "execution_count": 52
        }
      ],
      "source": [
        "# predict on test data\n",
        "predictions = ABC.predict_proba(X_test)\n",
        "\n",
        "\n",
        "# print top 10 prediction probabilities\n",
        "\n",
        "predictions[:10]\n"
      ]
    },
    {
      "cell_type": "code",
      "execution_count": null,
      "metadata": {
        "id": "PvTVp3a-D3U9",
        "colab": {
          "base_uri": "https://localhost:8080/"
        },
        "outputId": "8de10326-cf78-4d96-966f-a7e2e2be8f53"
      },
      "outputs": [
        {
          "output_type": "execute_result",
          "data": {
            "text/plain": [
              "0.960727748545338"
            ]
          },
          "metadata": {},
          "execution_count": 53
        }
      ],
      "source": [
        "# Calculate roc auc score \n",
        "\n",
        "metrics.roc_auc_score(y_test, predictions[:,1])\n",
        "\n"
      ]
    },
    {
      "cell_type": "markdown",
      "metadata": {
        "id": "2QlUGz4mD3U9"
      },
      "source": [
        "Well done, you have improved the model and adaboost gave us 96% of roc_auc coverage, which is a kind of good coverage\n",
        "\n",
        "### **`2. Gradient Boosting Classifier`**\n",
        "\n",
        "\n",
        "\n",
        "Reference doc: https://scikit-learn.org/stable/modules/generated/sklearn.ensemble.GradientBoostingClassifier.html\n",
        "\n",
        "\n",
        "Boosting is a method of converting weak learners into strong learners. In boosting, each new tree is a fit on a modified version of the original data set. \n",
        "\n",
        "Let's now try the gradient boosting classifier. We'll experiment with two main hyperparameters now - ```learning_rate``` (shrinkage) and ```subsample```. \n",
        "\n",
        "By adjusting the learning rate to less than 1, we can regularize the model. A model with higher learning_rate learns fast, but is prone to overfitting; one with a lower learning rate learns slowly, but avoids overfitting.\n",
        "\n",
        "Also, there's a trade-off between ```learning_rate``` and ```n_estimators``` - the higher the learning rate, the lesser trees the model needs (and thus we usually tune only one of them).\n",
        "\n",
        "Also, by subsampling (setting ```subsample``` to less than 1), we can have the individual models built on random subsamples of size ```subsample```. That way, each tree will be trained on different subsets and reduce the model's variance."
      ]
    },
    {
      "cell_type": "markdown",
      "source": [
        "## **`Watch Video 3: Gradient Boosting Intuition`**"
      ],
      "metadata": {
        "id": "orSq_jpEtmRg"
      }
    },
    {
      "cell_type": "code",
      "execution_count": null,
      "metadata": {
        "id": "i4RK3nuZD3U9"
      },
      "outputs": [],
      "source": [
        "# parameter grid with learning_rate as [0.2, 0.6, 0.9] and subsample as [0.3, 0.6, 0.9]\n",
        "param_grid = {\n",
        "    'learning_rate' : [0.2, 0.6, 0.9],\n",
        "    'subsample' : [0.3, 0.6, 0.9]\n",
        "}\n",
        "\n"
      ]
    },
    {
      "cell_type": "code",
      "execution_count": null,
      "metadata": {
        "id": "zFpD3jmkD3U9"
      },
      "outputs": [],
      "source": [
        "# Gradient boost as base estimator with max_depth as 2 and n_estimators as 200 and random_state as 1\n",
        "GBC = GradientBoostingClassifier(max_depth=2, n_estimators=200, random_state=1)\n",
        "\n"
      ]
    },
    {
      "cell_type": "markdown",
      "metadata": {
        "id": "VGYdbjKLD3U-"
      },
      "source": [
        "##### Run grid search\n"
      ]
    },
    {
      "cell_type": "code",
      "execution_count": null,
      "metadata": {
        "id": "VtnUljW9D3U-",
        "scrolled": true,
        "colab": {
          "base_uri": "https://localhost:8080/"
        },
        "outputId": "df5969ba-d3a8-47eb-92c0-e82d9b15ab62"
      },
      "outputs": [
        {
          "output_type": "stream",
          "name": "stdout",
          "text": [
            "Fitting 3 folds for each of 9 candidates, totalling 27 fits\n"
          ]
        },
        {
          "output_type": "execute_result",
          "data": {
            "text/plain": [
              "GridSearchCV(cv=3,\n",
              "             estimator=GradientBoostingClassifier(max_depth=2, n_estimators=200,\n",
              "                                                  random_state=1),\n",
              "             param_grid={'learning_rate': [0.2, 0.6, 0.9],\n",
              "                         'subsample': [0.3, 0.6, 0.9]},\n",
              "             return_train_score=True, scoring='roc_auc', verbose=1)"
            ]
          },
          "metadata": {},
          "execution_count": 56
        }
      ],
      "source": [
        "# CV folds as 3\n",
        "folds = 3\n",
        "\n",
        "#Instantiate grid search with GBC, folds, param_grid and scoring as roc_auc, return_train_score as True and verbose as 1\n",
        "\n",
        "grid_search_GBC = GridSearchCV(GBC, param_grid=param_grid, cv=folds, scoring='roc_auc',\n",
        "                               return_train_score=True, verbose=1)\n",
        "\n",
        "\n",
        "\n",
        "\n",
        "# grid_search_GBC fit on training data \n",
        "\n",
        "grid_search_GBC.fit(X_train, y_train)\n",
        "\n",
        "\n"
      ]
    },
    {
      "cell_type": "code",
      "execution_count": null,
      "metadata": {
        "id": "Mm1tYS_iD3U-",
        "scrolled": true,
        "colab": {
          "base_uri": "https://localhost:8080/"
        },
        "outputId": "8e561386-242d-47ae-8010-240b155b91e9"
      },
      "outputs": [
        {
          "output_type": "stream",
          "name": "stdout",
          "text": [
            "   mean_fit_time  std_fit_time  mean_score_time  std_score_time  \\\n",
            "0       4.572703      0.127702         0.035341        0.007572   \n",
            "1       7.290053      0.162338         0.036148        0.006902   \n",
            "2       9.230011      0.133302         0.036531        0.007126   \n",
            "3       4.628083      0.237671         0.031713        0.001623   \n",
            "4       7.323548      0.255381         0.031481        0.000389   \n",
            "5       9.469123      0.438285         0.035875        0.006999   \n",
            "6       4.645986      0.221325         0.034364        0.006307   \n",
            "7       7.270377      0.191620         0.030641        0.000182   \n",
            "8       9.448036      0.025187         0.032467        0.001535   \n",
            "\n",
            "  param_learning_rate param_subsample  \\\n",
            "0                 0.2             0.3   \n",
            "1                 0.2             0.6   \n",
            "2                 0.2             0.9   \n",
            "3                 0.6             0.3   \n",
            "4                 0.6             0.6   \n",
            "5                 0.6             0.9   \n",
            "6                 0.9             0.3   \n",
            "7                 0.9             0.6   \n",
            "8                 0.9             0.9   \n",
            "\n",
            "                                     params  split0_test_score  \\\n",
            "0  {'learning_rate': 0.2, 'subsample': 0.3}           0.777582   \n",
            "1  {'learning_rate': 0.2, 'subsample': 0.6}           0.880967   \n",
            "2  {'learning_rate': 0.2, 'subsample': 0.9}           0.799695   \n",
            "3  {'learning_rate': 0.6, 'subsample': 0.3}           0.712614   \n",
            "4  {'learning_rate': 0.6, 'subsample': 0.6}           0.489959   \n",
            "5  {'learning_rate': 0.6, 'subsample': 0.9}           0.605104   \n",
            "6  {'learning_rate': 0.9, 'subsample': 0.3}           0.225232   \n",
            "7  {'learning_rate': 0.9, 'subsample': 0.6}           0.632797   \n",
            "8  {'learning_rate': 0.9, 'subsample': 0.9}           0.185929   \n",
            "\n",
            "   split1_test_score  split2_test_score  mean_test_score  std_test_score  \\\n",
            "0           0.667045           0.884576         0.776401        0.088811   \n",
            "1           0.878956           0.751848         0.837257        0.060399   \n",
            "2           0.823715           0.899856         0.841089        0.042696   \n",
            "3           0.171713           0.632072         0.505466        0.238279   \n",
            "4           0.654872           0.603384         0.582738        0.068890   \n",
            "5           0.820242           0.649601         0.691649        0.092726   \n",
            "6           0.536117           0.206940         0.322763        0.151049   \n",
            "7           0.591511           0.603387         0.609232        0.017354   \n",
            "8           0.619453           0.582078         0.462487        0.196150   \n",
            "\n",
            "   rank_test_score  split0_train_score  split1_train_score  \\\n",
            "0                3            0.848509            0.771451   \n",
            "1                2            0.905836            0.949851   \n",
            "2                1            0.858151            0.815856   \n",
            "3                7            0.617595            0.177567   \n",
            "4                6            0.452552            0.684572   \n",
            "5                4            0.545650            0.820839   \n",
            "6                9            0.235390            0.565704   \n",
            "7                5            0.581342            0.605854   \n",
            "8                8            0.187281            0.649326   \n",
            "\n",
            "   split2_train_score  mean_train_score  std_train_score  \n",
            "0            0.843124          0.821028         0.035125  \n",
            "1            0.741464          0.865717         0.089679  \n",
            "2            0.904002          0.859336         0.035995  \n",
            "3            0.654294          0.483152         0.216600  \n",
            "4            0.634142          0.590422         0.099639  \n",
            "5            0.650268          0.672252         0.113416  \n",
            "6            0.228598          0.343231         0.157337  \n",
            "7            0.634140          0.607112         0.021573  \n",
            "8            0.628076          0.488227         0.212978  \n"
          ]
        }
      ],
      "source": [
        "# cv results\n",
        "\n",
        "cv_results = pd.DataFrame(grid_search_GBC.cv_results_)\n",
        "\n",
        "\n",
        "# print head\n",
        "\n",
        "print(cv_results)\n"
      ]
    },
    {
      "cell_type": "code",
      "execution_count": null,
      "metadata": {
        "id": "ZEM6khM6D3U-",
        "colab": {
          "base_uri": "https://localhost:8080/",
          "height": 406
        },
        "outputId": "fa9acdde-f884-4ed1-ec2b-663c6d1c7d3c"
      },
      "outputs": [
        {
          "output_type": "display_data",
          "data": {
            "text/plain": [
              "<Figure size 1152x432 with 3 Axes>"
            ],
            "image/png": "[encoded data removed]"
          },
          "metadata": {
            "needs_background": "light"
          }
        }
      ],
      "source": [
        "# # plotting AUC with hyperparameter combinations i.e subsample\n",
        "\n",
        "plt.figure(figsize=(16,6))\n",
        "\n",
        "\n",
        "for n, subsample in enumerate(param_grid['subsample']):\n",
        "    \n",
        "\n",
        "    # subplot 1/n\n",
        "    plt.subplot(1,len(param_grid['subsample']), n+1)\n",
        "    \n",
        "   \n",
        "    df = cv_results[cv_results['param_subsample']==subsample]\n",
        "\n",
        "     # plot df[\"param_learning_rate\"] for df[\"mean_test_score\"], df[\"mean_train_score\"\n",
        "    plt.plot(df['param_learning_rate'], df['mean_test_score'])\n",
        "    plt.plot(df['param_learning_rate'], df['mean_train_score'])\n",
        "   \n",
        "\n",
        "    plt.xlabel('learning rate')\n",
        "    plt.ylabel('AUC')\n",
        "    plt.title('subsample = {0}'.format(subsample))\n",
        "    plt.ylim([0.60, 1])\n",
        "    plt.legend(['test_score', 'train_score'])\n",
        "    plt.xscale('log')\n",
        "    \n",
        "\n",
        "\n",
        "    \n"
      ]
    },
    {
      "cell_type": "markdown",
      "metadata": {
        "id": "ZCLdKflSD3U_"
      },
      "source": [
        "It is clear from the plot above that the model with a lower subsample ratio performs better, while those with higher subsamples tend to overfit. \n",
        "\n",
        "Also, a lower learning rate results in less overfitting."
      ]
    },
    {
      "cell_type": "code",
      "execution_count": null,
      "metadata": {
        "id": "4fdnUAobRGSx",
        "colab": {
          "base_uri": "https://localhost:8080/"
        },
        "outputId": "52010d97-fcc5-4c1f-aaeb-079dda6b8ad3"
      },
      "outputs": [
        {
          "output_type": "execute_result",
          "data": {
            "text/plain": [
              "array([[9.99759635e-01, 2.40365249e-04],\n",
              "       [9.99683461e-01, 3.16539468e-04],\n",
              "       [9.99385527e-01, 6.14472923e-04],\n",
              "       [9.99790280e-01, 2.09720179e-04],\n",
              "       [9.99189954e-01, 8.10045513e-04],\n",
              "       [9.99824758e-01, 1.75242409e-04],\n",
              "       [9.99618179e-01, 3.81820940e-04],\n",
              "       [9.99712348e-01, 2.87651814e-04],\n",
              "       [9.99781825e-01, 2.18175325e-04],\n",
              "       [9.98997601e-01, 1.00239939e-03]])"
            ]
          },
          "metadata": {},
          "execution_count": 59
        }
      ],
      "source": [
        "# fitting GBC training data\n",
        "\n",
        "GBC.fit(X_train, y_train)\n",
        "\n",
        "\n",
        "\n",
        "# predict probabilities on test data\n",
        "predictions = GBC.predict_proba(X_test)\n",
        "\n",
        "\n",
        "# print top 10 prediction probabilities\n",
        "\n",
        "predictions[:10]\n"
      ]
    },
    {
      "cell_type": "code",
      "execution_count": null,
      "metadata": {
        "id": "jdt8L_PrS54b",
        "colab": {
          "base_uri": "https://localhost:8080/"
        },
        "outputId": "821fc1f0-2839-4661-8d87-4408a0477805"
      },
      "outputs": [
        {
          "output_type": "execute_result",
          "data": {
            "text/plain": [
              "0.9599148083187171"
            ]
          },
          "metadata": {},
          "execution_count": 60
        }
      ],
      "source": [
        "# Calculate roc auc score \n",
        "\n",
        "metrics.roc_auc_score(y_test, predictions[:,1])\n",
        "\n"
      ]
    },
    {
      "cell_type": "markdown",
      "metadata": {
        "id": "D_UuYzsnD3U_"
      },
      "source": [
        "So Gradient boosting also gives us 96% of roc_auc coverage\n",
        "\n",
        "### **`3. XGBoost`**\n",
        "\n",
        "\n",
        "Reference doc:https://www.analyticsvidhya.com/blog/2018/09/an-end-to-end-guide-to-understand-the-math-behind-xgboost/\n",
        "\n",
        "XGBoost is a decision-tree-based ensemble Machine Learning algorithm that uses a gradient boosting framework. In prediction problems involving unstructured data (images, text, etc.) artificial neural networks tend to outperform all other algorithms or frameworks. However, when it comes to small-to-medium structured/tabular data, decision tree based algorithms are considered best-in-class right now. Please see the chart below for the evolution of tree-based algorithms over the years.\n",
        "\n",
        "Let's finally try XGBoost. The hyperparameters are the same, some important ones being ```subsample```, ```learning_rate```, ```max_depth``` etc.\n",
        "\n",
        "Reference video below\n"
      ]
    },
    {
      "cell_type": "markdown",
      "source": [
        "## **`Watch Video 4 : XGBOOST Intuition`**"
      ],
      "metadata": {
        "id": "oD8NtJBStyO3"
      }
    },
    {
      "cell_type": "code",
      "execution_count": null,
      "metadata": {
        "_cell_guid": "2c974205-ceae-45d7-ac5c-06c49449e772",
        "_uuid": "25d4621636d95e27ee661f4d6a62532671f678b6",
        "id": "ENbuiar_D3U_",
        "colab": {
          "base_uri": "https://localhost:8080/"
        },
        "outputId": "2ee07ce6-0e36-48c7-a8db-9097b3371ab8"
      },
      "outputs": [
        {
          "output_type": "execute_result",
          "data": {
            "text/plain": [
              "XGBClassifier(random_state=1)"
            ]
          },
          "metadata": {},
          "execution_count": 61
        }
      ],
      "source": [
        "# Instantiate XGBClassifier with default hyperparameters and random_state=1\n",
        "model = XGBClassifier(random_state=1)\n",
        "\n",
        " \n",
        "# fit model on training data\n",
        "model.fit(X_train, y_train)\n",
        "\n",
        "\n"
      ]
    },
    {
      "cell_type": "markdown",
      "metadata": {
        "id": "kOjxFItyD3VA"
      },
      "source": [
        "Make predictions for test data\n"
      ]
    },
    {
      "cell_type": "code",
      "execution_count": null,
      "metadata": {
        "_cell_guid": "3d7ecd8f-856e-4405-9251-4128a31501b4",
        "_uuid": "92d6a9195af92f42514cbeec09585b083bc304cf",
        "id": "jc4iDFrGD3VA",
        "colab": {
          "base_uri": "https://localhost:8080/"
        },
        "outputId": "4e51c4ac-fe3c-40b4-e84a-5fb4454cb6fc"
      },
      "outputs": [
        {
          "output_type": "execute_result",
          "data": {
            "text/plain": [
              "array([[9.9987620e-01, 1.2377757e-04],\n",
              "       [9.9980235e-01, 1.9764129e-04],\n",
              "       [9.9981219e-01, 1.8779545e-04],\n",
              "       [9.9935341e-01, 6.4659910e-04],\n",
              "       [9.9839455e-01, 1.6054598e-03],\n",
              "       [9.9982888e-01, 1.7113073e-04],\n",
              "       [9.9954700e-01, 4.5297624e-04],\n",
              "       [9.9944913e-01, 5.5086729e-04],\n",
              "       [9.9976951e-01, 2.3048650e-04],\n",
              "       [9.9696469e-01, 3.0353032e-03]], dtype=float32)"
            ]
          },
          "metadata": {},
          "execution_count": 71
        }
      ],
      "source": [
        "# use predict_proba since we need probabilities to compute auc\n",
        "y_pred = model.predict_proba(X_test)\n",
        "\n",
        "\n",
        "\n",
        "#print top 10 y_pred result\n",
        "\n",
        "y_pred[:10]\n",
        "\n"
      ]
    },
    {
      "cell_type": "code",
      "execution_count": null,
      "metadata": {
        "_cell_guid": "26c5a5e3-b0ab-4b38-b31e-02aa2f94b6d2",
        "_uuid": "6761becf4d2447a77b9df32f7bb36b9331a16234",
        "id": "_9soR1CLD3VA",
        "scrolled": false,
        "colab": {
          "base_uri": "https://localhost:8080/"
        },
        "outputId": "01aa3abd-23e2-409a-a1cf-0937cd1c27bc"
      },
      "outputs": [
        {
          "output_type": "stream",
          "name": "stdout",
          "text": [
            "0.9484868732425735\n"
          ]
        }
      ],
      "source": [
        "# evaluate predictions using roc_auc score\n",
        "roc = metrics.roc_auc_score(y_test, y_pred[:,1])\n",
        "\n",
        "\n",
        "# print AUC\n",
        "\n",
        "print(roc)\n",
        "\n"
      ]
    },
    {
      "cell_type": "markdown",
      "metadata": {
        "_cell_guid": "b1724bd9-058a-428a-8052-67fb1eaf4e71",
        "_uuid": "9966ae6ab65c76abfa72e8d9503959a21665072d",
        "id": "D0R5HGVmD3VB"
      },
      "source": [
        "The roc_auc in this case is about 0.95% with default hyperparameters. Let's try changing the hyperparameters - an exhaustive list of XGBoost hyperparameters is here: http://xgboost.readthedocs.io/en/latest/parameter.html\n"
      ]
    },
    {
      "cell_type": "markdown",
      "metadata": {
        "_cell_guid": "2b2f8b31-33e9-454e-9393-263e628c3719",
        "_uuid": "309df6cbd77f3c31140606f4e0b620db53b87f35",
        "id": "uW5ayn7oD3VB"
      },
      "source": [
        "Let's now try tuning the hyperparameters using k-fold CV. We'll then use grid search CV to find the optimal values of hyperparameters."
      ]
    },
    {
      "cell_type": "code",
      "execution_count": null,
      "metadata": {
        "_cell_guid": "06427904-5c5e-4e36-bef9-1cf74e1be8c6",
        "_uuid": "7189e86b264593e6946cac56b267f38640257c49",
        "id": "cELevyotD3VB"
      },
      "outputs": [],
      "source": [
        "# hyperparameter tuning with XGBoost\n",
        "\n",
        "# creating a KFold object( 3 )\n",
        "folds = 3\n",
        "\n",
        "# specify range of hyperparameters with learning_rate as [0.2, 0.6] ans subsample as [0.3, 0.6, 0.9]\n",
        "param_grid ={\n",
        "    'learning_rate' : [0.2, 0.6],\n",
        "    'subsample' : [0.3, 0.6, 0.9]\n",
        "}\n",
        "\n",
        "\n",
        "# specify model with max_depth as 2 and n_estimators as 200 and random_state as 1\n",
        "xgb_model = XGBClassifier(max_depth=2, n_estimators=200, random_state=1)\n",
        "\n",
        "\n",
        "# set up GridSearchCV() with xgb_model, param_grid, folds, return_train_score and verbose as 1\n",
        "model_cv = GridSearchCV(estimator= xgb_model, param_grid=param_grid, cv=folds,\n",
        "                        return_train_score=True, verbose=1, scoring='roc_auc')\n",
        "\n",
        "\n"
      ]
    },
    {
      "cell_type": "code",
      "execution_count": null,
      "metadata": {
        "_cell_guid": "bfbc46d5-708a-477c-bd72-7722bf09e6ba",
        "_uuid": "dd828f9d6467b353a835f4163fcda0e6d662c24b",
        "id": "IIvxhmnKD3VB",
        "scrolled": false,
        "colab": {
          "base_uri": "https://localhost:8080/"
        },
        "outputId": "bfd60aab-399a-45f1-ce7d-64d854ee126b"
      },
      "outputs": [
        {
          "output_type": "stream",
          "name": "stdout",
          "text": [
            "Fitting 3 folds for each of 6 candidates, totalling 18 fits\n"
          ]
        },
        {
          "output_type": "execute_result",
          "data": {
            "text/plain": [
              "GridSearchCV(cv=3,\n",
              "             estimator=XGBClassifier(max_depth=2, n_estimators=200,\n",
              "                                     random_state=1),\n",
              "             param_grid={'learning_rate': [0.2, 0.6],\n",
              "                         'subsample': [0.3, 0.6, 0.9]},\n",
              "             return_train_score=True, scoring='roc_auc', verbose=1)"
            ]
          },
          "metadata": {},
          "execution_count": 74
        }
      ],
      "source": [
        "# fit the model_cv on training data\n",
        "\n",
        "model_cv.fit(X_train, y_train)\n"
      ]
    },
    {
      "cell_type": "code",
      "execution_count": null,
      "metadata": {
        "_cell_guid": "f858e220-b38f-41e2-b083-06d8f5eb742b",
        "_uuid": "afd9d9144b8f8817cdc03b1a1f568f920650a48b",
        "id": "JdN7so49D3VC",
        "scrolled": true
      },
      "outputs": [],
      "source": [
        "# Get cv results as datafame\n",
        "model_cv = pd.DataFrame(model_cv.cv_results_)\n"
      ]
    },
    {
      "cell_type": "code",
      "source": [
        "\n",
        "# print cv_results\n",
        "model_cv"
      ],
      "metadata": {
        "colab": {
          "base_uri": "https://localhost:8080/",
          "height": 614
        },
        "id": "dmBCgIE-5QQC",
        "outputId": "be4d9a10-7f3f-4626-8ab5-428d354f1ea0"
      },
      "execution_count": null,
      "outputs": [
        {
          "output_type": "execute_result",
          "data": {
            "text/plain": [
              "   mean_fit_time  std_fit_time  mean_score_time  std_score_time  \\\n",
              "0       5.067128      0.504115         0.126641        0.002153   \n",
              "1       5.252309      0.271656         0.117540        0.002807   \n",
              "2       4.704419      0.287131         0.108387        0.002409   \n",
              "3       4.893355      0.295520         0.128890        0.004117   \n",
              "4       5.556982      0.409327         0.140780        0.011703   \n",
              "5       4.961096      0.524698         0.177992        0.058363   \n",
              "\n",
              "  param_learning_rate param_subsample  \\\n",
              "0                 0.2             0.3   \n",
              "1                 0.2             0.6   \n",
              "2                 0.2             0.9   \n",
              "3                 0.6             0.3   \n",
              "4                 0.6             0.6   \n",
              "5                 0.6             0.9   \n",
              "\n",
              "                                     params  split0_test_score  \\\n",
              "0  {'learning_rate': 0.2, 'subsample': 0.3}           0.918476   \n",
              "1  {'learning_rate': 0.2, 'subsample': 0.6}           0.933275   \n",
              "2  {'learning_rate': 0.2, 'subsample': 0.9}           0.924940   \n",
              "3  {'learning_rate': 0.6, 'subsample': 0.3}           0.903041   \n",
              "4  {'learning_rate': 0.6, 'subsample': 0.6}           0.909776   \n",
              "5  {'learning_rate': 0.6, 'subsample': 0.9}           0.900652   \n",
              "\n",
              "   split1_test_score  split2_test_score  mean_test_score  std_test_score  \\\n",
              "0           0.966470           0.959373         0.948106        0.021151   \n",
              "1           0.978913           0.950468         0.954218        0.018819   \n",
              "2           0.973210           0.950138         0.949429        0.019712   \n",
              "3           0.948284           0.920718         0.924014        0.018617   \n",
              "4           0.970954           0.944572         0.941768        0.025054   \n",
              "5           0.967076           0.950202         0.939310        0.028190   \n",
              "\n",
              "   rank_test_score  split0_train_score  split1_train_score  \\\n",
              "0                3            0.990313            0.984284   \n",
              "1                1            0.993116            0.987288   \n",
              "2                2            0.993739            0.989940   \n",
              "3                6            0.997775            0.995323   \n",
              "4                4            0.999613            0.998645   \n",
              "5                5            0.999575            0.999293   \n",
              "\n",
              "   split2_train_score  mean_train_score  std_train_score  \n",
              "0            0.993700          0.989432         0.003894  \n",
              "1            0.994242          0.991549         0.003047  \n",
              "2            0.994238          0.992639         0.001919  \n",
              "3            0.996475          0.996525         0.001002  \n",
              "4            0.999649          0.999303         0.000465  \n",
              "5            0.999550          0.999473         0.000127  "
            ],
            "text/html": [
              "\n",
              "  <div id=\"df-af5abe24-532a-49c0-9b22-12518fc53ec9\">\n",
              "    <div class=\"colab-df-container\">\n",
              "      <div>\n",
              "<style scoped>\n",
              "    .dataframe tbody tr th:only-of-type {\n",
              "        vertical-align: middle;\n",
              "    }\n",
              "\n",
              "    .dataframe tbody tr th {\n",
              "        vertical-align: top;\n",
              "    }\n",
              "\n",
              "    .dataframe thead th {\n",
              "        text-align: right;\n",
              "    }\n",
              "</style>\n",
              "<table border=\"1\" class=\"dataframe\">\n",
              "  <thead>\n",
              "    <tr style=\"text-align: right;\">\n",
              "      <th></th>\n",
              "      <th>mean_fit_time</th>\n",
              "      <th>std_fit_time</th>\n",
              "      <th>mean_score_time</th>\n",
              "      <th>std_score_time</th>\n",
              "      <th>param_learning_rate</th>\n",
              "      <th>param_subsample</th>\n",
              "      <th>params</th>\n",
              "      <th>split0_test_score</th>\n",
              "      <th>split1_test_score</th>\n",
              "      <th>split2_test_score</th>\n",
              "      <th>mean_test_score</th>\n",
              "      <th>std_test_score</th>\n",
              "      <th>rank_test_score</th>\n",
              "      <th>split0_train_score</th>\n",
              "      <th>split1_train_score</th>\n",
              "      <th>split2_train_score</th>\n",
              "      <th>mean_train_score</th>\n",
              "      <th>std_train_score</th>\n",
              "    </tr>\n",
              "  </thead>\n",
              "  <tbody>\n",
              "    <tr>\n",
              "      <th>0</th>\n",
              "      <td>5.067128</td>\n",
              "      <td>0.504115</td>\n",
              "      <td>0.126641</td>\n",
              "      <td>0.002153</td>\n",
              "      <td>0.2</td>\n",
              "      <td>0.3</td>\n",
              "      <td>{'learning_rate': 0.2, 'subsample': 0.3}</td>\n",
              "      <td>0.918476</td>\n",
              "      <td>0.966470</td>\n",
              "      <td>0.959373</td>\n",
              "      <td>0.948106</td>\n",
              "      <td>0.021151</td>\n",
              "      <td>3</td>\n",
              "      <td>0.990313</td>\n",
              "      <td>0.984284</td>\n",
              "      <td>0.993700</td>\n",
              "      <td>0.989432</td>\n",
              "      <td>0.003894</td>\n",
              "    </tr>\n",
              "    <tr>\n",
              "      <th>1</th>\n",
              "      <td>5.252309</td>\n",
              "      <td>0.271656</td>\n",
              "      <td>0.117540</td>\n",
              "      <td>0.002807</td>\n",
              "      <td>0.2</td>\n",
              "      <td>0.6</td>\n",
              "      <td>{'learning_rate': 0.2, 'subsample': 0.6}</td>\n",
              "      <td>0.933275</td>\n",
              "      <td>0.978913</td>\n",
              "      <td>0.950468</td>\n",
              "      <td>0.954218</td>\n",
              "      <td>0.018819</td>\n",
              "      <td>1</td>\n",
              "      <td>0.993116</td>\n",
              "      <td>0.987288</td>\n",
              "      <td>0.994242</td>\n",
              "      <td>0.991549</td>\n",
              "      <td>0.003047</td>\n",
              "    </tr>\n",
              "    <tr>\n",
              "      <th>2</th>\n",
              "      <td>4.704419</td>\n",
              "      <td>0.287131</td>\n",
              "      <td>0.108387</td>\n",
              "      <td>0.002409</td>\n",
              "      <td>0.2</td>\n",
              "      <td>0.9</td>\n",
              "      <td>{'learning_rate': 0.2, 'subsample': 0.9}</td>\n",
              "      <td>0.924940</td>\n",
              "      <td>0.973210</td>\n",
              "      <td>0.950138</td>\n",
              "      <td>0.949429</td>\n",
              "      <td>0.019712</td>\n",
              "      <td>2</td>\n",
              "      <td>0.993739</td>\n",
              "      <td>0.989940</td>\n",
              "      <td>0.994238</td>\n",
              "      <td>0.992639</td>\n",
              "      <td>0.001919</td>\n",
              "    </tr>\n",
              "    <tr>\n",
              "      <th>3</th>\n",
              "      <td>4.893355</td>\n",
              "      <td>0.295520</td>\n",
              "      <td>0.128890</td>\n",
              "      <td>0.004117</td>\n",
              "      <td>0.6</td>\n",
              "      <td>0.3</td>\n",
              "      <td>{'learning_rate': 0.6, 'subsample': 0.3}</td>\n",
              "      <td>0.903041</td>\n",
              "      <td>0.948284</td>\n",
              "      <td>0.920718</td>\n",
              "      <td>0.924014</td>\n",
              "      <td>0.018617</td>\n",
              "      <td>6</td>\n",
              "      <td>0.997775</td>\n",
              "      <td>0.995323</td>\n",
              "      <td>0.996475</td>\n",
              "      <td>0.996525</td>\n",
              "      <td>0.001002</td>\n",
              "    </tr>\n",
              "    <tr>\n",
              "      <th>4</th>\n",
              "      <td>5.556982</td>\n",
              "      <td>0.409327</td>\n",
              "      <td>0.140780</td>\n",
              "      <td>0.011703</td>\n",
              "      <td>0.6</td>\n",
              "      <td>0.6</td>\n",
              "      <td>{'learning_rate': 0.6, 'subsample': 0.6}</td>\n",
              "      <td>0.909776</td>\n",
              "      <td>0.970954</td>\n",
              "      <td>0.944572</td>\n",
              "      <td>0.941768</td>\n",
              "      <td>0.025054</td>\n",
              "      <td>4</td>\n",
              "      <td>0.999613</td>\n",
              "      <td>0.998645</td>\n",
              "      <td>0.999649</td>\n",
              "      <td>0.999303</td>\n",
              "      <td>0.000465</td>\n",
              "    </tr>\n",
              "    <tr>\n",
              "      <th>5</th>\n",
              "      <td>4.961096</td>\n",
              "      <td>0.524698</td>\n",
              "      <td>0.177992</td>\n",
              "      <td>0.058363</td>\n",
              "      <td>0.6</td>\n",
              "      <td>0.9</td>\n",
              "      <td>{'learning_rate': 0.6, 'subsample': 0.9}</td>\n",
              "      <td>0.900652</td>\n",
              "      <td>0.967076</td>\n",
              "      <td>0.950202</td>\n",
              "      <td>0.939310</td>\n",
              "      <td>0.028190</td>\n",
              "      <td>5</td>\n",
              "      <td>0.999575</td>\n",
              "      <td>0.999293</td>\n",
              "      <td>0.999550</td>\n",
              "      <td>0.999473</td>\n",
              "      <td>0.000127</td>\n",
              "    </tr>\n",
              "  </tbody>\n",
              "</table>\n",
              "</div>\n",
              "      <button class=\"colab-df-convert\" onclick=\"convertToInteractive('df-af5abe24-532a-49c0-9b22-12518fc53ec9')\"\n",
              "              title=\"Convert this dataframe to an interactive table.\"\n",
              "              style=\"display:none;\">\n",
              "        \n",
              "  <svg xmlns=\"http://www.w3.org/2000/svg\" height=\"24px\"viewBox=\"0 0 24 24\"\n",
              "       width=\"24px\">\n",
              "    <path d=\"M0 0h24v24H0V0z\" fill=\"none\"/>\n",
              "    <path d=\"M18.56 5.44l.94 2.06.94-2.06 2.06-.94-2.06-.94-.94-2.06-.94 2.06-2.06.94zm-11 1L8.5 8.5l.94-2.06 2.06-.94-2.06-.94L8.5 2.5l-.94 2.06-2.06.94zm10 10l.94 2.06.94-2.06 2.06-.94-2.06-.94-.94-2.06-.94 2.06-2.06.94z\"/><path d=\"M17.41 7.96l-1.37-1.37c-.4-.4-.92-.59-1.43-.59-.52 0-1.04.2-1.43.59L10.3 9.45l-7.72 7.72c-.78.78-.78 2.05 0 2.83L4 21.41c.39.39.9.59 1.41.59.51 0 1.02-.2 1.41-.59l7.78-7.78 2.81-2.81c.8-.78.8-2.07 0-2.86zM5.41 20L4 18.59l7.72-7.72 1.47 1.35L5.41 20z\"/>\n",
              "  </svg>\n",
              "      </button>\n",
              "      \n",
              "  <style>\n",
              "    .colab-df-container {\n",
              "      display:flex;\n",
              "      flex-wrap:wrap;\n",
              "      gap: 12px;\n",
              "    }\n",
              "\n",
              "    .colab-df-convert {\n",
              "      background-color: #E8F0FE;\n",
              "      border: none;\n",
              "      border-radius: 50%;\n",
              "      cursor: pointer;\n",
              "      display: none;\n",
              "      fill: #1967D2;\n",
              "      height: 32px;\n",
              "      padding: 0 0 0 0;\n",
              "      width: 32px;\n",
              "    }\n",
              "\n",
              "    .colab-df-convert:hover {\n",
              "      background-color: #E2EBFA;\n",
              "      box-shadow: 0px 1px 2px rgba(60, 64, 67, 0.3), 0px 1px 3px 1px rgba(60, 64, 67, 0.15);\n",
              "      fill: #174EA6;\n",
              "    }\n",
              "\n",
              "    [theme=dark] .colab-df-convert {\n",
              "      background-color: #3B4455;\n",
              "      fill: #D2E3FC;\n",
              "    }\n",
              "\n",
              "    [theme=dark] .colab-df-convert:hover {\n",
              "      background-color: #434B5C;\n",
              "      box-shadow: 0px 1px 3px 1px rgba(0, 0, 0, 0.15);\n",
              "      filter: drop-shadow(0px 1px 2px rgba(0, 0, 0, 0.3));\n",
              "      fill: #FFFFFF;\n",
              "    }\n",
              "  </style>\n",
              "\n",
              "      <script>\n",
              "        const buttonEl =\n",
              "          document.querySelector('#df-af5abe24-532a-49c0-9b22-12518fc53ec9 button.colab-df-convert');\n",
              "        buttonEl.style.display =\n",
              "          google.colab.kernel.accessAllowed ? 'block' : 'none';\n",
              "\n",
              "        async function convertToInteractive(key) {\n",
              "          const element = document.querySelector('#df-af5abe24-532a-49c0-9b22-12518fc53ec9');\n",
              "          const dataTable =\n",
              "            await google.colab.kernel.invokeFunction('convertToInteractive',\n",
              "                                                     [key], {});\n",
              "          if (!dataTable) return;\n",
              "\n",
              "          const docLinkHtml = 'Like what you see? Visit the ' +\n",
              "            '<a target=\"_blank\" href=https://colab.research.google.com/notebooks/data_table.ipynb>data table notebook</a>'\n",
              "            + ' to learn more about interactive tables.';\n",
              "          element.innerHTML = '';\n",
              "          dataTable['output_type'] = 'display_data';\n",
              "          await google.colab.output.renderOutput(dataTable, element);\n",
              "          const docLink = document.createElement('div');\n",
              "          docLink.innerHTML = docLinkHtml;\n",
              "          element.appendChild(docLink);\n",
              "        }\n",
              "      </script>\n",
              "    </div>\n",
              "  </div>\n",
              "  "
            ]
          },
          "metadata": {},
          "execution_count": 76
        }
      ]
    },
    {
      "cell_type": "markdown",
      "metadata": {
        "id": "DhdqhKH7D3VC"
      },
      "source": [
        "Convert parameters to int for plotting on x-axis\n"
      ]
    },
    {
      "cell_type": "code",
      "execution_count": null,
      "metadata": {
        "_cell_guid": "fdb04f9e-4ada-4413-a8ae-a8bbb2cf2fac",
        "_uuid": "6e4a1bf2aea84e1361fd3234c228991273fa3ac5",
        "id": "e5o4sgkTD3VD",
        "scrolled": false,
        "colab": {
          "base_uri": "https://localhost:8080/",
          "height": 407
        },
        "outputId": "9a750ca5-db86-4402-a988-84ff108dcabe"
      },
      "outputs": [
        {
          "output_type": "display_data",
          "data": {
            "text/plain": [
              "<Figure size 1152x432 with 3 Axes>"
            ],
            "image/png": "[encoded data removed]"
          },
          "metadata": {
            "needs_background": "light"
          }
        }
      ],
      "source": [
        "# # plotting\n",
        "plt.figure(figsize=(16,6))\n",
        "\n",
        "param_grid = {\n",
        "    'learning rate' : [0.2, 0.6],\n",
        "    'subsample' : [0.3, 0.6, 0.9]\n",
        "    \n",
        "}\n",
        "\n",
        "\n",
        "for n, subsample in enumerate(param_grid['subsample']):\n",
        "    \n",
        "\n",
        "    # subplot 1/n\n",
        "    plt.subplot(1,len(param_grid['subsample']), n+1)\n",
        "    df = cv_results[cv_results['param_subsample'] == subsample]\n",
        "    \n",
        "    # plot df[\"param_learning_rate\"] for df[\"mean_test_score\"], df[\"mean_train_score\"]\n",
        "    \n",
        "    plt.plot(df['param_learning_rate'], df['mean_test_score'])\n",
        "    plt.plot(df['param_learning_rate'], df['mean_train_score'])\n",
        "    plt.xlabel('learning_rate')\n",
        "    plt.ylabel('AUC')\n",
        "    plt.title(\"subsample={0}\".format(subsample))\n",
        "    plt.ylim([0.60, 1])\n",
        "    plt.legend(['test score', 'train score'], loc='upper left')\n",
        "    plt.xscale('log')\n",
        "\n",
        "    "
      ]
    },
    {
      "cell_type": "markdown",
      "metadata": {
        "_cell_guid": "21bd521a-86d8-4e42-8e98-c2bfb83f5248",
        "_uuid": "853a028f77dfabc43dc167b4cd92ca9418818106",
        "id": "k-x6BYIqD3VD"
      },
      "source": [
        "The results show that a subsample size of 0.6 and learning_rate of about 0.2 seems optimal. \n",
        "Also, XGBoost has resulted in the highest ROC AUC obtained (across various hyperparameters). \n",
        "\n",
        "\n",
        "Let's build a final model with the chosen hyperparameters."
      ]
    },
    {
      "cell_type": "code",
      "execution_count": null,
      "metadata": {
        "_cell_guid": "f64f6dd4-1594-434d-b006-2607929c7848",
        "_uuid": "f6d26a03087caa6804c67bec109399f32a86e4fb",
        "id": "gj0OA89XD3VE",
        "colab": {
          "base_uri": "https://localhost:8080/"
        },
        "outputId": "d239af65-e514-42c8-cf80-71bbf6cfddb6"
      },
      "outputs": [
        {
          "output_type": "execute_result",
          "data": {
            "text/plain": [
              "XGBClassifier(params={'learning_rate': 0.2, 'max_depth': 2, 'n_estimators': 200,\n",
              "                      'objective': 'binary:logistic', 'random_state': 1,\n",
              "                      'subsample': 0.6})"
            ]
          },
          "metadata": {},
          "execution_count": 79
        }
      ],
      "source": [
        "# 4 chosen hyperparameters and use 'objective':'binary:logistic' which outputs probability rather than label, which we need for auc\n",
        "params = {\n",
        "    'learning_rate' : 0.2,\n",
        "    'max_depth' : 2,\n",
        "    'n_estimators' : 200,\n",
        "    'subsample' : 0.6,\n",
        "    'objective' : 'binary:logistic',\n",
        "    'random_state' : 1\n",
        "}\n",
        "\n",
        "\n",
        "\n",
        "#Instantiate XGBClassifier with params\n",
        "XGB = XGBClassifier(params = params)\n",
        "\n",
        "\n",
        "\n",
        "# fit model on training data\n",
        "\n",
        "XGB.fit(X_train, y_train)\n",
        "\n"
      ]
    },
    {
      "cell_type": "code",
      "execution_count": null,
      "metadata": {
        "_cell_guid": "4a8c73d2-d546-4741-9f81-99359a268e7d",
        "_uuid": "2bdcff9ae7faeeeac19bce56367f6f559fe9835e",
        "id": "R80-UXyED3VE",
        "scrolled": false,
        "colab": {
          "base_uri": "https://localhost:8080/"
        },
        "outputId": "43a2e2e8-22c4-4e55-ec30-624139c1668c"
      },
      "outputs": [
        {
          "output_type": "execute_result",
          "data": {
            "text/plain": [
              "array([[9.9987620e-01, 1.2377757e-04],\n",
              "       [9.9980235e-01, 1.9764129e-04],\n",
              "       [9.9981219e-01, 1.8779545e-04],\n",
              "       [9.9935341e-01, 6.4659910e-04],\n",
              "       [9.9839455e-01, 1.6054598e-03],\n",
              "       [9.9982888e-01, 1.7113073e-04],\n",
              "       [9.9954700e-01, 4.5297624e-04],\n",
              "       [9.9944913e-01, 5.5086729e-04],\n",
              "       [9.9976951e-01, 2.3048650e-04],\n",
              "       [9.9696469e-01, 3.0353032e-03]], dtype=float32)"
            ]
          },
          "metadata": {},
          "execution_count": 82
        }
      ],
      "source": [
        "# get prediction probability\n",
        "y_pred = XGB.predict_proba(X_test)\n",
        "\n",
        "\n",
        "#print to 10 prediction result\n",
        "y_pred[:10]\n",
        "\n"
      ]
    },
    {
      "cell_type": "markdown",
      "metadata": {
        "_cell_guid": "02d2e492-87ef-4eb8-b028-09089fbaae18",
        "_uuid": "072559ae029cf30f092bd89c571ac7e981e1a0bf",
        "id": "k9dONIr8D3VE"
      },
      "source": [
        "The first column in y_pred is the P(0), i.e. P(not fraud), and the second column is P(1/fraud)."
      ]
    },
    {
      "cell_type": "code",
      "execution_count": null,
      "metadata": {
        "_cell_guid": "fbf9a886-13ce-44f2-8489-7f903236f938",
        "_uuid": "fa63f1fa85a985837b2c77af4208b98522c86632",
        "id": "G78YhoVzD3VF",
        "scrolled": false,
        "colab": {
          "base_uri": "https://localhost:8080/"
        },
        "outputId": "1a52617a-ee01-4aa2-f754-e1a9a81a20c0"
      },
      "outputs": [
        {
          "output_type": "stream",
          "name": "stdout",
          "text": [
            "0.9484868732425735\n"
          ]
        }
      ],
      "source": [
        "# print roc_auc score\n",
        "auc = metrics.roc_auc_score(y_test, y_pred[:,1])\n",
        "\n",
        "\n",
        "print(auc)"
      ]
    },
    {
      "cell_type": "markdown",
      "metadata": {
        "id": "V4H3vgzPD3VF"
      },
      "source": [
        "Even after hyerparameter tuning we got same roc_auc score. Finally, let's also look at the feature importances."
      ]
    },
    {
      "cell_type": "code",
      "execution_count": null,
      "metadata": {
        "id": "7IlzyzlQD3VF",
        "scrolled": true,
        "colab": {
          "base_uri": "https://localhost:8080/"
        },
        "outputId": "274ed0fc-ca33-49c6-f657-aad161ba7775"
      },
      "outputs": [
        {
          "output_type": "execute_result",
          "data": {
            "text/plain": [
              "{'ip': 0.04729222,\n",
              " 'app': 0.27878824,\n",
              " 'device': 0.17192616,\n",
              " 'os': 0.09987429,\n",
              " 'channel': 0.21394157,\n",
              " 'day_of_week': 0.02267693,\n",
              " 'day_of_year': 0.0,\n",
              " 'month': 0.0,\n",
              " 'hour': 0.03604142,\n",
              " 'ip_count': 0.121292084,\n",
              " 'ip_day_hour': 0.0,\n",
              " 'ip_hour_channel': 0.0,\n",
              " 'ip_hour_os': 0.008167093,\n",
              " 'ip_hour_app': 0.0,\n",
              " 'ip_hour_device': 0.0}"
            ]
          },
          "metadata": {},
          "execution_count": 86
        }
      ],
      "source": [
        "# print feature importance for each column in  a dictionary form\n",
        "importance = dict(zip(X_train.columns, model.feature_importances_))\n",
        "\n",
        "\n",
        "importance\n"
      ]
    },
    {
      "cell_type": "code",
      "execution_count": null,
      "metadata": {
        "id": "qSJTQbzdD3VF",
        "colab": {
          "base_uri": "https://localhost:8080/",
          "height": 265
        },
        "outputId": "4eb929a5-c3b9-452a-d976-9c39d225bcf5"
      },
      "outputs": [
        {
          "output_type": "display_data",
          "data": {
            "text/plain": [
              "<Figure size 432x288 with 1 Axes>"
            ],
            "image/png": "[encoded data removed]"
          },
          "metadata": {
            "needs_background": "light"
          }
        }
      ],
      "source": [
        "# plot feature importance for every column\n",
        "\n",
        "plt.bar(range(len(model.feature_importances_)), model.feature_importances_)\n",
        "\n",
        "plt.show()\n"
      ]
    },
    {
      "cell_type": "markdown",
      "metadata": {
        "id": "a8RhPIPsD3VG"
      },
      "source": [
        "## **`4.  LightGBM`**\n",
        "\n",
        "Reference doc: https://lightgbm.readthedocs.io/en/latest/Python-Intro.html\n",
        "\n",
        "Reference video: https://www.youtube.com/watch?v=Ph2nbuhOT04\n",
        "\n",
        "Light GBM is a fast, distributed, high-performance gradient boosting framework based on decision tree algorithm, used for ranking, classification and many other machine learning tasks.\n",
        "\n",
        "Since it is based on decision tree algorithms, it splits the tree leaf wise with the best fit whereas other boosting algorithms split the tree depth wise or level wise rather than leaf-wise. So when growing on the same leaf in Light GBM, the leaf-wise algorithm can reduce more loss than the level-wise algorithm and hence results in much better accuracy which can rarely be achieved by any of the existing boosting algorithms. Also, it is surprisingly very fast, hence the word ‘Light’.\n",
        "\n",
        "**Advantages of Light GBM**\n",
        "\n",
        "1. Faster training speed and higher efficiency: Light GBM use histogram based algorithm i.e it buckets continuous feature values into discrete bins which fasten the training procedure.\n",
        "2. Lower memory usage: Replaces continuous values to discrete bins which result in lower memory usage.\n",
        "3. Better accuracy than any other boosting algorithm: It produces much more complex trees by following leaf wise split approach rather than a level-wise approach which is the main factor in achieving higher accuracy. However, it can sometimes lead to overfitting which can be avoided by setting the max_depth parameter.\n",
        "4. Compatibility with Large Datasets: It is capable of performing equally good with large datasets with a significant reduction in training time as compared to XGBOOST.\n",
        "5. Parallel learning supported.\n",
        "\n",
        "I guess you must have got excited about the advantages of Light GBM. So lets get started with it"
      ]
    },
    {
      "cell_type": "code",
      "execution_count": null,
      "metadata": {
        "id": "5StvwjP5D3VG",
        "colab": {
          "base_uri": "https://localhost:8080/"
        },
        "outputId": "eeb0f8b2-47f9-4772-caf5-dc0edda7c9b5"
      },
      "outputs": [
        {
          "output_type": "execute_result",
          "data": {
            "text/plain": [
              "LGBMClassifier(random_state=1)"
            ]
          },
          "metadata": {},
          "execution_count": 88
        }
      ],
      "source": [
        "# import lightgbm\n",
        "from lightgbm import LGBMClassifier\n",
        "\n",
        "# import lightgbm as LGBMClassifier\n",
        "\n",
        "# Instantiate LGBMClassifier with default hyperparameters and random_state=1\n",
        "LGB = LGBMClassifier(random_state=1)\n",
        "\n",
        " \n",
        "# fit model on training data\n",
        "\n",
        "LGB.fit(X_train, y_train)\n",
        "\n"
      ]
    },
    {
      "cell_type": "code",
      "execution_count": null,
      "metadata": {
        "id": "7U6GwUphD3VG",
        "colab": {
          "base_uri": "https://localhost:8080/"
        },
        "outputId": "d76a7473-cb3f-44d4-beed-370ce25ffdb9"
      },
      "outputs": [
        {
          "output_type": "execute_result",
          "data": {
            "text/plain": [
              "array([[1.00000000e+000, 0.00000000e+000],\n",
              "       [9.99998990e-001, 1.01030903e-006],\n",
              "       [1.00000000e+000, 2.82994650e-030],\n",
              "       [1.00000000e+000, 7.33590054e-049],\n",
              "       [9.99994630e-001, 5.36963442e-006],\n",
              "       [1.15824239e-009, 9.99999999e-001],\n",
              "       [1.00000000e+000, 6.24697059e-143],\n",
              "       [1.00000000e+000, 7.99709263e-127],\n",
              "       [1.00000000e+000, 0.00000000e+000],\n",
              "       [9.99938530e-001, 6.14704228e-005]])"
            ]
          },
          "metadata": {},
          "execution_count": 90
        }
      ],
      "source": [
        "# use predict_proba since we need probabilities to compute auc\n",
        "y_pred =LGB.predict_proba(X_test)\n",
        "\n",
        "\n",
        "\n",
        "#print top 10 y_pred result\n",
        "\n",
        "y_pred[:10]\n"
      ]
    },
    {
      "cell_type": "code",
      "execution_count": null,
      "metadata": {
        "id": "fTMKpaisD3VG",
        "colab": {
          "base_uri": "https://localhost:8080/"
        },
        "outputId": "3ea093bc-9db2-4eb0-e012-1b627063bc76"
      },
      "outputs": [
        {
          "output_type": "stream",
          "name": "stdout",
          "text": [
            "0.8027667808123835\n"
          ]
        }
      ],
      "source": [
        "# evaluate predictions using roc_auc score\n",
        "roc = metrics.roc_auc_score(y_test, y_pred[:,1])\n",
        "\n",
        "print(roc)"
      ]
    },
    {
      "cell_type": "markdown",
      "metadata": {
        "id": "A83xQgyOD3VH"
      },
      "source": [
        "Now lets tune above model. The exhaustive list of hyperparameters in LightGBM are https://lightgbm.readthedocs.io/en/latest/Parameters-Tuning.html\n",
        "\n",
        "But lets run the LightGBM with previous selected hyperparamters i.e.\n",
        "\n",
        "`'learning_rate': 0.2,\n",
        "          'max_depth': 2, \n",
        "          'n_estimators':200,\n",
        "          'subsample':0.6,\n",
        "         'objective':'binary:logistic'\n",
        "         'random_state':1}`\n",
        "         \n",
        "Lets see if it improves"
      ]
    },
    {
      "cell_type": "code",
      "execution_count": null,
      "metadata": {
        "id": "_W1CMCORD3VH",
        "colab": {
          "base_uri": "https://localhost:8080/"
        },
        "outputId": "4bee6a14-8688-45a0-e65e-6911d786abac"
      },
      "outputs": [
        {
          "output_type": "execute_result",
          "data": {
            "text/plain": [
              "LGBMClassifier(learning_rate=0.2, max_depth=2, n_estimators=200, subsample=0.6)"
            ]
          },
          "metadata": {},
          "execution_count": 95
        }
      ],
      "source": [
        "# # Define parameters as above\n",
        "# params = {'learning_rate': 0.2,\n",
        "#           'max_depth': 2, \n",
        "#           'n_estimators':200,\n",
        "#           'subsample':0.6,\n",
        "#          'objective':'binary:logistic',\n",
        "#          'random_state':1}\n",
        "\n",
        "# Instantiate XGBClassifier with params\n",
        "LGB = LGBMClassifier(learning_rate = 0.2, max_depth = 2, n_estimators = 200, subsample = 0.6)\n",
        "\n",
        " \n",
        "# fit model on training data\n",
        "LGB.fit(X_train, y_train)\n",
        "\n",
        "\n",
        "\n"
      ]
    },
    {
      "cell_type": "code",
      "execution_count": null,
      "metadata": {
        "id": "B6PQTjksD3VH",
        "colab": {
          "base_uri": "https://localhost:8080/"
        },
        "outputId": "5f861e1b-a7b5-4b7d-da56-8b9ccbb383e9"
      },
      "outputs": [
        {
          "output_type": "stream",
          "name": "stdout",
          "text": [
            "0.7315660235529942\n"
          ]
        }
      ],
      "source": [
        "# use predict_proba since we need probabilities to compute auc\n",
        "y_pred = LGB.predict_proba(X_test)\n",
        "\n",
        "\n",
        "# evaluate predictions using roc_auc score\n",
        "roc = metrics.roc_auc_score(y_test, y_pred[:,1])\n",
        "\n",
        "print(roc)"
      ]
    },
    {
      "cell_type": "markdown",
      "metadata": {
        "id": "XIQE73rfD3VH"
      },
      "source": [
        "Oh man! even after tuning we have got lower AUC score. That's fine let us try our final model which is CatBoost.\n",
        "\n",
        "\n",
        "## **`5. CatBoost`**\n",
        "\n",
        "Reference doc: https://catboost.ai/docs/concepts/python-reference_catboostclassifier.html4\n",
        "\n",
        "\n",
        "CatBoost is a recently open-sourced machine learning algorithm from Yandex. It can easily integrate with deep learning frameworks like Google’s TensorFlow and Apple’s Core ML. It can work with diverse data types to help solve a wide range of problems that businesses face today. To top it up, it provides best-in-class accuracy.\n",
        "\n",
        "It is especially powerful in two ways:\n",
        "\n",
        "It yields state-of-the-art results without extensive data training typically required by other machine learning methods, and\n",
        "Provides powerful out-of-the-box support for the more descriptive data formats that accompany many business problems.\n",
        "“CatBoost” name comes from two words “Category” and “Boosting”.\n",
        "\n",
        "As discussed, the library works well with multiple Categories of data, such as audio, text, image including historical data.\n",
        "\n",
        "Reference video below -\n",
        "dataset used: https://drive.google.com/file/d/1xzra_oUpq7sgOo8ImJtkmTqkDNmYvVMF/view?usp=sharing\n"
      ]
    },
    {
      "cell_type": "markdown",
      "source": [
        "## **`Watch Video 5 : CatBoost Training on GPU`**"
      ],
      "metadata": {
        "id": "Aa89FRoYuOPI"
      }
    },
    {
      "cell_type": "code",
      "source": [
        "pip install catboost"
      ],
      "metadata": {
        "colab": {
          "base_uri": "https://localhost:8080/"
        },
        "id": "qW5YQmOrcGy5",
        "outputId": "39516008-6d8c-498f-88e0-1bce17e80da1"
      },
      "execution_count": null,
      "outputs": [
        {
          "output_type": "stream",
          "name": "stdout",
          "text": [
            "Looking in indexes: https://pypi.org/simple, https://us-python.pkg.dev/colab-wheels/public/simple/\n",
            "Collecting catboost\n",
            "  Downloading catboost-1.1.1-cp38-none-manylinux1_x86_64.whl (76.6 MB)\n",
            "\u001b[2K     \u001b[90m━━━━━━━━━━━━━━━━━━━━━━━━━━━━━━━━━━━━━━━━\u001b[0m \u001b[32m76.6/76.6 MB\u001b[0m \u001b[31m13.6 MB/s\u001b[0m eta \u001b[36m0:00:00\u001b[0m\n",
            "\u001b[?25hRequirement already satisfied: graphviz in /usr/local/lib/python3.8/dist-packages (from catboost) (0.10.1)\n",
            "Requirement already satisfied: plotly in /usr/local/lib/python3.8/dist-packages (from catboost) (5.5.0)\n",
            "Requirement already satisfied: scipy in /usr/local/lib/python3.8/dist-packages (from catboost) (1.7.3)\n",
            "Requirement already satisfied: pandas>=0.24.0 in /usr/local/lib/python3.8/dist-packages (from catboost) (1.3.5)\n",
            "Requirement already satisfied: numpy>=1.16.0 in /usr/local/lib/python3.8/dist-packages (from catboost) (1.22.4)\n",
            "Requirement already satisfied: matplotlib in /usr/local/lib/python3.8/dist-packages (from catboost) (3.5.3)\n",
            "Requirement already satisfied: six in /usr/local/lib/python3.8/dist-packages (from catboost) (1.15.0)\n",
            "Requirement already satisfied: python-dateutil>=2.7.3 in /usr/local/lib/python3.8/dist-packages (from pandas>=0.24.0->catboost) (2.8.2)\n",
            "Requirement already satisfied: pytz>=2017.3 in /usr/local/lib/python3.8/dist-packages (from pandas>=0.24.0->catboost) (2022.7.1)\n",
            "Requirement already satisfied: packaging>=20.0 in /usr/local/lib/python3.8/dist-packages (from matplotlib->catboost) (23.0)\n",
            "Requirement already satisfied: pillow>=6.2.0 in /usr/local/lib/python3.8/dist-packages (from matplotlib->catboost) (7.1.2)\n",
            "Requirement already satisfied: cycler>=0.10 in /usr/local/lib/python3.8/dist-packages (from matplotlib->catboost) (0.11.0)\n",
            "Requirement already satisfied: fonttools>=4.22.0 in /usr/local/lib/python3.8/dist-packages (from matplotlib->catboost) (4.38.0)\n",
            "Requirement already satisfied: kiwisolver>=1.0.1 in /usr/local/lib/python3.8/dist-packages (from matplotlib->catboost) (1.4.4)\n",
            "Requirement already satisfied: pyparsing>=2.2.1 in /usr/local/lib/python3.8/dist-packages (from matplotlib->catboost) (3.0.9)\n",
            "Requirement already satisfied: tenacity>=6.2.0 in /usr/local/lib/python3.8/dist-packages (from plotly->catboost) (8.2.1)\n",
            "Installing collected packages: catboost\n",
            "Successfully installed catboost-1.1.1\n"
          ]
        }
      ]
    },
    {
      "cell_type": "code",
      "execution_count": null,
      "metadata": {
        "id": "HSk1lnbkD3VI",
        "colab": {
          "base_uri": "https://localhost:8080/"
        },
        "outputId": "28b0a541-b416-490f-f98d-2153cb91a455"
      },
      "outputs": [
        {
          "output_type": "stream",
          "name": "stdout",
          "text": [
            "Learning rate set to 0.06692\n",
            "0:\tlearn: 0.5107569\ttotal: 62.7ms\tremaining: 1m 2s\n",
            "1:\tlearn: 0.3708133\ttotal: 83.1ms\tremaining: 41.4s\n",
            "2:\tlearn: 0.2729211\ttotal: 96.4ms\tremaining: 32s\n",
            "3:\tlearn: 0.2003287\ttotal: 109ms\tremaining: 27.2s\n",
            "4:\tlearn: 0.1525553\ttotal: 123ms\tremaining: 24.4s\n",
            "5:\tlearn: 0.1183012\ttotal: 136ms\tremaining: 22.5s\n",
            "6:\tlearn: 0.0926958\ttotal: 150ms\tremaining: 21.2s\n",
            "7:\tlearn: 0.0741227\ttotal: 163ms\tremaining: 20.3s\n",
            "8:\tlearn: 0.0608923\ttotal: 178ms\tremaining: 19.6s\n",
            "9:\tlearn: 0.0465873\ttotal: 191ms\tremaining: 18.9s\n",
            "10:\tlearn: 0.0387760\ttotal: 206ms\tremaining: 18.5s\n",
            "11:\tlearn: 0.0329883\ttotal: 219ms\tremaining: 18s\n",
            "12:\tlearn: 0.0289558\ttotal: 231ms\tremaining: 17.6s\n",
            "13:\tlearn: 0.0251152\ttotal: 244ms\tremaining: 17.2s\n",
            "14:\tlearn: 0.0217928\ttotal: 256ms\tremaining: 16.8s\n",
            "15:\tlearn: 0.0196789\ttotal: 269ms\tremaining: 16.5s\n",
            "16:\tlearn: 0.0177198\ttotal: 283ms\tremaining: 16.4s\n",
            "17:\tlearn: 0.0161779\ttotal: 296ms\tremaining: 16.1s\n",
            "18:\tlearn: 0.0150968\ttotal: 308ms\tremaining: 15.9s\n",
            "19:\tlearn: 0.0141161\ttotal: 321ms\tremaining: 15.7s\n",
            "20:\tlearn: 0.0133998\ttotal: 333ms\tremaining: 15.5s\n",
            "21:\tlearn: 0.0129615\ttotal: 346ms\tremaining: 15.4s\n",
            "22:\tlearn: 0.0125281\ttotal: 358ms\tremaining: 15.2s\n",
            "23:\tlearn: 0.0122184\ttotal: 370ms\tremaining: 15s\n",
            "24:\tlearn: 0.0117517\ttotal: 382ms\tremaining: 14.9s\n",
            "25:\tlearn: 0.0115375\ttotal: 394ms\tremaining: 14.8s\n",
            "26:\tlearn: 0.0112136\ttotal: 414ms\tremaining: 14.9s\n",
            "27:\tlearn: 0.0110500\ttotal: 429ms\tremaining: 14.9s\n",
            "28:\tlearn: 0.0109127\ttotal: 443ms\tremaining: 14.8s\n",
            "29:\tlearn: 0.0107840\ttotal: 457ms\tremaining: 14.8s\n",
            "30:\tlearn: 0.0105823\ttotal: 481ms\tremaining: 15s\n",
            "31:\tlearn: 0.0104227\ttotal: 523ms\tremaining: 15.8s\n",
            "32:\tlearn: 0.0103461\ttotal: 561ms\tremaining: 16.4s\n",
            "33:\tlearn: 0.0101729\ttotal: 606ms\tremaining: 17.2s\n",
            "34:\tlearn: 0.0100636\ttotal: 646ms\tremaining: 17.8s\n",
            "35:\tlearn: 0.0099755\ttotal: 687ms\tremaining: 18.4s\n",
            "36:\tlearn: 0.0098380\ttotal: 732ms\tremaining: 19s\n",
            "37:\tlearn: 0.0097276\ttotal: 771ms\tremaining: 19.5s\n",
            "38:\tlearn: 0.0096457\ttotal: 814ms\tremaining: 20.1s\n",
            "39:\tlearn: 0.0095461\ttotal: 855ms\tremaining: 20.5s\n",
            "40:\tlearn: 0.0094761\ttotal: 894ms\tremaining: 20.9s\n",
            "41:\tlearn: 0.0093802\ttotal: 937ms\tremaining: 21.4s\n",
            "42:\tlearn: 0.0093038\ttotal: 980ms\tremaining: 21.8s\n",
            "43:\tlearn: 0.0092401\ttotal: 1.02s\tremaining: 22.1s\n",
            "44:\tlearn: 0.0091775\ttotal: 1.06s\tremaining: 22.6s\n",
            "45:\tlearn: 0.0091221\ttotal: 1.11s\tremaining: 23s\n",
            "46:\tlearn: 0.0090486\ttotal: 1.15s\tremaining: 23.3s\n",
            "47:\tlearn: 0.0089725\ttotal: 1.19s\tremaining: 23.6s\n",
            "48:\tlearn: 0.0089161\ttotal: 1.23s\tremaining: 23.9s\n",
            "49:\tlearn: 0.0088386\ttotal: 1.27s\tremaining: 24.2s\n",
            "50:\tlearn: 0.0088010\ttotal: 1.32s\tremaining: 24.5s\n",
            "51:\tlearn: 0.0087466\ttotal: 1.36s\tremaining: 24.7s\n",
            "52:\tlearn: 0.0086931\ttotal: 1.4s\tremaining: 25s\n",
            "53:\tlearn: 0.0086227\ttotal: 1.43s\tremaining: 25.1s\n",
            "54:\tlearn: 0.0085691\ttotal: 1.47s\tremaining: 25.3s\n",
            "55:\tlearn: 0.0085383\ttotal: 1.51s\tremaining: 25.4s\n",
            "56:\tlearn: 0.0085008\ttotal: 1.54s\tremaining: 25.6s\n",
            "57:\tlearn: 0.0084493\ttotal: 1.58s\tremaining: 25.7s\n",
            "58:\tlearn: 0.0083963\ttotal: 1.62s\tremaining: 25.9s\n",
            "59:\tlearn: 0.0083778\ttotal: 1.66s\tremaining: 26s\n",
            "60:\tlearn: 0.0083596\ttotal: 1.7s\tremaining: 26.1s\n",
            "61:\tlearn: 0.0083449\ttotal: 1.74s\tremaining: 26.3s\n",
            "62:\tlearn: 0.0083126\ttotal: 1.76s\tremaining: 26.2s\n",
            "63:\tlearn: 0.0082676\ttotal: 1.78s\tremaining: 26s\n",
            "64:\tlearn: 0.0082506\ttotal: 1.79s\tremaining: 25.8s\n",
            "65:\tlearn: 0.0082238\ttotal: 1.8s\tremaining: 25.5s\n",
            "66:\tlearn: 0.0081960\ttotal: 1.82s\tremaining: 25.3s\n",
            "67:\tlearn: 0.0081444\ttotal: 1.83s\tremaining: 25.1s\n",
            "68:\tlearn: 0.0081140\ttotal: 1.85s\tremaining: 24.9s\n",
            "69:\tlearn: 0.0080727\ttotal: 1.86s\tremaining: 24.7s\n",
            "70:\tlearn: 0.0080558\ttotal: 1.87s\tremaining: 24.5s\n",
            "71:\tlearn: 0.0080215\ttotal: 1.89s\tremaining: 24.3s\n",
            "72:\tlearn: 0.0079760\ttotal: 1.9s\tremaining: 24.2s\n",
            "73:\tlearn: 0.0079634\ttotal: 1.92s\tremaining: 24s\n",
            "74:\tlearn: 0.0079422\ttotal: 1.93s\tremaining: 23.8s\n",
            "75:\tlearn: 0.0077745\ttotal: 1.94s\tremaining: 23.6s\n",
            "76:\tlearn: 0.0077610\ttotal: 1.96s\tremaining: 23.5s\n",
            "77:\tlearn: 0.0077373\ttotal: 1.97s\tremaining: 23.3s\n",
            "78:\tlearn: 0.0077153\ttotal: 1.98s\tremaining: 23.1s\n",
            "79:\tlearn: 0.0075993\ttotal: 2s\tremaining: 23s\n",
            "80:\tlearn: 0.0075846\ttotal: 2.01s\tremaining: 22.8s\n",
            "81:\tlearn: 0.0075698\ttotal: 2.03s\tremaining: 22.7s\n",
            "82:\tlearn: 0.0075337\ttotal: 2.04s\tremaining: 22.6s\n",
            "83:\tlearn: 0.0075114\ttotal: 2.06s\tremaining: 22.4s\n",
            "84:\tlearn: 0.0074743\ttotal: 2.08s\tremaining: 22.4s\n",
            "85:\tlearn: 0.0074433\ttotal: 2.09s\tremaining: 22.2s\n",
            "86:\tlearn: 0.0074165\ttotal: 2.11s\tremaining: 22.1s\n",
            "87:\tlearn: 0.0074118\ttotal: 2.12s\tremaining: 22s\n",
            "88:\tlearn: 0.0073841\ttotal: 2.14s\tremaining: 21.9s\n",
            "89:\tlearn: 0.0073636\ttotal: 2.15s\tremaining: 21.7s\n",
            "90:\tlearn: 0.0072568\ttotal: 2.17s\tremaining: 21.6s\n",
            "91:\tlearn: 0.0072443\ttotal: 2.18s\tremaining: 21.5s\n",
            "92:\tlearn: 0.0072251\ttotal: 2.2s\tremaining: 21.4s\n",
            "93:\tlearn: 0.0072153\ttotal: 2.21s\tremaining: 21.3s\n",
            "94:\tlearn: 0.0071005\ttotal: 2.23s\tremaining: 21.2s\n",
            "95:\tlearn: 0.0070003\ttotal: 2.24s\tremaining: 21.1s\n",
            "96:\tlearn: 0.0069554\ttotal: 2.25s\tremaining: 21s\n",
            "97:\tlearn: 0.0069431\ttotal: 2.27s\tremaining: 20.9s\n",
            "98:\tlearn: 0.0069284\ttotal: 2.28s\tremaining: 20.8s\n",
            "99:\tlearn: 0.0069074\ttotal: 2.29s\tremaining: 20.7s\n",
            "100:\tlearn: 0.0068945\ttotal: 2.31s\tremaining: 20.6s\n",
            "101:\tlearn: 0.0068108\ttotal: 2.32s\tremaining: 20.5s\n",
            "102:\tlearn: 0.0067985\ttotal: 2.34s\tremaining: 20.4s\n",
            "103:\tlearn: 0.0067160\ttotal: 2.35s\tremaining: 20.3s\n",
            "104:\tlearn: 0.0066780\ttotal: 2.37s\tremaining: 20.2s\n",
            "105:\tlearn: 0.0066001\ttotal: 2.38s\tremaining: 20.1s\n",
            "106:\tlearn: 0.0065919\ttotal: 2.39s\tremaining: 20s\n",
            "107:\tlearn: 0.0065765\ttotal: 2.4s\tremaining: 19.9s\n",
            "108:\tlearn: 0.0064886\ttotal: 2.42s\tremaining: 19.8s\n",
            "109:\tlearn: 0.0064586\ttotal: 2.43s\tremaining: 19.7s\n",
            "110:\tlearn: 0.0063820\ttotal: 2.45s\tremaining: 19.6s\n",
            "111:\tlearn: 0.0063605\ttotal: 2.46s\tremaining: 19.5s\n",
            "112:\tlearn: 0.0063462\ttotal: 2.47s\tremaining: 19.4s\n",
            "113:\tlearn: 0.0063234\ttotal: 2.49s\tremaining: 19.3s\n",
            "114:\tlearn: 0.0063174\ttotal: 2.5s\tremaining: 19.2s\n",
            "115:\tlearn: 0.0063058\ttotal: 2.52s\tremaining: 19.2s\n",
            "116:\tlearn: 0.0062697\ttotal: 2.53s\tremaining: 19.1s\n",
            "117:\tlearn: 0.0062172\ttotal: 2.54s\tremaining: 19s\n",
            "118:\tlearn: 0.0062025\ttotal: 2.56s\tremaining: 18.9s\n",
            "119:\tlearn: 0.0061310\ttotal: 2.57s\tremaining: 18.9s\n",
            "120:\tlearn: 0.0061256\ttotal: 2.58s\tremaining: 18.8s\n",
            "121:\tlearn: 0.0060849\ttotal: 2.6s\tremaining: 18.7s\n",
            "122:\tlearn: 0.0060369\ttotal: 2.61s\tremaining: 18.6s\n",
            "123:\tlearn: 0.0060245\ttotal: 2.63s\tremaining: 18.5s\n",
            "124:\tlearn: 0.0060057\ttotal: 2.64s\tremaining: 18.5s\n",
            "125:\tlearn: 0.0059914\ttotal: 2.65s\tremaining: 18.4s\n",
            "126:\tlearn: 0.0059878\ttotal: 2.66s\tremaining: 18.3s\n",
            "127:\tlearn: 0.0059731\ttotal: 2.68s\tremaining: 18.2s\n",
            "128:\tlearn: 0.0059632\ttotal: 2.69s\tremaining: 18.2s\n",
            "129:\tlearn: 0.0059591\ttotal: 2.71s\tremaining: 18.1s\n",
            "130:\tlearn: 0.0059297\ttotal: 2.72s\tremaining: 18.1s\n",
            "131:\tlearn: 0.0059053\ttotal: 2.74s\tremaining: 18s\n",
            "132:\tlearn: 0.0058676\ttotal: 2.75s\tremaining: 17.9s\n",
            "133:\tlearn: 0.0058495\ttotal: 2.77s\tremaining: 17.9s\n",
            "134:\tlearn: 0.0058295\ttotal: 2.78s\tremaining: 17.8s\n",
            "135:\tlearn: 0.0058135\ttotal: 2.8s\tremaining: 17.8s\n",
            "136:\tlearn: 0.0058076\ttotal: 2.81s\tremaining: 17.7s\n",
            "137:\tlearn: 0.0058040\ttotal: 2.82s\tremaining: 17.6s\n",
            "138:\tlearn: 0.0057930\ttotal: 2.84s\tremaining: 17.6s\n",
            "139:\tlearn: 0.0057506\ttotal: 2.85s\tremaining: 17.5s\n",
            "140:\tlearn: 0.0057298\ttotal: 2.87s\tremaining: 17.5s\n",
            "141:\tlearn: 0.0056974\ttotal: 2.88s\tremaining: 17.4s\n",
            "142:\tlearn: 0.0056903\ttotal: 2.89s\tremaining: 17.3s\n",
            "143:\tlearn: 0.0056772\ttotal: 2.91s\tremaining: 17.3s\n",
            "144:\tlearn: 0.0056582\ttotal: 2.92s\tremaining: 17.2s\n",
            "145:\tlearn: 0.0056536\ttotal: 2.94s\tremaining: 17.2s\n",
            "146:\tlearn: 0.0056369\ttotal: 2.95s\tremaining: 17.1s\n",
            "147:\tlearn: 0.0056253\ttotal: 2.97s\tremaining: 17.1s\n",
            "148:\tlearn: 0.0055988\ttotal: 2.98s\tremaining: 17s\n",
            "149:\tlearn: 0.0055907\ttotal: 3s\tremaining: 17s\n",
            "150:\tlearn: 0.0055639\ttotal: 3.01s\tremaining: 16.9s\n",
            "151:\tlearn: 0.0055238\ttotal: 3.02s\tremaining: 16.9s\n",
            "152:\tlearn: 0.0055147\ttotal: 3.04s\tremaining: 16.8s\n",
            "153:\tlearn: 0.0055020\ttotal: 3.05s\tremaining: 16.8s\n",
            "154:\tlearn: 0.0054975\ttotal: 3.07s\tremaining: 16.7s\n",
            "155:\tlearn: 0.0054900\ttotal: 3.09s\tremaining: 16.7s\n",
            "156:\tlearn: 0.0054717\ttotal: 3.1s\tremaining: 16.7s\n",
            "157:\tlearn: 0.0054599\ttotal: 3.12s\tremaining: 16.6s\n",
            "158:\tlearn: 0.0054462\ttotal: 3.13s\tremaining: 16.6s\n",
            "159:\tlearn: 0.0054397\ttotal: 3.15s\tremaining: 16.5s\n",
            "160:\tlearn: 0.0054372\ttotal: 3.16s\tremaining: 16.5s\n",
            "161:\tlearn: 0.0054274\ttotal: 3.17s\tremaining: 16.4s\n",
            "162:\tlearn: 0.0053993\ttotal: 3.19s\tremaining: 16.4s\n",
            "163:\tlearn: 0.0053938\ttotal: 3.2s\tremaining: 16.3s\n",
            "164:\tlearn: 0.0053756\ttotal: 3.21s\tremaining: 16.3s\n",
            "165:\tlearn: 0.0053650\ttotal: 3.23s\tremaining: 16.2s\n",
            "166:\tlearn: 0.0053603\ttotal: 3.24s\tremaining: 16.2s\n",
            "167:\tlearn: 0.0053533\ttotal: 3.25s\tremaining: 16.1s\n",
            "168:\tlearn: 0.0053489\ttotal: 3.27s\tremaining: 16.1s\n",
            "169:\tlearn: 0.0053265\ttotal: 3.28s\tremaining: 16s\n",
            "170:\tlearn: 0.0053160\ttotal: 3.29s\tremaining: 16s\n",
            "171:\tlearn: 0.0053128\ttotal: 3.31s\tremaining: 15.9s\n",
            "172:\tlearn: 0.0053005\ttotal: 3.32s\tremaining: 15.9s\n",
            "173:\tlearn: 0.0052964\ttotal: 3.33s\tremaining: 15.8s\n",
            "174:\tlearn: 0.0052909\ttotal: 3.35s\tremaining: 15.8s\n",
            "175:\tlearn: 0.0052888\ttotal: 3.36s\tremaining: 15.8s\n",
            "176:\tlearn: 0.0052782\ttotal: 3.38s\tremaining: 15.7s\n",
            "177:\tlearn: 0.0052751\ttotal: 3.39s\tremaining: 15.7s\n",
            "178:\tlearn: 0.0052714\ttotal: 3.41s\tremaining: 15.6s\n",
            "179:\tlearn: 0.0052504\ttotal: 3.42s\tremaining: 15.6s\n",
            "180:\tlearn: 0.0052450\ttotal: 3.43s\tremaining: 15.5s\n",
            "181:\tlearn: 0.0052321\ttotal: 3.45s\tremaining: 15.5s\n",
            "182:\tlearn: 0.0052281\ttotal: 3.46s\tremaining: 15.4s\n",
            "183:\tlearn: 0.0052165\ttotal: 3.47s\tremaining: 15.4s\n",
            "184:\tlearn: 0.0052134\ttotal: 3.48s\tremaining: 15.4s\n",
            "185:\tlearn: 0.0052060\ttotal: 3.5s\tremaining: 15.3s\n",
            "186:\tlearn: 0.0052029\ttotal: 3.51s\tremaining: 15.3s\n",
            "187:\tlearn: 0.0051879\ttotal: 3.53s\tremaining: 15.2s\n",
            "188:\tlearn: 0.0051863\ttotal: 3.54s\tremaining: 15.2s\n",
            "189:\tlearn: 0.0051837\ttotal: 3.56s\tremaining: 15.2s\n",
            "190:\tlearn: 0.0051797\ttotal: 3.57s\tremaining: 15.1s\n",
            "191:\tlearn: 0.0051776\ttotal: 3.58s\tremaining: 15.1s\n",
            "192:\tlearn: 0.0051741\ttotal: 3.59s\tremaining: 15s\n",
            "193:\tlearn: 0.0051489\ttotal: 3.61s\tremaining: 15s\n",
            "194:\tlearn: 0.0051356\ttotal: 3.62s\tremaining: 14.9s\n",
            "195:\tlearn: 0.0051211\ttotal: 3.63s\tremaining: 14.9s\n",
            "196:\tlearn: 0.0051140\ttotal: 3.65s\tremaining: 14.9s\n",
            "197:\tlearn: 0.0051039\ttotal: 3.67s\tremaining: 14.8s\n",
            "198:\tlearn: 0.0050857\ttotal: 3.68s\tremaining: 14.8s\n",
            "199:\tlearn: 0.0050825\ttotal: 3.69s\tremaining: 14.8s\n",
            "200:\tlearn: 0.0050803\ttotal: 3.71s\tremaining: 14.7s\n",
            "201:\tlearn: 0.0050681\ttotal: 3.72s\tremaining: 14.7s\n",
            "202:\tlearn: 0.0050663\ttotal: 3.73s\tremaining: 14.6s\n",
            "203:\tlearn: 0.0050607\ttotal: 3.74s\tremaining: 14.6s\n",
            "204:\tlearn: 0.0050584\ttotal: 3.76s\tremaining: 14.6s\n",
            "205:\tlearn: 0.0050569\ttotal: 3.77s\tremaining: 14.5s\n",
            "206:\tlearn: 0.0050377\ttotal: 3.79s\tremaining: 14.5s\n",
            "207:\tlearn: 0.0050258\ttotal: 3.8s\tremaining: 14.5s\n",
            "208:\tlearn: 0.0050101\ttotal: 3.81s\tremaining: 14.4s\n",
            "209:\tlearn: 0.0050087\ttotal: 3.83s\tremaining: 14.4s\n",
            "210:\tlearn: 0.0050070\ttotal: 3.84s\tremaining: 14.4s\n",
            "211:\tlearn: 0.0049943\ttotal: 3.85s\tremaining: 14.3s\n",
            "212:\tlearn: 0.0049930\ttotal: 3.86s\tremaining: 14.3s\n",
            "213:\tlearn: 0.0049906\ttotal: 3.88s\tremaining: 14.2s\n",
            "214:\tlearn: 0.0049819\ttotal: 3.89s\tremaining: 14.2s\n",
            "215:\tlearn: 0.0049782\ttotal: 3.9s\tremaining: 14.2s\n",
            "216:\tlearn: 0.0049672\ttotal: 3.92s\tremaining: 14.1s\n",
            "217:\tlearn: 0.0049659\ttotal: 3.93s\tremaining: 14.1s\n",
            "218:\tlearn: 0.0049501\ttotal: 3.94s\tremaining: 14.1s\n",
            "219:\tlearn: 0.0049480\ttotal: 3.96s\tremaining: 14s\n",
            "220:\tlearn: 0.0049356\ttotal: 3.97s\tremaining: 14s\n",
            "221:\tlearn: 0.0049245\ttotal: 3.99s\tremaining: 14s\n",
            "222:\tlearn: 0.0049143\ttotal: 4s\tremaining: 13.9s\n",
            "223:\tlearn: 0.0049103\ttotal: 4.01s\tremaining: 13.9s\n",
            "224:\tlearn: 0.0049081\ttotal: 4.03s\tremaining: 13.9s\n",
            "225:\tlearn: 0.0049033\ttotal: 4.04s\tremaining: 13.8s\n",
            "226:\tlearn: 0.0049014\ttotal: 4.06s\tremaining: 13.8s\n",
            "227:\tlearn: 0.0048910\ttotal: 4.08s\tremaining: 13.8s\n",
            "228:\tlearn: 0.0048892\ttotal: 4.09s\tremaining: 13.8s\n",
            "229:\tlearn: 0.0048812\ttotal: 4.11s\tremaining: 13.8s\n",
            "230:\tlearn: 0.0048663\ttotal: 4.12s\tremaining: 13.7s\n",
            "231:\tlearn: 0.0048585\ttotal: 4.14s\tremaining: 13.7s\n",
            "232:\tlearn: 0.0048541\ttotal: 4.15s\tremaining: 13.7s\n",
            "233:\tlearn: 0.0048454\ttotal: 4.16s\tremaining: 13.6s\n",
            "234:\tlearn: 0.0048358\ttotal: 4.18s\tremaining: 13.6s\n",
            "235:\tlearn: 0.0048341\ttotal: 4.2s\tremaining: 13.6s\n",
            "236:\tlearn: 0.0048228\ttotal: 4.21s\tremaining: 13.6s\n",
            "237:\tlearn: 0.0048214\ttotal: 4.23s\tremaining: 13.5s\n",
            "238:\tlearn: 0.0048197\ttotal: 4.24s\tremaining: 13.5s\n",
            "239:\tlearn: 0.0048051\ttotal: 4.25s\tremaining: 13.5s\n",
            "240:\tlearn: 0.0047972\ttotal: 4.27s\tremaining: 13.4s\n",
            "241:\tlearn: 0.0047768\ttotal: 4.28s\tremaining: 13.4s\n",
            "242:\tlearn: 0.0047671\ttotal: 4.29s\tremaining: 13.4s\n",
            "243:\tlearn: 0.0047438\ttotal: 4.31s\tremaining: 13.3s\n",
            "244:\tlearn: 0.0047367\ttotal: 4.32s\tremaining: 13.3s\n",
            "245:\tlearn: 0.0047320\ttotal: 4.33s\tremaining: 13.3s\n",
            "246:\tlearn: 0.0047306\ttotal: 4.35s\tremaining: 13.3s\n",
            "247:\tlearn: 0.0047234\ttotal: 4.36s\tremaining: 13.2s\n",
            "248:\tlearn: 0.0047173\ttotal: 4.38s\tremaining: 13.2s\n",
            "249:\tlearn: 0.0047132\ttotal: 4.4s\tremaining: 13.2s\n",
            "250:\tlearn: 0.0047049\ttotal: 4.41s\tremaining: 13.2s\n",
            "251:\tlearn: 0.0047015\ttotal: 4.42s\tremaining: 13.1s\n",
            "252:\tlearn: 0.0046980\ttotal: 4.44s\tremaining: 13.1s\n",
            "253:\tlearn: 0.0046963\ttotal: 4.45s\tremaining: 13.1s\n",
            "254:\tlearn: 0.0046888\ttotal: 4.46s\tremaining: 13s\n",
            "255:\tlearn: 0.0046744\ttotal: 4.48s\tremaining: 13s\n",
            "256:\tlearn: 0.0046611\ttotal: 4.49s\tremaining: 13s\n",
            "257:\tlearn: 0.0046478\ttotal: 4.51s\tremaining: 13s\n",
            "258:\tlearn: 0.0046429\ttotal: 4.52s\tremaining: 12.9s\n",
            "259:\tlearn: 0.0046400\ttotal: 4.53s\tremaining: 12.9s\n",
            "260:\tlearn: 0.0046346\ttotal: 4.55s\tremaining: 12.9s\n",
            "261:\tlearn: 0.0046234\ttotal: 4.56s\tremaining: 12.9s\n",
            "262:\tlearn: 0.0046154\ttotal: 4.58s\tremaining: 12.8s\n",
            "263:\tlearn: 0.0046089\ttotal: 4.59s\tremaining: 12.8s\n",
            "264:\tlearn: 0.0046064\ttotal: 4.61s\tremaining: 12.8s\n",
            "265:\tlearn: 0.0045923\ttotal: 4.62s\tremaining: 12.8s\n",
            "266:\tlearn: 0.0045872\ttotal: 4.63s\tremaining: 12.7s\n",
            "267:\tlearn: 0.0045827\ttotal: 4.65s\tremaining: 12.7s\n",
            "268:\tlearn: 0.0045646\ttotal: 4.66s\tremaining: 12.7s\n",
            "269:\tlearn: 0.0045607\ttotal: 4.68s\tremaining: 12.6s\n",
            "270:\tlearn: 0.0045524\ttotal: 4.69s\tremaining: 12.6s\n",
            "271:\tlearn: 0.0045505\ttotal: 4.7s\tremaining: 12.6s\n",
            "272:\tlearn: 0.0045443\ttotal: 4.72s\tremaining: 12.6s\n",
            "273:\tlearn: 0.0045345\ttotal: 4.73s\tremaining: 12.5s\n",
            "274:\tlearn: 0.0045236\ttotal: 4.75s\tremaining: 12.5s\n",
            "275:\tlearn: 0.0045197\ttotal: 4.76s\tremaining: 12.5s\n",
            "276:\tlearn: 0.0045174\ttotal: 4.78s\tremaining: 12.5s\n",
            "277:\tlearn: 0.0045131\ttotal: 4.79s\tremaining: 12.4s\n",
            "278:\tlearn: 0.0045071\ttotal: 4.81s\tremaining: 12.4s\n",
            "279:\tlearn: 0.0044901\ttotal: 4.82s\tremaining: 12.4s\n",
            "280:\tlearn: 0.0044762\ttotal: 4.83s\tremaining: 12.4s\n",
            "281:\tlearn: 0.0044721\ttotal: 4.85s\tremaining: 12.3s\n",
            "282:\tlearn: 0.0044589\ttotal: 4.86s\tremaining: 12.3s\n",
            "283:\tlearn: 0.0044445\ttotal: 4.88s\tremaining: 12.3s\n",
            "284:\tlearn: 0.0044420\ttotal: 4.89s\tremaining: 12.3s\n",
            "285:\tlearn: 0.0044365\ttotal: 4.91s\tremaining: 12.2s\n",
            "286:\tlearn: 0.0044280\ttotal: 4.92s\tremaining: 12.2s\n",
            "287:\tlearn: 0.0044201\ttotal: 4.93s\tremaining: 12.2s\n",
            "288:\tlearn: 0.0044146\ttotal: 4.95s\tremaining: 12.2s\n",
            "289:\tlearn: 0.0044113\ttotal: 4.96s\tremaining: 12.1s\n",
            "290:\tlearn: 0.0044009\ttotal: 4.98s\tremaining: 12.1s\n",
            "291:\tlearn: 0.0043843\ttotal: 4.99s\tremaining: 12.1s\n",
            "292:\tlearn: 0.0043693\ttotal: 5.01s\tremaining: 12.1s\n",
            "293:\tlearn: 0.0043584\ttotal: 5.03s\tremaining: 12.1s\n",
            "294:\tlearn: 0.0043468\ttotal: 5.04s\tremaining: 12s\n",
            "295:\tlearn: 0.0043201\ttotal: 5.06s\tremaining: 12s\n",
            "296:\tlearn: 0.0043180\ttotal: 5.08s\tremaining: 12s\n",
            "297:\tlearn: 0.0043127\ttotal: 5.09s\tremaining: 12s\n",
            "298:\tlearn: 0.0043089\ttotal: 5.1s\tremaining: 12s\n",
            "299:\tlearn: 0.0042997\ttotal: 5.12s\tremaining: 11.9s\n",
            "300:\tlearn: 0.0042977\ttotal: 5.13s\tremaining: 11.9s\n",
            "301:\tlearn: 0.0042958\ttotal: 5.14s\tremaining: 11.9s\n",
            "302:\tlearn: 0.0042836\ttotal: 5.16s\tremaining: 11.9s\n",
            "303:\tlearn: 0.0042817\ttotal: 5.17s\tremaining: 11.8s\n",
            "304:\tlearn: 0.0042782\ttotal: 5.18s\tremaining: 11.8s\n",
            "305:\tlearn: 0.0042711\ttotal: 5.2s\tremaining: 11.8s\n",
            "306:\tlearn: 0.0042664\ttotal: 5.21s\tremaining: 11.8s\n",
            "307:\tlearn: 0.0042585\ttotal: 5.23s\tremaining: 11.7s\n",
            "308:\tlearn: 0.0042492\ttotal: 5.24s\tremaining: 11.7s\n",
            "309:\tlearn: 0.0042392\ttotal: 5.26s\tremaining: 11.7s\n",
            "310:\tlearn: 0.0042317\ttotal: 5.27s\tremaining: 11.7s\n",
            "311:\tlearn: 0.0042285\ttotal: 5.28s\tremaining: 11.7s\n",
            "312:\tlearn: 0.0042116\ttotal: 5.3s\tremaining: 11.6s\n",
            "313:\tlearn: 0.0042099\ttotal: 5.31s\tremaining: 11.6s\n",
            "314:\tlearn: 0.0042025\ttotal: 5.32s\tremaining: 11.6s\n",
            "315:\tlearn: 0.0041888\ttotal: 5.34s\tremaining: 11.6s\n",
            "316:\tlearn: 0.0041855\ttotal: 5.35s\tremaining: 11.5s\n",
            "317:\tlearn: 0.0041768\ttotal: 5.37s\tremaining: 11.5s\n",
            "318:\tlearn: 0.0041736\ttotal: 5.38s\tremaining: 11.5s\n",
            "319:\tlearn: 0.0041714\ttotal: 5.39s\tremaining: 11.5s\n",
            "320:\tlearn: 0.0041611\ttotal: 5.41s\tremaining: 11.4s\n",
            "321:\tlearn: 0.0041522\ttotal: 5.42s\tremaining: 11.4s\n",
            "322:\tlearn: 0.0041447\ttotal: 5.44s\tremaining: 11.4s\n",
            "323:\tlearn: 0.0041413\ttotal: 5.46s\tremaining: 11.4s\n",
            "324:\tlearn: 0.0041399\ttotal: 5.47s\tremaining: 11.4s\n",
            "325:\tlearn: 0.0041302\ttotal: 5.48s\tremaining: 11.3s\n",
            "326:\tlearn: 0.0041285\ttotal: 5.5s\tremaining: 11.3s\n",
            "327:\tlearn: 0.0041247\ttotal: 5.52s\tremaining: 11.3s\n",
            "328:\tlearn: 0.0041187\ttotal: 5.53s\tremaining: 11.3s\n",
            "329:\tlearn: 0.0041125\ttotal: 5.54s\tremaining: 11.3s\n",
            "330:\tlearn: 0.0041034\ttotal: 5.56s\tremaining: 11.2s\n",
            "331:\tlearn: 0.0040887\ttotal: 5.57s\tremaining: 11.2s\n",
            "332:\tlearn: 0.0040859\ttotal: 5.58s\tremaining: 11.2s\n",
            "333:\tlearn: 0.0040742\ttotal: 5.6s\tremaining: 11.2s\n",
            "334:\tlearn: 0.0040684\ttotal: 5.61s\tremaining: 11.1s\n",
            "335:\tlearn: 0.0040642\ttotal: 5.63s\tremaining: 11.1s\n",
            "336:\tlearn: 0.0040618\ttotal: 5.64s\tremaining: 11.1s\n",
            "337:\tlearn: 0.0040580\ttotal: 5.66s\tremaining: 11.1s\n",
            "338:\tlearn: 0.0040548\ttotal: 5.67s\tremaining: 11.1s\n",
            "339:\tlearn: 0.0040391\ttotal: 5.68s\tremaining: 11s\n",
            "340:\tlearn: 0.0040309\ttotal: 5.7s\tremaining: 11s\n",
            "341:\tlearn: 0.0040252\ttotal: 5.71s\tremaining: 11s\n",
            "342:\tlearn: 0.0040223\ttotal: 5.72s\tremaining: 11s\n",
            "343:\tlearn: 0.0040205\ttotal: 5.74s\tremaining: 10.9s\n",
            "344:\tlearn: 0.0040169\ttotal: 5.75s\tremaining: 10.9s\n",
            "345:\tlearn: 0.0040142\ttotal: 5.76s\tremaining: 10.9s\n",
            "346:\tlearn: 0.0040115\ttotal: 5.77s\tremaining: 10.9s\n",
            "347:\tlearn: 0.0040049\ttotal: 5.79s\tremaining: 10.8s\n",
            "348:\tlearn: 0.0039992\ttotal: 5.8s\tremaining: 10.8s\n",
            "349:\tlearn: 0.0039979\ttotal: 5.82s\tremaining: 10.8s\n",
            "350:\tlearn: 0.0039948\ttotal: 5.83s\tremaining: 10.8s\n",
            "351:\tlearn: 0.0039863\ttotal: 5.85s\tremaining: 10.8s\n",
            "352:\tlearn: 0.0039767\ttotal: 5.86s\tremaining: 10.7s\n",
            "353:\tlearn: 0.0039707\ttotal: 5.87s\tremaining: 10.7s\n",
            "354:\tlearn: 0.0039698\ttotal: 5.89s\tremaining: 10.7s\n",
            "355:\tlearn: 0.0039604\ttotal: 5.9s\tremaining: 10.7s\n",
            "356:\tlearn: 0.0039446\ttotal: 5.92s\tremaining: 10.7s\n",
            "357:\tlearn: 0.0039375\ttotal: 5.93s\tremaining: 10.6s\n",
            "358:\tlearn: 0.0039358\ttotal: 5.94s\tremaining: 10.6s\n",
            "359:\tlearn: 0.0039322\ttotal: 5.96s\tremaining: 10.6s\n",
            "360:\tlearn: 0.0039282\ttotal: 5.97s\tremaining: 10.6s\n",
            "361:\tlearn: 0.0039164\ttotal: 5.98s\tremaining: 10.5s\n",
            "362:\tlearn: 0.0039153\ttotal: 6s\tremaining: 10.5s\n",
            "363:\tlearn: 0.0039098\ttotal: 6.01s\tremaining: 10.5s\n",
            "364:\tlearn: 0.0039056\ttotal: 6.02s\tremaining: 10.5s\n",
            "365:\tlearn: 0.0039031\ttotal: 6.04s\tremaining: 10.5s\n",
            "366:\tlearn: 0.0039011\ttotal: 6.06s\tremaining: 10.5s\n",
            "367:\tlearn: 0.0038919\ttotal: 6.08s\tremaining: 10.4s\n",
            "368:\tlearn: 0.0038879\ttotal: 6.09s\tremaining: 10.4s\n",
            "369:\tlearn: 0.0038841\ttotal: 6.1s\tremaining: 10.4s\n",
            "370:\tlearn: 0.0038744\ttotal: 6.12s\tremaining: 10.4s\n",
            "371:\tlearn: 0.0038739\ttotal: 6.13s\tremaining: 10.3s\n",
            "372:\tlearn: 0.0038616\ttotal: 6.14s\tremaining: 10.3s\n",
            "373:\tlearn: 0.0038517\ttotal: 6.16s\tremaining: 10.3s\n",
            "374:\tlearn: 0.0038500\ttotal: 6.17s\tremaining: 10.3s\n",
            "375:\tlearn: 0.0038472\ttotal: 6.18s\tremaining: 10.3s\n",
            "376:\tlearn: 0.0038447\ttotal: 6.2s\tremaining: 10.2s\n",
            "377:\tlearn: 0.0038391\ttotal: 6.21s\tremaining: 10.2s\n",
            "378:\tlearn: 0.0038385\ttotal: 6.23s\tremaining: 10.2s\n",
            "379:\tlearn: 0.0038357\ttotal: 6.25s\tremaining: 10.2s\n",
            "380:\tlearn: 0.0038254\ttotal: 6.26s\tremaining: 10.2s\n",
            "381:\tlearn: 0.0038194\ttotal: 6.27s\tremaining: 10.1s\n",
            "382:\tlearn: 0.0038147\ttotal: 6.29s\tremaining: 10.1s\n",
            "383:\tlearn: 0.0038035\ttotal: 6.3s\tremaining: 10.1s\n",
            "384:\tlearn: 0.0037975\ttotal: 6.31s\tremaining: 10.1s\n",
            "385:\tlearn: 0.0037855\ttotal: 6.33s\tremaining: 10.1s\n",
            "386:\tlearn: 0.0037822\ttotal: 6.34s\tremaining: 10s\n",
            "387:\tlearn: 0.0037743\ttotal: 6.35s\tremaining: 10s\n",
            "388:\tlearn: 0.0037697\ttotal: 6.37s\tremaining: 10s\n",
            "389:\tlearn: 0.0037591\ttotal: 6.38s\tremaining: 9.98s\n",
            "390:\tlearn: 0.0037559\ttotal: 6.4s\tremaining: 9.96s\n",
            "391:\tlearn: 0.0037516\ttotal: 6.41s\tremaining: 9.94s\n",
            "392:\tlearn: 0.0037505\ttotal: 6.42s\tremaining: 9.92s\n",
            "393:\tlearn: 0.0037491\ttotal: 6.44s\tremaining: 9.9s\n",
            "394:\tlearn: 0.0037369\ttotal: 6.45s\tremaining: 9.88s\n",
            "395:\tlearn: 0.0037275\ttotal: 6.47s\tremaining: 9.86s\n",
            "396:\tlearn: 0.0037204\ttotal: 6.48s\tremaining: 9.84s\n",
            "397:\tlearn: 0.0037192\ttotal: 6.49s\tremaining: 9.82s\n",
            "398:\tlearn: 0.0037172\ttotal: 6.5s\tremaining: 9.8s\n",
            "399:\tlearn: 0.0037142\ttotal: 6.52s\tremaining: 9.78s\n",
            "400:\tlearn: 0.0037073\ttotal: 6.53s\tremaining: 9.76s\n",
            "401:\tlearn: 0.0037064\ttotal: 6.55s\tremaining: 9.74s\n",
            "402:\tlearn: 0.0037058\ttotal: 6.56s\tremaining: 9.72s\n",
            "403:\tlearn: 0.0037044\ttotal: 6.57s\tremaining: 9.7s\n",
            "404:\tlearn: 0.0036952\ttotal: 6.59s\tremaining: 9.68s\n",
            "405:\tlearn: 0.0036860\ttotal: 6.6s\tremaining: 9.66s\n",
            "406:\tlearn: 0.0036834\ttotal: 6.62s\tremaining: 9.64s\n",
            "407:\tlearn: 0.0036757\ttotal: 6.63s\tremaining: 9.62s\n",
            "408:\tlearn: 0.0036693\ttotal: 6.64s\tremaining: 9.6s\n",
            "409:\tlearn: 0.0036682\ttotal: 6.66s\tremaining: 9.58s\n",
            "410:\tlearn: 0.0036674\ttotal: 6.67s\tremaining: 9.56s\n",
            "411:\tlearn: 0.0036574\ttotal: 6.69s\tremaining: 9.54s\n",
            "412:\tlearn: 0.0036381\ttotal: 6.7s\tremaining: 9.52s\n",
            "413:\tlearn: 0.0036376\ttotal: 6.71s\tremaining: 9.5s\n",
            "414:\tlearn: 0.0036370\ttotal: 6.73s\tremaining: 9.48s\n",
            "415:\tlearn: 0.0036285\ttotal: 6.74s\tremaining: 9.46s\n",
            "416:\tlearn: 0.0036219\ttotal: 6.76s\tremaining: 9.45s\n",
            "417:\tlearn: 0.0036214\ttotal: 6.77s\tremaining: 9.43s\n",
            "418:\tlearn: 0.0036131\ttotal: 6.79s\tremaining: 9.41s\n",
            "419:\tlearn: 0.0036096\ttotal: 6.8s\tremaining: 9.39s\n",
            "420:\tlearn: 0.0036044\ttotal: 6.82s\tremaining: 9.37s\n",
            "421:\tlearn: 0.0035980\ttotal: 6.83s\tremaining: 9.35s\n",
            "422:\tlearn: 0.0035857\ttotal: 6.84s\tremaining: 9.34s\n",
            "423:\tlearn: 0.0035768\ttotal: 6.86s\tremaining: 9.32s\n",
            "424:\tlearn: 0.0035747\ttotal: 6.88s\tremaining: 9.3s\n",
            "425:\tlearn: 0.0035741\ttotal: 6.89s\tremaining: 9.28s\n",
            "426:\tlearn: 0.0035727\ttotal: 6.9s\tremaining: 9.26s\n",
            "427:\tlearn: 0.0035715\ttotal: 6.91s\tremaining: 9.24s\n",
            "428:\tlearn: 0.0035624\ttotal: 6.93s\tremaining: 9.22s\n",
            "429:\tlearn: 0.0035556\ttotal: 6.94s\tremaining: 9.21s\n",
            "430:\tlearn: 0.0035478\ttotal: 6.96s\tremaining: 9.19s\n",
            "431:\tlearn: 0.0035377\ttotal: 6.97s\tremaining: 9.17s\n",
            "432:\tlearn: 0.0035359\ttotal: 6.99s\tremaining: 9.15s\n",
            "433:\tlearn: 0.0035326\ttotal: 7s\tremaining: 9.13s\n",
            "434:\tlearn: 0.0035302\ttotal: 7.01s\tremaining: 9.11s\n",
            "435:\tlearn: 0.0035285\ttotal: 7.02s\tremaining: 9.09s\n",
            "436:\tlearn: 0.0035214\ttotal: 7.04s\tremaining: 9.07s\n",
            "437:\tlearn: 0.0035206\ttotal: 7.07s\tremaining: 9.07s\n",
            "438:\tlearn: 0.0035184\ttotal: 7.08s\tremaining: 9.05s\n",
            "439:\tlearn: 0.0035142\ttotal: 7.09s\tremaining: 9.03s\n",
            "440:\tlearn: 0.0035078\ttotal: 7.11s\tremaining: 9.01s\n",
            "441:\tlearn: 0.0034892\ttotal: 7.12s\tremaining: 8.99s\n",
            "442:\tlearn: 0.0034866\ttotal: 7.14s\tremaining: 8.97s\n",
            "443:\tlearn: 0.0034853\ttotal: 7.15s\tremaining: 8.95s\n",
            "444:\tlearn: 0.0034679\ttotal: 7.16s\tremaining: 8.94s\n",
            "445:\tlearn: 0.0034666\ttotal: 7.18s\tremaining: 8.91s\n",
            "446:\tlearn: 0.0034635\ttotal: 7.19s\tremaining: 8.89s\n",
            "447:\tlearn: 0.0034612\ttotal: 7.2s\tremaining: 8.88s\n",
            "448:\tlearn: 0.0034602\ttotal: 7.22s\tremaining: 8.86s\n",
            "449:\tlearn: 0.0034559\ttotal: 7.23s\tremaining: 8.84s\n",
            "450:\tlearn: 0.0034528\ttotal: 7.24s\tremaining: 8.82s\n",
            "451:\tlearn: 0.0034509\ttotal: 7.26s\tremaining: 8.8s\n",
            "452:\tlearn: 0.0034426\ttotal: 7.28s\tremaining: 8.79s\n",
            "453:\tlearn: 0.0034408\ttotal: 7.29s\tremaining: 8.77s\n",
            "454:\tlearn: 0.0034400\ttotal: 7.3s\tremaining: 8.75s\n",
            "455:\tlearn: 0.0034181\ttotal: 7.32s\tremaining: 8.73s\n",
            "456:\tlearn: 0.0034141\ttotal: 7.34s\tremaining: 8.72s\n",
            "457:\tlearn: 0.0034135\ttotal: 7.35s\tremaining: 8.7s\n",
            "458:\tlearn: 0.0034106\ttotal: 7.37s\tremaining: 8.68s\n",
            "459:\tlearn: 0.0034100\ttotal: 7.38s\tremaining: 8.66s\n",
            "460:\tlearn: 0.0034073\ttotal: 7.39s\tremaining: 8.64s\n",
            "461:\tlearn: 0.0034013\ttotal: 7.41s\tremaining: 8.63s\n",
            "462:\tlearn: 0.0033998\ttotal: 7.42s\tremaining: 8.61s\n",
            "463:\tlearn: 0.0033971\ttotal: 7.44s\tremaining: 8.6s\n",
            "464:\tlearn: 0.0033964\ttotal: 7.45s\tremaining: 8.58s\n",
            "465:\tlearn: 0.0033957\ttotal: 7.47s\tremaining: 8.56s\n",
            "466:\tlearn: 0.0033841\ttotal: 7.49s\tremaining: 8.54s\n",
            "467:\tlearn: 0.0033647\ttotal: 7.5s\tremaining: 8.53s\n",
            "468:\tlearn: 0.0033622\ttotal: 7.51s\tremaining: 8.51s\n",
            "469:\tlearn: 0.0033574\ttotal: 7.53s\tremaining: 8.49s\n",
            "470:\tlearn: 0.0033562\ttotal: 7.54s\tremaining: 8.47s\n",
            "471:\tlearn: 0.0033548\ttotal: 7.55s\tremaining: 8.45s\n",
            "472:\tlearn: 0.0033524\ttotal: 7.57s\tremaining: 8.43s\n",
            "473:\tlearn: 0.0033500\ttotal: 7.58s\tremaining: 8.41s\n",
            "474:\tlearn: 0.0033314\ttotal: 7.59s\tremaining: 8.39s\n",
            "475:\tlearn: 0.0033301\ttotal: 7.61s\tremaining: 8.38s\n",
            "476:\tlearn: 0.0033159\ttotal: 7.62s\tremaining: 8.36s\n",
            "477:\tlearn: 0.0033140\ttotal: 7.63s\tremaining: 8.34s\n",
            "478:\tlearn: 0.0033016\ttotal: 7.65s\tremaining: 8.32s\n",
            "479:\tlearn: 0.0032997\ttotal: 7.66s\tremaining: 8.3s\n",
            "480:\tlearn: 0.0032960\ttotal: 7.67s\tremaining: 8.28s\n",
            "481:\tlearn: 0.0032930\ttotal: 7.69s\tremaining: 8.27s\n",
            "482:\tlearn: 0.0032849\ttotal: 7.71s\tremaining: 8.25s\n",
            "483:\tlearn: 0.0032835\ttotal: 7.72s\tremaining: 8.23s\n",
            "484:\tlearn: 0.0032787\ttotal: 7.73s\tremaining: 8.21s\n",
            "485:\tlearn: 0.0032673\ttotal: 7.75s\tremaining: 8.2s\n",
            "486:\tlearn: 0.0032661\ttotal: 7.76s\tremaining: 8.18s\n",
            "487:\tlearn: 0.0032638\ttotal: 7.78s\tremaining: 8.16s\n",
            "488:\tlearn: 0.0032607\ttotal: 7.79s\tremaining: 8.14s\n",
            "489:\tlearn: 0.0032516\ttotal: 7.8s\tremaining: 8.12s\n",
            "490:\tlearn: 0.0032495\ttotal: 7.81s\tremaining: 8.1s\n",
            "491:\tlearn: 0.0032467\ttotal: 7.83s\tremaining: 8.08s\n",
            "492:\tlearn: 0.0032448\ttotal: 7.84s\tremaining: 8.06s\n",
            "493:\tlearn: 0.0032413\ttotal: 7.85s\tremaining: 8.04s\n",
            "494:\tlearn: 0.0032401\ttotal: 7.87s\tremaining: 8.03s\n",
            "495:\tlearn: 0.0032394\ttotal: 7.88s\tremaining: 8.01s\n",
            "496:\tlearn: 0.0032191\ttotal: 7.9s\tremaining: 8s\n",
            "497:\tlearn: 0.0032155\ttotal: 7.91s\tremaining: 7.98s\n",
            "498:\tlearn: 0.0032144\ttotal: 7.93s\tremaining: 7.96s\n",
            "499:\tlearn: 0.0032083\ttotal: 7.94s\tremaining: 7.94s\n",
            "500:\tlearn: 0.0032038\ttotal: 7.96s\tremaining: 7.92s\n",
            "501:\tlearn: 0.0032012\ttotal: 7.97s\tremaining: 7.91s\n",
            "502:\tlearn: 0.0031970\ttotal: 7.98s\tremaining: 7.89s\n",
            "503:\tlearn: 0.0031808\ttotal: 8s\tremaining: 7.87s\n",
            "504:\tlearn: 0.0031790\ttotal: 8.01s\tremaining: 7.85s\n",
            "505:\tlearn: 0.0031744\ttotal: 8.03s\tremaining: 7.84s\n",
            "506:\tlearn: 0.0031702\ttotal: 8.05s\tremaining: 7.83s\n",
            "507:\tlearn: 0.0031685\ttotal: 8.06s\tremaining: 7.81s\n",
            "508:\tlearn: 0.0031568\ttotal: 8.1s\tremaining: 7.81s\n",
            "509:\tlearn: 0.0031534\ttotal: 8.11s\tremaining: 7.79s\n",
            "510:\tlearn: 0.0031505\ttotal: 8.13s\tremaining: 7.78s\n",
            "511:\tlearn: 0.0031493\ttotal: 8.14s\tremaining: 7.76s\n",
            "512:\tlearn: 0.0031331\ttotal: 8.15s\tremaining: 7.74s\n",
            "513:\tlearn: 0.0031317\ttotal: 8.17s\tremaining: 7.72s\n",
            "514:\tlearn: 0.0031310\ttotal: 8.18s\tremaining: 7.7s\n",
            "515:\tlearn: 0.0031241\ttotal: 8.2s\tremaining: 7.69s\n",
            "516:\tlearn: 0.0031188\ttotal: 8.21s\tremaining: 7.67s\n",
            "517:\tlearn: 0.0031095\ttotal: 8.22s\tremaining: 7.65s\n",
            "518:\tlearn: 0.0031061\ttotal: 8.24s\tremaining: 7.63s\n",
            "519:\tlearn: 0.0031008\ttotal: 8.25s\tremaining: 7.62s\n",
            "520:\tlearn: 0.0030981\ttotal: 8.26s\tremaining: 7.6s\n",
            "521:\tlearn: 0.0030879\ttotal: 8.28s\tremaining: 7.58s\n",
            "522:\tlearn: 0.0030808\ttotal: 8.29s\tremaining: 7.56s\n",
            "523:\tlearn: 0.0030732\ttotal: 8.31s\tremaining: 7.55s\n",
            "524:\tlearn: 0.0030626\ttotal: 8.33s\tremaining: 7.53s\n",
            "525:\tlearn: 0.0030616\ttotal: 8.34s\tremaining: 7.52s\n",
            "526:\tlearn: 0.0030592\ttotal: 8.35s\tremaining: 7.5s\n",
            "527:\tlearn: 0.0030459\ttotal: 8.37s\tremaining: 7.48s\n",
            "528:\tlearn: 0.0030447\ttotal: 8.38s\tremaining: 7.46s\n",
            "529:\tlearn: 0.0030432\ttotal: 8.4s\tremaining: 7.45s\n",
            "530:\tlearn: 0.0030373\ttotal: 8.41s\tremaining: 7.43s\n",
            "531:\tlearn: 0.0030355\ttotal: 8.43s\tremaining: 7.41s\n",
            "532:\tlearn: 0.0030344\ttotal: 8.44s\tremaining: 7.39s\n",
            "533:\tlearn: 0.0030199\ttotal: 8.45s\tremaining: 7.38s\n",
            "534:\tlearn: 0.0030154\ttotal: 8.47s\tremaining: 7.36s\n",
            "535:\tlearn: 0.0030019\ttotal: 8.48s\tremaining: 7.34s\n",
            "536:\tlearn: 0.0029987\ttotal: 8.5s\tremaining: 7.33s\n",
            "537:\tlearn: 0.0029937\ttotal: 8.51s\tremaining: 7.31s\n",
            "538:\tlearn: 0.0029924\ttotal: 8.53s\tremaining: 7.29s\n",
            "539:\tlearn: 0.0029903\ttotal: 8.54s\tremaining: 7.28s\n",
            "540:\tlearn: 0.0029855\ttotal: 8.55s\tremaining: 7.26s\n",
            "541:\tlearn: 0.0029756\ttotal: 8.57s\tremaining: 7.24s\n",
            "542:\tlearn: 0.0029744\ttotal: 8.58s\tremaining: 7.22s\n",
            "543:\tlearn: 0.0029707\ttotal: 8.59s\tremaining: 7.2s\n",
            "544:\tlearn: 0.0029683\ttotal: 8.61s\tremaining: 7.18s\n",
            "545:\tlearn: 0.0029608\ttotal: 8.62s\tremaining: 7.17s\n",
            "546:\tlearn: 0.0029462\ttotal: 8.63s\tremaining: 7.15s\n",
            "547:\tlearn: 0.0029459\ttotal: 8.65s\tremaining: 7.13s\n",
            "548:\tlearn: 0.0029439\ttotal: 8.66s\tremaining: 7.12s\n",
            "549:\tlearn: 0.0029432\ttotal: 8.67s\tremaining: 7.1s\n",
            "550:\tlearn: 0.0029398\ttotal: 8.69s\tremaining: 7.08s\n",
            "551:\tlearn: 0.0029230\ttotal: 8.7s\tremaining: 7.06s\n",
            "552:\tlearn: 0.0029201\ttotal: 8.73s\tremaining: 7.05s\n",
            "553:\tlearn: 0.0029164\ttotal: 8.74s\tremaining: 7.04s\n",
            "554:\tlearn: 0.0029122\ttotal: 8.76s\tremaining: 7.02s\n",
            "555:\tlearn: 0.0029113\ttotal: 8.77s\tremaining: 7s\n",
            "556:\tlearn: 0.0029105\ttotal: 8.78s\tremaining: 6.99s\n",
            "557:\tlearn: 0.0029063\ttotal: 8.8s\tremaining: 6.97s\n",
            "558:\tlearn: 0.0029055\ttotal: 8.81s\tremaining: 6.95s\n",
            "559:\tlearn: 0.0029047\ttotal: 8.82s\tremaining: 6.93s\n",
            "560:\tlearn: 0.0029022\ttotal: 8.84s\tremaining: 6.91s\n",
            "561:\tlearn: 0.0028944\ttotal: 8.86s\tremaining: 6.9s\n",
            "562:\tlearn: 0.0028791\ttotal: 8.88s\tremaining: 6.89s\n",
            "563:\tlearn: 0.0028778\ttotal: 8.89s\tremaining: 6.87s\n",
            "564:\tlearn: 0.0028774\ttotal: 8.9s\tremaining: 6.85s\n",
            "565:\tlearn: 0.0028698\ttotal: 8.92s\tremaining: 6.84s\n",
            "566:\tlearn: 0.0028683\ttotal: 8.94s\tremaining: 6.82s\n",
            "567:\tlearn: 0.0028679\ttotal: 8.95s\tremaining: 6.8s\n",
            "568:\tlearn: 0.0028662\ttotal: 8.96s\tremaining: 6.79s\n",
            "569:\tlearn: 0.0028648\ttotal: 8.97s\tremaining: 6.77s\n",
            "570:\tlearn: 0.0028626\ttotal: 8.99s\tremaining: 6.75s\n",
            "571:\tlearn: 0.0028612\ttotal: 9s\tremaining: 6.74s\n",
            "572:\tlearn: 0.0028589\ttotal: 9.02s\tremaining: 6.72s\n",
            "573:\tlearn: 0.0028571\ttotal: 9.04s\tremaining: 6.71s\n",
            "574:\tlearn: 0.0028545\ttotal: 9.05s\tremaining: 6.69s\n",
            "575:\tlearn: 0.0028531\ttotal: 9.06s\tremaining: 6.67s\n",
            "576:\tlearn: 0.0028393\ttotal: 9.08s\tremaining: 6.65s\n",
            "577:\tlearn: 0.0028325\ttotal: 9.09s\tremaining: 6.64s\n",
            "578:\tlearn: 0.0028256\ttotal: 9.1s\tremaining: 6.62s\n",
            "579:\tlearn: 0.0028176\ttotal: 9.12s\tremaining: 6.6s\n",
            "580:\tlearn: 0.0028118\ttotal: 9.13s\tremaining: 6.58s\n",
            "581:\tlearn: 0.0028054\ttotal: 9.15s\tremaining: 6.57s\n",
            "582:\tlearn: 0.0027997\ttotal: 9.16s\tremaining: 6.55s\n",
            "583:\tlearn: 0.0027977\ttotal: 9.18s\tremaining: 6.54s\n",
            "584:\tlearn: 0.0027957\ttotal: 9.19s\tremaining: 6.52s\n",
            "585:\tlearn: 0.0027929\ttotal: 9.2s\tremaining: 6.5s\n",
            "586:\tlearn: 0.0027913\ttotal: 9.21s\tremaining: 6.48s\n",
            "587:\tlearn: 0.0027884\ttotal: 9.23s\tremaining: 6.46s\n",
            "588:\tlearn: 0.0027880\ttotal: 9.24s\tremaining: 6.45s\n",
            "589:\tlearn: 0.0027793\ttotal: 9.26s\tremaining: 6.43s\n",
            "590:\tlearn: 0.0027775\ttotal: 9.27s\tremaining: 6.42s\n",
            "591:\tlearn: 0.0027690\ttotal: 9.28s\tremaining: 6.4s\n",
            "592:\tlearn: 0.0027626\ttotal: 9.3s\tremaining: 6.38s\n",
            "593:\tlearn: 0.0027588\ttotal: 9.31s\tremaining: 6.36s\n",
            "594:\tlearn: 0.0027577\ttotal: 9.32s\tremaining: 6.35s\n",
            "595:\tlearn: 0.0027553\ttotal: 9.34s\tremaining: 6.33s\n",
            "596:\tlearn: 0.0027529\ttotal: 9.36s\tremaining: 6.32s\n",
            "597:\tlearn: 0.0027522\ttotal: 9.37s\tremaining: 6.3s\n",
            "598:\tlearn: 0.0027427\ttotal: 9.38s\tremaining: 6.28s\n",
            "599:\tlearn: 0.0027383\ttotal: 9.39s\tremaining: 6.26s\n",
            "600:\tlearn: 0.0027307\ttotal: 9.41s\tremaining: 6.25s\n",
            "601:\tlearn: 0.0027303\ttotal: 9.42s\tremaining: 6.23s\n",
            "602:\tlearn: 0.0027264\ttotal: 9.44s\tremaining: 6.21s\n",
            "603:\tlearn: 0.0027262\ttotal: 9.45s\tremaining: 6.2s\n",
            "604:\tlearn: 0.0027259\ttotal: 9.46s\tremaining: 6.18s\n",
            "605:\tlearn: 0.0027203\ttotal: 9.48s\tremaining: 6.16s\n",
            "606:\tlearn: 0.0027191\ttotal: 9.49s\tremaining: 6.14s\n",
            "607:\tlearn: 0.0027123\ttotal: 9.5s\tremaining: 6.13s\n",
            "608:\tlearn: 0.0027026\ttotal: 9.52s\tremaining: 6.11s\n",
            "609:\tlearn: 0.0026957\ttotal: 9.53s\tremaining: 6.09s\n",
            "610:\tlearn: 0.0026905\ttotal: 9.55s\tremaining: 6.08s\n",
            "611:\tlearn: 0.0026882\ttotal: 9.56s\tremaining: 6.06s\n",
            "612:\tlearn: 0.0026857\ttotal: 9.58s\tremaining: 6.05s\n",
            "613:\tlearn: 0.0026801\ttotal: 9.59s\tremaining: 6.03s\n",
            "614:\tlearn: 0.0026768\ttotal: 9.61s\tremaining: 6.01s\n",
            "615:\tlearn: 0.0026758\ttotal: 9.62s\tremaining: 6s\n",
            "616:\tlearn: 0.0026722\ttotal: 9.63s\tremaining: 5.98s\n",
            "617:\tlearn: 0.0026712\ttotal: 9.65s\tremaining: 5.96s\n",
            "618:\tlearn: 0.0026687\ttotal: 9.66s\tremaining: 5.95s\n",
            "619:\tlearn: 0.0026682\ttotal: 9.67s\tremaining: 5.93s\n",
            "620:\tlearn: 0.0026658\ttotal: 9.69s\tremaining: 5.91s\n",
            "621:\tlearn: 0.0026647\ttotal: 9.7s\tremaining: 5.89s\n",
            "622:\tlearn: 0.0026605\ttotal: 9.71s\tremaining: 5.88s\n",
            "623:\tlearn: 0.0026537\ttotal: 9.73s\tremaining: 5.86s\n",
            "624:\tlearn: 0.0026512\ttotal: 9.74s\tremaining: 5.84s\n",
            "625:\tlearn: 0.0026480\ttotal: 9.76s\tremaining: 5.83s\n",
            "626:\tlearn: 0.0026443\ttotal: 9.78s\tremaining: 5.82s\n",
            "627:\tlearn: 0.0026410\ttotal: 9.79s\tremaining: 5.8s\n",
            "628:\tlearn: 0.0026398\ttotal: 9.8s\tremaining: 5.78s\n",
            "629:\tlearn: 0.0026282\ttotal: 9.82s\tremaining: 5.77s\n",
            "630:\tlearn: 0.0026272\ttotal: 9.83s\tremaining: 5.75s\n",
            "631:\tlearn: 0.0026262\ttotal: 9.85s\tremaining: 5.73s\n",
            "632:\tlearn: 0.0026243\ttotal: 9.86s\tremaining: 5.71s\n",
            "633:\tlearn: 0.0026235\ttotal: 9.87s\tremaining: 5.7s\n",
            "634:\tlearn: 0.0026227\ttotal: 9.88s\tremaining: 5.68s\n",
            "635:\tlearn: 0.0026204\ttotal: 9.9s\tremaining: 5.67s\n",
            "636:\tlearn: 0.0026097\ttotal: 9.91s\tremaining: 5.65s\n",
            "637:\tlearn: 0.0026040\ttotal: 9.93s\tremaining: 5.63s\n",
            "638:\tlearn: 0.0026012\ttotal: 9.94s\tremaining: 5.62s\n",
            "639:\tlearn: 0.0025984\ttotal: 9.96s\tremaining: 5.6s\n",
            "640:\tlearn: 0.0025944\ttotal: 9.97s\tremaining: 5.58s\n",
            "641:\tlearn: 0.0025934\ttotal: 9.99s\tremaining: 5.57s\n",
            "642:\tlearn: 0.0025894\ttotal: 10s\tremaining: 5.55s\n",
            "643:\tlearn: 0.0025848\ttotal: 10s\tremaining: 5.54s\n",
            "644:\tlearn: 0.0025842\ttotal: 10s\tremaining: 5.52s\n",
            "645:\tlearn: 0.0025747\ttotal: 10.1s\tremaining: 5.51s\n",
            "646:\tlearn: 0.0025740\ttotal: 10.1s\tremaining: 5.49s\n",
            "647:\tlearn: 0.0025699\ttotal: 10.1s\tremaining: 5.47s\n",
            "648:\tlearn: 0.0025661\ttotal: 10.1s\tremaining: 5.46s\n",
            "649:\tlearn: 0.0025615\ttotal: 10.1s\tremaining: 5.44s\n",
            "650:\tlearn: 0.0025596\ttotal: 10.1s\tremaining: 5.42s\n",
            "651:\tlearn: 0.0025593\ttotal: 10.1s\tremaining: 5.41s\n",
            "652:\tlearn: 0.0025589\ttotal: 10.1s\tremaining: 5.39s\n",
            "653:\tlearn: 0.0025581\ttotal: 10.2s\tremaining: 5.37s\n",
            "654:\tlearn: 0.0025578\ttotal: 10.2s\tremaining: 5.36s\n",
            "655:\tlearn: 0.0025538\ttotal: 10.2s\tremaining: 5.34s\n",
            "656:\tlearn: 0.0025496\ttotal: 10.2s\tremaining: 5.33s\n",
            "657:\tlearn: 0.0025466\ttotal: 10.2s\tremaining: 5.31s\n",
            "658:\tlearn: 0.0025447\ttotal: 10.2s\tremaining: 5.29s\n",
            "659:\tlearn: 0.0025408\ttotal: 10.2s\tremaining: 5.28s\n",
            "660:\tlearn: 0.0025339\ttotal: 10.3s\tremaining: 5.26s\n",
            "661:\tlearn: 0.0025306\ttotal: 10.3s\tremaining: 5.25s\n",
            "662:\tlearn: 0.0025295\ttotal: 10.3s\tremaining: 5.23s\n",
            "663:\tlearn: 0.0025277\ttotal: 10.3s\tremaining: 5.21s\n",
            "664:\tlearn: 0.0025241\ttotal: 10.3s\tremaining: 5.2s\n",
            "665:\tlearn: 0.0025238\ttotal: 10.3s\tremaining: 5.18s\n",
            "666:\tlearn: 0.0025213\ttotal: 10.3s\tremaining: 5.16s\n",
            "667:\tlearn: 0.0025197\ttotal: 10.4s\tremaining: 5.14s\n",
            "668:\tlearn: 0.0025175\ttotal: 10.4s\tremaining: 5.13s\n",
            "669:\tlearn: 0.0025118\ttotal: 10.4s\tremaining: 5.11s\n",
            "670:\tlearn: 0.0025077\ttotal: 10.4s\tremaining: 5.1s\n",
            "671:\tlearn: 0.0025074\ttotal: 10.4s\tremaining: 5.08s\n",
            "672:\tlearn: 0.0025046\ttotal: 10.4s\tremaining: 5.07s\n",
            "673:\tlearn: 0.0024970\ttotal: 10.4s\tremaining: 5.05s\n",
            "674:\tlearn: 0.0024941\ttotal: 10.5s\tremaining: 5.04s\n",
            "675:\tlearn: 0.0024918\ttotal: 10.5s\tremaining: 5.02s\n",
            "676:\tlearn: 0.0024916\ttotal: 10.5s\tremaining: 5s\n",
            "677:\tlearn: 0.0024893\ttotal: 10.5s\tremaining: 4.99s\n",
            "678:\tlearn: 0.0024854\ttotal: 10.5s\tremaining: 4.97s\n",
            "679:\tlearn: 0.0024852\ttotal: 10.5s\tremaining: 4.95s\n",
            "680:\tlearn: 0.0024769\ttotal: 10.5s\tremaining: 4.94s\n",
            "681:\tlearn: 0.0024750\ttotal: 10.6s\tremaining: 4.92s\n",
            "682:\tlearn: 0.0024699\ttotal: 10.6s\tremaining: 4.9s\n",
            "683:\tlearn: 0.0024692\ttotal: 10.6s\tremaining: 4.89s\n",
            "684:\tlearn: 0.0024640\ttotal: 10.6s\tremaining: 4.87s\n",
            "685:\tlearn: 0.0024574\ttotal: 10.6s\tremaining: 4.85s\n",
            "686:\tlearn: 0.0024559\ttotal: 10.6s\tremaining: 4.84s\n",
            "687:\tlearn: 0.0024524\ttotal: 10.6s\tremaining: 4.82s\n",
            "688:\tlearn: 0.0024478\ttotal: 10.6s\tremaining: 4.81s\n",
            "689:\tlearn: 0.0024440\ttotal: 10.7s\tremaining: 4.79s\n",
            "690:\tlearn: 0.0024435\ttotal: 10.7s\tremaining: 4.77s\n",
            "691:\tlearn: 0.0024402\ttotal: 10.7s\tremaining: 4.76s\n",
            "692:\tlearn: 0.0024361\ttotal: 10.7s\tremaining: 4.74s\n",
            "693:\tlearn: 0.0024328\ttotal: 10.7s\tremaining: 4.72s\n",
            "694:\tlearn: 0.0024282\ttotal: 10.7s\tremaining: 4.71s\n",
            "695:\tlearn: 0.0024251\ttotal: 10.7s\tremaining: 4.69s\n",
            "696:\tlearn: 0.0024245\ttotal: 10.8s\tremaining: 4.68s\n",
            "697:\tlearn: 0.0024204\ttotal: 10.8s\tremaining: 4.66s\n",
            "698:\tlearn: 0.0024193\ttotal: 10.8s\tremaining: 4.64s\n",
            "699:\tlearn: 0.0024185\ttotal: 10.8s\tremaining: 4.63s\n",
            "700:\tlearn: 0.0024178\ttotal: 10.8s\tremaining: 4.61s\n",
            "701:\tlearn: 0.0024134\ttotal: 10.8s\tremaining: 4.6s\n",
            "702:\tlearn: 0.0024121\ttotal: 10.8s\tremaining: 4.58s\n",
            "703:\tlearn: 0.0024074\ttotal: 10.9s\tremaining: 4.56s\n",
            "704:\tlearn: 0.0024045\ttotal: 10.9s\tremaining: 4.55s\n",
            "705:\tlearn: 0.0024025\ttotal: 10.9s\tremaining: 4.53s\n",
            "706:\tlearn: 0.0023962\ttotal: 10.9s\tremaining: 4.51s\n",
            "707:\tlearn: 0.0023960\ttotal: 10.9s\tremaining: 4.5s\n",
            "708:\tlearn: 0.0023900\ttotal: 10.9s\tremaining: 4.48s\n",
            "709:\tlearn: 0.0023894\ttotal: 10.9s\tremaining: 4.47s\n",
            "710:\tlearn: 0.0023846\ttotal: 10.9s\tremaining: 4.45s\n",
            "711:\tlearn: 0.0023844\ttotal: 11s\tremaining: 4.43s\n",
            "712:\tlearn: 0.0023811\ttotal: 11s\tremaining: 4.42s\n",
            "713:\tlearn: 0.0023810\ttotal: 11s\tremaining: 4.4s\n",
            "714:\tlearn: 0.0023778\ttotal: 11s\tremaining: 4.38s\n",
            "715:\tlearn: 0.0023750\ttotal: 11s\tremaining: 4.37s\n",
            "716:\tlearn: 0.0023739\ttotal: 11s\tremaining: 4.36s\n",
            "717:\tlearn: 0.0023728\ttotal: 11.1s\tremaining: 4.34s\n",
            "718:\tlearn: 0.0023704\ttotal: 11.1s\tremaining: 4.33s\n",
            "719:\tlearn: 0.0023690\ttotal: 11.1s\tremaining: 4.31s\n",
            "720:\tlearn: 0.0023649\ttotal: 11.1s\tremaining: 4.29s\n",
            "721:\tlearn: 0.0023636\ttotal: 11.1s\tremaining: 4.28s\n",
            "722:\tlearn: 0.0023625\ttotal: 11.1s\tremaining: 4.26s\n",
            "723:\tlearn: 0.0023595\ttotal: 11.1s\tremaining: 4.25s\n",
            "724:\tlearn: 0.0023564\ttotal: 11.2s\tremaining: 4.23s\n",
            "725:\tlearn: 0.0023506\ttotal: 11.2s\tremaining: 4.21s\n",
            "726:\tlearn: 0.0023496\ttotal: 11.2s\tremaining: 4.2s\n",
            "727:\tlearn: 0.0023470\ttotal: 11.2s\tremaining: 4.18s\n",
            "728:\tlearn: 0.0023467\ttotal: 11.2s\tremaining: 4.17s\n",
            "729:\tlearn: 0.0023428\ttotal: 11.2s\tremaining: 4.15s\n",
            "730:\tlearn: 0.0023426\ttotal: 11.2s\tremaining: 4.13s\n",
            "731:\tlearn: 0.0023397\ttotal: 11.3s\tremaining: 4.12s\n",
            "732:\tlearn: 0.0023354\ttotal: 11.3s\tremaining: 4.1s\n",
            "733:\tlearn: 0.0023330\ttotal: 11.3s\tremaining: 4.09s\n",
            "734:\tlearn: 0.0023283\ttotal: 11.3s\tremaining: 4.07s\n",
            "735:\tlearn: 0.0023191\ttotal: 11.3s\tremaining: 4.05s\n",
            "736:\tlearn: 0.0023173\ttotal: 11.3s\tremaining: 4.04s\n",
            "737:\tlearn: 0.0023153\ttotal: 11.3s\tremaining: 4.02s\n",
            "738:\tlearn: 0.0023151\ttotal: 11.3s\tremaining: 4.01s\n",
            "739:\tlearn: 0.0023123\ttotal: 11.4s\tremaining: 3.99s\n",
            "740:\tlearn: 0.0023077\ttotal: 11.4s\tremaining: 3.98s\n",
            "741:\tlearn: 0.0023074\ttotal: 11.4s\tremaining: 3.96s\n",
            "742:\tlearn: 0.0023047\ttotal: 11.4s\tremaining: 3.94s\n",
            "743:\tlearn: 0.0023016\ttotal: 11.4s\tremaining: 3.93s\n",
            "744:\tlearn: 0.0022995\ttotal: 11.4s\tremaining: 3.91s\n",
            "745:\tlearn: 0.0022969\ttotal: 11.4s\tremaining: 3.9s\n",
            "746:\tlearn: 0.0022966\ttotal: 11.5s\tremaining: 3.88s\n",
            "747:\tlearn: 0.0022952\ttotal: 11.5s\tremaining: 3.87s\n",
            "748:\tlearn: 0.0022950\ttotal: 11.5s\tremaining: 3.85s\n",
            "749:\tlearn: 0.0022909\ttotal: 11.5s\tremaining: 3.83s\n",
            "750:\tlearn: 0.0022892\ttotal: 11.5s\tremaining: 3.82s\n",
            "751:\tlearn: 0.0022844\ttotal: 11.5s\tremaining: 3.8s\n",
            "752:\tlearn: 0.0022819\ttotal: 11.5s\tremaining: 3.79s\n",
            "753:\tlearn: 0.0022737\ttotal: 11.6s\tremaining: 3.78s\n",
            "754:\tlearn: 0.0022716\ttotal: 11.6s\tremaining: 3.77s\n",
            "755:\tlearn: 0.0022694\ttotal: 11.7s\tremaining: 3.76s\n",
            "756:\tlearn: 0.0022687\ttotal: 11.7s\tremaining: 3.76s\n",
            "757:\tlearn: 0.0022666\ttotal: 11.7s\tremaining: 3.75s\n",
            "758:\tlearn: 0.0022641\ttotal: 11.8s\tremaining: 3.74s\n",
            "759:\tlearn: 0.0022621\ttotal: 11.8s\tremaining: 3.73s\n",
            "760:\tlearn: 0.0022594\ttotal: 11.9s\tremaining: 3.73s\n",
            "761:\tlearn: 0.0022591\ttotal: 11.9s\tremaining: 3.72s\n",
            "762:\tlearn: 0.0022568\ttotal: 12s\tremaining: 3.71s\n",
            "763:\tlearn: 0.0022516\ttotal: 12s\tremaining: 3.7s\n",
            "764:\tlearn: 0.0022499\ttotal: 12s\tremaining: 3.7s\n",
            "765:\tlearn: 0.0022480\ttotal: 12.1s\tremaining: 3.69s\n",
            "766:\tlearn: 0.0022455\ttotal: 12.1s\tremaining: 3.68s\n",
            "767:\tlearn: 0.0022446\ttotal: 12.2s\tremaining: 3.67s\n",
            "768:\tlearn: 0.0022442\ttotal: 12.2s\tremaining: 3.67s\n",
            "769:\tlearn: 0.0022437\ttotal: 12.2s\tremaining: 3.66s\n",
            "770:\tlearn: 0.0022396\ttotal: 12.3s\tremaining: 3.65s\n",
            "771:\tlearn: 0.0022340\ttotal: 12.3s\tremaining: 3.64s\n",
            "772:\tlearn: 0.0022297\ttotal: 12.4s\tremaining: 3.63s\n",
            "773:\tlearn: 0.0022278\ttotal: 12.4s\tremaining: 3.63s\n",
            "774:\tlearn: 0.0022246\ttotal: 12.5s\tremaining: 3.62s\n",
            "775:\tlearn: 0.0022207\ttotal: 12.5s\tremaining: 3.61s\n",
            "776:\tlearn: 0.0022198\ttotal: 12.5s\tremaining: 3.6s\n",
            "777:\tlearn: 0.0022154\ttotal: 12.6s\tremaining: 3.59s\n",
            "778:\tlearn: 0.0022141\ttotal: 12.6s\tremaining: 3.58s\n",
            "779:\tlearn: 0.0022120\ttotal: 12.7s\tremaining: 3.58s\n",
            "780:\tlearn: 0.0022098\ttotal: 12.7s\tremaining: 3.57s\n",
            "781:\tlearn: 0.0022066\ttotal: 12.8s\tremaining: 3.56s\n",
            "782:\tlearn: 0.0022047\ttotal: 12.8s\tremaining: 3.55s\n",
            "783:\tlearn: 0.0022022\ttotal: 12.8s\tremaining: 3.54s\n",
            "784:\tlearn: 0.0021977\ttotal: 12.9s\tremaining: 3.52s\n",
            "785:\tlearn: 0.0021913\ttotal: 12.9s\tremaining: 3.5s\n",
            "786:\tlearn: 0.0021898\ttotal: 12.9s\tremaining: 3.49s\n",
            "787:\tlearn: 0.0021867\ttotal: 12.9s\tremaining: 3.47s\n",
            "788:\tlearn: 0.0021857\ttotal: 12.9s\tremaining: 3.45s\n",
            "789:\tlearn: 0.0021841\ttotal: 12.9s\tremaining: 3.44s\n",
            "790:\tlearn: 0.0021836\ttotal: 12.9s\tremaining: 3.42s\n",
            "791:\tlearn: 0.0021804\ttotal: 13s\tremaining: 3.4s\n",
            "792:\tlearn: 0.0021786\ttotal: 13s\tremaining: 3.38s\n",
            "793:\tlearn: 0.0021729\ttotal: 13s\tremaining: 3.37s\n",
            "794:\tlearn: 0.0021684\ttotal: 13s\tremaining: 3.35s\n",
            "795:\tlearn: 0.0021665\ttotal: 13s\tremaining: 3.33s\n",
            "796:\tlearn: 0.0021662\ttotal: 13s\tremaining: 3.32s\n",
            "797:\tlearn: 0.0021623\ttotal: 13s\tremaining: 3.3s\n",
            "798:\tlearn: 0.0021601\ttotal: 13.1s\tremaining: 3.29s\n",
            "799:\tlearn: 0.0021524\ttotal: 13.1s\tremaining: 3.27s\n",
            "800:\tlearn: 0.0021489\ttotal: 13.1s\tremaining: 3.25s\n",
            "801:\tlearn: 0.0021487\ttotal: 13.1s\tremaining: 3.23s\n",
            "802:\tlearn: 0.0021436\ttotal: 13.1s\tremaining: 3.22s\n",
            "803:\tlearn: 0.0021434\ttotal: 13.1s\tremaining: 3.2s\n",
            "804:\tlearn: 0.0021382\ttotal: 13.1s\tremaining: 3.19s\n",
            "805:\tlearn: 0.0021363\ttotal: 13.2s\tremaining: 3.17s\n",
            "806:\tlearn: 0.0021362\ttotal: 13.2s\tremaining: 3.15s\n",
            "807:\tlearn: 0.0021350\ttotal: 13.2s\tremaining: 3.13s\n",
            "808:\tlearn: 0.0021305\ttotal: 13.2s\tremaining: 3.12s\n",
            "809:\tlearn: 0.0021289\ttotal: 13.2s\tremaining: 3.1s\n",
            "810:\tlearn: 0.0021288\ttotal: 13.2s\tremaining: 3.08s\n",
            "811:\tlearn: 0.0021254\ttotal: 13.2s\tremaining: 3.07s\n",
            "812:\tlearn: 0.0021245\ttotal: 13.3s\tremaining: 3.05s\n",
            "813:\tlearn: 0.0021230\ttotal: 13.3s\tremaining: 3.03s\n",
            "814:\tlearn: 0.0021180\ttotal: 13.3s\tremaining: 3.02s\n",
            "815:\tlearn: 0.0021176\ttotal: 13.3s\tremaining: 3s\n",
            "816:\tlearn: 0.0021156\ttotal: 13.3s\tremaining: 2.98s\n",
            "817:\tlearn: 0.0021150\ttotal: 13.3s\tremaining: 2.96s\n",
            "818:\tlearn: 0.0021115\ttotal: 13.3s\tremaining: 2.95s\n",
            "819:\tlearn: 0.0021092\ttotal: 13.4s\tremaining: 2.93s\n",
            "820:\tlearn: 0.0021051\ttotal: 13.4s\tremaining: 2.92s\n",
            "821:\tlearn: 0.0021028\ttotal: 13.4s\tremaining: 2.9s\n",
            "822:\tlearn: 0.0020979\ttotal: 13.4s\tremaining: 2.88s\n",
            "823:\tlearn: 0.0020944\ttotal: 13.4s\tremaining: 2.86s\n",
            "824:\tlearn: 0.0020895\ttotal: 13.4s\tremaining: 2.85s\n",
            "825:\tlearn: 0.0020891\ttotal: 13.4s\tremaining: 2.83s\n",
            "826:\tlearn: 0.0020871\ttotal: 13.5s\tremaining: 2.81s\n",
            "827:\tlearn: 0.0020829\ttotal: 13.5s\tremaining: 2.8s\n",
            "828:\tlearn: 0.0020825\ttotal: 13.5s\tremaining: 2.78s\n",
            "829:\tlearn: 0.0020781\ttotal: 13.5s\tremaining: 2.76s\n",
            "830:\tlearn: 0.0020766\ttotal: 13.5s\tremaining: 2.75s\n",
            "831:\tlearn: 0.0020718\ttotal: 13.5s\tremaining: 2.73s\n",
            "832:\tlearn: 0.0020709\ttotal: 13.5s\tremaining: 2.71s\n",
            "833:\tlearn: 0.0020629\ttotal: 13.6s\tremaining: 2.7s\n",
            "834:\tlearn: 0.0020597\ttotal: 13.6s\tremaining: 2.68s\n",
            "835:\tlearn: 0.0020566\ttotal: 13.6s\tremaining: 2.67s\n",
            "836:\tlearn: 0.0020545\ttotal: 13.6s\tremaining: 2.65s\n",
            "837:\tlearn: 0.0020543\ttotal: 13.6s\tremaining: 2.63s\n",
            "838:\tlearn: 0.0020508\ttotal: 13.6s\tremaining: 2.61s\n",
            "839:\tlearn: 0.0020501\ttotal: 13.6s\tremaining: 2.6s\n",
            "840:\tlearn: 0.0020491\ttotal: 13.7s\tremaining: 2.58s\n",
            "841:\tlearn: 0.0020473\ttotal: 13.7s\tremaining: 2.56s\n",
            "842:\tlearn: 0.0020432\ttotal: 13.7s\tremaining: 2.55s\n",
            "843:\tlearn: 0.0020425\ttotal: 13.7s\tremaining: 2.53s\n",
            "844:\tlearn: 0.0020399\ttotal: 13.7s\tremaining: 2.51s\n",
            "845:\tlearn: 0.0020374\ttotal: 13.7s\tremaining: 2.5s\n",
            "846:\tlearn: 0.0020345\ttotal: 13.7s\tremaining: 2.48s\n",
            "847:\tlearn: 0.0020338\ttotal: 13.7s\tremaining: 2.46s\n",
            "848:\tlearn: 0.0020324\ttotal: 13.8s\tremaining: 2.45s\n",
            "849:\tlearn: 0.0020317\ttotal: 13.8s\tremaining: 2.43s\n",
            "850:\tlearn: 0.0020313\ttotal: 13.8s\tremaining: 2.42s\n",
            "851:\tlearn: 0.0020308\ttotal: 13.8s\tremaining: 2.4s\n",
            "852:\tlearn: 0.0020294\ttotal: 13.8s\tremaining: 2.38s\n",
            "853:\tlearn: 0.0020278\ttotal: 13.8s\tremaining: 2.37s\n",
            "854:\tlearn: 0.0020255\ttotal: 13.8s\tremaining: 2.35s\n",
            "855:\tlearn: 0.0020233\ttotal: 13.9s\tremaining: 2.33s\n",
            "856:\tlearn: 0.0020212\ttotal: 13.9s\tremaining: 2.32s\n",
            "857:\tlearn: 0.0020107\ttotal: 13.9s\tremaining: 2.3s\n",
            "858:\tlearn: 0.0020105\ttotal: 13.9s\tremaining: 2.28s\n",
            "859:\tlearn: 0.0020084\ttotal: 13.9s\tremaining: 2.27s\n",
            "860:\tlearn: 0.0020075\ttotal: 13.9s\tremaining: 2.25s\n",
            "861:\tlearn: 0.0020062\ttotal: 14s\tremaining: 2.23s\n",
            "862:\tlearn: 0.0020042\ttotal: 14s\tremaining: 2.22s\n",
            "863:\tlearn: 0.0020037\ttotal: 14s\tremaining: 2.2s\n",
            "864:\tlearn: 0.0020036\ttotal: 14s\tremaining: 2.18s\n",
            "865:\tlearn: 0.0020010\ttotal: 14s\tremaining: 2.17s\n",
            "866:\tlearn: 0.0020008\ttotal: 14s\tremaining: 2.15s\n",
            "867:\tlearn: 0.0019982\ttotal: 14s\tremaining: 2.14s\n",
            "868:\tlearn: 0.0019960\ttotal: 14.1s\tremaining: 2.12s\n",
            "869:\tlearn: 0.0019900\ttotal: 14.1s\tremaining: 2.1s\n",
            "870:\tlearn: 0.0019854\ttotal: 14.1s\tremaining: 2.09s\n",
            "871:\tlearn: 0.0019819\ttotal: 14.1s\tremaining: 2.07s\n",
            "872:\tlearn: 0.0019789\ttotal: 14.1s\tremaining: 2.05s\n",
            "873:\tlearn: 0.0019774\ttotal: 14.1s\tremaining: 2.04s\n",
            "874:\tlearn: 0.0019755\ttotal: 14.1s\tremaining: 2.02s\n",
            "875:\tlearn: 0.0019754\ttotal: 14.2s\tremaining: 2s\n",
            "876:\tlearn: 0.0019731\ttotal: 14.2s\tremaining: 1.99s\n",
            "877:\tlearn: 0.0019687\ttotal: 14.2s\tremaining: 1.97s\n",
            "878:\tlearn: 0.0019681\ttotal: 14.2s\tremaining: 1.95s\n",
            "879:\tlearn: 0.0019653\ttotal: 14.2s\tremaining: 1.94s\n",
            "880:\tlearn: 0.0019562\ttotal: 14.2s\tremaining: 1.92s\n",
            "881:\tlearn: 0.0019520\ttotal: 14.2s\tremaining: 1.91s\n",
            "882:\tlearn: 0.0019463\ttotal: 14.3s\tremaining: 1.89s\n",
            "883:\tlearn: 0.0019448\ttotal: 14.3s\tremaining: 1.87s\n",
            "884:\tlearn: 0.0019435\ttotal: 14.3s\tremaining: 1.85s\n",
            "885:\tlearn: 0.0019406\ttotal: 14.3s\tremaining: 1.84s\n",
            "886:\tlearn: 0.0019404\ttotal: 14.3s\tremaining: 1.82s\n",
            "887:\tlearn: 0.0019386\ttotal: 14.3s\tremaining: 1.81s\n",
            "888:\tlearn: 0.0019384\ttotal: 14.3s\tremaining: 1.79s\n",
            "889:\tlearn: 0.0019382\ttotal: 14.3s\tremaining: 1.77s\n",
            "890:\tlearn: 0.0019370\ttotal: 14.4s\tremaining: 1.76s\n",
            "891:\tlearn: 0.0019364\ttotal: 14.4s\tremaining: 1.74s\n",
            "892:\tlearn: 0.0019351\ttotal: 14.4s\tremaining: 1.72s\n",
            "893:\tlearn: 0.0019323\ttotal: 14.4s\tremaining: 1.71s\n",
            "894:\tlearn: 0.0019305\ttotal: 14.4s\tremaining: 1.69s\n",
            "895:\tlearn: 0.0019281\ttotal: 14.4s\tremaining: 1.68s\n",
            "896:\tlearn: 0.0019269\ttotal: 14.4s\tremaining: 1.66s\n",
            "897:\tlearn: 0.0019193\ttotal: 14.5s\tremaining: 1.64s\n",
            "898:\tlearn: 0.0019182\ttotal: 14.5s\tremaining: 1.63s\n",
            "899:\tlearn: 0.0019175\ttotal: 14.5s\tremaining: 1.61s\n",
            "900:\tlearn: 0.0019168\ttotal: 14.5s\tremaining: 1.59s\n",
            "901:\tlearn: 0.0019134\ttotal: 14.5s\tremaining: 1.58s\n",
            "902:\tlearn: 0.0019128\ttotal: 14.5s\tremaining: 1.56s\n",
            "903:\tlearn: 0.0019092\ttotal: 14.5s\tremaining: 1.54s\n",
            "904:\tlearn: 0.0019051\ttotal: 14.6s\tremaining: 1.53s\n",
            "905:\tlearn: 0.0019042\ttotal: 14.6s\tremaining: 1.51s\n",
            "906:\tlearn: 0.0019023\ttotal: 14.6s\tremaining: 1.5s\n",
            "907:\tlearn: 0.0019017\ttotal: 14.6s\tremaining: 1.48s\n",
            "908:\tlearn: 0.0018984\ttotal: 14.6s\tremaining: 1.46s\n",
            "909:\tlearn: 0.0018947\ttotal: 14.6s\tremaining: 1.45s\n",
            "910:\tlearn: 0.0018944\ttotal: 14.6s\tremaining: 1.43s\n",
            "911:\tlearn: 0.0018908\ttotal: 14.7s\tremaining: 1.41s\n",
            "912:\tlearn: 0.0018875\ttotal: 14.7s\tremaining: 1.4s\n",
            "913:\tlearn: 0.0018873\ttotal: 14.7s\tremaining: 1.38s\n",
            "914:\tlearn: 0.0018851\ttotal: 14.7s\tremaining: 1.37s\n",
            "915:\tlearn: 0.0018850\ttotal: 14.7s\tremaining: 1.35s\n",
            "916:\tlearn: 0.0018843\ttotal: 14.7s\tremaining: 1.33s\n",
            "917:\tlearn: 0.0018823\ttotal: 14.7s\tremaining: 1.32s\n",
            "918:\tlearn: 0.0018779\ttotal: 14.8s\tremaining: 1.3s\n",
            "919:\tlearn: 0.0018775\ttotal: 14.8s\tremaining: 1.28s\n",
            "920:\tlearn: 0.0018754\ttotal: 14.8s\tremaining: 1.27s\n",
            "921:\tlearn: 0.0018742\ttotal: 14.8s\tremaining: 1.25s\n",
            "922:\tlearn: 0.0018737\ttotal: 14.8s\tremaining: 1.24s\n",
            "923:\tlearn: 0.0018718\ttotal: 14.8s\tremaining: 1.22s\n",
            "924:\tlearn: 0.0018717\ttotal: 14.8s\tremaining: 1.2s\n",
            "925:\tlearn: 0.0018688\ttotal: 14.9s\tremaining: 1.19s\n",
            "926:\tlearn: 0.0018649\ttotal: 14.9s\tremaining: 1.17s\n",
            "927:\tlearn: 0.0018624\ttotal: 14.9s\tremaining: 1.15s\n",
            "928:\tlearn: 0.0018579\ttotal: 14.9s\tremaining: 1.14s\n",
            "929:\tlearn: 0.0018567\ttotal: 14.9s\tremaining: 1.12s\n",
            "930:\tlearn: 0.0018556\ttotal: 14.9s\tremaining: 1.11s\n",
            "931:\tlearn: 0.0018554\ttotal: 14.9s\tremaining: 1.09s\n",
            "932:\tlearn: 0.0018542\ttotal: 15s\tremaining: 1.07s\n",
            "933:\tlearn: 0.0018519\ttotal: 15s\tremaining: 1.06s\n",
            "934:\tlearn: 0.0018495\ttotal: 15s\tremaining: 1.04s\n",
            "935:\tlearn: 0.0018474\ttotal: 15s\tremaining: 1.02s\n",
            "936:\tlearn: 0.0018459\ttotal: 15s\tremaining: 1.01s\n",
            "937:\tlearn: 0.0018429\ttotal: 15s\tremaining: 994ms\n",
            "938:\tlearn: 0.0018397\ttotal: 15s\tremaining: 978ms\n",
            "939:\tlearn: 0.0018369\ttotal: 15.1s\tremaining: 962ms\n",
            "940:\tlearn: 0.0018341\ttotal: 15.1s\tremaining: 945ms\n",
            "941:\tlearn: 0.0018339\ttotal: 15.1s\tremaining: 929ms\n",
            "942:\tlearn: 0.0018299\ttotal: 15.1s\tremaining: 913ms\n",
            "943:\tlearn: 0.0018292\ttotal: 15.1s\tremaining: 897ms\n",
            "944:\tlearn: 0.0018268\ttotal: 15.1s\tremaining: 881ms\n",
            "945:\tlearn: 0.0018244\ttotal: 15.2s\tremaining: 865ms\n",
            "946:\tlearn: 0.0018233\ttotal: 15.2s\tremaining: 849ms\n",
            "947:\tlearn: 0.0018217\ttotal: 15.2s\tremaining: 833ms\n",
            "948:\tlearn: 0.0018183\ttotal: 15.2s\tremaining: 817ms\n",
            "949:\tlearn: 0.0018174\ttotal: 15.2s\tremaining: 800ms\n",
            "950:\tlearn: 0.0018163\ttotal: 15.2s\tremaining: 784ms\n",
            "951:\tlearn: 0.0018144\ttotal: 15.2s\tremaining: 768ms\n",
            "952:\tlearn: 0.0018133\ttotal: 15.3s\tremaining: 752ms\n",
            "953:\tlearn: 0.0018080\ttotal: 15.3s\tremaining: 736ms\n",
            "954:\tlearn: 0.0018041\ttotal: 15.3s\tremaining: 720ms\n",
            "955:\tlearn: 0.0018038\ttotal: 15.3s\tremaining: 704ms\n",
            "956:\tlearn: 0.0018018\ttotal: 15.3s\tremaining: 688ms\n",
            "957:\tlearn: 0.0017971\ttotal: 15.3s\tremaining: 672ms\n",
            "958:\tlearn: 0.0017956\ttotal: 15.3s\tremaining: 656ms\n",
            "959:\tlearn: 0.0017954\ttotal: 15.3s\tremaining: 640ms\n",
            "960:\tlearn: 0.0017906\ttotal: 15.4s\tremaining: 623ms\n",
            "961:\tlearn: 0.0017830\ttotal: 15.4s\tremaining: 607ms\n",
            "962:\tlearn: 0.0017791\ttotal: 15.4s\tremaining: 591ms\n",
            "963:\tlearn: 0.0017775\ttotal: 15.4s\tremaining: 575ms\n",
            "964:\tlearn: 0.0017759\ttotal: 15.4s\tremaining: 559ms\n",
            "965:\tlearn: 0.0017739\ttotal: 15.4s\tremaining: 543ms\n",
            "966:\tlearn: 0.0017719\ttotal: 15.5s\tremaining: 527ms\n",
            "967:\tlearn: 0.0017708\ttotal: 15.5s\tremaining: 511ms\n",
            "968:\tlearn: 0.0017699\ttotal: 15.5s\tremaining: 495ms\n",
            "969:\tlearn: 0.0017689\ttotal: 15.5s\tremaining: 479ms\n",
            "970:\tlearn: 0.0017685\ttotal: 15.5s\tremaining: 463ms\n",
            "971:\tlearn: 0.0017672\ttotal: 15.5s\tremaining: 447ms\n",
            "972:\tlearn: 0.0017646\ttotal: 15.5s\tremaining: 431ms\n",
            "973:\tlearn: 0.0017632\ttotal: 15.5s\tremaining: 415ms\n",
            "974:\tlearn: 0.0017622\ttotal: 15.6s\tremaining: 399ms\n",
            "975:\tlearn: 0.0017605\ttotal: 15.6s\tremaining: 383ms\n",
            "976:\tlearn: 0.0017600\ttotal: 15.6s\tremaining: 367ms\n",
            "977:\tlearn: 0.0017598\ttotal: 15.6s\tremaining: 351ms\n",
            "978:\tlearn: 0.0017587\ttotal: 15.6s\tremaining: 335ms\n",
            "979:\tlearn: 0.0017579\ttotal: 15.6s\tremaining: 319ms\n",
            "980:\tlearn: 0.0017578\ttotal: 15.6s\tremaining: 303ms\n",
            "981:\tlearn: 0.0017545\ttotal: 15.7s\tremaining: 287ms\n",
            "982:\tlearn: 0.0017533\ttotal: 15.7s\tremaining: 271ms\n",
            "983:\tlearn: 0.0017498\ttotal: 15.7s\tremaining: 255ms\n",
            "984:\tlearn: 0.0017473\ttotal: 15.7s\tremaining: 239ms\n",
            "985:\tlearn: 0.0017466\ttotal: 15.7s\tremaining: 223ms\n",
            "986:\tlearn: 0.0017457\ttotal: 15.7s\tremaining: 207ms\n",
            "987:\tlearn: 0.0017446\ttotal: 15.7s\tremaining: 191ms\n",
            "988:\tlearn: 0.0017444\ttotal: 15.8s\tremaining: 175ms\n",
            "989:\tlearn: 0.0017435\ttotal: 15.8s\tremaining: 159ms\n",
            "990:\tlearn: 0.0017426\ttotal: 15.8s\tremaining: 143ms\n",
            "991:\tlearn: 0.0017418\ttotal: 15.8s\tremaining: 127ms\n",
            "992:\tlearn: 0.0017412\ttotal: 15.8s\tremaining: 111ms\n",
            "993:\tlearn: 0.0017388\ttotal: 15.8s\tremaining: 95.5ms\n",
            "994:\tlearn: 0.0017380\ttotal: 15.8s\tremaining: 79.6ms\n",
            "995:\tlearn: 0.0017331\ttotal: 15.9s\tremaining: 63.7ms\n",
            "996:\tlearn: 0.0017268\ttotal: 15.9s\tremaining: 47.8ms\n",
            "997:\tlearn: 0.0017249\ttotal: 15.9s\tremaining: 31.8ms\n",
            "998:\tlearn: 0.0017231\ttotal: 15.9s\tremaining: 15.9ms\n",
            "999:\tlearn: 0.0017229\ttotal: 15.9s\tremaining: 0us\n"
          ]
        },
        {
          "output_type": "execute_result",
          "data": {
            "text/plain": [
              "<catboost.core.CatBoostClassifier at 0x7f47126cd6d0>"
            ]
          },
          "metadata": {},
          "execution_count": 101
        }
      ],
      "source": [
        "# import CatBoostClassifier\n",
        "from catboost import CatBoostClassifier\n",
        "\n",
        "\n",
        "\n",
        "# Instantiate CatBoostClassifier with default hyperparameters and random_state=1\n",
        "Cat = CatBoostClassifier(random_state=1)\n",
        "\n",
        " \n",
        "# fit model on training data\n",
        "\n",
        "Cat.fit(X_train, y_train)\n",
        "\n"
      ]
    },
    {
      "cell_type": "markdown",
      "metadata": {
        "id": "TpVMMbBbD3VI"
      },
      "source": [
        "Now lets tune above model. The exhaustive list of hyperparameters in LightGBM are https://lightgbm.readthedocs.io/en/latest/Parameters-Tuning.html\n",
        "\n",
        "But lets run the CatBoost with previous selected hyperparamters i.e\n",
        "\n",
        "`learning_rate=0.2,\n",
        "max_depth=2,\n",
        "n_estimators=200,\n",
        "subsample=0.6,\n",
        "random_state=1`\n",
        "\n",
        "and lets see if it improves"
      ]
    },
    {
      "cell_type": "code",
      "execution_count": null,
      "metadata": {
        "id": "oQDFvB9yD3VI",
        "colab": {
          "base_uri": "https://localhost:8080/"
        },
        "outputId": "4d0d75f6-afa5-4a8a-c273-11c43b10a454"
      },
      "outputs": [
        {
          "output_type": "stream",
          "name": "stdout",
          "text": [
            "0:\tlearn: 0.2613976\ttotal: 11.1ms\tremaining: 2.22s\n",
            "1:\tlearn: 0.1107186\ttotal: 21.6ms\tremaining: 2.14s\n",
            "2:\tlearn: 0.0567430\ttotal: 30.7ms\tremaining: 2.02s\n",
            "3:\tlearn: 0.0348212\ttotal: 40.3ms\tremaining: 1.97s\n",
            "4:\tlearn: 0.0248359\ttotal: 49.2ms\tremaining: 1.92s\n",
            "5:\tlearn: 0.0193630\ttotal: 58.4ms\tremaining: 1.89s\n",
            "6:\tlearn: 0.0163303\ttotal: 67.7ms\tremaining: 1.87s\n",
            "7:\tlearn: 0.0143679\ttotal: 76.9ms\tremaining: 1.84s\n",
            "8:\tlearn: 0.0138138\ttotal: 89.4ms\tremaining: 1.9s\n",
            "9:\tlearn: 0.0134267\ttotal: 98.9ms\tremaining: 1.88s\n",
            "10:\tlearn: 0.0128506\ttotal: 108ms\tremaining: 1.86s\n",
            "11:\tlearn: 0.0124583\ttotal: 118ms\tremaining: 1.84s\n",
            "12:\tlearn: 0.0123686\ttotal: 129ms\tremaining: 1.85s\n",
            "13:\tlearn: 0.0120904\ttotal: 138ms\tremaining: 1.83s\n",
            "14:\tlearn: 0.0118246\ttotal: 147ms\tremaining: 1.82s\n",
            "15:\tlearn: 0.0116526\ttotal: 157ms\tremaining: 1.8s\n",
            "16:\tlearn: 0.0115903\ttotal: 167ms\tremaining: 1.8s\n",
            "17:\tlearn: 0.0114271\ttotal: 177ms\tremaining: 1.79s\n",
            "18:\tlearn: 0.0112818\ttotal: 189ms\tremaining: 1.8s\n",
            "19:\tlearn: 0.0111936\ttotal: 200ms\tremaining: 1.8s\n",
            "20:\tlearn: 0.0110823\ttotal: 213ms\tremaining: 1.81s\n",
            "21:\tlearn: 0.0110298\ttotal: 225ms\tremaining: 1.82s\n",
            "22:\tlearn: 0.0109540\ttotal: 236ms\tremaining: 1.81s\n",
            "23:\tlearn: 0.0108665\ttotal: 246ms\tremaining: 1.8s\n",
            "24:\tlearn: 0.0108077\ttotal: 257ms\tremaining: 1.8s\n",
            "25:\tlearn: 0.0106948\ttotal: 266ms\tremaining: 1.78s\n",
            "26:\tlearn: 0.0106495\ttotal: 275ms\tremaining: 1.76s\n",
            "27:\tlearn: 0.0106070\ttotal: 285ms\tremaining: 1.75s\n",
            "28:\tlearn: 0.0105595\ttotal: 297ms\tremaining: 1.75s\n",
            "29:\tlearn: 0.0105311\ttotal: 308ms\tremaining: 1.74s\n",
            "30:\tlearn: 0.0104977\ttotal: 319ms\tremaining: 1.74s\n",
            "31:\tlearn: 0.0104738\ttotal: 329ms\tremaining: 1.73s\n",
            "32:\tlearn: 0.0103861\ttotal: 340ms\tremaining: 1.72s\n",
            "33:\tlearn: 0.0103571\ttotal: 350ms\tremaining: 1.71s\n",
            "34:\tlearn: 0.0102725\ttotal: 359ms\tremaining: 1.69s\n",
            "35:\tlearn: 0.0101910\ttotal: 368ms\tremaining: 1.68s\n",
            "36:\tlearn: 0.0101304\ttotal: 379ms\tremaining: 1.67s\n",
            "37:\tlearn: 0.0101103\ttotal: 389ms\tremaining: 1.66s\n",
            "38:\tlearn: 0.0098261\ttotal: 399ms\tremaining: 1.65s\n",
            "39:\tlearn: 0.0097670\ttotal: 409ms\tremaining: 1.63s\n",
            "40:\tlearn: 0.0097417\ttotal: 421ms\tremaining: 1.63s\n",
            "41:\tlearn: 0.0096610\ttotal: 431ms\tremaining: 1.62s\n",
            "42:\tlearn: 0.0094237\ttotal: 441ms\tremaining: 1.61s\n",
            "43:\tlearn: 0.0093741\ttotal: 450ms\tremaining: 1.6s\n",
            "44:\tlearn: 0.0092371\ttotal: 462ms\tremaining: 1.59s\n",
            "45:\tlearn: 0.0092183\ttotal: 473ms\tremaining: 1.58s\n",
            "46:\tlearn: 0.0091526\ttotal: 484ms\tremaining: 1.57s\n",
            "47:\tlearn: 0.0091390\ttotal: 495ms\tremaining: 1.57s\n",
            "48:\tlearn: 0.0090895\ttotal: 505ms\tremaining: 1.55s\n",
            "49:\tlearn: 0.0090764\ttotal: 517ms\tremaining: 1.55s\n",
            "50:\tlearn: 0.0090633\ttotal: 528ms\tremaining: 1.54s\n",
            "51:\tlearn: 0.0090053\ttotal: 540ms\tremaining: 1.54s\n",
            "52:\tlearn: 0.0089915\ttotal: 549ms\tremaining: 1.52s\n",
            "53:\tlearn: 0.0089600\ttotal: 559ms\tremaining: 1.51s\n",
            "54:\tlearn: 0.0088818\ttotal: 570ms\tremaining: 1.5s\n",
            "55:\tlearn: 0.0088734\ttotal: 582ms\tremaining: 1.5s\n",
            "56:\tlearn: 0.0088575\ttotal: 593ms\tremaining: 1.49s\n",
            "57:\tlearn: 0.0088487\ttotal: 603ms\tremaining: 1.48s\n",
            "58:\tlearn: 0.0088235\ttotal: 613ms\tremaining: 1.47s\n",
            "59:\tlearn: 0.0088138\ttotal: 627ms\tremaining: 1.46s\n",
            "60:\tlearn: 0.0086484\ttotal: 639ms\tremaining: 1.46s\n",
            "61:\tlearn: 0.0086393\ttotal: 649ms\tremaining: 1.44s\n",
            "62:\tlearn: 0.0085952\ttotal: 659ms\tremaining: 1.43s\n",
            "63:\tlearn: 0.0084617\ttotal: 669ms\tremaining: 1.42s\n",
            "64:\tlearn: 0.0084557\ttotal: 680ms\tremaining: 1.41s\n",
            "65:\tlearn: 0.0084450\ttotal: 690ms\tremaining: 1.4s\n",
            "66:\tlearn: 0.0083804\ttotal: 702ms\tremaining: 1.39s\n",
            "67:\tlearn: 0.0083678\ttotal: 713ms\tremaining: 1.38s\n",
            "68:\tlearn: 0.0083529\ttotal: 723ms\tremaining: 1.37s\n",
            "69:\tlearn: 0.0083436\ttotal: 734ms\tremaining: 1.36s\n",
            "70:\tlearn: 0.0083099\ttotal: 745ms\tremaining: 1.35s\n",
            "71:\tlearn: 0.0082699\ttotal: 755ms\tremaining: 1.34s\n",
            "72:\tlearn: 0.0082494\ttotal: 766ms\tremaining: 1.33s\n",
            "73:\tlearn: 0.0082451\ttotal: 777ms\tremaining: 1.32s\n",
            "74:\tlearn: 0.0082032\ttotal: 787ms\tremaining: 1.31s\n",
            "75:\tlearn: 0.0081968\ttotal: 798ms\tremaining: 1.3s\n",
            "76:\tlearn: 0.0081882\ttotal: 808ms\tremaining: 1.29s\n",
            "77:\tlearn: 0.0081806\ttotal: 819ms\tremaining: 1.28s\n",
            "78:\tlearn: 0.0081555\ttotal: 831ms\tremaining: 1.27s\n",
            "79:\tlearn: 0.0081193\ttotal: 842ms\tremaining: 1.26s\n",
            "80:\tlearn: 0.0081027\ttotal: 851ms\tremaining: 1.25s\n",
            "81:\tlearn: 0.0080701\ttotal: 861ms\tremaining: 1.24s\n",
            "82:\tlearn: 0.0080575\ttotal: 871ms\tremaining: 1.23s\n",
            "83:\tlearn: 0.0080312\ttotal: 881ms\tremaining: 1.22s\n",
            "84:\tlearn: 0.0080070\ttotal: 891ms\tremaining: 1.21s\n",
            "85:\tlearn: 0.0080001\ttotal: 902ms\tremaining: 1.2s\n",
            "86:\tlearn: 0.0079823\ttotal: 921ms\tremaining: 1.2s\n",
            "87:\tlearn: 0.0079771\ttotal: 931ms\tremaining: 1.19s\n",
            "88:\tlearn: 0.0079696\ttotal: 942ms\tremaining: 1.17s\n",
            "89:\tlearn: 0.0079609\ttotal: 952ms\tremaining: 1.16s\n",
            "90:\tlearn: 0.0079439\ttotal: 962ms\tremaining: 1.15s\n",
            "91:\tlearn: 0.0079399\ttotal: 972ms\tremaining: 1.14s\n",
            "92:\tlearn: 0.0078385\ttotal: 982ms\tremaining: 1.13s\n",
            "93:\tlearn: 0.0078217\ttotal: 993ms\tremaining: 1.12s\n",
            "94:\tlearn: 0.0078161\ttotal: 1s\tremaining: 1.11s\n",
            "95:\tlearn: 0.0078110\ttotal: 1.01s\tremaining: 1.1s\n",
            "96:\tlearn: 0.0077377\ttotal: 1.02s\tremaining: 1.09s\n",
            "97:\tlearn: 0.0077301\ttotal: 1.04s\tremaining: 1.08s\n",
            "98:\tlearn: 0.0077222\ttotal: 1.05s\tremaining: 1.07s\n",
            "99:\tlearn: 0.0077169\ttotal: 1.06s\tremaining: 1.06s\n",
            "100:\tlearn: 0.0077110\ttotal: 1.07s\tremaining: 1.05s\n",
            "101:\tlearn: 0.0077038\ttotal: 1.08s\tremaining: 1.04s\n",
            "102:\tlearn: 0.0076872\ttotal: 1.09s\tremaining: 1.03s\n",
            "103:\tlearn: 0.0076730\ttotal: 1.1s\tremaining: 1.02s\n",
            "104:\tlearn: 0.0076692\ttotal: 1.11s\tremaining: 1.01s\n",
            "105:\tlearn: 0.0076633\ttotal: 1.12s\tremaining: 995ms\n",
            "106:\tlearn: 0.0076108\ttotal: 1.13s\tremaining: 985ms\n",
            "107:\tlearn: 0.0076051\ttotal: 1.14s\tremaining: 974ms\n",
            "108:\tlearn: 0.0075902\ttotal: 1.15s\tremaining: 964ms\n",
            "109:\tlearn: 0.0075858\ttotal: 1.17s\tremaining: 955ms\n",
            "110:\tlearn: 0.0075727\ttotal: 1.19s\tremaining: 951ms\n",
            "111:\tlearn: 0.0075611\ttotal: 1.2s\tremaining: 941ms\n",
            "112:\tlearn: 0.0075550\ttotal: 1.21s\tremaining: 930ms\n",
            "113:\tlearn: 0.0075517\ttotal: 1.22s\tremaining: 919ms\n",
            "114:\tlearn: 0.0075484\ttotal: 1.23s\tremaining: 909ms\n",
            "115:\tlearn: 0.0074019\ttotal: 1.24s\tremaining: 901ms\n",
            "116:\tlearn: 0.0073751\ttotal: 1.25s\tremaining: 890ms\n",
            "117:\tlearn: 0.0073660\ttotal: 1.26s\tremaining: 879ms\n",
            "118:\tlearn: 0.0073613\ttotal: 1.28s\tremaining: 869ms\n",
            "119:\tlearn: 0.0073529\ttotal: 1.29s\tremaining: 858ms\n",
            "120:\tlearn: 0.0073500\ttotal: 1.3s\tremaining: 847ms\n",
            "121:\tlearn: 0.0073452\ttotal: 1.31s\tremaining: 836ms\n",
            "122:\tlearn: 0.0073381\ttotal: 1.32s\tremaining: 825ms\n",
            "123:\tlearn: 0.0073342\ttotal: 1.33s\tremaining: 814ms\n",
            "124:\tlearn: 0.0073271\ttotal: 1.34s\tremaining: 803ms\n",
            "125:\tlearn: 0.0073217\ttotal: 1.35s\tremaining: 791ms\n",
            "126:\tlearn: 0.0073141\ttotal: 1.36s\tremaining: 781ms\n",
            "127:\tlearn: 0.0073099\ttotal: 1.37s\tremaining: 770ms\n",
            "128:\tlearn: 0.0073041\ttotal: 1.38s\tremaining: 759ms\n",
            "129:\tlearn: 0.0072978\ttotal: 1.39s\tremaining: 749ms\n",
            "130:\tlearn: 0.0072960\ttotal: 1.4s\tremaining: 738ms\n",
            "131:\tlearn: 0.0072699\ttotal: 1.41s\tremaining: 727ms\n",
            "132:\tlearn: 0.0072631\ttotal: 1.42s\tremaining: 716ms\n",
            "133:\tlearn: 0.0072542\ttotal: 1.43s\tremaining: 705ms\n",
            "134:\tlearn: 0.0072521\ttotal: 1.44s\tremaining: 695ms\n",
            "135:\tlearn: 0.0072194\ttotal: 1.46s\tremaining: 685ms\n",
            "136:\tlearn: 0.0072160\ttotal: 1.47s\tremaining: 674ms\n",
            "137:\tlearn: 0.0072121\ttotal: 1.48s\tremaining: 663ms\n",
            "138:\tlearn: 0.0072083\ttotal: 1.49s\tremaining: 652ms\n",
            "139:\tlearn: 0.0071898\ttotal: 1.5s\tremaining: 642ms\n",
            "140:\tlearn: 0.0071870\ttotal: 1.51s\tremaining: 631ms\n",
            "141:\tlearn: 0.0071344\ttotal: 1.52s\tremaining: 621ms\n",
            "142:\tlearn: 0.0071308\ttotal: 1.53s\tremaining: 610ms\n",
            "143:\tlearn: 0.0071082\ttotal: 1.54s\tremaining: 599ms\n",
            "144:\tlearn: 0.0071046\ttotal: 1.55s\tremaining: 588ms\n",
            "145:\tlearn: 0.0071015\ttotal: 1.56s\tremaining: 577ms\n",
            "146:\tlearn: 0.0070969\ttotal: 1.57s\tremaining: 567ms\n",
            "147:\tlearn: 0.0070890\ttotal: 1.58s\tremaining: 556ms\n",
            "148:\tlearn: 0.0070832\ttotal: 1.59s\tremaining: 545ms\n",
            "149:\tlearn: 0.0070751\ttotal: 1.6s\tremaining: 534ms\n",
            "150:\tlearn: 0.0070735\ttotal: 1.61s\tremaining: 523ms\n",
            "151:\tlearn: 0.0070574\ttotal: 1.62s\tremaining: 513ms\n",
            "152:\tlearn: 0.0070343\ttotal: 1.63s\tremaining: 502ms\n",
            "153:\tlearn: 0.0070152\ttotal: 1.65s\tremaining: 492ms\n",
            "154:\tlearn: 0.0070126\ttotal: 1.66s\tremaining: 481ms\n",
            "155:\tlearn: 0.0069917\ttotal: 1.67s\tremaining: 471ms\n",
            "156:\tlearn: 0.0069895\ttotal: 1.68s\tremaining: 460ms\n",
            "157:\tlearn: 0.0069876\ttotal: 1.69s\tremaining: 449ms\n",
            "158:\tlearn: 0.0069855\ttotal: 1.7s\tremaining: 438ms\n",
            "159:\tlearn: 0.0069801\ttotal: 1.71s\tremaining: 428ms\n",
            "160:\tlearn: 0.0069782\ttotal: 1.72s\tremaining: 417ms\n",
            "161:\tlearn: 0.0069593\ttotal: 1.74s\tremaining: 408ms\n",
            "162:\tlearn: 0.0069447\ttotal: 1.75s\tremaining: 397ms\n",
            "163:\tlearn: 0.0069176\ttotal: 1.76s\tremaining: 386ms\n",
            "164:\tlearn: 0.0069160\ttotal: 1.77s\tremaining: 375ms\n",
            "165:\tlearn: 0.0069118\ttotal: 1.78s\tremaining: 364ms\n",
            "166:\tlearn: 0.0068811\ttotal: 1.79s\tremaining: 353ms\n",
            "167:\tlearn: 0.0068715\ttotal: 1.8s\tremaining: 342ms\n",
            "168:\tlearn: 0.0068536\ttotal: 1.81s\tremaining: 332ms\n",
            "169:\tlearn: 0.0068524\ttotal: 1.82s\tremaining: 321ms\n",
            "170:\tlearn: 0.0068507\ttotal: 1.83s\tremaining: 310ms\n",
            "171:\tlearn: 0.0068470\ttotal: 1.84s\tremaining: 300ms\n",
            "172:\tlearn: 0.0068299\ttotal: 1.85s\tremaining: 289ms\n",
            "173:\tlearn: 0.0068174\ttotal: 1.86s\tremaining: 278ms\n",
            "174:\tlearn: 0.0067941\ttotal: 1.87s\tremaining: 268ms\n",
            "175:\tlearn: 0.0067927\ttotal: 1.88s\tremaining: 257ms\n",
            "176:\tlearn: 0.0067805\ttotal: 1.9s\tremaining: 247ms\n",
            "177:\tlearn: 0.0067775\ttotal: 1.91s\tremaining: 236ms\n",
            "178:\tlearn: 0.0067743\ttotal: 1.92s\tremaining: 226ms\n",
            "179:\tlearn: 0.0067704\ttotal: 1.93s\tremaining: 215ms\n",
            "180:\tlearn: 0.0067572\ttotal: 1.94s\tremaining: 204ms\n",
            "181:\tlearn: 0.0067544\ttotal: 1.96s\tremaining: 193ms\n",
            "182:\tlearn: 0.0067524\ttotal: 1.97s\tremaining: 183ms\n",
            "183:\tlearn: 0.0067496\ttotal: 1.98s\tremaining: 172ms\n",
            "184:\tlearn: 0.0067425\ttotal: 1.99s\tremaining: 161ms\n",
            "185:\tlearn: 0.0067378\ttotal: 2s\tremaining: 150ms\n",
            "186:\tlearn: 0.0067301\ttotal: 2s\tremaining: 139ms\n",
            "187:\tlearn: 0.0067033\ttotal: 2.02s\tremaining: 129ms\n",
            "188:\tlearn: 0.0066959\ttotal: 2.02s\tremaining: 118ms\n",
            "189:\tlearn: 0.0066894\ttotal: 2.03s\tremaining: 107ms\n",
            "190:\tlearn: 0.0066875\ttotal: 2.04s\tremaining: 96.4ms\n",
            "191:\tlearn: 0.0066808\ttotal: 2.06s\tremaining: 85.9ms\n",
            "192:\tlearn: 0.0066690\ttotal: 2.07s\tremaining: 75.1ms\n",
            "193:\tlearn: 0.0066677\ttotal: 2.08s\tremaining: 64.4ms\n",
            "194:\tlearn: 0.0066603\ttotal: 2.09s\tremaining: 53.7ms\n",
            "195:\tlearn: 0.0066579\ttotal: 2.1s\tremaining: 42.9ms\n",
            "196:\tlearn: 0.0066498\ttotal: 2.11s\tremaining: 32.2ms\n",
            "197:\tlearn: 0.0066486\ttotal: 2.12s\tremaining: 21.5ms\n",
            "198:\tlearn: 0.0066229\ttotal: 2.14s\tremaining: 10.7ms\n",
            "199:\tlearn: 0.0066082\ttotal: 2.15s\tremaining: 0us\n"
          ]
        },
        {
          "output_type": "execute_result",
          "data": {
            "text/plain": [
              "<catboost.core.CatBoostClassifier at 0x7f471274ef10>"
            ]
          },
          "metadata": {},
          "execution_count": 102
        }
      ],
      "source": [
        "\n",
        "# Instantiate CatBoostClassifier with params\n",
        "Cat =  CatBoostClassifier(learning_rate=0.2, n_estimators=200, max_depth=2, random_state=1)\n",
        "\n",
        " \n",
        "# fit model on training data\n",
        "\n",
        "Cat.fit(X_train, y_train)\n",
        "\n",
        "\n"
      ]
    },
    {
      "cell_type": "code",
      "execution_count": null,
      "metadata": {
        "id": "AS4dO6AkD3VI",
        "colab": {
          "base_uri": "https://localhost:8080/"
        },
        "outputId": "e7641a31-f462-4de5-bd5f-691dcc40f98e"
      },
      "outputs": [
        {
          "output_type": "stream",
          "name": "stdout",
          "text": [
            "0.9613714190261422\n"
          ]
        }
      ],
      "source": [
        "# use predict_proba since we need probabilities to compute auc\n",
        "y_pred = Cat.predict_proba(X_test)\n",
        "\n",
        "\n",
        "# evaluate predictions using roc_auc score\n",
        "roc = metrics.roc_auc_score(y_test, y_pred[:,1])\n",
        "print(roc)\n",
        "\n"
      ]
    },
    {
      "cell_type": "markdown",
      "metadata": {
        "id": "7PevkKhdD3VJ"
      },
      "source": [
        "Wohoo! oh yes. Your final model can come to your rescue. CatBoost gives slightly better result than all other models which we tried till now."
      ]
    },
    {
      "cell_type": "markdown",
      "metadata": {
        "_cell_guid": "b753bc69-f824-4ed5-8f27-ec391f0cb820",
        "_uuid": "e02e3ccc572ac3bbcc9a40b8dd2bbe269a36994d",
        "id": "ll4QNddSD3VJ"
      },
      "source": [
        "\n",
        "Recommendations for training:\n",
        "- We have used only a fraction of the training set (train_sample, 100k rows), the full training data on Kaggle (train.csv) has about 180 million rows. You'll get good results only if you train the model on a significant portion of the training dataset.  \n",
        "- Because of the size, you'll need to use Colab kernels to train the model on full training data. Colab kernels provide powerful computation capacities on cloud (for free). \n",
        "- Even on the kernel, you may need to use a portion of the training dataset (try using the last 20-30 million rows).\n",
        "- Make sure you save memory by following some tricks and best practices, else you won't be able to train the model at all on a large dataset.\n",
        "\n",
        "\n",
        "Finally in this assignment you have learned about various boosting techniques and in previous assignment you had learned about Bagging techniques. We hope you understood the difference between them and their use.\n",
        "\n",
        "You can refer below videos to know interesting Interview questions on Boosting techniques. \n",
        "\n",
        "https://www.youtube.com/watch?v=EHewTwtYcgE\n",
        "\n",
        "\n"
      ]
    },
    {
      "cell_type": "markdown",
      "metadata": {
        "id": "O-jAA4y9D3VJ"
      },
      "source": [
        "From above you can see that most of the International footbal tournament were on sunday. Such small small analysis becomes usefull for our machine learning problems to solve.\n",
        "\n",
        "All these feature engineering techniques becomes very important to bring good insights and results for any machine learning problems, hence we hope that you understand the importance of feature engineering as part of data science.\n",
        "\n",
        "---------------------\n",
        "# Peaceable with ensemble! Congrats..you have completed your ML Ensemble challenge\n",
        "---------------------\n",
        "\n",
        "\n",
        "# FeedBack\n",
        "We hope you’ve enjoyed this course so far. We’re committed to help you use \"AI for All\" course to its full potential, so that you have a great learning experience. And that’s why we need your help in form of a feedback here.\n",
        "\n",
        "Please fill this feedback form https://zfrmz.in/MtRG5oWXBdesm6rmSM7N"
      ]
    }
  ],
  "metadata": {
    "colab": {
      "provenance": []
    },
    "kernelspec": {
      "display_name": "Python 3 (ipykernel)",
      "language": "python",
      "name": "python3"
    },
    "language_info": {
      "codemirror_mode": {
        "name": "ipython",
        "version": 3
      },
      "file_extension": ".py",
      "mimetype": "text/x-python",
      "name": "python",
      "nbconvert_exporter": "python",
      "pygments_lexer": "ipython3",
      "version": "3.8.8"
    },
    "latex_envs": {
      "LaTeX_envs_menu_present": true,
      "autoclose": false,
      "autocomplete": true,
      "bibliofile": "biblio.bib",
      "cite_by": "apalike",
      "current_citInitial": 1,
      "eqLabelWithNumbers": true,
      "eqNumInitial": 1,
      "hotkeys": {
        "equation": "Ctrl-E",
        "itemize": "Ctrl-I"
      },
      "labels_anchors": false,
      "latex_user_defs": false,
      "report_style_numbering": false,
      "user_envs_cfg": false
    },
    "gpuClass": "standard"
  },
  "nbformat": 4,
  "nbformat_minor": 0
}