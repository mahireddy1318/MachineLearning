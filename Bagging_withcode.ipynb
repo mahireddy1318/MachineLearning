{
  "cells": [
    {
      "cell_type": "markdown",
      "metadata": {
        "id": "9PU0dNHhHWXb"
      },
      "source": [
        "## <center><u>**`Bagging and Random Forest Ensemble Algorithms`**</u></center>\n"
      ]
    },
    {
      "cell_type": "markdown",
      "metadata": {
        "id": "0NHNMwWnHWXf"
      },
      "source": [
        "Decision trees are a simple and powerful predictive modeling technique, but they suffer from high-variance.\n",
        "\n",
        "This means that trees can get very different results given different training data.\n",
        "\n",
        "A technique to make decision trees more robust and to achieve better performance is called bootstrap aggregation or bagging for short.\n",
        "\n",
        "In this assignment, you will discover how to implement the bagging procedure with Python.\n",
        "\n",
        "To know more about Bagging do refer the video below:\n",
        "![image.png](attachment:image.png)\n",
        "\n",
        "-------------------------\n",
        "\n",
        "Here you will be using `3 different types of boosting` methods:\n",
        "\n",
        "1. `Bagging classifier: an ensemble meta-estimator`\n",
        "2. `RandomForest Classifier`\n",
        "3. `ExtraTree Classifier`\n",
        "\n",
        "\n",
        "#### **`PROBLEM STATEMENT: Credit Default Prediction`**\n",
        "\n",
        "Build a model to predict whether a given customer defaults or not. Credit default is one of the most important problems in the banking and risk analytics industry. There are various attributes which can be used to predict default, such as demographic data (age, income, employment status, etc.), (credit) behavioural data (past loans, payment, number of times a credit payment has been delayed by the customer etc.).\n",
        "\n"
      ]
    },
    {
      "cell_type": "markdown",
      "metadata": {
        "id": "-4JKfWkJqact"
      },
      "source": [
        "# **`WATCH VIDEOS IN THE PORTAL`**"
      ]
    },
    {
      "cell_type": "markdown",
      "metadata": {
        "id": "apskuFsoqest"
      },
      "source": [
        "## **`Watch Video 1 : Bagging Intuition`**"
      ]
    },
    {
      "cell_type": "markdown",
      "metadata": {
        "id": "jxDsiXePHWXg"
      },
      "source": [
        "### **`1. Data Understanding and Cleaning`**\n",
        "\n",
        "<p style='text-align: right;'> 10 points</p>"
      ]
    },
    {
      "cell_type": "code",
      "execution_count": null,
      "metadata": {
        "id": "WySYhhaOHWXg"
      },
      "outputs": [],
      "source": [
        "# Importing the required libraries\n",
        "import pandas as pd\n",
        "import numpy as np\n",
        "import matplotlib.pyplot as plt\n",
        "import seaborn as sns\n",
        "%matplotlib inline\n",
        "\n",
        "# To ignore warnings\n",
        "import warnings\n",
        "warnings.filterwarnings(\"ignore\")"
      ]
    },
    {
      "cell_type": "code",
      "execution_count": null,
      "metadata": {
        "colab": {
          "base_uri": "https://localhost:8080/",
          "height": 299
        },
        "id": "6fUdHzOkHWXh",
        "outputId": "596e6c87-1faf-45f4-d605-cbad22b4098a"
      },
      "outputs": [
        {
          "data": {
            "text/html": [
              "\n",
              "  <div id=\"df-991e11af-6f86-4281-aeba-e73f41cf5faa\">\n",
              "    <div class=\"colab-df-container\">\n",
              "      <div>\n",
              "<style scoped>\n",
              "    .dataframe tbody tr th:only-of-type {\n",
              "        vertical-align: middle;\n",
              "    }\n",
              "\n",
              "    .dataframe tbody tr th {\n",
              "        vertical-align: top;\n",
              "    }\n",
              "\n",
              "    .dataframe thead th {\n",
              "        text-align: right;\n",
              "    }\n",
              "</style>\n",
              "<table border=\"1\" class=\"dataframe\">\n",
              "  <thead>\n",
              "    <tr style=\"text-align: right;\">\n",
              "      <th></th>\n",
              "      <th>ID</th>\n",
              "      <th>LIMIT_BAL</th>\n",
              "      <th>SEX</th>\n",
              "      <th>EDUCATION</th>\n",
              "      <th>MARRIAGE</th>\n",
              "      <th>AGE</th>\n",
              "      <th>PAY_0</th>\n",
              "      <th>PAY_2</th>\n",
              "      <th>PAY_3</th>\n",
              "      <th>PAY_4</th>\n",
              "      <th>...</th>\n",
              "      <th>BILL_AMT4</th>\n",
              "      <th>BILL_AMT5</th>\n",
              "      <th>BILL_AMT6</th>\n",
              "      <th>PAY_AMT1</th>\n",
              "      <th>PAY_AMT2</th>\n",
              "      <th>PAY_AMT3</th>\n",
              "      <th>PAY_AMT4</th>\n",
              "      <th>PAY_AMT5</th>\n",
              "      <th>PAY_AMT6</th>\n",
              "      <th>defaulted</th>\n",
              "    </tr>\n",
              "  </thead>\n",
              "  <tbody>\n",
              "    <tr>\n",
              "      <th>0</th>\n",
              "      <td>1</td>\n",
              "      <td>20000</td>\n",
              "      <td>2</td>\n",
              "      <td>2</td>\n",
              "      <td>1</td>\n",
              "      <td>24</td>\n",
              "      <td>2</td>\n",
              "      <td>2</td>\n",
              "      <td>-1</td>\n",
              "      <td>-1</td>\n",
              "      <td>...</td>\n",
              "      <td>0</td>\n",
              "      <td>0</td>\n",
              "      <td>0</td>\n",
              "      <td>0</td>\n",
              "      <td>689</td>\n",
              "      <td>0</td>\n",
              "      <td>0</td>\n",
              "      <td>0</td>\n",
              "      <td>0</td>\n",
              "      <td>1</td>\n",
              "    </tr>\n",
              "    <tr>\n",
              "      <th>1</th>\n",
              "      <td>2</td>\n",
              "      <td>120000</td>\n",
              "      <td>2</td>\n",
              "      <td>2</td>\n",
              "      <td>2</td>\n",
              "      <td>26</td>\n",
              "      <td>-1</td>\n",
              "      <td>2</td>\n",
              "      <td>0</td>\n",
              "      <td>0</td>\n",
              "      <td>...</td>\n",
              "      <td>3272</td>\n",
              "      <td>3455</td>\n",
              "      <td>3261</td>\n",
              "      <td>0</td>\n",
              "      <td>1000</td>\n",
              "      <td>1000</td>\n",
              "      <td>1000</td>\n",
              "      <td>0</td>\n",
              "      <td>2000</td>\n",
              "      <td>1</td>\n",
              "    </tr>\n",
              "    <tr>\n",
              "      <th>2</th>\n",
              "      <td>3</td>\n",
              "      <td>90000</td>\n",
              "      <td>2</td>\n",
              "      <td>2</td>\n",
              "      <td>2</td>\n",
              "      <td>34</td>\n",
              "      <td>0</td>\n",
              "      <td>0</td>\n",
              "      <td>0</td>\n",
              "      <td>0</td>\n",
              "      <td>...</td>\n",
              "      <td>14331</td>\n",
              "      <td>14948</td>\n",
              "      <td>15549</td>\n",
              "      <td>1518</td>\n",
              "      <td>1500</td>\n",
              "      <td>1000</td>\n",
              "      <td>1000</td>\n",
              "      <td>1000</td>\n",
              "      <td>5000</td>\n",
              "      <td>0</td>\n",
              "    </tr>\n",
              "    <tr>\n",
              "      <th>3</th>\n",
              "      <td>4</td>\n",
              "      <td>50000</td>\n",
              "      <td>2</td>\n",
              "      <td>2</td>\n",
              "      <td>1</td>\n",
              "      <td>37</td>\n",
              "      <td>0</td>\n",
              "      <td>0</td>\n",
              "      <td>0</td>\n",
              "      <td>0</td>\n",
              "      <td>...</td>\n",
              "      <td>28314</td>\n",
              "      <td>28959</td>\n",
              "      <td>29547</td>\n",
              "      <td>2000</td>\n",
              "      <td>2019</td>\n",
              "      <td>1200</td>\n",
              "      <td>1100</td>\n",
              "      <td>1069</td>\n",
              "      <td>1000</td>\n",
              "      <td>0</td>\n",
              "    </tr>\n",
              "    <tr>\n",
              "      <th>4</th>\n",
              "      <td>5</td>\n",
              "      <td>50000</td>\n",
              "      <td>1</td>\n",
              "      <td>2</td>\n",
              "      <td>1</td>\n",
              "      <td>57</td>\n",
              "      <td>-1</td>\n",
              "      <td>0</td>\n",
              "      <td>-1</td>\n",
              "      <td>0</td>\n",
              "      <td>...</td>\n",
              "      <td>20940</td>\n",
              "      <td>19146</td>\n",
              "      <td>19131</td>\n",
              "      <td>2000</td>\n",
              "      <td>36681</td>\n",
              "      <td>10000</td>\n",
              "      <td>9000</td>\n",
              "      <td>689</td>\n",
              "      <td>679</td>\n",
              "      <td>0</td>\n",
              "    </tr>\n",
              "  </tbody>\n",
              "</table>\n",
              "<p>5 rows × 25 columns</p>\n",
              "</div>\n",
              "      <button class=\"colab-df-convert\" onclick=\"convertToInteractive('df-991e11af-6f86-4281-aeba-e73f41cf5faa')\"\n",
              "              title=\"Convert this dataframe to an interactive table.\"\n",
              "              style=\"display:none;\">\n",
              "        \n",
              "  <svg xmlns=\"http://www.w3.org/2000/svg\" height=\"24px\"viewBox=\"0 0 24 24\"\n",
              "       width=\"24px\">\n",
              "    <path d=\"M0 0h24v24H0V0z\" fill=\"none\"/>\n",
              "    <path d=\"M18.56 5.44l.94 2.06.94-2.06 2.06-.94-2.06-.94-.94-2.06-.94 2.06-2.06.94zm-11 1L8.5 8.5l.94-2.06 2.06-.94-2.06-.94L8.5 2.5l-.94 2.06-2.06.94zm10 10l.94 2.06.94-2.06 2.06-.94-2.06-.94-.94-2.06-.94 2.06-2.06.94z\"/><path d=\"M17.41 7.96l-1.37-1.37c-.4-.4-.92-.59-1.43-.59-.52 0-1.04.2-1.43.59L10.3 9.45l-7.72 7.72c-.78.78-.78 2.05 0 2.83L4 21.41c.39.39.9.59 1.41.59.51 0 1.02-.2 1.41-.59l7.78-7.78 2.81-2.81c.8-.78.8-2.07 0-2.86zM5.41 20L4 18.59l7.72-7.72 1.47 1.35L5.41 20z\"/>\n",
              "  </svg>\n",
              "      </button>\n",
              "      \n",
              "  <style>\n",
              "    .colab-df-container {\n",
              "      display:flex;\n",
              "      flex-wrap:wrap;\n",
              "      gap: 12px;\n",
              "    }\n",
              "\n",
              "    .colab-df-convert {\n",
              "      background-color: #E8F0FE;\n",
              "      border: none;\n",
              "      border-radius: 50%;\n",
              "      cursor: pointer;\n",
              "      display: none;\n",
              "      fill: #1967D2;\n",
              "      height: 32px;\n",
              "      padding: 0 0 0 0;\n",
              "      width: 32px;\n",
              "    }\n",
              "\n",
              "    .colab-df-convert:hover {\n",
              "      background-color: #E2EBFA;\n",
              "      box-shadow: 0px 1px 2px rgba(60, 64, 67, 0.3), 0px 1px 3px 1px rgba(60, 64, 67, 0.15);\n",
              "      fill: #174EA6;\n",
              "    }\n",
              "\n",
              "    [theme=dark] .colab-df-convert {\n",
              "      background-color: #3B4455;\n",
              "      fill: #D2E3FC;\n",
              "    }\n",
              "\n",
              "    [theme=dark] .colab-df-convert:hover {\n",
              "      background-color: #434B5C;\n",
              "      box-shadow: 0px 1px 3px 1px rgba(0, 0, 0, 0.15);\n",
              "      filter: drop-shadow(0px 1px 2px rgba(0, 0, 0, 0.3));\n",
              "      fill: #FFFFFF;\n",
              "    }\n",
              "  </style>\n",
              "\n",
              "      <script>\n",
              "        const buttonEl =\n",
              "          document.querySelector('#df-991e11af-6f86-4281-aeba-e73f41cf5faa button.colab-df-convert');\n",
              "        buttonEl.style.display =\n",
              "          google.colab.kernel.accessAllowed ? 'block' : 'none';\n",
              "\n",
              "        async function convertToInteractive(key) {\n",
              "          const element = document.querySelector('#df-991e11af-6f86-4281-aeba-e73f41cf5faa');\n",
              "          const dataTable =\n",
              "            await google.colab.kernel.invokeFunction('convertToInteractive',\n",
              "                                                     [key], {});\n",
              "          if (!dataTable) return;\n",
              "\n",
              "          const docLinkHtml = 'Like what you see? Visit the ' +\n",
              "            '<a target=\"_blank\" href=https://colab.research.google.com/notebooks/data_table.ipynb>data table notebook</a>'\n",
              "            + ' to learn more about interactive tables.';\n",
              "          element.innerHTML = '';\n",
              "          dataTable['output_type'] = 'display_data';\n",
              "          await google.colab.output.renderOutput(dataTable, element);\n",
              "          const docLink = document.createElement('div');\n",
              "          docLink.innerHTML = docLinkHtml;\n",
              "          element.appendChild(docLink);\n",
              "        }\n",
              "      </script>\n",
              "    </div>\n",
              "  </div>\n",
              "  "
            ],
            "text/plain": [
              "   ID  LIMIT_BAL  SEX  EDUCATION  MARRIAGE  AGE  PAY_0  PAY_2  PAY_3  PAY_4  \\\n",
              "0   1      20000    2          2         1   24      2      2     -1     -1   \n",
              "1   2     120000    2          2         2   26     -1      2      0      0   \n",
              "2   3      90000    2          2         2   34      0      0      0      0   \n",
              "3   4      50000    2          2         1   37      0      0      0      0   \n",
              "4   5      50000    1          2         1   57     -1      0     -1      0   \n",
              "\n",
              "   ...  BILL_AMT4  BILL_AMT5  BILL_AMT6  PAY_AMT1  PAY_AMT2  PAY_AMT3  \\\n",
              "0  ...          0          0          0         0       689         0   \n",
              "1  ...       3272       3455       3261         0      1000      1000   \n",
              "2  ...      14331      14948      15549      1518      1500      1000   \n",
              "3  ...      28314      28959      29547      2000      2019      1200   \n",
              "4  ...      20940      19146      19131      2000     36681     10000   \n",
              "\n",
              "   PAY_AMT4  PAY_AMT5  PAY_AMT6  defaulted  \n",
              "0         0         0         0          1  \n",
              "1      1000         0      2000          1  \n",
              "2      1000      1000      5000          0  \n",
              "3      1100      1069      1000          0  \n",
              "4      9000       689       679          0  \n",
              "\n",
              "[5 rows x 25 columns]"
            ]
          },
          "execution_count": 2,
          "metadata": {},
          "output_type": "execute_result"
        }
      ],
      "source": [
        "# Reading the csv file and putting it into 'df' object.\n",
        "df = pd.read_csv('/content/credit-card-default.csv')\n",
        "\n",
        "# print head\n",
        "\n",
        "df.head()\n"
      ]
    },
    {
      "cell_type": "code",
      "execution_count": null,
      "metadata": {
        "colab": {
          "base_uri": "https://localhost:8080/"
        },
        "id": "FzCe3m1cHWXi",
        "outputId": "d972a82f-61d2-41fc-de23-1a3287680538"
      },
      "outputs": [
        {
          "name": "stdout",
          "output_type": "stream",
          "text": [
            "<class 'pandas.core.frame.DataFrame'>\n",
            "RangeIndex: 30000 entries, 0 to 29999\n",
            "Data columns (total 25 columns):\n",
            " #   Column     Non-Null Count  Dtype\n",
            "---  ------     --------------  -----\n",
            " 0   ID         30000 non-null  int64\n",
            " 1   LIMIT_BAL  30000 non-null  int64\n",
            " 2   SEX        30000 non-null  int64\n",
            " 3   EDUCATION  30000 non-null  int64\n",
            " 4   MARRIAGE   30000 non-null  int64\n",
            " 5   AGE        30000 non-null  int64\n",
            " 6   PAY_0      30000 non-null  int64\n",
            " 7   PAY_2      30000 non-null  int64\n",
            " 8   PAY_3      30000 non-null  int64\n",
            " 9   PAY_4      30000 non-null  int64\n",
            " 10  PAY_5      30000 non-null  int64\n",
            " 11  PAY_6      30000 non-null  int64\n",
            " 12  BILL_AMT1  30000 non-null  int64\n",
            " 13  BILL_AMT2  30000 non-null  int64\n",
            " 14  BILL_AMT3  30000 non-null  int64\n",
            " 15  BILL_AMT4  30000 non-null  int64\n",
            " 16  BILL_AMT5  30000 non-null  int64\n",
            " 17  BILL_AMT6  30000 non-null  int64\n",
            " 18  PAY_AMT1   30000 non-null  int64\n",
            " 19  PAY_AMT2   30000 non-null  int64\n",
            " 20  PAY_AMT3   30000 non-null  int64\n",
            " 21  PAY_AMT4   30000 non-null  int64\n",
            " 22  PAY_AMT5   30000 non-null  int64\n",
            " 23  PAY_AMT6   30000 non-null  int64\n",
            " 24  defaulted  30000 non-null  int64\n",
            "dtypes: int64(25)\n",
            "memory usage: 5.7 MB\n"
          ]
        }
      ],
      "source": [
        "# Let's understand the type of columns\n",
        "\n",
        "df.info()\n",
        "\n"
      ]
    },
    {
      "cell_type": "markdown",
      "metadata": {
        "id": "ZXyos7_UHWXi"
      },
      "source": [
        "In this case, we know that there are no major data quality issues, so we'll go ahead and build the model."
      ]
    },
    {
      "cell_type": "markdown",
      "metadata": {
        "id": "C-v9HZ25HWXj"
      },
      "source": [
        "### **`2. Data Preparation and Model Building`**\n",
        "\n",
        "\n",
        "<p style='text-align: right;'> 10 points</p>"
      ]
    },
    {
      "cell_type": "code",
      "execution_count": null,
      "metadata": {
        "id": "mYnCm_PDHWXj"
      },
      "outputs": [],
      "source": [
        "# Importing test_train_split from sklearn library\n",
        "from sklearn.model_selection import train_test_split\n"
      ]
    },
    {
      "cell_type": "code",
      "execution_count": null,
      "metadata": {
        "id": "Owwx9pJBHWXk"
      },
      "outputs": [],
      "source": [
        "# Putting feature variable to X\n",
        "X = df.iloc[:,:-1]\n",
        "#print(X)\n",
        "\n",
        "# Putting response variable to y\n",
        "y = df.iloc[:,-1]\n",
        "#print(y)\n",
        "\n",
        "\n",
        "# Splitting the data into train and test with test size as 30% and random state as 101\n",
        "X_train, X_test, y_train, y_test = train_test_split(X, y, test_size=0.3, random_state=101)\n",
        "\n"
      ]
    },
    {
      "cell_type": "markdown",
      "metadata": {
        "id": "lEmAQVPDHWXk"
      },
      "source": [
        "### **`3. Applying Bagging`**"
      ]
    },
    {
      "cell_type": "markdown",
      "metadata": {
        "id": "K-t1V_FqHWXk"
      },
      "source": [
        "\n",
        "##### 1. Bagging classifier: an ensemble meta-estimator\n",
        "\n",
        "<p style='text-align: right;'> 20 points</p>\n",
        "\n",
        "\n",
        "Bagging classifier can be called as an ensemble meta-estimator which is created by fitting multiple versions of base estimator, trained with modified training data set created using bagging sampling technique (data sampled using replacement) or otherwise. The nagging sampling technique can result in the training set consisting of duplicate dataset or unique data set. This sampling technique is also called as bootstrap aggregation. The final predictor (also called as bagging classifier) combines the predictions made by each estimator / classifier by voting (classification) or by averaging (regression). \n",
        "\n",
        "Bagging classifier helps in reducing the variance of individual estimators by introducing randomisation into the training stage of each of the estimators and making an ensemble out of all the estimators. \n",
        "\n",
        "Lets first check this using **simple Decision Tree** to build this model"
      ]
    },
    {
      "cell_type": "code",
      "execution_count": null,
      "metadata": {
        "id": "KOaZE6c0HWXk"
      },
      "outputs": [],
      "source": [
        "# import StandardScaler, DecisionTreeClassifier and make_pipeline\n",
        "from sklearn.preprocessing import StandardScaler\n",
        "\n",
        "from sklearn.tree import DecisionTreeClassifier\n",
        "\n",
        "from sklearn.pipeline import make_pipeline\n"
      ]
    },
    {
      "cell_type": "markdown",
      "metadata": {
        "id": "6IhZmNBYHWXl"
      },
      "source": [
        "Make a pipeline Estimator to standardize X and use DecisionTreeClassifier with random_state=1 as model. \n",
        "\n",
        "Reference video below:\n",
        "- Dataset used: https://drive.google.com/file/d/1zScKWqAnr2iilAxvm2Na2gLulbn-wsjj/view?usp=sharing"
      ]
    },
    {
      "cell_type": "markdown",
      "metadata": {
        "id": "xeMoA7-mqrkQ"
      },
      "source": [
        "## **`Watch Video 2 : Pipeline`**"
      ]
    },
    {
      "cell_type": "code",
      "execution_count": null,
      "metadata": {
        "colab": {
          "base_uri": "https://localhost:8080/"
        },
        "id": "KXczCUEpHWXl",
        "outputId": "02851c11-b679-4fb7-a8d8-4daac3304bcd"
      },
      "outputs": [
        {
          "data": {
            "text/plain": [
              "Pipeline(steps=[('standardscaler', StandardScaler()),\n",
              "                ('decisiontreeclassifier',\n",
              "                 DecisionTreeClassifier(random_state=1))])"
            ]
          },
          "execution_count": 7,
          "metadata": {},
          "output_type": "execute_result"
        }
      ],
      "source": [
        "## Pipeline Estimator with StandardScaler and DecisionTreeClassifier with random_state as 1\n",
        "pipeline = make_pipeline(\n",
        "    StandardScaler(),\n",
        "    DecisionTreeClassifier(random_state=1)\n",
        ")\n",
        "\n",
        "\n",
        "\n",
        "\n",
        "# fit model on training data\n",
        "\n",
        "pipeline.fit(X_train, y_train)\n",
        "\n",
        "\n"
      ]
    },
    {
      "cell_type": "code",
      "execution_count": null,
      "metadata": {
        "id": "55yHGkm4mg9k"
      },
      "outputs": [],
      "source": [
        "predictions = pipeline.predict(X_test)"
      ]
    },
    {
      "cell_type": "code",
      "execution_count": null,
      "metadata": {
        "colab": {
          "base_uri": "https://localhost:8080/"
        },
        "id": "HD2cW3V7HWXl",
        "outputId": "5bdf47d4-982a-42f5-923a-1a4c7d177a81"
      },
      "outputs": [
        {
          "name": "stdout",
          "output_type": "stream",
          "text": [
            "DT Training score: 1.0\n",
            "DT Testing score: 0.7275555555555555\n",
            "DT accuracy_score: 0.7275555555555555\n"
          ]
        }
      ],
      "source": [
        "# Model scores on test and training data\n",
        "from sklearn.metrics import accuracy_score\n",
        "\n",
        "print('DT Training score:',pipeline.score(X_train, y_train))\n",
        "\n",
        "print('DT Testing score:',pipeline.score(X_test, y_test))\n",
        "\n",
        "print('DT accuracy_score:', accuracy_score(y_test, predictions))"
      ]
    },
    {
      "cell_type": "markdown",
      "metadata": {
        "id": "4AVbQ16mHWXm"
      },
      "source": [
        "The model comes up with the above scores. Note that the model tends to overfit the data as the test score is 0.72 and training score is 1.00.\n",
        "\n",
        "Here naturally reducing this overfitting issue is required. Lets do this using various bagging methods\n",
        "\n",
        "#### **`1. Bagging classifier: an ensemble meta-estimator`**\n",
        "\n",
        "Reference doc link: https://scikit-learn.org/stable/modules/generated/sklearn.ensemble.BaggingClassifier.html\n",
        "\n",
        "Reference YouTube link below:\n",
        "We will fit a bagging classifier using default hyperparameters and base estimator as pipeline built using Decision Tree Classifier. Note that you can further perform a Grid Search or Randomized search to get the most appropriate estimator.\n",
        "\n",
        "## **`Watch Video 3: Scikit Learn Ensemble Learning`**\n",
        "- dataset used : https://drive.google.com/file/d/17E6_SXbcb9fUkoo_0Az_Wc1Edas3uRpl/view?usp=sharing"
      ]
    },
    {
      "cell_type": "code",
      "execution_count": null,
      "metadata": {
        "colab": {
          "base_uri": "https://localhost:8080/"
        },
        "id": "ngSAoeDZHWXm",
        "outputId": "e8868cac-6021-4764-f310-7aea40198e2c"
      },
      "outputs": [
        {
          "name": "stdout",
          "output_type": "stream",
          "text": [
            "0.9790952380952381\n",
            "0.81\n"
          ]
        }
      ],
      "source": [
        "# import BaggingClassifier\n",
        "from sklearn.ensemble import BaggingClassifier\n",
        "\n",
        "\n",
        "# Instantiate the bagging classifier with base_estimator as pipeline and random_state=1\n",
        "bgclassifier = BaggingClassifier(base_estimator=pipeline, random_state=1)\n",
        "\n",
        "\n",
        "#fitting above model on training data\n",
        "bgclassifier.fit(X_train, y_train)\n",
        "\n",
        "\n",
        "## Model scores on test and training data\n",
        "print(bgclassifier.score(X_train, y_train))\n",
        "print(bgclassifier.score(X_test, y_test))\n"
      ]
    },
    {
      "cell_type": "markdown",
      "metadata": {
        "id": "QKlqTXJXHWXm"
      },
      "source": [
        "The model comes up with the following scores. Note that the model tends to overfit the data as the test score is 0.81 and training score is 0.98. However, the model will give better generalization performance than the model fit with Descision Tree alone.\n",
        "\n",
        "Note: You can use any algorithm with bagging classifier \n",
        "\n",
        "#### **`Tuning BaggingClassifier`**\n",
        "<p style='text-align: right;'> 5 points</p>\n",
        "\n",
        "We will further perform a Grid Search or Randomized search to get the most appropriate estimator.\n",
        "\n",
        "I would like to use GridSearchCV to find the best parameters for both BaggingClassifier and DecisionTreeClassifier (e.g. max_depth from DecisionTreeClassifier and max_samples & max_features from BaggingClassifier), what is the syntax for this?\n",
        "\n",
        "\n"
      ]
    },
    {
      "cell_type": "code",
      "execution_count": null,
      "metadata": {
        "colab": {
          "base_uri": "https://localhost:8080/"
        },
        "id": "eBgBwZ3NBaFU",
        "outputId": "297395b0-862d-435b-c6df-d94f5b3fa317"
      },
      "outputs": [
        {
          "data": {
            "text/plain": [
              "dict_keys(['base_estimator__memory', 'base_estimator__steps', 'base_estimator__verbose', 'base_estimator__standardscaler', 'base_estimator__decisiontreeclassifier', 'base_estimator__standardscaler__copy', 'base_estimator__standardscaler__with_mean', 'base_estimator__standardscaler__with_std', 'base_estimator__decisiontreeclassifier__ccp_alpha', 'base_estimator__decisiontreeclassifier__class_weight', 'base_estimator__decisiontreeclassifier__criterion', 'base_estimator__decisiontreeclassifier__max_depth', 'base_estimator__decisiontreeclassifier__max_features', 'base_estimator__decisiontreeclassifier__max_leaf_nodes', 'base_estimator__decisiontreeclassifier__min_impurity_decrease', 'base_estimator__decisiontreeclassifier__min_samples_leaf', 'base_estimator__decisiontreeclassifier__min_samples_split', 'base_estimator__decisiontreeclassifier__min_weight_fraction_leaf', 'base_estimator__decisiontreeclassifier__random_state', 'base_estimator__decisiontreeclassifier__splitter', 'base_estimator', 'bootstrap', 'bootstrap_features', 'max_features', 'max_samples', 'n_estimators', 'n_jobs', 'oob_score', 'random_state', 'verbose', 'warm_start'])"
            ]
          },
          "execution_count": 11,
          "metadata": {},
          "output_type": "execute_result"
        }
      ],
      "source": [
        "bgclassifier.get_params().keys()"
      ]
    },
    {
      "cell_type": "code",
      "execution_count": null,
      "metadata": {
        "colab": {
          "base_uri": "https://localhost:8080/"
        },
        "id": "MpBhMkv1HWXm",
        "outputId": "08d5d3a2-2933-434c-e5da-0490f49cbe05"
      },
      "outputs": [
        {
          "data": {
            "text/plain": [
              "GridSearchCV(estimator=BaggingClassifier(base_estimator=DecisionTreeClassifier(),\n",
              "                                         random_state=1),\n",
              "             n_jobs=-1,\n",
              "             param_grid={'base_estimator__max_depth': range(1, 20, 5),\n",
              "                         'max_features': range(1, 20, 5),\n",
              "                         'max_samples': [0.05, 0.1, 0.2, 0.5]},\n",
              "             scoring='accuracy')"
            ]
          },
          "execution_count": 12,
          "metadata": {},
          "output_type": "execute_result"
        }
      ],
      "source": [
        "# import GridSearchCV\n",
        "from sklearn.model_selection import GridSearchCV\n",
        "\n",
        "\n",
        "\n",
        "'''A dictionary with base_estimator__max_depth from 1 to 20 with step size as 5\n",
        "A max_samples with [0.05, 0.1, 0.2, 0.5] and max_features form 1 to 20 with step size as 5'''\n",
        "\n",
        "\n",
        "param_grid = {\n",
        "    'base_estimator__max_depth' : range(1,20, 5),\n",
        "    'max_samples' : [0.05, 0.1, 0.2, 0.5],\n",
        "    'max_features' : range(1, 20, 5)\n",
        "}\n",
        "\n",
        "\n",
        "\n",
        "\n",
        "# Instantiate gridsearch with BaggingClassifier with base estimator DecisionTreeClassifier and random_state=1\n",
        "gs = GridSearchCV(BaggingClassifier(DecisionTreeClassifier(), random_state=1),\n",
        "                  param_grid=param_grid, scoring='accuracy' ,n_jobs=-1)\n",
        "\n",
        "\n",
        "\n",
        "#fit grid search on training data\n",
        "\n",
        "gs.fit(X_train, y_train)\n",
        "\n"
      ]
    },
    {
      "cell_type": "code",
      "execution_count": null,
      "metadata": {
        "colab": {
          "base_uri": "https://localhost:8080/"
        },
        "id": "HAiYzGnYHWXn",
        "outputId": "521df966-a531-4c51-a20d-2c3b070398fa"
      },
      "outputs": [
        {
          "name": "stdout",
          "output_type": "stream",
          "text": [
            "best_parameter:  {'base_estimator__max_depth': 6, 'max_features': 16, 'max_samples': 0.5}\n",
            "best_estimator:  BaggingClassifier(base_estimator=DecisionTreeClassifier(max_depth=6),\n",
            "                  max_features=16, max_samples=0.5, random_state=1)\n",
            "mean accuracy score :  0.810047619047619\n"
          ]
        }
      ],
      "source": [
        "from sklearn.metrics import accuracy_score\n",
        "# print best paramaters selected by gridsearch\n",
        "\n",
        "print('best_parameter: ', gs.best_params_)\n",
        "\n",
        "print('best_estimator: ', gs.best_estimator_)\n",
        "\n",
        "\n",
        "#print mean accuracy score on final tuned  BaggingClassifier\n",
        "\n",
        "print('mean accuracy score : ', gs.best_score_)\n"
      ]
    },
    {
      "cell_type": "markdown",
      "metadata": {
        "id": "Or5ICSirHWXn"
      },
      "source": [
        "Check our BaggingClassifier again on optimized parameters"
      ]
    },
    {
      "cell_type": "code",
      "execution_count": null,
      "metadata": {
        "colab": {
          "base_uri": "https://localhost:8080/"
        },
        "id": "8-N3zOrUHWXn",
        "outputId": "f194b44a-88bf-4f20-9770-ea5a72586d50"
      },
      "outputs": [
        {
          "name": "stdout",
          "output_type": "stream",
          "text": [
            "Train score :  0.815047619047619\n",
            "Test score : 0.8183333333333334\n"
          ]
        }
      ],
      "source": [
        "# Instantiate the bagging classifier with optimized parameter by grid search and random_state=1\n",
        "\n",
        "bgclassifier = BaggingClassifier(DecisionTreeClassifier(max_depth=5), random_state=1, max_samples=0.5,\n",
        "                                 max_features=16)\n",
        "\n",
        "\n",
        "#fitting above model on training data\n",
        "\n",
        "bgclassifier.fit(X_train, y_train)\n",
        "\n",
        "\n",
        "\n",
        "## Model scores on test and training data\n",
        "print('Train score : ',bgclassifier.score(X_train, y_train))\n",
        "\n",
        "print('Test score :' , bgclassifier.score(X_test, y_test))\n",
        "\n"
      ]
    },
    {
      "cell_type": "markdown",
      "metadata": {
        "id": "Sg3MylyNHWXn"
      },
      "source": [
        "Wohooo! did you observe that we have succesfully eliminated problem of overfitting using bagging method and hyperparameter tuning it."
      ]
    },
    {
      "cell_type": "markdown",
      "metadata": {
        "id": "RwjdabO6HWXn"
      },
      "source": [
        "\n",
        "#### **`2. RandomForest Classifier`**\n",
        "\n",
        "<p style='text-align: right;'> 20 points</p>\n",
        "\n",
        "\n",
        "Reference doc: https://scikit-learn.org/stable/modules/generated/sklearn.ensemble.RandomForestClassifier.html\n",
        "\n",
        "Now lets check RandomForest algorithm for doing bagging.\n",
        "\n",
        "\n",
        "Random forest, like its name implies, consists of a large number of individual decision trees that operate as an ensemble. Each individual tree in the random forest spits out a class prediction and the class with the most votes becomes our model’s prediction (see figure below).\n",
        "\n",
        "![image.png](attachment:image.png)\n",
        "\n",
        "\n",
        "Random forest is an extension of bagging that also randomly selects subsets of features used in each data sample.\n",
        "\n",
        "Reference video below:"
      ]
    },
    {
      "cell_type": "markdown",
      "metadata": {
        "id": "2sP5GJOwrFCG"
      },
      "source": [
        "## **`Watch Video 4 : Random Forest`**"
      ]
    },
    {
      "cell_type": "code",
      "execution_count": null,
      "metadata": {
        "colab": {
          "base_uri": "https://localhost:8080/"
        },
        "id": "vRTwwPyfHWXo",
        "outputId": "5c6cab7f-85a7-40a4-b0d0-4b74fb6d1f9a"
      },
      "outputs": [
        {
          "data": {
            "text/plain": [
              "RandomForestClassifier(random_state=1)"
            ]
          },
          "execution_count": 15,
          "metadata": {},
          "output_type": "execute_result"
        }
      ],
      "source": [
        "# Importing random forest classifier from sklearn library\n",
        "\n",
        "from sklearn.ensemble import RandomForestClassifier\n",
        "\n",
        "\n",
        "# Running the random forest with default parameters, but random_state as 1\n",
        "rfc = RandomForestClassifier(random_state=1)\n",
        "\n",
        "\n",
        "# fit model on training data\n",
        "\n",
        "rfc.fit(X_train, y_train)\n"
      ]
    },
    {
      "cell_type": "code",
      "execution_count": null,
      "metadata": {
        "id": "fVkb_K6MHWXo"
      },
      "outputs": [],
      "source": [
        "# Making predictions\n",
        "predictions = rfc.predict(X_test)\n",
        "\n",
        "\n"
      ]
    },
    {
      "cell_type": "code",
      "execution_count": null,
      "metadata": {
        "colab": {
          "base_uri": "https://localhost:8080/"
        },
        "id": "DWtFV9rfHWXo",
        "outputId": "cc7bc5bd-5e75-4ded-fcfd-f1d6198997f2"
      },
      "outputs": [
        {
          "name": "stdout",
          "output_type": "stream",
          "text": [
            "              precision    recall  f1-score   support\n",
            "\n",
            "           0       0.85      0.95      0.89      7058\n",
            "           1       0.66      0.37      0.47      1942\n",
            "\n",
            "    accuracy                           0.82      9000\n",
            "   macro avg       0.75      0.66      0.68      9000\n",
            "weighted avg       0.80      0.82      0.80      9000\n",
            "\n"
          ]
        }
      ],
      "source": [
        "# Importing classification report and confusion matrix from sklearn metrics\n",
        "from sklearn.metrics import classification_report\n",
        "\n",
        "\n",
        "\n",
        "# Let's check the report of our default model\n",
        "\n",
        "\n",
        "print(classification_report(y_test, predictions))\n",
        "\n"
      ]
    },
    {
      "cell_type": "code",
      "execution_count": null,
      "metadata": {
        "colab": {
          "base_uri": "https://localhost:8080/",
          "height": 331
        },
        "id": "BYk7Llc5HWXo",
        "outputId": "58466196-3ce4-4750-b1e4-37fc78a4df91"
      },
      "outputs": [
        {
          "name": "stdout",
          "output_type": "stream",
          "text": [
            "[[6683  375]\n",
            " [1224  718]]\n",
            "accuracy_score: 0.8223333333333334\n"
          ]
        },
        {
          "data": {
            "image/png": "[encoded data removed]",
            "text/plain": [
              "<Figure size 432x288 with 2 Axes>"
            ]
          },
          "metadata": {},
          "output_type": "display_data"
        }
      ],
      "source": [
        "# Printing confusion matrix\n",
        "from sklearn.metrics import confusion_matrix, accuracy_score, ConfusionMatrixDisplay\n",
        "c_m = confusion_matrix(y_test, predictions)\n",
        "print(c_m)\n",
        "\n",
        "a = ConfusionMatrixDisplay(c_m, display_labels=rfc.classes_)\n",
        "a.plot()\n",
        "#Printing accuracy\n",
        "print('accuracy_score:', accuracy_score(y_test, predictions))\n",
        "\n",
        "\n"
      ]
    },
    {
      "cell_type": "markdown",
      "metadata": {
        "id": "69wgNiCbHWXo"
      },
      "source": [
        "So far so good, let's now look at the list of hyperparameters which we can tune to improve model performance."
      ]
    },
    {
      "cell_type": "markdown",
      "metadata": {
        "id": "v--ALcFkHWXp"
      },
      "source": [
        "#### **`Hyperparameter Tuning RF`**\n",
        "\n",
        "<p style='text-align: right;'> 10 points</p>\n",
        "\n",
        "The following hyperparameters are present in a random forest classifier. Note that most of these hypereparameters are actually of the decision trees that are in the forest.\n",
        "\n",
        "\n",
        "- **n_estimators**: integer, optional (default=10): The number of trees in the forest.\n",
        "- **criterion**: string, optional (default=”gini”)The function to measure the quality of a split. Supported criteria are “gini” for the Gini impurity and “entropy” for the information gain. Note: this parameter is tree-specific.\n",
        "- **max_features** : int, float, string or None, optional (default=”auto”)The number of features to consider when looking for the best split:\n",
        "    - If int, then consider max_features features at each split.\n",
        "    - If float, then max_features is a percentage and int(max_features * n_features) features are considered at each split.\n",
        "    - If “auto”, then max_features=sqrt(n_features).\n",
        "    - If “sqrt”, then max_features=sqrt(n_features) (same as “auto”).\n",
        "    - If “log2”, then max_features=log2(n_features).\n",
        "    - If None, then max_features=n_features.\n",
        "    - Note: the search for a split does not stop until at least one valid partition of the node samples is found, even if it requires to effectively inspect more than max_features features.\n",
        "- **max_depth** : integer or None, optional (default=None)The maximum depth of the tree. If None, then nodes are expanded until all leaves are pure or until all leaves contain less than min_samples_split samples.\n",
        "- **min_samples_split** : int, float, optional (default=2)The minimum number of samples required to split an internal node:**\n",
        "    - **If int, then consider min_samples_split as the minimum number.\n",
        "    - **If float, then min_samples_split is a percentage and ceil(min_samples_split, n_samples) are the minimum number of samples for each split.\n",
        "- **min_samples_leaf** : int, float, optional (default=1)The minimum number of samples required to be at a leaf node:**\n",
        "    - **If int, then consider min_samples_leaf as the minimum number.**\n",
        "    - **If float, then min_samples_leaf is a percentage and ceil(min_samples_leaf * n_samples) are the minimum number of samples for each node.**\n",
        "- **min_weight_fraction_leaf** : float, optional (default=0.)The minimum weighted fraction of the sum total of weights (of all the input samples) required to be at a leaf node. Samples have equal weight when sample_weight is not provided.\n",
        "- **max_leaf_nodes** : int or None, optional (default=None)Grow trees with max_leaf_nodes in best-first fashion. Best nodes are defined as relative reduction in impurity. If None then unlimited number of leaf nodes.\n",
        "- **min_impurity_split** : float,Threshold for early stopping in tree growth. A node will split if its impurity is above the threshold, otherwise it is a leaf.\n",
        "\n",
        "\n",
        "### **`Tuning max_depth`**\n",
        "\n",
        "\n",
        "Let's try to find the optimum values for ```max_depth``` and understand how the value of max_depth impacts the overall accuracy of the ensemble.\n"
      ]
    },
    {
      "cell_type": "code",
      "execution_count": null,
      "metadata": {
        "colab": {
          "base_uri": "https://localhost:8080/"
        },
        "id": "Gpoq8xddHWXp",
        "outputId": "7586f0a9-e67d-4e4c-a451-8c4886564cdd"
      },
      "outputs": [
        {
          "data": {
            "text/plain": [
              "GridSearchCV(cv=5, estimator=RandomForestClassifier(), n_jobs=-1,\n",
              "             param_grid={'max_depth': range(2, 20, 5)}, return_train_score=True,\n",
              "             scoring='accuracy')"
            ]
          },
          "execution_count": 19,
          "metadata": {},
          "output_type": "execute_result"
        }
      ],
      "source": [
        "# import Kfold \n",
        "from sklearn.model_selection import KFold\n",
        "\n",
        "\n",
        "# specify number of folds for k-fold CV which is 5\n",
        "n_folds = 5\n",
        "\n",
        "# parameters to build the model on here max_depth with range(2, 20, 5)\n",
        "parameters = {\n",
        "    'max_depth' : range(2, 20, 5)\n",
        "}\n",
        "\n",
        "\n",
        "\n",
        "# instantiate the model Random Forest with random_state=1\n",
        "rf = RandomForestClassifier()\n",
        "\n",
        "\n",
        "\n",
        "\n",
        "# Instantiate GridSearchCVwith rf, parameter, cv and scoring as accuracy and return_train_score=True\n",
        "rf = GridSearchCV(estimator=rf, param_grid=parameters, cv=n_folds,\n",
        "                  n_jobs=-1, scoring='accuracy', return_train_score=True)\n",
        "\n",
        "\n",
        "\n",
        "# fit tree on training data\n",
        "rf.fit(X_train, y_train)\n",
        "\n"
      ]
    },
    {
      "cell_type": "code",
      "execution_count": null,
      "metadata": {
        "colab": {
          "base_uri": "https://localhost:8080/"
        },
        "id": "PBPnHWG5HWXp",
        "outputId": "97634c7e-3079-4063-83d9-8cfa02103fa1"
      },
      "outputs": [
        {
          "name": "stdout",
          "output_type": "stream",
          "text": [
            "{'mean_fit_time': array([1.3059196 , 3.80923376, 5.60573583, 7.40702252]), 'std_fit_time': array([0.0237416 , 0.6368063 , 0.75814353, 0.60028054]), 'mean_score_time': array([0.04811535, 0.07750416, 0.10008659, 0.12063475]), 'std_score_time': array([0.00090031, 0.01033458, 0.00470449, 0.00354553]), 'param_max_depth': masked_array(data=[2, 7, 12, 17],\n",
            "             mask=[False, False, False, False],\n",
            "       fill_value='?',\n",
            "            dtype=object), 'params': [{'max_depth': 2}, {'max_depth': 7}, {'max_depth': 12}, {'max_depth': 17}], 'split0_test_score': array([0.80309524, 0.81428571, 0.81809524, 0.81690476]), 'split1_test_score': array([0.80428571, 0.82047619, 0.81857143, 0.81738095]), 'split2_test_score': array([0.7997619 , 0.81595238, 0.8202381 , 0.8202381 ]), 'split3_test_score': array([0.79095238, 0.81428571, 0.81238095, 0.80928571]), 'split4_test_score': array([0.80285714, 0.8197619 , 0.81452381, 0.81547619]), 'mean_test_score': array([0.80019048, 0.81695238, 0.8167619 , 0.81585714]), 'std_test_score': array([0.00485481, 0.00266582, 0.00287534, 0.00363156]), 'rank_test_score': array([4, 1, 2, 3], dtype=int32), 'split0_train_score': array([0.80041667, 0.83190476, 0.88339286, 0.92732143]), 'split1_train_score': array([0.80160714, 0.83261905, 0.88547619, 0.93095238]), 'split2_train_score': array([0.79732143, 0.82910714, 0.88434524, 0.9297619 ]), 'split3_train_score': array([0.79952381, 0.83339286, 0.88690476, 0.93244048]), 'split4_train_score': array([0.80458333, 0.83279762, 0.88779762, 0.92952381]), 'mean_train_score': array([0.80069048, 0.83196429, 0.88558333, 0.93      ]), 'std_train_score': array([0.00239922, 0.00150538, 0.00161194, 0.0016924 ])}\n"
          ]
        }
      ],
      "source": [
        "# scores of GridSearch CV\n",
        "scores = rf.cv_results_\n",
        "print(scores)\n",
        "\n",
        "# convert scores into dataframe and print head\n",
        "df = pd.DataFrame(scores)\n",
        "\n",
        "\n"
      ]
    },
    {
      "cell_type": "code",
      "execution_count": null,
      "metadata": {
        "colab": {
          "base_uri": "https://localhost:8080/"
        },
        "id": "lUmeEOhYLBHn",
        "outputId": "eb6e8e6a-7f79-4436-a841-a1e5c8a3d1a0"
      },
      "outputs": [
        {
          "name": "stdout",
          "output_type": "stream",
          "text": [
            "<class 'pandas.core.frame.DataFrame'>\n",
            "RangeIndex: 4 entries, 0 to 3\n",
            "Data columns (total 21 columns):\n",
            " #   Column              Non-Null Count  Dtype  \n",
            "---  ------              --------------  -----  \n",
            " 0   mean_fit_time       4 non-null      float64\n",
            " 1   std_fit_time        4 non-null      float64\n",
            " 2   mean_score_time     4 non-null      float64\n",
            " 3   std_score_time      4 non-null      float64\n",
            " 4   param_max_depth     4 non-null      object \n",
            " 5   params              4 non-null      object \n",
            " 6   split0_test_score   4 non-null      float64\n",
            " 7   split1_test_score   4 non-null      float64\n",
            " 8   split2_test_score   4 non-null      float64\n",
            " 9   split3_test_score   4 non-null      float64\n",
            " 10  split4_test_score   4 non-null      float64\n",
            " 11  mean_test_score     4 non-null      float64\n",
            " 12  std_test_score      4 non-null      float64\n",
            " 13  rank_test_score     4 non-null      int32  \n",
            " 14  split0_train_score  4 non-null      float64\n",
            " 15  split1_train_score  4 non-null      float64\n",
            " 16  split2_train_score  4 non-null      float64\n",
            " 17  split3_train_score  4 non-null      float64\n",
            " 18  split4_train_score  4 non-null      float64\n",
            " 19  mean_train_score    4 non-null      float64\n",
            " 20  std_train_score     4 non-null      float64\n",
            "dtypes: float64(18), int32(1), object(2)\n",
            "memory usage: 784.0+ bytes\n"
          ]
        }
      ],
      "source": [
        "\n",
        "df.info()\n"
      ]
    },
    {
      "cell_type": "code",
      "execution_count": null,
      "metadata": {
        "id": "KNqRQjkrLO5o"
      },
      "outputs": [],
      "source": [
        "df['param_max_depth'] = df['param_max_depth'].apply(int)"
      ]
    },
    {
      "cell_type": "code",
      "execution_count": null,
      "metadata": {
        "colab": {
          "base_uri": "https://localhost:8080/",
          "height": 409
        },
        "id": "GVdN0vGxHWXp",
        "outputId": "347dbb91-af21-4c15-f58e-7b45b86a4750"
      },
      "outputs": [
        {
          "data": {
            "image/png": "[encoded data removed]",
            "text/plain": [
              "<Figure size 576x432 with 1 Axes>"
            ]
          },
          "metadata": {},
          "output_type": "display_data"
        }
      ],
      "source": [
        "# plotting accuracies with max_depth\n",
        "plt.figure(figsize=(8,6))\n",
        "\n",
        "# code below\n",
        "plt.plot(df['param_max_depth'], df['mean_train_score'], label='Train_accuracy')\n",
        "\n",
        "plt.plot(df['param_max_depth'], df['mean_test_score'], label='Test_accuracy')\n",
        "plt.xlabel('max_depth', fontsize=14)\n",
        "plt.ylabel('accuracy', fontsize=14)\n",
        "plt.title('max_depth vs accuracy', fontsize=14)\n",
        "plt.legend()\n",
        "plt.show()\n"
      ]
    },
    {
      "cell_type": "markdown",
      "metadata": {
        "id": "n9i4qcp2HWXq"
      },
      "source": [
        "You can see that as we increase the value of max_depth, both train and test scores increase till a point, but after that test score starts to decrease. The ensemble tries to overfit as we increase the max_depth.\n",
        "\n",
        "Thus, controlling the depth of the constituent trees will help reduce overfitting in the forest."
      ]
    },
    {
      "cell_type": "markdown",
      "metadata": {
        "id": "6wLF-n8xHWXq"
      },
      "source": [
        "Let's try to find the optimum values for n_estimators and understand how the value of n_estimators impacts the overall accuracy. Notice that we'll specify an appropriately low value of max_depth, so that the trees do not overfit.\n",
        "<br>\n",
        "\n",
        "### **`Tuning n_estimators`**\n",
        "Let's try to find the optimum values for n_estimators and understand how the value of n_estimators impacts the overall accuracy. Notice that we'll specify an appropriately low value of max_depth, so that the trees do not overfit.\n",
        "<br>\n"
      ]
    },
    {
      "cell_type": "code",
      "execution_count": null,
      "metadata": {
        "colab": {
          "base_uri": "https://localhost:8080/"
        },
        "id": "YHvJYyyGHWXq",
        "outputId": "5353a3e0-a94a-4f16-e3f1-e3457719250a"
      },
      "outputs": [
        {
          "data": {
            "text/plain": [
              "GridSearchCV(cv=5,\n",
              "             estimator=RandomForestClassifier(max_depth=4, random_state=1),\n",
              "             n_jobs=-1, param_grid={'n_estimators': range(100, 1500, 400)},\n",
              "             return_train_score=True, scoring='accuracy')"
            ]
          },
          "execution_count": 24,
          "metadata": {},
          "output_type": "execute_result"
        }
      ],
      "source": [
        "\n",
        "# parameters to build the model on (here n_estimators with range(100, 1500, 400))\n",
        "parameters = {\n",
        "    'n_estimators' : range(100, 1500, 400)\n",
        "}\n",
        "\n",
        "\n",
        "\n",
        "# instantiate the model (note we are specifying a max_depth as 4) and random_state as 1\n",
        "rf = RandomForestClassifier(max_depth=4, random_state=1)\n",
        "\n",
        "n_folds = 5\n",
        "\n",
        "\n",
        "\n",
        "# Instantiate GridSearchCVwith rf, parameter, cv and scoring as accuracy and return_train_score as True\n",
        "rf = GridSearchCV(rf, param_grid=parameters, cv= n_folds,\n",
        "                  scoring='accuracy', return_train_score=True, n_jobs=-1)\n",
        "\n",
        "\n",
        "\n",
        "\n",
        "# fit tree on training data\n",
        "\n",
        "rf.fit(X_train, y_train)\n",
        "\n",
        "\n"
      ]
    },
    {
      "cell_type": "code",
      "execution_count": null,
      "metadata": {
        "colab": {
          "base_uri": "https://localhost:8080/",
          "height": 337
        },
        "id": "gtesgmV6HWXq",
        "outputId": "ec2c6590-c4ea-4778-f3ec-5e284aaa6773"
      },
      "outputs": [
        {
          "data": {
            "text/html": [
              "\n",
              "  <div id=\"df-c5f19dc6-c35c-4568-bc34-8ab3a8785c32\">\n",
              "    <div class=\"colab-df-container\">\n",
              "      <div>\n",
              "<style scoped>\n",
              "    .dataframe tbody tr th:only-of-type {\n",
              "        vertical-align: middle;\n",
              "    }\n",
              "\n",
              "    .dataframe tbody tr th {\n",
              "        vertical-align: top;\n",
              "    }\n",
              "\n",
              "    .dataframe thead th {\n",
              "        text-align: right;\n",
              "    }\n",
              "</style>\n",
              "<table border=\"1\" class=\"dataframe\">\n",
              "  <thead>\n",
              "    <tr style=\"text-align: right;\">\n",
              "      <th></th>\n",
              "      <th>mean_fit_time</th>\n",
              "      <th>std_fit_time</th>\n",
              "      <th>mean_score_time</th>\n",
              "      <th>std_score_time</th>\n",
              "      <th>param_n_estimators</th>\n",
              "      <th>params</th>\n",
              "      <th>split0_test_score</th>\n",
              "      <th>split1_test_score</th>\n",
              "      <th>split2_test_score</th>\n",
              "      <th>split3_test_score</th>\n",
              "      <th>...</th>\n",
              "      <th>mean_test_score</th>\n",
              "      <th>std_test_score</th>\n",
              "      <th>rank_test_score</th>\n",
              "      <th>split0_train_score</th>\n",
              "      <th>split1_train_score</th>\n",
              "      <th>split2_train_score</th>\n",
              "      <th>split3_train_score</th>\n",
              "      <th>split4_train_score</th>\n",
              "      <th>mean_train_score</th>\n",
              "      <th>std_train_score</th>\n",
              "    </tr>\n",
              "  </thead>\n",
              "  <tbody>\n",
              "    <tr>\n",
              "      <th>0</th>\n",
              "      <td>2.544240</td>\n",
              "      <td>0.345786</td>\n",
              "      <td>0.075962</td>\n",
              "      <td>0.025065</td>\n",
              "      <td>100</td>\n",
              "      <td>{'n_estimators': 100}</td>\n",
              "      <td>0.812143</td>\n",
              "      <td>0.813333</td>\n",
              "      <td>0.812619</td>\n",
              "      <td>0.805000</td>\n",
              "      <td>...</td>\n",
              "      <td>0.810619</td>\n",
              "      <td>0.003021</td>\n",
              "      <td>1</td>\n",
              "      <td>0.811131</td>\n",
              "      <td>0.809643</td>\n",
              "      <td>0.812976</td>\n",
              "      <td>0.813214</td>\n",
              "      <td>0.813631</td>\n",
              "      <td>0.812119</td>\n",
              "      <td>0.001505</td>\n",
              "    </tr>\n",
              "    <tr>\n",
              "      <th>1</th>\n",
              "      <td>11.549485</td>\n",
              "      <td>0.414577</td>\n",
              "      <td>0.313993</td>\n",
              "      <td>0.086835</td>\n",
              "      <td>500</td>\n",
              "      <td>{'n_estimators': 500}</td>\n",
              "      <td>0.812619</td>\n",
              "      <td>0.813571</td>\n",
              "      <td>0.810952</td>\n",
              "      <td>0.805476</td>\n",
              "      <td>...</td>\n",
              "      <td>0.810190</td>\n",
              "      <td>0.002952</td>\n",
              "      <td>2</td>\n",
              "      <td>0.811488</td>\n",
              "      <td>0.810417</td>\n",
              "      <td>0.812024</td>\n",
              "      <td>0.812560</td>\n",
              "      <td>0.812857</td>\n",
              "      <td>0.811869</td>\n",
              "      <td>0.000864</td>\n",
              "    </tr>\n",
              "    <tr>\n",
              "      <th>2</th>\n",
              "      <td>21.484136</td>\n",
              "      <td>0.600294</td>\n",
              "      <td>0.469744</td>\n",
              "      <td>0.010404</td>\n",
              "      <td>900</td>\n",
              "      <td>{'n_estimators': 900}</td>\n",
              "      <td>0.811667</td>\n",
              "      <td>0.813810</td>\n",
              "      <td>0.811429</td>\n",
              "      <td>0.805238</td>\n",
              "      <td>...</td>\n",
              "      <td>0.810048</td>\n",
              "      <td>0.003021</td>\n",
              "      <td>3</td>\n",
              "      <td>0.811190</td>\n",
              "      <td>0.810536</td>\n",
              "      <td>0.811845</td>\n",
              "      <td>0.812798</td>\n",
              "      <td>0.812679</td>\n",
              "      <td>0.811810</td>\n",
              "      <td>0.000865</td>\n",
              "    </tr>\n",
              "    <tr>\n",
              "      <th>3</th>\n",
              "      <td>29.989727</td>\n",
              "      <td>2.998653</td>\n",
              "      <td>0.637858</td>\n",
              "      <td>0.088580</td>\n",
              "      <td>1300</td>\n",
              "      <td>{'n_estimators': 1300}</td>\n",
              "      <td>0.811667</td>\n",
              "      <td>0.813571</td>\n",
              "      <td>0.811429</td>\n",
              "      <td>0.805000</td>\n",
              "      <td>...</td>\n",
              "      <td>0.809857</td>\n",
              "      <td>0.003103</td>\n",
              "      <td>4</td>\n",
              "      <td>0.811190</td>\n",
              "      <td>0.810238</td>\n",
              "      <td>0.811905</td>\n",
              "      <td>0.812798</td>\n",
              "      <td>0.812738</td>\n",
              "      <td>0.811774</td>\n",
              "      <td>0.000969</td>\n",
              "    </tr>\n",
              "  </tbody>\n",
              "</table>\n",
              "<p>4 rows × 21 columns</p>\n",
              "</div>\n",
              "      <button class=\"colab-df-convert\" onclick=\"convertToInteractive('df-c5f19dc6-c35c-4568-bc34-8ab3a8785c32')\"\n",
              "              title=\"Convert this dataframe to an interactive table.\"\n",
              "              style=\"display:none;\">\n",
              "        \n",
              "  <svg xmlns=\"http://www.w3.org/2000/svg\" height=\"24px\"viewBox=\"0 0 24 24\"\n",
              "       width=\"24px\">\n",
              "    <path d=\"M0 0h24v24H0V0z\" fill=\"none\"/>\n",
              "    <path d=\"M18.56 5.44l.94 2.06.94-2.06 2.06-.94-2.06-.94-.94-2.06-.94 2.06-2.06.94zm-11 1L8.5 8.5l.94-2.06 2.06-.94-2.06-.94L8.5 2.5l-.94 2.06-2.06.94zm10 10l.94 2.06.94-2.06 2.06-.94-2.06-.94-.94-2.06-.94 2.06-2.06.94z\"/><path d=\"M17.41 7.96l-1.37-1.37c-.4-.4-.92-.59-1.43-.59-.52 0-1.04.2-1.43.59L10.3 9.45l-7.72 7.72c-.78.78-.78 2.05 0 2.83L4 21.41c.39.39.9.59 1.41.59.51 0 1.02-.2 1.41-.59l7.78-7.78 2.81-2.81c.8-.78.8-2.07 0-2.86zM5.41 20L4 18.59l7.72-7.72 1.47 1.35L5.41 20z\"/>\n",
              "  </svg>\n",
              "      </button>\n",
              "      \n",
              "  <style>\n",
              "    .colab-df-container {\n",
              "      display:flex;\n",
              "      flex-wrap:wrap;\n",
              "      gap: 12px;\n",
              "    }\n",
              "\n",
              "    .colab-df-convert {\n",
              "      background-color: #E8F0FE;\n",
              "      border: none;\n",
              "      border-radius: 50%;\n",
              "      cursor: pointer;\n",
              "      display: none;\n",
              "      fill: #1967D2;\n",
              "      height: 32px;\n",
              "      padding: 0 0 0 0;\n",
              "      width: 32px;\n",
              "    }\n",
              "\n",
              "    .colab-df-convert:hover {\n",
              "      background-color: #E2EBFA;\n",
              "      box-shadow: 0px 1px 2px rgba(60, 64, 67, 0.3), 0px 1px 3px 1px rgba(60, 64, 67, 0.15);\n",
              "      fill: #174EA6;\n",
              "    }\n",
              "\n",
              "    [theme=dark] .colab-df-convert {\n",
              "      background-color: #3B4455;\n",
              "      fill: #D2E3FC;\n",
              "    }\n",
              "\n",
              "    [theme=dark] .colab-df-convert:hover {\n",
              "      background-color: #434B5C;\n",
              "      box-shadow: 0px 1px 3px 1px rgba(0, 0, 0, 0.15);\n",
              "      filter: drop-shadow(0px 1px 2px rgba(0, 0, 0, 0.3));\n",
              "      fill: #FFFFFF;\n",
              "    }\n",
              "  </style>\n",
              "\n",
              "      <script>\n",
              "        const buttonEl =\n",
              "          document.querySelector('#df-c5f19dc6-c35c-4568-bc34-8ab3a8785c32 button.colab-df-convert');\n",
              "        buttonEl.style.display =\n",
              "          google.colab.kernel.accessAllowed ? 'block' : 'none';\n",
              "\n",
              "        async function convertToInteractive(key) {\n",
              "          const element = document.querySelector('#df-c5f19dc6-c35c-4568-bc34-8ab3a8785c32');\n",
              "          const dataTable =\n",
              "            await google.colab.kernel.invokeFunction('convertToInteractive',\n",
              "                                                     [key], {});\n",
              "          if (!dataTable) return;\n",
              "\n",
              "          const docLinkHtml = 'Like what you see? Visit the ' +\n",
              "            '<a target=\"_blank\" href=https://colab.research.google.com/notebooks/data_table.ipynb>data table notebook</a>'\n",
              "            + ' to learn more about interactive tables.';\n",
              "          element.innerHTML = '';\n",
              "          dataTable['output_type'] = 'display_data';\n",
              "          await google.colab.output.renderOutput(dataTable, element);\n",
              "          const docLink = document.createElement('div');\n",
              "          docLink.innerHTML = docLinkHtml;\n",
              "          element.appendChild(docLink);\n",
              "        }\n",
              "      </script>\n",
              "    </div>\n",
              "  </div>\n",
              "  "
            ],
            "text/plain": [
              "   mean_fit_time  std_fit_time  mean_score_time  std_score_time  \\\n",
              "0       2.544240      0.345786         0.075962        0.025065   \n",
              "1      11.549485      0.414577         0.313993        0.086835   \n",
              "2      21.484136      0.600294         0.469744        0.010404   \n",
              "3      29.989727      2.998653         0.637858        0.088580   \n",
              "\n",
              "  param_n_estimators                  params  split0_test_score  \\\n",
              "0                100   {'n_estimators': 100}           0.812143   \n",
              "1                500   {'n_estimators': 500}           0.812619   \n",
              "2                900   {'n_estimators': 900}           0.811667   \n",
              "3               1300  {'n_estimators': 1300}           0.811667   \n",
              "\n",
              "   split1_test_score  split2_test_score  split3_test_score  ...  \\\n",
              "0           0.813333           0.812619           0.805000  ...   \n",
              "1           0.813571           0.810952           0.805476  ...   \n",
              "2           0.813810           0.811429           0.805238  ...   \n",
              "3           0.813571           0.811429           0.805000  ...   \n",
              "\n",
              "   mean_test_score  std_test_score  rank_test_score  split0_train_score  \\\n",
              "0         0.810619        0.003021                1            0.811131   \n",
              "1         0.810190        0.002952                2            0.811488   \n",
              "2         0.810048        0.003021                3            0.811190   \n",
              "3         0.809857        0.003103                4            0.811190   \n",
              "\n",
              "   split1_train_score  split2_train_score  split3_train_score  \\\n",
              "0            0.809643            0.812976            0.813214   \n",
              "1            0.810417            0.812024            0.812560   \n",
              "2            0.810536            0.811845            0.812798   \n",
              "3            0.810238            0.811905            0.812798   \n",
              "\n",
              "   split4_train_score  mean_train_score  std_train_score  \n",
              "0            0.813631          0.812119         0.001505  \n",
              "1            0.812857          0.811869         0.000864  \n",
              "2            0.812679          0.811810         0.000865  \n",
              "3            0.812738          0.811774         0.000969  \n",
              "\n",
              "[4 rows x 21 columns]"
            ]
          },
          "execution_count": 25,
          "metadata": {},
          "output_type": "execute_result"
        }
      ],
      "source": [
        "# scores of GridSearch CV\n",
        "scores = rf.cv_results_\n",
        "\n",
        "\n",
        "# convert scores into dataframe and print head\n",
        "\n",
        "pd.DataFrame(scores).head()\n"
      ]
    },
    {
      "cell_type": "code",
      "execution_count": null,
      "metadata": {
        "colab": {
          "base_uri": "https://localhost:8080/",
          "height": 406
        },
        "id": "4N9dazIcHWXq",
        "outputId": "7bbbfdc9-4add-4a74-cded-64109fbeb238"
      },
      "outputs": [
        {
          "data": {
            "image/png": "[encoded data removed]",
            "text/plain": [
              "<Figure size 576x432 with 1 Axes>"
            ]
          },
          "metadata": {},
          "output_type": "display_data"
        }
      ],
      "source": [
        "# plotting accuracies with n_estimators\n",
        "plt.figure(figsize=(8,6))\n",
        "\n",
        "# code below\n",
        "plt.plot(scores['param_n_estimators'], scores['mean_train_score'], label='Training accuracy')\n",
        "plt.plot(scores['param_n_estimators'], scores['mean_test_score'], label='Testing accuracy')\n",
        "\n",
        "plt.xlabel('param_n_estimators')\n",
        "plt.ylabel('accuracy')\n",
        "plt.title('param_n_estimators vs accuracy', fontsize=14)\n",
        "plt.legend()\n",
        "plt.show()\n"
      ]
    },
    {
      "cell_type": "markdown",
      "metadata": {
        "id": "f9QJtqBzHWXq"
      },
      "source": [
        "### **`Tuning max_features`**\n",
        "\n",
        "Let's see how the model performance varies with ```max_features```, which is the maximum numbre of features considered for splitting at a node."
      ]
    },
    {
      "cell_type": "code",
      "execution_count": null,
      "metadata": {
        "colab": {
          "base_uri": "https://localhost:8080/"
        },
        "id": "YBobEH4CHWXq",
        "outputId": "fb8ab4fb-0c60-418c-da04-340b7f4e44e7"
      },
      "outputs": [
        {
          "data": {
            "text/plain": [
              "GridSearchCV(cv=5,\n",
              "             estimator=RandomForestClassifier(max_depth=4, random_state=1),\n",
              "             param_grid={'max_features': [4, 8, 14, 20, 24]},\n",
              "             return_train_score=True, scoring='accuracy')"
            ]
          },
          "execution_count": 27,
          "metadata": {},
          "output_type": "execute_result"
        }
      ],
      "source": [
        "\n",
        "# parameters to build the model on max_features with [4, 8, 14, 20, 24]\n",
        "parameters = {\n",
        "    'max_features' : [4, 8, 14, 20, 24]\n",
        "}\n",
        "\n",
        "\n",
        "# instantiate the model (note we are specifying a max_depth as 4) and random_state as 1\n",
        "rf = RandomForestClassifier(max_depth=4, random_state=1)\n",
        "\n",
        "\n",
        "# Instantiate GridSearchCVwith rf, parameter, cv and scoring as accuracy and return_train_score as True\n",
        "rf = GridSearchCV(rf, param_grid=parameters, cv=5, scoring='accuracy', return_train_score=True)\n",
        "\n",
        "\n",
        "# fit tree on training data\n",
        "\n",
        "rf.fit(X_train, y_train)\n",
        "\n"
      ]
    },
    {
      "cell_type": "code",
      "execution_count": null,
      "metadata": {
        "colab": {
          "base_uri": "https://localhost:8080/",
          "height": 386
        },
        "id": "PRzyr5xdHWXr",
        "outputId": "ae0b4f0d-80d3-4951-cbde-bd602cc0a402"
      },
      "outputs": [
        {
          "data": {
            "text/html": [
              "\n",
              "  <div id=\"df-f2cf3e73-e5ac-4762-953c-02faac476b18\">\n",
              "    <div class=\"colab-df-container\">\n",
              "      <div>\n",
              "<style scoped>\n",
              "    .dataframe tbody tr th:only-of-type {\n",
              "        vertical-align: middle;\n",
              "    }\n",
              "\n",
              "    .dataframe tbody tr th {\n",
              "        vertical-align: top;\n",
              "    }\n",
              "\n",
              "    .dataframe thead th {\n",
              "        text-align: right;\n",
              "    }\n",
              "</style>\n",
              "<table border=\"1\" class=\"dataframe\">\n",
              "  <thead>\n",
              "    <tr style=\"text-align: right;\">\n",
              "      <th></th>\n",
              "      <th>mean_fit_time</th>\n",
              "      <th>std_fit_time</th>\n",
              "      <th>mean_score_time</th>\n",
              "      <th>std_score_time</th>\n",
              "      <th>param_max_features</th>\n",
              "      <th>params</th>\n",
              "      <th>split0_test_score</th>\n",
              "      <th>split1_test_score</th>\n",
              "      <th>split2_test_score</th>\n",
              "      <th>split3_test_score</th>\n",
              "      <th>...</th>\n",
              "      <th>mean_test_score</th>\n",
              "      <th>std_test_score</th>\n",
              "      <th>rank_test_score</th>\n",
              "      <th>split0_train_score</th>\n",
              "      <th>split1_train_score</th>\n",
              "      <th>split2_train_score</th>\n",
              "      <th>split3_train_score</th>\n",
              "      <th>split4_train_score</th>\n",
              "      <th>mean_train_score</th>\n",
              "      <th>std_train_score</th>\n",
              "    </tr>\n",
              "  </thead>\n",
              "  <tbody>\n",
              "    <tr>\n",
              "      <th>0</th>\n",
              "      <td>1.622540</td>\n",
              "      <td>0.222213</td>\n",
              "      <td>0.044045</td>\n",
              "      <td>0.005427</td>\n",
              "      <td>4</td>\n",
              "      <td>{'max_features': 4}</td>\n",
              "      <td>0.812143</td>\n",
              "      <td>0.813333</td>\n",
              "      <td>0.812619</td>\n",
              "      <td>0.805000</td>\n",
              "      <td>...</td>\n",
              "      <td>0.810619</td>\n",
              "      <td>0.003021</td>\n",
              "      <td>5</td>\n",
              "      <td>0.811131</td>\n",
              "      <td>0.809643</td>\n",
              "      <td>0.812976</td>\n",
              "      <td>0.813214</td>\n",
              "      <td>0.813631</td>\n",
              "      <td>0.812119</td>\n",
              "      <td>0.001505</td>\n",
              "    </tr>\n",
              "    <tr>\n",
              "      <th>1</th>\n",
              "      <td>2.674626</td>\n",
              "      <td>0.233996</td>\n",
              "      <td>0.041083</td>\n",
              "      <td>0.006269</td>\n",
              "      <td>8</td>\n",
              "      <td>{'max_features': 8}</td>\n",
              "      <td>0.817619</td>\n",
              "      <td>0.820952</td>\n",
              "      <td>0.820000</td>\n",
              "      <td>0.817381</td>\n",
              "      <td>...</td>\n",
              "      <td>0.818905</td>\n",
              "      <td>0.001377</td>\n",
              "      <td>1</td>\n",
              "      <td>0.821369</td>\n",
              "      <td>0.820179</td>\n",
              "      <td>0.821726</td>\n",
              "      <td>0.821369</td>\n",
              "      <td>0.821131</td>\n",
              "      <td>0.821155</td>\n",
              "      <td>0.000524</td>\n",
              "    </tr>\n",
              "    <tr>\n",
              "      <th>2</th>\n",
              "      <td>4.458405</td>\n",
              "      <td>0.274535</td>\n",
              "      <td>0.043708</td>\n",
              "      <td>0.007703</td>\n",
              "      <td>14</td>\n",
              "      <td>{'max_features': 14}</td>\n",
              "      <td>0.817619</td>\n",
              "      <td>0.821429</td>\n",
              "      <td>0.817857</td>\n",
              "      <td>0.816429</td>\n",
              "      <td>...</td>\n",
              "      <td>0.818571</td>\n",
              "      <td>0.001737</td>\n",
              "      <td>4</td>\n",
              "      <td>0.822321</td>\n",
              "      <td>0.820952</td>\n",
              "      <td>0.821726</td>\n",
              "      <td>0.822321</td>\n",
              "      <td>0.821310</td>\n",
              "      <td>0.821726</td>\n",
              "      <td>0.000544</td>\n",
              "    </tr>\n",
              "    <tr>\n",
              "      <th>3</th>\n",
              "      <td>6.225562</td>\n",
              "      <td>0.112972</td>\n",
              "      <td>0.043694</td>\n",
              "      <td>0.007833</td>\n",
              "      <td>20</td>\n",
              "      <td>{'max_features': 20}</td>\n",
              "      <td>0.817619</td>\n",
              "      <td>0.821905</td>\n",
              "      <td>0.819762</td>\n",
              "      <td>0.815476</td>\n",
              "      <td>...</td>\n",
              "      <td>0.818619</td>\n",
              "      <td>0.002148</td>\n",
              "      <td>3</td>\n",
              "      <td>0.822262</td>\n",
              "      <td>0.820774</td>\n",
              "      <td>0.821369</td>\n",
              "      <td>0.822798</td>\n",
              "      <td>0.821964</td>\n",
              "      <td>0.821833</td>\n",
              "      <td>0.000703</td>\n",
              "    </tr>\n",
              "    <tr>\n",
              "      <th>4</th>\n",
              "      <td>7.635249</td>\n",
              "      <td>0.676320</td>\n",
              "      <td>0.038481</td>\n",
              "      <td>0.001399</td>\n",
              "      <td>24</td>\n",
              "      <td>{'max_features': 24}</td>\n",
              "      <td>0.818095</td>\n",
              "      <td>0.821667</td>\n",
              "      <td>0.819762</td>\n",
              "      <td>0.815000</td>\n",
              "      <td>...</td>\n",
              "      <td>0.818667</td>\n",
              "      <td>0.002190</td>\n",
              "      <td>2</td>\n",
              "      <td>0.822976</td>\n",
              "      <td>0.821250</td>\n",
              "      <td>0.821726</td>\n",
              "      <td>0.823214</td>\n",
              "      <td>0.822976</td>\n",
              "      <td>0.822429</td>\n",
              "      <td>0.000787</td>\n",
              "    </tr>\n",
              "  </tbody>\n",
              "</table>\n",
              "<p>5 rows × 21 columns</p>\n",
              "</div>\n",
              "      <button class=\"colab-df-convert\" onclick=\"convertToInteractive('df-f2cf3e73-e5ac-4762-953c-02faac476b18')\"\n",
              "              title=\"Convert this dataframe to an interactive table.\"\n",
              "              style=\"display:none;\">\n",
              "        \n",
              "  <svg xmlns=\"http://www.w3.org/2000/svg\" height=\"24px\"viewBox=\"0 0 24 24\"\n",
              "       width=\"24px\">\n",
              "    <path d=\"M0 0h24v24H0V0z\" fill=\"none\"/>\n",
              "    <path d=\"M18.56 5.44l.94 2.06.94-2.06 2.06-.94-2.06-.94-.94-2.06-.94 2.06-2.06.94zm-11 1L8.5 8.5l.94-2.06 2.06-.94-2.06-.94L8.5 2.5l-.94 2.06-2.06.94zm10 10l.94 2.06.94-2.06 2.06-.94-2.06-.94-.94-2.06-.94 2.06-2.06.94z\"/><path d=\"M17.41 7.96l-1.37-1.37c-.4-.4-.92-.59-1.43-.59-.52 0-1.04.2-1.43.59L10.3 9.45l-7.72 7.72c-.78.78-.78 2.05 0 2.83L4 21.41c.39.39.9.59 1.41.59.51 0 1.02-.2 1.41-.59l7.78-7.78 2.81-2.81c.8-.78.8-2.07 0-2.86zM5.41 20L4 18.59l7.72-7.72 1.47 1.35L5.41 20z\"/>\n",
              "  </svg>\n",
              "      </button>\n",
              "      \n",
              "  <style>\n",
              "    .colab-df-container {\n",
              "      display:flex;\n",
              "      flex-wrap:wrap;\n",
              "      gap: 12px;\n",
              "    }\n",
              "\n",
              "    .colab-df-convert {\n",
              "      background-color: #E8F0FE;\n",
              "      border: none;\n",
              "      border-radius: 50%;\n",
              "      cursor: pointer;\n",
              "      display: none;\n",
              "      fill: #1967D2;\n",
              "      height: 32px;\n",
              "      padding: 0 0 0 0;\n",
              "      width: 32px;\n",
              "    }\n",
              "\n",
              "    .colab-df-convert:hover {\n",
              "      background-color: #E2EBFA;\n",
              "      box-shadow: 0px 1px 2px rgba(60, 64, 67, 0.3), 0px 1px 3px 1px rgba(60, 64, 67, 0.15);\n",
              "      fill: #174EA6;\n",
              "    }\n",
              "\n",
              "    [theme=dark] .colab-df-convert {\n",
              "      background-color: #3B4455;\n",
              "      fill: #D2E3FC;\n",
              "    }\n",
              "\n",
              "    [theme=dark] .colab-df-convert:hover {\n",
              "      background-color: #434B5C;\n",
              "      box-shadow: 0px 1px 3px 1px rgba(0, 0, 0, 0.15);\n",
              "      filter: drop-shadow(0px 1px 2px rgba(0, 0, 0, 0.3));\n",
              "      fill: #FFFFFF;\n",
              "    }\n",
              "  </style>\n",
              "\n",
              "      <script>\n",
              "        const buttonEl =\n",
              "          document.querySelector('#df-f2cf3e73-e5ac-4762-953c-02faac476b18 button.colab-df-convert');\n",
              "        buttonEl.style.display =\n",
              "          google.colab.kernel.accessAllowed ? 'block' : 'none';\n",
              "\n",
              "        async function convertToInteractive(key) {\n",
              "          const element = document.querySelector('#df-f2cf3e73-e5ac-4762-953c-02faac476b18');\n",
              "          const dataTable =\n",
              "            await google.colab.kernel.invokeFunction('convertToInteractive',\n",
              "                                                     [key], {});\n",
              "          if (!dataTable) return;\n",
              "\n",
              "          const docLinkHtml = 'Like what you see? Visit the ' +\n",
              "            '<a target=\"_blank\" href=https://colab.research.google.com/notebooks/data_table.ipynb>data table notebook</a>'\n",
              "            + ' to learn more about interactive tables.';\n",
              "          element.innerHTML = '';\n",
              "          dataTable['output_type'] = 'display_data';\n",
              "          await google.colab.output.renderOutput(dataTable, element);\n",
              "          const docLink = document.createElement('div');\n",
              "          docLink.innerHTML = docLinkHtml;\n",
              "          element.appendChild(docLink);\n",
              "        }\n",
              "      </script>\n",
              "    </div>\n",
              "  </div>\n",
              "  "
            ],
            "text/plain": [
              "   mean_fit_time  std_fit_time  mean_score_time  std_score_time  \\\n",
              "0       1.622540      0.222213         0.044045        0.005427   \n",
              "1       2.674626      0.233996         0.041083        0.006269   \n",
              "2       4.458405      0.274535         0.043708        0.007703   \n",
              "3       6.225562      0.112972         0.043694        0.007833   \n",
              "4       7.635249      0.676320         0.038481        0.001399   \n",
              "\n",
              "  param_max_features                params  split0_test_score  \\\n",
              "0                  4   {'max_features': 4}           0.812143   \n",
              "1                  8   {'max_features': 8}           0.817619   \n",
              "2                 14  {'max_features': 14}           0.817619   \n",
              "3                 20  {'max_features': 20}           0.817619   \n",
              "4                 24  {'max_features': 24}           0.818095   \n",
              "\n",
              "   split1_test_score  split2_test_score  split3_test_score  ...  \\\n",
              "0           0.813333           0.812619           0.805000  ...   \n",
              "1           0.820952           0.820000           0.817381  ...   \n",
              "2           0.821429           0.817857           0.816429  ...   \n",
              "3           0.821905           0.819762           0.815476  ...   \n",
              "4           0.821667           0.819762           0.815000  ...   \n",
              "\n",
              "   mean_test_score  std_test_score  rank_test_score  split0_train_score  \\\n",
              "0         0.810619        0.003021                5            0.811131   \n",
              "1         0.818905        0.001377                1            0.821369   \n",
              "2         0.818571        0.001737                4            0.822321   \n",
              "3         0.818619        0.002148                3            0.822262   \n",
              "4         0.818667        0.002190                2            0.822976   \n",
              "\n",
              "   split1_train_score  split2_train_score  split3_train_score  \\\n",
              "0            0.809643            0.812976            0.813214   \n",
              "1            0.820179            0.821726            0.821369   \n",
              "2            0.820952            0.821726            0.822321   \n",
              "3            0.820774            0.821369            0.822798   \n",
              "4            0.821250            0.821726            0.823214   \n",
              "\n",
              "   split4_train_score  mean_train_score  std_train_score  \n",
              "0            0.813631          0.812119         0.001505  \n",
              "1            0.821131          0.821155         0.000524  \n",
              "2            0.821310          0.821726         0.000544  \n",
              "3            0.821964          0.821833         0.000703  \n",
              "4            0.822976          0.822429         0.000787  \n",
              "\n",
              "[5 rows x 21 columns]"
            ]
          },
          "execution_count": 28,
          "metadata": {},
          "output_type": "execute_result"
        }
      ],
      "source": [
        "# scores of GridSearch CV\n",
        "scores = rf.cv_results_\n",
        "\n",
        "\n",
        "# convert scores into dataframe and print head\n",
        "scores = pd.DataFrame(scores)\n",
        "\n",
        "scores.head()\n"
      ]
    },
    {
      "cell_type": "code",
      "execution_count": null,
      "metadata": {
        "colab": {
          "base_uri": "https://localhost:8080/"
        },
        "id": "qD_A_fdiSov7",
        "outputId": "7a1a38a3-55ba-405b-e756-2315f5647500"
      },
      "outputs": [
        {
          "name": "stdout",
          "output_type": "stream",
          "text": [
            "<class 'pandas.core.frame.DataFrame'>\n",
            "RangeIndex: 5 entries, 0 to 4\n",
            "Data columns (total 21 columns):\n",
            " #   Column              Non-Null Count  Dtype  \n",
            "---  ------              --------------  -----  \n",
            " 0   mean_fit_time       5 non-null      float64\n",
            " 1   std_fit_time        5 non-null      float64\n",
            " 2   mean_score_time     5 non-null      float64\n",
            " 3   std_score_time      5 non-null      float64\n",
            " 4   param_max_features  5 non-null      object \n",
            " 5   params              5 non-null      object \n",
            " 6   split0_test_score   5 non-null      float64\n",
            " 7   split1_test_score   5 non-null      float64\n",
            " 8   split2_test_score   5 non-null      float64\n",
            " 9   split3_test_score   5 non-null      float64\n",
            " 10  split4_test_score   5 non-null      float64\n",
            " 11  mean_test_score     5 non-null      float64\n",
            " 12  std_test_score      5 non-null      float64\n",
            " 13  rank_test_score     5 non-null      int32  \n",
            " 14  split0_train_score  5 non-null      float64\n",
            " 15  split1_train_score  5 non-null      float64\n",
            " 16  split2_train_score  5 non-null      float64\n",
            " 17  split3_train_score  5 non-null      float64\n",
            " 18  split4_train_score  5 non-null      float64\n",
            " 19  mean_train_score    5 non-null      float64\n",
            " 20  std_train_score     5 non-null      float64\n",
            "dtypes: float64(18), int32(1), object(2)\n",
            "memory usage: 948.0+ bytes\n"
          ]
        }
      ],
      "source": [
        "scores.info()"
      ]
    },
    {
      "cell_type": "code",
      "execution_count": null,
      "metadata": {
        "id": "HzFOm3eBTA36"
      },
      "outputs": [],
      "source": [
        "scores['param_max_features'] = scores['param_max_features'].astype(float)"
      ]
    },
    {
      "cell_type": "code",
      "execution_count": null,
      "metadata": {
        "colab": {
          "base_uri": "https://localhost:8080/",
          "height": 406
        },
        "id": "TUdLl9fhHWXr",
        "outputId": "78723e86-f2f4-4751-9f5c-797e0626ea6a"
      },
      "outputs": [
        {
          "data": {
            "image/png": "[encoded data removed]",
            "text/plain": [
              "<Figure size 576x432 with 1 Axes>"
            ]
          },
          "metadata": {},
          "output_type": "display_data"
        }
      ],
      "source": [
        "# plotting accuracies with max_features\n",
        "plt.figure(figsize=(8, 6))\n",
        "#code below\n",
        "plt.plot(scores['param_max_features'], scores['mean_train_score'], label='Training accuracy')\n",
        "plt.plot(scores['param_max_features'], scores['mean_test_score'], label='Testing accuracy')\n",
        "\n",
        "plt.xlabel('param_max_features')\n",
        "plt.ylabel('accuracy')\n",
        "plt.title('param_max_features vs accuracy', fontsize=14)\n",
        "plt.legend()\n",
        "plt.show()\n"
      ]
    },
    {
      "cell_type": "markdown",
      "metadata": {
        "id": "0WBec3DtHWXr"
      },
      "source": [
        "Apparently, the training and test scores *both* seem to increase as we increase max_features, and the model doesn't seem to overfit more with increasing max_features. Think about why that might be the case.\n",
        "\n",
        "### **`Tuning min_samples_leaf`**\n",
        "\n",
        "The hyperparameter **min_samples_leaf** is the minimum number of samples required to be at a leaf node:\n",
        "- If int, then consider min_samples_leaf as the minimum number.\n",
        "- If float, then min_samples_leaf is a percentage and ceil(min_samples_leaf * n_samples) are the minimum number of samples for each node.\n",
        "\n",
        "Let's now check the optimum value for min samples leaf in our case."
      ]
    },
    {
      "cell_type": "code",
      "execution_count": null,
      "metadata": {
        "colab": {
          "base_uri": "https://localhost:8080/"
        },
        "id": "KSN6tEYjHWXr",
        "outputId": "93538960-7f4e-46bf-f868-65ee3209333e"
      },
      "outputs": [
        {
          "data": {
            "text/plain": [
              "GridSearchCV(cv=5,\n",
              "             estimator=RandomForestClassifier(max_depth=4, random_state=1),\n",
              "             param_grid={'min_samples_leaf': range(100, 400, 50)},\n",
              "             return_train_score=True, scoring='accuracy')"
            ]
          },
          "execution_count": 32,
          "metadata": {},
          "output_type": "execute_result"
        }
      ],
      "source": [
        "\n",
        "# parameters to build the model on min_samples_leaf of range(100, 400, 50)\n",
        "parameters = {\n",
        "    'min_samples_leaf' : range(100, 400, 50)\n",
        "}\n",
        "\n",
        "\n",
        "# instantiate the model (not specifying any max_depth) and random_state as 1\n",
        "rf = RandomForestClassifier(max_depth=4, random_state=1)\n",
        "\n",
        "\n",
        "# Instantiate GridSearchCVwith rf, parameter, cv and scoring as accuracy and return_train_score as True\n",
        "rf = GridSearchCV(rf, param_grid=parameters, cv=5,\n",
        "                  scoring='accuracy', return_train_score=True)\n",
        "\n",
        "\n",
        "# fit tree on training data\n",
        "\n",
        "rf.fit(X_train, y_train)\n",
        "\n",
        "\n"
      ]
    },
    {
      "cell_type": "code",
      "execution_count": null,
      "metadata": {
        "colab": {
          "base_uri": "https://localhost:8080/",
          "height": 386
        },
        "id": "kvmH0Kl3HWXr",
        "outputId": "df19ec60-b21c-4ac7-92fc-ae6209755ab5"
      },
      "outputs": [
        {
          "data": {
            "text/html": [
              "\n",
              "  <div id=\"df-65597892-bde1-4122-9ef9-42bdb806f376\">\n",
              "    <div class=\"colab-df-container\">\n",
              "      <div>\n",
              "<style scoped>\n",
              "    .dataframe tbody tr th:only-of-type {\n",
              "        vertical-align: middle;\n",
              "    }\n",
              "\n",
              "    .dataframe tbody tr th {\n",
              "        vertical-align: top;\n",
              "    }\n",
              "\n",
              "    .dataframe thead th {\n",
              "        text-align: right;\n",
              "    }\n",
              "</style>\n",
              "<table border=\"1\" class=\"dataframe\">\n",
              "  <thead>\n",
              "    <tr style=\"text-align: right;\">\n",
              "      <th></th>\n",
              "      <th>mean_fit_time</th>\n",
              "      <th>std_fit_time</th>\n",
              "      <th>mean_score_time</th>\n",
              "      <th>std_score_time</th>\n",
              "      <th>param_min_samples_leaf</th>\n",
              "      <th>params</th>\n",
              "      <th>split0_test_score</th>\n",
              "      <th>split1_test_score</th>\n",
              "      <th>split2_test_score</th>\n",
              "      <th>split3_test_score</th>\n",
              "      <th>...</th>\n",
              "      <th>mean_test_score</th>\n",
              "      <th>std_test_score</th>\n",
              "      <th>rank_test_score</th>\n",
              "      <th>split0_train_score</th>\n",
              "      <th>split1_train_score</th>\n",
              "      <th>split2_train_score</th>\n",
              "      <th>split3_train_score</th>\n",
              "      <th>split4_train_score</th>\n",
              "      <th>mean_train_score</th>\n",
              "      <th>std_train_score</th>\n",
              "    </tr>\n",
              "  </thead>\n",
              "  <tbody>\n",
              "    <tr>\n",
              "      <th>0</th>\n",
              "      <td>1.456589</td>\n",
              "      <td>0.015829</td>\n",
              "      <td>0.038691</td>\n",
              "      <td>0.000884</td>\n",
              "      <td>100</td>\n",
              "      <td>{'min_samples_leaf': 100}</td>\n",
              "      <td>0.810476</td>\n",
              "      <td>0.814286</td>\n",
              "      <td>0.810952</td>\n",
              "      <td>0.805000</td>\n",
              "      <td>...</td>\n",
              "      <td>0.809286</td>\n",
              "      <td>0.003473</td>\n",
              "      <td>1</td>\n",
              "      <td>0.809167</td>\n",
              "      <td>0.809345</td>\n",
              "      <td>0.810595</td>\n",
              "      <td>0.812798</td>\n",
              "      <td>0.812976</td>\n",
              "      <td>0.810976</td>\n",
              "      <td>0.001637</td>\n",
              "    </tr>\n",
              "    <tr>\n",
              "      <th>1</th>\n",
              "      <td>1.597798</td>\n",
              "      <td>0.195356</td>\n",
              "      <td>0.042348</td>\n",
              "      <td>0.008070</td>\n",
              "      <td>150</td>\n",
              "      <td>{'min_samples_leaf': 150}</td>\n",
              "      <td>0.810714</td>\n",
              "      <td>0.811190</td>\n",
              "      <td>0.810000</td>\n",
              "      <td>0.803810</td>\n",
              "      <td>...</td>\n",
              "      <td>0.808048</td>\n",
              "      <td>0.003199</td>\n",
              "      <td>3</td>\n",
              "      <td>0.808095</td>\n",
              "      <td>0.808095</td>\n",
              "      <td>0.810000</td>\n",
              "      <td>0.811250</td>\n",
              "      <td>0.811726</td>\n",
              "      <td>0.809833</td>\n",
              "      <td>0.001527</td>\n",
              "    </tr>\n",
              "    <tr>\n",
              "      <th>2</th>\n",
              "      <td>1.561943</td>\n",
              "      <td>0.253770</td>\n",
              "      <td>0.046329</td>\n",
              "      <td>0.008273</td>\n",
              "      <td>200</td>\n",
              "      <td>{'min_samples_leaf': 200}</td>\n",
              "      <td>0.811667</td>\n",
              "      <td>0.810476</td>\n",
              "      <td>0.810952</td>\n",
              "      <td>0.804762</td>\n",
              "      <td>...</td>\n",
              "      <td>0.808762</td>\n",
              "      <td>0.002831</td>\n",
              "      <td>2</td>\n",
              "      <td>0.808869</td>\n",
              "      <td>0.808155</td>\n",
              "      <td>0.810952</td>\n",
              "      <td>0.811012</td>\n",
              "      <td>0.811310</td>\n",
              "      <td>0.810060</td>\n",
              "      <td>0.001289</td>\n",
              "    </tr>\n",
              "    <tr>\n",
              "      <th>3</th>\n",
              "      <td>1.439133</td>\n",
              "      <td>0.045351</td>\n",
              "      <td>0.038344</td>\n",
              "      <td>0.000677</td>\n",
              "      <td>250</td>\n",
              "      <td>{'min_samples_leaf': 250}</td>\n",
              "      <td>0.810714</td>\n",
              "      <td>0.810000</td>\n",
              "      <td>0.810238</td>\n",
              "      <td>0.803095</td>\n",
              "      <td>...</td>\n",
              "      <td>0.807810</td>\n",
              "      <td>0.003139</td>\n",
              "      <td>4</td>\n",
              "      <td>0.807143</td>\n",
              "      <td>0.807976</td>\n",
              "      <td>0.809762</td>\n",
              "      <td>0.809643</td>\n",
              "      <td>0.809643</td>\n",
              "      <td>0.808833</td>\n",
              "      <td>0.001074</td>\n",
              "    </tr>\n",
              "    <tr>\n",
              "      <th>4</th>\n",
              "      <td>1.560334</td>\n",
              "      <td>0.222676</td>\n",
              "      <td>0.042024</td>\n",
              "      <td>0.007700</td>\n",
              "      <td>300</td>\n",
              "      <td>{'min_samples_leaf': 300}</td>\n",
              "      <td>0.809286</td>\n",
              "      <td>0.809762</td>\n",
              "      <td>0.809286</td>\n",
              "      <td>0.802143</td>\n",
              "      <td>...</td>\n",
              "      <td>0.807524</td>\n",
              "      <td>0.002840</td>\n",
              "      <td>5</td>\n",
              "      <td>0.807619</td>\n",
              "      <td>0.807321</td>\n",
              "      <td>0.808750</td>\n",
              "      <td>0.808393</td>\n",
              "      <td>0.809107</td>\n",
              "      <td>0.808238</td>\n",
              "      <td>0.000673</td>\n",
              "    </tr>\n",
              "  </tbody>\n",
              "</table>\n",
              "<p>5 rows × 21 columns</p>\n",
              "</div>\n",
              "      <button class=\"colab-df-convert\" onclick=\"convertToInteractive('df-65597892-bde1-4122-9ef9-42bdb806f376')\"\n",
              "              title=\"Convert this dataframe to an interactive table.\"\n",
              "              style=\"display:none;\">\n",
              "        \n",
              "  <svg xmlns=\"http://www.w3.org/2000/svg\" height=\"24px\"viewBox=\"0 0 24 24\"\n",
              "       width=\"24px\">\n",
              "    <path d=\"M0 0h24v24H0V0z\" fill=\"none\"/>\n",
              "    <path d=\"M18.56 5.44l.94 2.06.94-2.06 2.06-.94-2.06-.94-.94-2.06-.94 2.06-2.06.94zm-11 1L8.5 8.5l.94-2.06 2.06-.94-2.06-.94L8.5 2.5l-.94 2.06-2.06.94zm10 10l.94 2.06.94-2.06 2.06-.94-2.06-.94-.94-2.06-.94 2.06-2.06.94z\"/><path d=\"M17.41 7.96l-1.37-1.37c-.4-.4-.92-.59-1.43-.59-.52 0-1.04.2-1.43.59L10.3 9.45l-7.72 7.72c-.78.78-.78 2.05 0 2.83L4 21.41c.39.39.9.59 1.41.59.51 0 1.02-.2 1.41-.59l7.78-7.78 2.81-2.81c.8-.78.8-2.07 0-2.86zM5.41 20L4 18.59l7.72-7.72 1.47 1.35L5.41 20z\"/>\n",
              "  </svg>\n",
              "      </button>\n",
              "      \n",
              "  <style>\n",
              "    .colab-df-container {\n",
              "      display:flex;\n",
              "      flex-wrap:wrap;\n",
              "      gap: 12px;\n",
              "    }\n",
              "\n",
              "    .colab-df-convert {\n",
              "      background-color: #E8F0FE;\n",
              "      border: none;\n",
              "      border-radius: 50%;\n",
              "      cursor: pointer;\n",
              "      display: none;\n",
              "      fill: #1967D2;\n",
              "      height: 32px;\n",
              "      padding: 0 0 0 0;\n",
              "      width: 32px;\n",
              "    }\n",
              "\n",
              "    .colab-df-convert:hover {\n",
              "      background-color: #E2EBFA;\n",
              "      box-shadow: 0px 1px 2px rgba(60, 64, 67, 0.3), 0px 1px 3px 1px rgba(60, 64, 67, 0.15);\n",
              "      fill: #174EA6;\n",
              "    }\n",
              "\n",
              "    [theme=dark] .colab-df-convert {\n",
              "      background-color: #3B4455;\n",
              "      fill: #D2E3FC;\n",
              "    }\n",
              "\n",
              "    [theme=dark] .colab-df-convert:hover {\n",
              "      background-color: #434B5C;\n",
              "      box-shadow: 0px 1px 3px 1px rgba(0, 0, 0, 0.15);\n",
              "      filter: drop-shadow(0px 1px 2px rgba(0, 0, 0, 0.3));\n",
              "      fill: #FFFFFF;\n",
              "    }\n",
              "  </style>\n",
              "\n",
              "      <script>\n",
              "        const buttonEl =\n",
              "          document.querySelector('#df-65597892-bde1-4122-9ef9-42bdb806f376 button.colab-df-convert');\n",
              "        buttonEl.style.display =\n",
              "          google.colab.kernel.accessAllowed ? 'block' : 'none';\n",
              "\n",
              "        async function convertToInteractive(key) {\n",
              "          const element = document.querySelector('#df-65597892-bde1-4122-9ef9-42bdb806f376');\n",
              "          const dataTable =\n",
              "            await google.colab.kernel.invokeFunction('convertToInteractive',\n",
              "                                                     [key], {});\n",
              "          if (!dataTable) return;\n",
              "\n",
              "          const docLinkHtml = 'Like what you see? Visit the ' +\n",
              "            '<a target=\"_blank\" href=https://colab.research.google.com/notebooks/data_table.ipynb>data table notebook</a>'\n",
              "            + ' to learn more about interactive tables.';\n",
              "          element.innerHTML = '';\n",
              "          dataTable['output_type'] = 'display_data';\n",
              "          await google.colab.output.renderOutput(dataTable, element);\n",
              "          const docLink = document.createElement('div');\n",
              "          docLink.innerHTML = docLinkHtml;\n",
              "          element.appendChild(docLink);\n",
              "        }\n",
              "      </script>\n",
              "    </div>\n",
              "  </div>\n",
              "  "
            ],
            "text/plain": [
              "   mean_fit_time  std_fit_time  mean_score_time  std_score_time  \\\n",
              "0       1.456589      0.015829         0.038691        0.000884   \n",
              "1       1.597798      0.195356         0.042348        0.008070   \n",
              "2       1.561943      0.253770         0.046329        0.008273   \n",
              "3       1.439133      0.045351         0.038344        0.000677   \n",
              "4       1.560334      0.222676         0.042024        0.007700   \n",
              "\n",
              "  param_min_samples_leaf                     params  split0_test_score  \\\n",
              "0                    100  {'min_samples_leaf': 100}           0.810476   \n",
              "1                    150  {'min_samples_leaf': 150}           0.810714   \n",
              "2                    200  {'min_samples_leaf': 200}           0.811667   \n",
              "3                    250  {'min_samples_leaf': 250}           0.810714   \n",
              "4                    300  {'min_samples_leaf': 300}           0.809286   \n",
              "\n",
              "   split1_test_score  split2_test_score  split3_test_score  ...  \\\n",
              "0           0.814286           0.810952           0.805000  ...   \n",
              "1           0.811190           0.810000           0.803810  ...   \n",
              "2           0.810476           0.810952           0.804762  ...   \n",
              "3           0.810000           0.810238           0.803095  ...   \n",
              "4           0.809762           0.809286           0.802143  ...   \n",
              "\n",
              "   mean_test_score  std_test_score  rank_test_score  split0_train_score  \\\n",
              "0         0.809286        0.003473                1            0.809167   \n",
              "1         0.808048        0.003199                3            0.808095   \n",
              "2         0.808762        0.002831                2            0.808869   \n",
              "3         0.807810        0.003139                4            0.807143   \n",
              "4         0.807524        0.002840                5            0.807619   \n",
              "\n",
              "   split1_train_score  split2_train_score  split3_train_score  \\\n",
              "0            0.809345            0.810595            0.812798   \n",
              "1            0.808095            0.810000            0.811250   \n",
              "2            0.808155            0.810952            0.811012   \n",
              "3            0.807976            0.809762            0.809643   \n",
              "4            0.807321            0.808750            0.808393   \n",
              "\n",
              "   split4_train_score  mean_train_score  std_train_score  \n",
              "0            0.812976          0.810976         0.001637  \n",
              "1            0.811726          0.809833         0.001527  \n",
              "2            0.811310          0.810060         0.001289  \n",
              "3            0.809643          0.808833         0.001074  \n",
              "4            0.809107          0.808238         0.000673  \n",
              "\n",
              "[5 rows x 21 columns]"
            ]
          },
          "execution_count": 33,
          "metadata": {},
          "output_type": "execute_result"
        }
      ],
      "source": [
        "# scores of GridSearch CV\n",
        "scores = rf.cv_results_\n",
        "\n",
        "\n",
        "# convert scores into df and print\n",
        "\n",
        "scores = pd.DataFrame(scores)\n",
        "scores.head()\n"
      ]
    },
    {
      "cell_type": "code",
      "execution_count": null,
      "metadata": {
        "colab": {
          "base_uri": "https://localhost:8080/",
          "height": 406
        },
        "id": "ISjd_QPjHWXs",
        "outputId": "3054321e-e00d-4f26-b1b7-6fa09659a32d"
      },
      "outputs": [
        {
          "data": {
            "image/png": "[encoded data removed]",
            "text/plain": [
              "<Figure size 576x432 with 1 Axes>"
            ]
          },
          "metadata": {},
          "output_type": "display_data"
        }
      ],
      "source": [
        "# plotting accuracies with min_samples_leaf\n",
        "plt.figure(figsize=(8,6))\n",
        "\n",
        "# code below\n",
        "plt.plot(scores['param_min_samples_leaf'], scores['mean_train_score'], label='Training accuracy')\n",
        "plt.plot(scores['param_min_samples_leaf'], scores['mean_test_score'], label='Testing accuracy')\n",
        "plt.xlabel('param_min_samples_leaf')\n",
        "plt.ylabel('accuracy')\n",
        "plt.title('param_min_samples_leaf vs mean_test_score', fontsize=14)\n",
        "plt.legend()\n",
        "plt.show()"
      ]
    },
    {
      "cell_type": "markdown",
      "metadata": {
        "id": "FCtJx7cDHWXs"
      },
      "source": [
        "You can see that the model starts of overfit as you decrease the value of min_samples_leaf. \n",
        "\n",
        "### **`Tuning min_samples_split`**\n",
        "\n",
        "Let's now look at the performance of the ensemble as we vary min_samples_split.\n",
        "\n",
        "\n"
      ]
    },
    {
      "cell_type": "code",
      "execution_count": null,
      "metadata": {
        "colab": {
          "base_uri": "https://localhost:8080/"
        },
        "id": "A25ecfRrHWXs",
        "outputId": "b8f5d744-33b0-4267-c705-b24af029720e"
      },
      "outputs": [
        {
          "data": {
            "text/plain": [
              "GridSearchCV(cv=5, estimator=RandomForestClassifier(random_state=1),\n",
              "             param_grid={'min_samples_split': range(200, 500, 50)},\n",
              "             return_train_score=True, scoring='accuracy')"
            ]
          },
          "execution_count": 35,
          "metadata": {},
          "output_type": "execute_result"
        }
      ],
      "source": [
        "\n",
        "\n",
        "# parameters to build the model on (min_samples_split with range(200, 500, 50))\n",
        "parameters = {\n",
        "    'min_samples_split' : range(200, 500, 50)\n",
        "}\n",
        "\n",
        "\n",
        "# instantiate the model with random_state as 1\n",
        "rf = RandomForestClassifier(random_state=1)\n",
        "\n",
        "\n",
        "# Instantiate GridSearchCVwith rf, parameter, cv and scoring as accuracy and return_train_score as True\n",
        "rf = GridSearchCV(rf, param_grid=parameters, cv=5, scoring='accuracy', return_train_score=True)\n",
        "\n",
        "\n",
        "#fitting model on training data\n",
        "\n",
        "rf.fit(X_train, y_train)\n"
      ]
    },
    {
      "cell_type": "code",
      "execution_count": null,
      "metadata": {
        "colab": {
          "base_uri": "https://localhost:8080/",
          "height": 386
        },
        "id": "oqDewR8LHWXs",
        "outputId": "374b83cb-17dc-41a9-a420-1c743ce48576"
      },
      "outputs": [
        {
          "data": {
            "text/html": [
              "\n",
              "  <div id=\"df-abaa1bbb-bd64-4a27-a7a4-198616d3f741\">\n",
              "    <div class=\"colab-df-container\">\n",
              "      <div>\n",
              "<style scoped>\n",
              "    .dataframe tbody tr th:only-of-type {\n",
              "        vertical-align: middle;\n",
              "    }\n",
              "\n",
              "    .dataframe tbody tr th {\n",
              "        vertical-align: top;\n",
              "    }\n",
              "\n",
              "    .dataframe thead th {\n",
              "        text-align: right;\n",
              "    }\n",
              "</style>\n",
              "<table border=\"1\" class=\"dataframe\">\n",
              "  <thead>\n",
              "    <tr style=\"text-align: right;\">\n",
              "      <th></th>\n",
              "      <th>mean_fit_time</th>\n",
              "      <th>std_fit_time</th>\n",
              "      <th>mean_score_time</th>\n",
              "      <th>std_score_time</th>\n",
              "      <th>param_min_samples_split</th>\n",
              "      <th>params</th>\n",
              "      <th>split0_test_score</th>\n",
              "      <th>split1_test_score</th>\n",
              "      <th>split2_test_score</th>\n",
              "      <th>split3_test_score</th>\n",
              "      <th>...</th>\n",
              "      <th>mean_test_score</th>\n",
              "      <th>std_test_score</th>\n",
              "      <th>rank_test_score</th>\n",
              "      <th>split0_train_score</th>\n",
              "      <th>split1_train_score</th>\n",
              "      <th>split2_train_score</th>\n",
              "      <th>split3_train_score</th>\n",
              "      <th>split4_train_score</th>\n",
              "      <th>mean_train_score</th>\n",
              "      <th>std_train_score</th>\n",
              "    </tr>\n",
              "  </thead>\n",
              "  <tbody>\n",
              "    <tr>\n",
              "      <th>0</th>\n",
              "      <td>4.027527</td>\n",
              "      <td>0.396231</td>\n",
              "      <td>0.073492</td>\n",
              "      <td>0.002154</td>\n",
              "      <td>200</td>\n",
              "      <td>{'min_samples_split': 200}</td>\n",
              "      <td>0.818571</td>\n",
              "      <td>0.820714</td>\n",
              "      <td>0.820714</td>\n",
              "      <td>0.817381</td>\n",
              "      <td>...</td>\n",
              "      <td>0.819190</td>\n",
              "      <td>0.001318</td>\n",
              "      <td>1</td>\n",
              "      <td>0.824286</td>\n",
              "      <td>0.823333</td>\n",
              "      <td>0.823274</td>\n",
              "      <td>0.824048</td>\n",
              "      <td>0.823988</td>\n",
              "      <td>0.823786</td>\n",
              "      <td>0.000407</td>\n",
              "    </tr>\n",
              "    <tr>\n",
              "      <th>1</th>\n",
              "      <td>3.914514</td>\n",
              "      <td>0.488927</td>\n",
              "      <td>0.068136</td>\n",
              "      <td>0.001173</td>\n",
              "      <td>250</td>\n",
              "      <td>{'min_samples_split': 250}</td>\n",
              "      <td>0.818810</td>\n",
              "      <td>0.821667</td>\n",
              "      <td>0.820000</td>\n",
              "      <td>0.816905</td>\n",
              "      <td>...</td>\n",
              "      <td>0.819143</td>\n",
              "      <td>0.001605</td>\n",
              "      <td>2</td>\n",
              "      <td>0.822321</td>\n",
              "      <td>0.821607</td>\n",
              "      <td>0.822976</td>\n",
              "      <td>0.822976</td>\n",
              "      <td>0.823274</td>\n",
              "      <td>0.822631</td>\n",
              "      <td>0.000599</td>\n",
              "    </tr>\n",
              "    <tr>\n",
              "      <th>2</th>\n",
              "      <td>3.569766</td>\n",
              "      <td>0.283321</td>\n",
              "      <td>0.070571</td>\n",
              "      <td>0.007445</td>\n",
              "      <td>300</td>\n",
              "      <td>{'min_samples_split': 300}</td>\n",
              "      <td>0.817381</td>\n",
              "      <td>0.821667</td>\n",
              "      <td>0.822143</td>\n",
              "      <td>0.816667</td>\n",
              "      <td>...</td>\n",
              "      <td>0.818714</td>\n",
              "      <td>0.002662</td>\n",
              "      <td>3</td>\n",
              "      <td>0.821667</td>\n",
              "      <td>0.821131</td>\n",
              "      <td>0.821726</td>\n",
              "      <td>0.821964</td>\n",
              "      <td>0.822679</td>\n",
              "      <td>0.821833</td>\n",
              "      <td>0.000503</td>\n",
              "    </tr>\n",
              "    <tr>\n",
              "      <th>3</th>\n",
              "      <td>3.740970</td>\n",
              "      <td>0.535026</td>\n",
              "      <td>0.071473</td>\n",
              "      <td>0.010390</td>\n",
              "      <td>350</td>\n",
              "      <td>{'min_samples_split': 350}</td>\n",
              "      <td>0.817857</td>\n",
              "      <td>0.821429</td>\n",
              "      <td>0.820714</td>\n",
              "      <td>0.815714</td>\n",
              "      <td>...</td>\n",
              "      <td>0.818190</td>\n",
              "      <td>0.002522</td>\n",
              "      <td>6</td>\n",
              "      <td>0.820119</td>\n",
              "      <td>0.820833</td>\n",
              "      <td>0.820655</td>\n",
              "      <td>0.822440</td>\n",
              "      <td>0.821726</td>\n",
              "      <td>0.821155</td>\n",
              "      <td>0.000825</td>\n",
              "    </tr>\n",
              "    <tr>\n",
              "      <th>4</th>\n",
              "      <td>3.361838</td>\n",
              "      <td>0.305876</td>\n",
              "      <td>0.064582</td>\n",
              "      <td>0.003087</td>\n",
              "      <td>400</td>\n",
              "      <td>{'min_samples_split': 400}</td>\n",
              "      <td>0.816905</td>\n",
              "      <td>0.820476</td>\n",
              "      <td>0.820952</td>\n",
              "      <td>0.815952</td>\n",
              "      <td>...</td>\n",
              "      <td>0.818381</td>\n",
              "      <td>0.001983</td>\n",
              "      <td>4</td>\n",
              "      <td>0.819762</td>\n",
              "      <td>0.819881</td>\n",
              "      <td>0.820298</td>\n",
              "      <td>0.820476</td>\n",
              "      <td>0.821071</td>\n",
              "      <td>0.820298</td>\n",
              "      <td>0.000467</td>\n",
              "    </tr>\n",
              "  </tbody>\n",
              "</table>\n",
              "<p>5 rows × 21 columns</p>\n",
              "</div>\n",
              "      <button class=\"colab-df-convert\" onclick=\"convertToInteractive('df-abaa1bbb-bd64-4a27-a7a4-198616d3f741')\"\n",
              "              title=\"Convert this dataframe to an interactive table.\"\n",
              "              style=\"display:none;\">\n",
              "        \n",
              "  <svg xmlns=\"http://www.w3.org/2000/svg\" height=\"24px\"viewBox=\"0 0 24 24\"\n",
              "       width=\"24px\">\n",
              "    <path d=\"M0 0h24v24H0V0z\" fill=\"none\"/>\n",
              "    <path d=\"M18.56 5.44l.94 2.06.94-2.06 2.06-.94-2.06-.94-.94-2.06-.94 2.06-2.06.94zm-11 1L8.5 8.5l.94-2.06 2.06-.94-2.06-.94L8.5 2.5l-.94 2.06-2.06.94zm10 10l.94 2.06.94-2.06 2.06-.94-2.06-.94-.94-2.06-.94 2.06-2.06.94z\"/><path d=\"M17.41 7.96l-1.37-1.37c-.4-.4-.92-.59-1.43-.59-.52 0-1.04.2-1.43.59L10.3 9.45l-7.72 7.72c-.78.78-.78 2.05 0 2.83L4 21.41c.39.39.9.59 1.41.59.51 0 1.02-.2 1.41-.59l7.78-7.78 2.81-2.81c.8-.78.8-2.07 0-2.86zM5.41 20L4 18.59l7.72-7.72 1.47 1.35L5.41 20z\"/>\n",
              "  </svg>\n",
              "      </button>\n",
              "      \n",
              "  <style>\n",
              "    .colab-df-container {\n",
              "      display:flex;\n",
              "      flex-wrap:wrap;\n",
              "      gap: 12px;\n",
              "    }\n",
              "\n",
              "    .colab-df-convert {\n",
              "      background-color: #E8F0FE;\n",
              "      border: none;\n",
              "      border-radius: 50%;\n",
              "      cursor: pointer;\n",
              "      display: none;\n",
              "      fill: #1967D2;\n",
              "      height: 32px;\n",
              "      padding: 0 0 0 0;\n",
              "      width: 32px;\n",
              "    }\n",
              "\n",
              "    .colab-df-convert:hover {\n",
              "      background-color: #E2EBFA;\n",
              "      box-shadow: 0px 1px 2px rgba(60, 64, 67, 0.3), 0px 1px 3px 1px rgba(60, 64, 67, 0.15);\n",
              "      fill: #174EA6;\n",
              "    }\n",
              "\n",
              "    [theme=dark] .colab-df-convert {\n",
              "      background-color: #3B4455;\n",
              "      fill: #D2E3FC;\n",
              "    }\n",
              "\n",
              "    [theme=dark] .colab-df-convert:hover {\n",
              "      background-color: #434B5C;\n",
              "      box-shadow: 0px 1px 3px 1px rgba(0, 0, 0, 0.15);\n",
              "      filter: drop-shadow(0px 1px 2px rgba(0, 0, 0, 0.3));\n",
              "      fill: #FFFFFF;\n",
              "    }\n",
              "  </style>\n",
              "\n",
              "      <script>\n",
              "        const buttonEl =\n",
              "          document.querySelector('#df-abaa1bbb-bd64-4a27-a7a4-198616d3f741 button.colab-df-convert');\n",
              "        buttonEl.style.display =\n",
              "          google.colab.kernel.accessAllowed ? 'block' : 'none';\n",
              "\n",
              "        async function convertToInteractive(key) {\n",
              "          const element = document.querySelector('#df-abaa1bbb-bd64-4a27-a7a4-198616d3f741');\n",
              "          const dataTable =\n",
              "            await google.colab.kernel.invokeFunction('convertToInteractive',\n",
              "                                                     [key], {});\n",
              "          if (!dataTable) return;\n",
              "\n",
              "          const docLinkHtml = 'Like what you see? Visit the ' +\n",
              "            '<a target=\"_blank\" href=https://colab.research.google.com/notebooks/data_table.ipynb>data table notebook</a>'\n",
              "            + ' to learn more about interactive tables.';\n",
              "          element.innerHTML = '';\n",
              "          dataTable['output_type'] = 'display_data';\n",
              "          await google.colab.output.renderOutput(dataTable, element);\n",
              "          const docLink = document.createElement('div');\n",
              "          docLink.innerHTML = docLinkHtml;\n",
              "          element.appendChild(docLink);\n",
              "        }\n",
              "      </script>\n",
              "    </div>\n",
              "  </div>\n",
              "  "
            ],
            "text/plain": [
              "   mean_fit_time  std_fit_time  mean_score_time  std_score_time  \\\n",
              "0       4.027527      0.396231         0.073492        0.002154   \n",
              "1       3.914514      0.488927         0.068136        0.001173   \n",
              "2       3.569766      0.283321         0.070571        0.007445   \n",
              "3       3.740970      0.535026         0.071473        0.010390   \n",
              "4       3.361838      0.305876         0.064582        0.003087   \n",
              "\n",
              "  param_min_samples_split                      params  split0_test_score  \\\n",
              "0                     200  {'min_samples_split': 200}           0.818571   \n",
              "1                     250  {'min_samples_split': 250}           0.818810   \n",
              "2                     300  {'min_samples_split': 300}           0.817381   \n",
              "3                     350  {'min_samples_split': 350}           0.817857   \n",
              "4                     400  {'min_samples_split': 400}           0.816905   \n",
              "\n",
              "   split1_test_score  split2_test_score  split3_test_score  ...  \\\n",
              "0           0.820714           0.820714           0.817381  ...   \n",
              "1           0.821667           0.820000           0.816905  ...   \n",
              "2           0.821667           0.822143           0.816667  ...   \n",
              "3           0.821429           0.820714           0.815714  ...   \n",
              "4           0.820476           0.820952           0.815952  ...   \n",
              "\n",
              "   mean_test_score  std_test_score  rank_test_score  split0_train_score  \\\n",
              "0         0.819190        0.001318                1            0.824286   \n",
              "1         0.819143        0.001605                2            0.822321   \n",
              "2         0.818714        0.002662                3            0.821667   \n",
              "3         0.818190        0.002522                6            0.820119   \n",
              "4         0.818381        0.001983                4            0.819762   \n",
              "\n",
              "   split1_train_score  split2_train_score  split3_train_score  \\\n",
              "0            0.823333            0.823274            0.824048   \n",
              "1            0.821607            0.822976            0.822976   \n",
              "2            0.821131            0.821726            0.821964   \n",
              "3            0.820833            0.820655            0.822440   \n",
              "4            0.819881            0.820298            0.820476   \n",
              "\n",
              "   split4_train_score  mean_train_score  std_train_score  \n",
              "0            0.823988          0.823786         0.000407  \n",
              "1            0.823274          0.822631         0.000599  \n",
              "2            0.822679          0.821833         0.000503  \n",
              "3            0.821726          0.821155         0.000825  \n",
              "4            0.821071          0.820298         0.000467  \n",
              "\n",
              "[5 rows x 21 columns]"
            ]
          },
          "execution_count": 36,
          "metadata": {},
          "output_type": "execute_result"
        }
      ],
      "source": [
        "# scores of GridSearch CV\n",
        "scores = rf.cv_results_\n",
        "\n",
        "# convert scores into df and print head\n",
        "\n",
        "scores = pd.DataFrame(scores)\n",
        "scores.head()\n"
      ]
    },
    {
      "cell_type": "code",
      "execution_count": null,
      "metadata": {
        "id": "Qfo5q1EbWb9q"
      },
      "outputs": [],
      "source": [
        "scores['param_min_samples_split'] = scores['param_min_samples_split'].astype(float)"
      ]
    },
    {
      "cell_type": "code",
      "execution_count": null,
      "metadata": {
        "colab": {
          "base_uri": "https://localhost:8080/",
          "height": 405
        },
        "id": "t8QNpO7LHWXs",
        "outputId": "e8c19f1a-ea29-40b3-e186-64fbc5e8d286"
      },
      "outputs": [
        {
          "data": {
            "image/png": "[encoded data removed]",
            "text/plain": [
              "<Figure size 576x432 with 1 Axes>"
            ]
          },
          "metadata": {},
          "output_type": "display_data"
        }
      ],
      "source": [
        "# plotting accuracies with min_samples_split\n",
        "plt.figure(figsize=(8, 6))\n",
        "#code below\n",
        "plt.plot(scores['param_min_samples_split'], scores['mean_train_score'], label='Training accuracy')\n",
        "\n",
        "plt.plot(scores['param_min_samples_split'], scores['mean_test_score'], label='Testing accuracy')\n",
        "plt.xlabel('param_min_samples_split')\n",
        "plt.ylabel('accuracy')\n",
        "plt.title('param_min_samples_split vs accuracy')\n",
        "plt.legend()\n",
        "plt.show()"
      ]
    },
    {
      "cell_type": "code",
      "execution_count": null,
      "metadata": {
        "colab": {
          "base_uri": "https://localhost:8080/"
        },
        "id": "W_U7NL_bcec6",
        "outputId": "ceb9ad28-6fe3-4e0f-d80e-3c00a3112c4c"
      },
      "outputs": [
        {
          "data": {
            "text/plain": [
              "{'min_samples_split': 200}"
            ]
          },
          "execution_count": 39,
          "metadata": {},
          "output_type": "execute_result"
        }
      ],
      "source": [
        "rf.best_params_"
      ]
    },
    {
      "cell_type": "markdown",
      "metadata": {
        "id": "rv5xf465HWXs"
      },
      "source": [
        "#### **`Random Search to Find Optimal Hyperparameters`**\n",
        "\n",
        "We can now find the optimal hyperparameters using RandomizedSearchCV. \n",
        "\n",
        "with following  parameter values: \n",
        "\n",
        "`'max_depth': [4,8,10],\n",
        "'min_samples_leaf': range(100, 400, 200),\n",
        "'min_samples_split': range(200, 500, 200),\n",
        "'n_estimators': [100,200, 300], \n",
        "'max_features': [5, 10]`\n",
        "\n",
        "Note : here we are avoiding grid search because using it your system might crash, whereas RandomizedSearchCV is fater than grid search  ;)"
      ]
    },
    {
      "cell_type": "code",
      "execution_count": null,
      "metadata": {
        "id": "5j1LDEZ7HWXs"
      },
      "outputs": [],
      "source": [
        "from pandas.core.common import random_state\n",
        "# import RandomizedSearchCV\n",
        "from sklearn.model_selection import RandomizedSearchCV\n",
        "\n",
        "\n",
        "\n",
        "\n",
        "# Create the parameter grid based on the results of random search \n",
        "param_grid = {\n",
        "    'max_depth': [4,8,10], 'min_samples_leaf': range(100, 400, 200), 'min_samples_split':\n",
        "     range(200, 500, 200), 'n_estimators': [100,200, 300], 'max_features': [5, 10]\n",
        "}\n",
        "\n",
        "\n",
        "\n",
        "\n",
        "# Create a based model (i.e RF) with random_state as 1\n",
        "rf = RandomForestClassifier(random_state=1)\n",
        "\n",
        "\n",
        "\n",
        "\n",
        "# Instantiate the radom search model with estimator, param_grid, and random_state as 1\n",
        "rs = RandomizedSearchCV(rf, param_grid, random_state=1)\n",
        "\n",
        "\n"
      ]
    },
    {
      "cell_type": "code",
      "execution_count": null,
      "metadata": {
        "colab": {
          "background_save": true
        },
        "id": "oHoHzBkUHWXt",
        "outputId": "4ca7f4ee-b9de-41e3-f91e-c9956fd6a855"
      },
      "outputs": [
        {
          "data": {
            "text/plain": [
              "RandomizedSearchCV(estimator=RandomForestClassifier(random_state=1),\n",
              "                   param_distributions={'max_depth': [4, 8, 10],\n",
              "                                        'max_features': [5, 10],\n",
              "                                        'min_samples_leaf': range(100, 400, 200),\n",
              "                                        'min_samples_split': range(200, 500, 200),\n",
              "                                        'n_estimators': [100, 200, 300]},\n",
              "                   random_state=1)"
            ]
          },
          "execution_count": 41,
          "metadata": {},
          "output_type": "execute_result"
        }
      ],
      "source": [
        "# Fit the grid search to the data\n",
        "\n",
        "rs.fit(X_train, y_train)\n",
        "\n",
        "\n"
      ]
    },
    {
      "cell_type": "code",
      "execution_count": null,
      "metadata": {
        "id": "KdKLr3jfHWXt"
      },
      "outputs": [],
      "source": [
        "# printing the optimal accuracy score and hyperparameters\n",
        "print('Accuracy:', round((rs.best_score_),4))\n",
        "rs.best_params_\n",
        "\n",
        "\n",
        "\n"
      ]
    },
    {
      "cell_type": "markdown",
      "metadata": {
        "id": "epWwLsqlHWXt"
      },
      "source": [
        "**Fitting the final model with the best parameters obtained from grid search.**"
      ]
    },
    {
      "cell_type": "code",
      "execution_count": null,
      "metadata": {
        "id": "pOKWvYGAHWXt"
      },
      "outputs": [],
      "source": [
        "# Instantiate RF model with the best hyperparameters along with random_state as 1\n",
        "rfc = RandomForestClassifier(n_estimators=100, min_samples_split=400, min_samples_leaf=100,\n",
        "                             max_features=10, max_depth=8)\n",
        "\n"
      ]
    },
    {
      "cell_type": "code",
      "execution_count": null,
      "metadata": {
        "id": "uXkq229JHWXt"
      },
      "outputs": [],
      "source": [
        "# fit rfc on training data\n",
        "\n",
        "rfc.fit(X_train, y_train)\n",
        "\n",
        "\n"
      ]
    },
    {
      "cell_type": "code",
      "execution_count": null,
      "metadata": {
        "id": "yb6EfPKtHWXt"
      },
      "outputs": [],
      "source": [
        "# predict\n",
        "predictions = rfc.predict(X_test)\n",
        "\n",
        "\n"
      ]
    },
    {
      "cell_type": "code",
      "execution_count": null,
      "metadata": {
        "id": "cMIIc-m-HWXt"
      },
      "outputs": [],
      "source": [
        "# evaluation metrics using classification_report\n",
        "\n",
        "print(classification_report(y_test, predictions))\n",
        "\n",
        "\n"
      ]
    },
    {
      "cell_type": "code",
      "execution_count": null,
      "metadata": {
        "id": "Zlf2ucRFHWXt"
      },
      "outputs": [],
      "source": [
        "#print confusion_matrix and \n",
        "\n",
        "print(confusion_matrix(y_test, predictions))\n",
        "matrix = ConfusionMatrixDisplay(confusion_matrix(y_test, predictions))\n",
        "matrix.plot()\n",
        "\n",
        "#print accuracy\n",
        "\n",
        "print('accuracy_score: ', accuracy_score(y_test, predictions))\n",
        "\n"
      ]
    },
    {
      "cell_type": "markdown",
      "metadata": {
        "id": "mgzWmlh_HWXu"
      },
      "source": [
        "Oh yeah ! after hyper parameter tuning Random forest accuracy is improved."
      ]
    },
    {
      "cell_type": "markdown",
      "metadata": {
        "id": "P3ml9JpWHWXu"
      },
      "source": [
        "### **`3. Extra Trees ALgorithm`**\n",
        "\n",
        "<p style='text-align: right;'> 20 points</p>\n",
        "\n",
        "Reference doc: https://scikit-learn.org/stable/modules/generated/sklearn.ensemble.ExtraTreesClassifier.html\n",
        "\n",
        " \n",
        "Extra Trees and Random Forest are two very similar ensemble methods\n",
        "The two ensembles have a lot in common. Both of them are composed of a large number of decision trees. The main difference between descision tree , random Forest and Extra trees are shown below:\n",
        "\n",
        "\n",
        "![image.png](attachment:image.png)\n",
        "\n",
        "\n",
        "\n",
        "Unlike bagging and random forest that develop each decision tree from a bootstrap sample of the training dataset, the Extra Trees algorithm fits each decision tree on the whole training dataset.\n",
        "\n",
        "Like random forest, the Extra Trees algorithm will randomly sample the features at each split point of a decision tree. Unlike random forest, which uses a greedy algorithm to select an optimal split point, the Extra Trees algorithm selects a split point at random.\n",
        "\n",
        "Reference video below:"
      ]
    },
    {
      "cell_type": "markdown",
      "metadata": {
        "id": "Rq4zj1A7rQ0z"
      },
      "source": [
        "## **`Watch Video 5 : Extra Trees`**"
      ]
    },
    {
      "cell_type": "code",
      "execution_count": null,
      "metadata": {
        "id": "SGnVFDjGHWXu"
      },
      "outputs": [],
      "source": [
        "# import ExtraTreesClassifier \n",
        "from sklearn.ensemble import ExtraTreesClassifier\n",
        "\n",
        "\n",
        "\n",
        "#Instantiate ExtraTreesClassifier with default parameters except random_state as 1\n",
        "et = ExtraTreesClassifier(random_state=1)\n",
        "\n",
        "\n",
        "#fitting model on training data\n",
        "\n",
        "et.fit(X_train, y_train)\n",
        "\n",
        "\n"
      ]
    },
    {
      "cell_type": "code",
      "execution_count": null,
      "metadata": {
        "id": "K3LPZ6bCHWXu"
      },
      "outputs": [],
      "source": [
        "# Making predictions\n",
        "predictions = et.predict(X_test)\n",
        "\n",
        "\n"
      ]
    },
    {
      "cell_type": "code",
      "execution_count": null,
      "metadata": {
        "id": "PM9BnvElHWXu"
      },
      "outputs": [],
      "source": [
        "# Let's check the report of our default model\n",
        "print(classification_report(y_test, predictions))\n",
        "\n",
        "\n",
        "\n"
      ]
    },
    {
      "cell_type": "code",
      "execution_count": null,
      "metadata": {
        "id": "Svfm3S-NHWXu"
      },
      "outputs": [],
      "source": [
        "# Printing confusion matrix\n",
        "print(confusion_matrix(y_test, predictions))\n",
        "\n",
        "\n"
      ]
    },
    {
      "cell_type": "code",
      "execution_count": null,
      "metadata": {
        "id": "JA1hU8cpHWXu"
      },
      "outputs": [],
      "source": [
        "#printing accuracy_score\n",
        "\n",
        "print(accuracy_score(y_test, predictions))\n",
        "\n",
        "\n"
      ]
    },
    {
      "cell_type": "markdown",
      "metadata": {
        "id": "dtibLiYwHWXu"
      },
      "source": [
        "cool! so we got 81 % accuracy here. We can even try hyperparameter tuning here in order to improve the result. So lets Tune the mode\n",
        "\n",
        "\n",
        "##### Random Search to Find Optimal Hyperparameters\n",
        "\n",
        "<p style='text-align: right;'> 5 points</p>\n",
        "\n",
        "Reference doc: https://scikit-learn.org/stable/modules/generated/sklearn.model_selection.RandomizedSearchCV.html\n",
        "\n",
        "\n",
        "We can now find the optimal hyperparameters using GridSearchCV.\n",
        "\n",
        "## **`Watch video 6:  Hyperparameter Tuning using Randomized Search CV`**\n",
        "- dataset used: https://drive.google.com/file/d/1tvkIwEbaXZPjDj6yThwweRfikkNdqpnQ/view?usp=sharing"
      ]
    },
    {
      "cell_type": "code",
      "execution_count": null,
      "metadata": {
        "id": "_lydbtV2HWXv"
      },
      "outputs": [],
      "source": [
        "# Create the parameter grid similar to random forest\n",
        "\n",
        "param_grid = {\n",
        "    'max_depth': [4,8,10], 'min_samples_leaf': range(100, 400, 200), 'min_samples_split':\n",
        "     range(200, 500, 200), 'n_estimators': [100,200, 300], 'max_features': [5, 10]\n",
        "}\n",
        "\n",
        "\n",
        "\n",
        "\n",
        "\n",
        "# Instantiate RandomizedSearchCV with et , param_grid and random state=1\n",
        "\n",
        "rs = RandomizedSearchCV(et, param_grid, random_state=1)\n",
        "\n",
        "\n",
        "\n",
        "# Fit the random search to the training data\n",
        "\n",
        "\n",
        "rs.fit(X_train, y_train)\n",
        "\n",
        "\n"
      ]
    },
    {
      "cell_type": "code",
      "execution_count": null,
      "metadata": {
        "id": "QYM0iWf4quyp"
      },
      "outputs": [],
      "source": [
        "# printing the optimal accuracy score and hyperparameters\n",
        "print('optimal accuracy :', rs.best_score_)\n",
        "rs.best_params_"
      ]
    },
    {
      "cell_type": "markdown",
      "metadata": {
        "id": "zllHhUb1HWXv"
      },
      "source": [
        "Now lets try using above chosen best parameters into extra trees and tune it."
      ]
    },
    {
      "cell_type": "code",
      "execution_count": null,
      "metadata": {
        "id": "fJa4ncJYHWXv"
      },
      "outputs": [],
      "source": [
        "\n",
        "#Instantiate ExtraTreesClassifier with default parameters\n",
        "\n",
        "et = ExtraTreesClassifier(n_estimators=100, min_samples_split=400,\n",
        "                          min_samples_leaf=100, max_features=10, max_depth=8)\n",
        "\n",
        "\n",
        "#fitting model on training data\n",
        "\n",
        "et.fit(X_train, y_train)\n",
        "\n",
        "\n"
      ]
    },
    {
      "cell_type": "code",
      "execution_count": null,
      "metadata": {
        "id": "kFPvjzI6HWXv"
      },
      "outputs": [],
      "source": [
        "# Making predictions\n",
        "predictions = et.predict(X_test)\n",
        "\n"
      ]
    },
    {
      "cell_type": "code",
      "execution_count": null,
      "metadata": {
        "id": "4E_MPKyaHWXv"
      },
      "outputs": [],
      "source": [
        "#printing accuracy_score\n",
        "\n",
        "print('accuracy_score:',accuracy_score(y_test, predictions))\n",
        "\n",
        "\n"
      ]
    },
    {
      "cell_type": "markdown",
      "metadata": {
        "id": "HZgQiElCHWXv"
      },
      "source": [
        "`Note: We have used  random_state as 1 in all algorithms, in order to avoid change in solution on repeated code execution`\n",
        "\n",
        "Well here even after doing hyperparameter tuning, you can see that there is not much improvement on the model performance. \n",
        "\n",
        "Now you have seen ensemble bootstrap aggregation using 3 different methods, namely bagging classifier, Random Forest and Extra tree Regressor\n",
        "\n",
        "Can you tell for our problem statement of Credit Default Prediction which ensemble method worked best here . Please do comment below:\n",
        "    "
      ]
    },
    {
      "cell_type": "code",
      "execution_count": null,
      "metadata": {
        "id": "IYZA88OwHWXv"
      },
      "outputs": [],
      "source": [
        "#For this credit card default problem , Best ensible method is Random forest classifier"
      ]
    },
    {
      "cell_type": "markdown",
      "metadata": {
        "id": "FNeyxX2mHWXv"
      },
      "source": [
        "\n",
        "---------------------------------\n",
        "\n",
        "# Fantastic:) Congratulations! you have completed the Ensemble: Bagging assignment. \n",
        "\n",
        "--------------------------------\n",
        "\n",
        "# FeedBack\n",
        "We hope you’ve enjoyed this course so far. We’re committed to help you use \"AI for All\" course to its full potential, so that you have a great learning experience. And that’s why we need your help in form of a feedback here.\n",
        "\n",
        "Please fill this feedback form  https://zfrmz.in/MtRG5oWXBdesm6rmSM7N"
      ]
    }
  ],
  "metadata": {
    "colab": {
      "provenance": []
    },
    "kernelspec": {
      "display_name": "Python 3",
      "language": "python",
      "name": "python3"
    },
    "language_info": {
      "codemirror_mode": {
        "name": "ipython",
        "version": 3
      },
      "file_extension": ".py",
      "mimetype": "text/x-python",
      "name": "python",
      "nbconvert_exporter": "python",
      "pygments_lexer": "ipython3",
      "version": "3.8.5"
    },
    "latex_envs": {
      "LaTeX_envs_menu_present": true,
      "autoclose": false,
      "autocomplete": true,
      "bibliofile": "biblio.bib",
      "cite_by": "apalike",
      "current_citInitial": 1,
      "eqLabelWithNumbers": true,
      "eqNumInitial": 1,
      "hotkeys": {
        "equation": "Ctrl-E",
        "itemize": "Ctrl-I"
      },
      "labels_anchors": false,
      "latex_user_defs": false,
      "report_style_numbering": false,
      "user_envs_cfg": false
    }
  },
  "nbformat": 4,
  "nbformat_minor": 0
}